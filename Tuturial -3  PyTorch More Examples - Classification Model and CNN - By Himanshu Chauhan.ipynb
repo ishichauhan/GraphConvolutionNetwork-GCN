{
 "cells": [
  {
   "cell_type": "code",
   "execution_count": 1,
   "metadata": {
    "ExecuteTime": {
     "end_time": "2019-04-19T05:10:53.566421Z",
     "start_time": "2019-04-19T05:10:32.996404Z"
    },
    "collapsed": true
   },
   "outputs": [],
   "source": [
    "import pandas as pd"
   ]
  },
  {
   "cell_type": "markdown",
   "metadata": {},
   "source": [
    "*** A model which predicts whether a passenger survived on the Titanic***"
   ]
  },
  {
   "cell_type": "markdown",
   "metadata": {},
   "source": [
    "# Dataset\n",
    "\n",
    "Download link: https://www.kaggle.com/c/titanic/data"
   ]
  },
  {
   "cell_type": "markdown",
   "metadata": {},
   "source": [
    "# Data Cleaning"
   ]
  },
  {
   "cell_type": "code",
   "execution_count": 9,
   "metadata": {
    "ExecuteTime": {
     "end_time": "2019-04-19T05:17:48.345456Z",
     "start_time": "2019-04-19T05:17:48.220467Z"
    },
    "scrolled": true
   },
   "outputs": [
    {
     "data": {
      "text/html": [
       "<div>\n",
       "<style>\n",
       "    .dataframe thead tr:only-child th {\n",
       "        text-align: right;\n",
       "    }\n",
       "\n",
       "    .dataframe thead th {\n",
       "        text-align: left;\n",
       "    }\n",
       "\n",
       "    .dataframe tbody tr th {\n",
       "        vertical-align: top;\n",
       "    }\n",
       "</style>\n",
       "<table border=\"1\" class=\"dataframe\">\n",
       "  <thead>\n",
       "    <tr style=\"text-align: right;\">\n",
       "      <th></th>\n",
       "      <th>PassengerId</th>\n",
       "      <th>Survived</th>\n",
       "      <th>Pclass</th>\n",
       "      <th>Name</th>\n",
       "      <th>Sex</th>\n",
       "      <th>Age</th>\n",
       "      <th>SibSp</th>\n",
       "      <th>Parch</th>\n",
       "      <th>Ticket</th>\n",
       "      <th>Fare</th>\n",
       "      <th>Cabin</th>\n",
       "      <th>Embarked</th>\n",
       "    </tr>\n",
       "  </thead>\n",
       "  <tbody>\n",
       "    <tr>\n",
       "      <th>0</th>\n",
       "      <td>1</td>\n",
       "      <td>0</td>\n",
       "      <td>3</td>\n",
       "      <td>Braund, Mr. Owen Harris</td>\n",
       "      <td>male</td>\n",
       "      <td>22.0</td>\n",
       "      <td>1</td>\n",
       "      <td>0</td>\n",
       "      <td>A/5 21171</td>\n",
       "      <td>7.2500</td>\n",
       "      <td>NaN</td>\n",
       "      <td>S</td>\n",
       "    </tr>\n",
       "    <tr>\n",
       "      <th>1</th>\n",
       "      <td>2</td>\n",
       "      <td>1</td>\n",
       "      <td>1</td>\n",
       "      <td>Cumings, Mrs. John Bradley (Florence Briggs Th...</td>\n",
       "      <td>female</td>\n",
       "      <td>38.0</td>\n",
       "      <td>1</td>\n",
       "      <td>0</td>\n",
       "      <td>PC 17599</td>\n",
       "      <td>71.2833</td>\n",
       "      <td>C85</td>\n",
       "      <td>C</td>\n",
       "    </tr>\n",
       "    <tr>\n",
       "      <th>2</th>\n",
       "      <td>3</td>\n",
       "      <td>1</td>\n",
       "      <td>3</td>\n",
       "      <td>Heikkinen, Miss. Laina</td>\n",
       "      <td>female</td>\n",
       "      <td>26.0</td>\n",
       "      <td>0</td>\n",
       "      <td>0</td>\n",
       "      <td>STON/O2. 3101282</td>\n",
       "      <td>7.9250</td>\n",
       "      <td>NaN</td>\n",
       "      <td>S</td>\n",
       "    </tr>\n",
       "    <tr>\n",
       "      <th>3</th>\n",
       "      <td>4</td>\n",
       "      <td>1</td>\n",
       "      <td>1</td>\n",
       "      <td>Futrelle, Mrs. Jacques Heath (Lily May Peel)</td>\n",
       "      <td>female</td>\n",
       "      <td>35.0</td>\n",
       "      <td>1</td>\n",
       "      <td>0</td>\n",
       "      <td>113803</td>\n",
       "      <td>53.1000</td>\n",
       "      <td>C123</td>\n",
       "      <td>S</td>\n",
       "    </tr>\n",
       "    <tr>\n",
       "      <th>4</th>\n",
       "      <td>5</td>\n",
       "      <td>0</td>\n",
       "      <td>3</td>\n",
       "      <td>Allen, Mr. William Henry</td>\n",
       "      <td>male</td>\n",
       "      <td>35.0</td>\n",
       "      <td>0</td>\n",
       "      <td>0</td>\n",
       "      <td>373450</td>\n",
       "      <td>8.0500</td>\n",
       "      <td>NaN</td>\n",
       "      <td>S</td>\n",
       "    </tr>\n",
       "  </tbody>\n",
       "</table>\n",
       "</div>"
      ],
      "text/plain": [
       "   PassengerId  Survived  Pclass  \\\n",
       "0            1         0       3   \n",
       "1            2         1       1   \n",
       "2            3         1       3   \n",
       "3            4         1       1   \n",
       "4            5         0       3   \n",
       "\n",
       "                                                Name     Sex   Age  SibSp  \\\n",
       "0                            Braund, Mr. Owen Harris    male  22.0      1   \n",
       "1  Cumings, Mrs. John Bradley (Florence Briggs Th...  female  38.0      1   \n",
       "2                             Heikkinen, Miss. Laina  female  26.0      0   \n",
       "3       Futrelle, Mrs. Jacques Heath (Lily May Peel)  female  35.0      1   \n",
       "4                           Allen, Mr. William Henry    male  35.0      0   \n",
       "\n",
       "   Parch            Ticket     Fare Cabin Embarked  \n",
       "0      0         A/5 21171   7.2500   NaN        S  \n",
       "1      0          PC 17599  71.2833   C85        C  \n",
       "2      0  STON/O2. 3101282   7.9250   NaN        S  \n",
       "3      0            113803  53.1000  C123        S  \n",
       "4      0            373450   8.0500   NaN        S  "
      ]
     },
     "execution_count": 9,
     "metadata": {},
     "output_type": "execute_result"
    }
   ],
   "source": [
    "titanic_data = pd.read_csv('datasets/titanic_data/train.csv')\n",
    "titanic_data.head()"
   ]
  },
  {
   "cell_type": "code",
   "execution_count": 10,
   "metadata": {
    "ExecuteTime": {
     "end_time": "2019-04-19T05:17:49.220771Z",
     "start_time": "2019-04-19T05:17:49.142680Z"
    }
   },
   "outputs": [
    {
     "data": {
      "text/html": [
       "<div>\n",
       "<style>\n",
       "    .dataframe thead tr:only-child th {\n",
       "        text-align: right;\n",
       "    }\n",
       "\n",
       "    .dataframe thead th {\n",
       "        text-align: left;\n",
       "    }\n",
       "\n",
       "    .dataframe tbody tr th {\n",
       "        vertical-align: top;\n",
       "    }\n",
       "</style>\n",
       "<table border=\"1\" class=\"dataframe\">\n",
       "  <thead>\n",
       "    <tr style=\"text-align: right;\">\n",
       "      <th></th>\n",
       "      <th>Survived</th>\n",
       "      <th>Pclass</th>\n",
       "      <th>Sex</th>\n",
       "      <th>Age</th>\n",
       "      <th>Fare</th>\n",
       "    </tr>\n",
       "  </thead>\n",
       "  <tbody>\n",
       "    <tr>\n",
       "      <th>0</th>\n",
       "      <td>0</td>\n",
       "      <td>3</td>\n",
       "      <td>male</td>\n",
       "      <td>22.0</td>\n",
       "      <td>7.2500</td>\n",
       "    </tr>\n",
       "    <tr>\n",
       "      <th>1</th>\n",
       "      <td>1</td>\n",
       "      <td>1</td>\n",
       "      <td>female</td>\n",
       "      <td>38.0</td>\n",
       "      <td>71.2833</td>\n",
       "    </tr>\n",
       "    <tr>\n",
       "      <th>2</th>\n",
       "      <td>1</td>\n",
       "      <td>3</td>\n",
       "      <td>female</td>\n",
       "      <td>26.0</td>\n",
       "      <td>7.9250</td>\n",
       "    </tr>\n",
       "    <tr>\n",
       "      <th>3</th>\n",
       "      <td>1</td>\n",
       "      <td>1</td>\n",
       "      <td>female</td>\n",
       "      <td>35.0</td>\n",
       "      <td>53.1000</td>\n",
       "    </tr>\n",
       "    <tr>\n",
       "      <th>4</th>\n",
       "      <td>0</td>\n",
       "      <td>3</td>\n",
       "      <td>male</td>\n",
       "      <td>35.0</td>\n",
       "      <td>8.0500</td>\n",
       "    </tr>\n",
       "  </tbody>\n",
       "</table>\n",
       "</div>"
      ],
      "text/plain": [
       "   Survived  Pclass     Sex   Age     Fare\n",
       "0         0       3    male  22.0   7.2500\n",
       "1         1       1  female  38.0  71.2833\n",
       "2         1       3  female  26.0   7.9250\n",
       "3         1       1  female  35.0  53.1000\n",
       "4         0       3    male  35.0   8.0500"
      ]
     },
     "execution_count": 10,
     "metadata": {},
     "output_type": "execute_result"
    }
   ],
   "source": [
    "titanic_data = titanic_data.drop(['PassengerId', 'Name', 'Ticket', \n",
    "                     'Cabin', 'SibSp', 'Parch','Embarked'], axis=1)\n",
    "titanic_data.head()"
   ]
  },
  {
   "cell_type": "code",
   "execution_count": 11,
   "metadata": {
    "ExecuteTime": {
     "end_time": "2019-04-19T05:17:50.142584Z",
     "start_time": "2019-04-19T05:17:50.111339Z"
    },
    "collapsed": true
   },
   "outputs": [],
   "source": [
    "titanic_data = titanic_data.dropna()"
   ]
  },
  {
   "cell_type": "code",
   "execution_count": 12,
   "metadata": {
    "ExecuteTime": {
     "end_time": "2019-04-19T05:17:51.239193Z",
     "start_time": "2019-04-19T05:17:51.067330Z"
    }
   },
   "outputs": [
    {
     "data": {
      "text/html": [
       "<div>\n",
       "<style>\n",
       "    .dataframe thead tr:only-child th {\n",
       "        text-align: right;\n",
       "    }\n",
       "\n",
       "    .dataframe thead th {\n",
       "        text-align: left;\n",
       "    }\n",
       "\n",
       "    .dataframe tbody tr th {\n",
       "        vertical-align: top;\n",
       "    }\n",
       "</style>\n",
       "<table border=\"1\" class=\"dataframe\">\n",
       "  <thead>\n",
       "    <tr style=\"text-align: right;\">\n",
       "      <th></th>\n",
       "      <th>Survived</th>\n",
       "      <th>Pclass</th>\n",
       "      <th>Sex</th>\n",
       "      <th>Age</th>\n",
       "      <th>Fare</th>\n",
       "    </tr>\n",
       "  </thead>\n",
       "  <tbody>\n",
       "    <tr>\n",
       "      <th>0</th>\n",
       "      <td>0</td>\n",
       "      <td>3</td>\n",
       "      <td>1</td>\n",
       "      <td>22.0</td>\n",
       "      <td>7.2500</td>\n",
       "    </tr>\n",
       "    <tr>\n",
       "      <th>1</th>\n",
       "      <td>1</td>\n",
       "      <td>1</td>\n",
       "      <td>0</td>\n",
       "      <td>38.0</td>\n",
       "      <td>71.2833</td>\n",
       "    </tr>\n",
       "    <tr>\n",
       "      <th>2</th>\n",
       "      <td>1</td>\n",
       "      <td>3</td>\n",
       "      <td>0</td>\n",
       "      <td>26.0</td>\n",
       "      <td>7.9250</td>\n",
       "    </tr>\n",
       "    <tr>\n",
       "      <th>3</th>\n",
       "      <td>1</td>\n",
       "      <td>1</td>\n",
       "      <td>0</td>\n",
       "      <td>35.0</td>\n",
       "      <td>53.1000</td>\n",
       "    </tr>\n",
       "    <tr>\n",
       "      <th>4</th>\n",
       "      <td>0</td>\n",
       "      <td>3</td>\n",
       "      <td>1</td>\n",
       "      <td>35.0</td>\n",
       "      <td>8.0500</td>\n",
       "    </tr>\n",
       "  </tbody>\n",
       "</table>\n",
       "</div>"
      ],
      "text/plain": [
       "   Survived  Pclass  Sex   Age     Fare\n",
       "0         0       3    1  22.0   7.2500\n",
       "1         1       1    0  38.0  71.2833\n",
       "2         1       3    0  26.0   7.9250\n",
       "3         1       1    0  35.0  53.1000\n",
       "4         0       3    1  35.0   8.0500"
      ]
     },
     "execution_count": 12,
     "metadata": {},
     "output_type": "execute_result"
    }
   ],
   "source": [
    "from sklearn import preprocessing\n",
    "\n",
    "le = preprocessing.LabelEncoder()\n",
    "\n",
    "titanic_data['Sex'] = le.fit_transform(titanic_data['Sex'])\n",
    "\n",
    "titanic_data.head()"
   ]
  },
  {
   "cell_type": "code",
   "execution_count": 15,
   "metadata": {
    "ExecuteTime": {
     "end_time": "2019-04-19T05:18:34.705571Z",
     "start_time": "2019-04-19T05:18:34.627482Z"
    }
   },
   "outputs": [
    {
     "data": {
      "text/html": [
       "<div>\n",
       "<style>\n",
       "    .dataframe thead tr:only-child th {\n",
       "        text-align: right;\n",
       "    }\n",
       "\n",
       "    .dataframe thead th {\n",
       "        text-align: left;\n",
       "    }\n",
       "\n",
       "    .dataframe tbody tr th {\n",
       "        vertical-align: top;\n",
       "    }\n",
       "</style>\n",
       "<table border=\"1\" class=\"dataframe\">\n",
       "  <thead>\n",
       "    <tr style=\"text-align: right;\">\n",
       "      <th></th>\n",
       "      <th>Pclass</th>\n",
       "      <th>Sex</th>\n",
       "      <th>Age</th>\n",
       "      <th>Fare</th>\n",
       "    </tr>\n",
       "  </thead>\n",
       "  <tbody>\n",
       "    <tr>\n",
       "      <th>0</th>\n",
       "      <td>3</td>\n",
       "      <td>1</td>\n",
       "      <td>22.0</td>\n",
       "      <td>7.2500</td>\n",
       "    </tr>\n",
       "    <tr>\n",
       "      <th>1</th>\n",
       "      <td>1</td>\n",
       "      <td>0</td>\n",
       "      <td>38.0</td>\n",
       "      <td>71.2833</td>\n",
       "    </tr>\n",
       "    <tr>\n",
       "      <th>2</th>\n",
       "      <td>3</td>\n",
       "      <td>0</td>\n",
       "      <td>26.0</td>\n",
       "      <td>7.9250</td>\n",
       "    </tr>\n",
       "    <tr>\n",
       "      <th>3</th>\n",
       "      <td>1</td>\n",
       "      <td>0</td>\n",
       "      <td>35.0</td>\n",
       "      <td>53.1000</td>\n",
       "    </tr>\n",
       "    <tr>\n",
       "      <th>4</th>\n",
       "      <td>3</td>\n",
       "      <td>1</td>\n",
       "      <td>35.0</td>\n",
       "      <td>8.0500</td>\n",
       "    </tr>\n",
       "  </tbody>\n",
       "</table>\n",
       "</div>"
      ],
      "text/plain": [
       "   Pclass  Sex   Age     Fare\n",
       "0       3    1  22.0   7.2500\n",
       "1       1    0  38.0  71.2833\n",
       "2       3    0  26.0   7.9250\n",
       "3       1    0  35.0  53.1000\n",
       "4       3    1  35.0   8.0500"
      ]
     },
     "execution_count": 15,
     "metadata": {},
     "output_type": "execute_result"
    }
   ],
   "source": [
    "\n",
    "features = ['Pclass','Sex','Age','Fare']\n",
    "\n",
    "titanic_input_features = titanic_data[features]\n",
    "\n",
    "titanic_input_features.head()"
   ]
  },
  {
   "cell_type": "code",
   "execution_count": 16,
   "metadata": {
    "ExecuteTime": {
     "end_time": "2019-04-19T05:18:35.910256Z",
     "start_time": "2019-04-19T05:18:35.816510Z"
    }
   },
   "outputs": [
    {
     "data": {
      "text/html": [
       "<div>\n",
       "<style>\n",
       "    .dataframe thead tr:only-child th {\n",
       "        text-align: right;\n",
       "    }\n",
       "\n",
       "    .dataframe thead th {\n",
       "        text-align: left;\n",
       "    }\n",
       "\n",
       "    .dataframe tbody tr th {\n",
       "        vertical-align: top;\n",
       "    }\n",
       "</style>\n",
       "<table border=\"1\" class=\"dataframe\">\n",
       "  <thead>\n",
       "    <tr style=\"text-align: right;\">\n",
       "      <th></th>\n",
       "      <th>Sex</th>\n",
       "      <th>Age</th>\n",
       "      <th>Fare</th>\n",
       "      <th>Pclass_1</th>\n",
       "      <th>Pclass_2</th>\n",
       "      <th>Pclass_3</th>\n",
       "    </tr>\n",
       "  </thead>\n",
       "  <tbody>\n",
       "    <tr>\n",
       "      <th>0</th>\n",
       "      <td>1</td>\n",
       "      <td>22.0</td>\n",
       "      <td>7.2500</td>\n",
       "      <td>0</td>\n",
       "      <td>0</td>\n",
       "      <td>1</td>\n",
       "    </tr>\n",
       "    <tr>\n",
       "      <th>1</th>\n",
       "      <td>0</td>\n",
       "      <td>38.0</td>\n",
       "      <td>71.2833</td>\n",
       "      <td>1</td>\n",
       "      <td>0</td>\n",
       "      <td>0</td>\n",
       "    </tr>\n",
       "    <tr>\n",
       "      <th>2</th>\n",
       "      <td>0</td>\n",
       "      <td>26.0</td>\n",
       "      <td>7.9250</td>\n",
       "      <td>0</td>\n",
       "      <td>0</td>\n",
       "      <td>1</td>\n",
       "    </tr>\n",
       "    <tr>\n",
       "      <th>3</th>\n",
       "      <td>0</td>\n",
       "      <td>35.0</td>\n",
       "      <td>53.1000</td>\n",
       "      <td>1</td>\n",
       "      <td>0</td>\n",
       "      <td>0</td>\n",
       "    </tr>\n",
       "    <tr>\n",
       "      <th>4</th>\n",
       "      <td>1</td>\n",
       "      <td>35.0</td>\n",
       "      <td>8.0500</td>\n",
       "      <td>0</td>\n",
       "      <td>0</td>\n",
       "      <td>1</td>\n",
       "    </tr>\n",
       "  </tbody>\n",
       "</table>\n",
       "</div>"
      ],
      "text/plain": [
       "   Sex   Age     Fare  Pclass_1  Pclass_2  Pclass_3\n",
       "0    1  22.0   7.2500         0         0         1\n",
       "1    0  38.0  71.2833         1         0         0\n",
       "2    0  26.0   7.9250         0         0         1\n",
       "3    0  35.0  53.1000         1         0         0\n",
       "4    1  35.0   8.0500         0         0         1"
      ]
     },
     "execution_count": 16,
     "metadata": {},
     "output_type": "execute_result"
    }
   ],
   "source": [
    "titanic_input_features = pd.get_dummies(titanic_features, columns=['Pclass'])\n",
    "titanic_input_features.head()"
   ]
  },
  {
   "cell_type": "code",
   "execution_count": 17,
   "metadata": {
    "ExecuteTime": {
     "end_time": "2019-04-19T05:18:57.759318Z",
     "start_time": "2019-04-19T05:18:57.712446Z"
    }
   },
   "outputs": [
    {
     "data": {
      "text/html": [
       "<div>\n",
       "<style>\n",
       "    .dataframe thead tr:only-child th {\n",
       "        text-align: right;\n",
       "    }\n",
       "\n",
       "    .dataframe thead th {\n",
       "        text-align: left;\n",
       "    }\n",
       "\n",
       "    .dataframe tbody tr th {\n",
       "        vertical-align: top;\n",
       "    }\n",
       "</style>\n",
       "<table border=\"1\" class=\"dataframe\">\n",
       "  <thead>\n",
       "    <tr style=\"text-align: right;\">\n",
       "      <th></th>\n",
       "      <th>Survived</th>\n",
       "    </tr>\n",
       "  </thead>\n",
       "  <tbody>\n",
       "    <tr>\n",
       "      <th>0</th>\n",
       "      <td>0</td>\n",
       "    </tr>\n",
       "    <tr>\n",
       "      <th>1</th>\n",
       "      <td>1</td>\n",
       "    </tr>\n",
       "    <tr>\n",
       "      <th>2</th>\n",
       "      <td>1</td>\n",
       "    </tr>\n",
       "    <tr>\n",
       "      <th>3</th>\n",
       "      <td>1</td>\n",
       "    </tr>\n",
       "    <tr>\n",
       "      <th>4</th>\n",
       "      <td>0</td>\n",
       "    </tr>\n",
       "  </tbody>\n",
       "</table>\n",
       "</div>"
      ],
      "text/plain": [
       "   Survived\n",
       "0         0\n",
       "1         1\n",
       "2         1\n",
       "3         1\n",
       "4         0"
      ]
     },
     "execution_count": 17,
     "metadata": {},
     "output_type": "execute_result"
    }
   ],
   "source": [
    "titanic_target_output = titanic_data[['Survived']]\n",
    "titanic_target_output.head()"
   ]
  },
  {
   "cell_type": "markdown",
   "metadata": {},
   "source": [
    "# Split the dataset"
   ]
  },
  {
   "cell_type": "code",
   "execution_count": 18,
   "metadata": {
    "ExecuteTime": {
     "end_time": "2019-04-19T05:20:18.696897Z",
     "start_time": "2019-04-19T05:20:11.902269Z"
    },
    "collapsed": true
   },
   "outputs": [],
   "source": [
    "from sklearn.model_selection import train_test_split\n",
    "\n",
    "x_train, x_test, y_train, y_test = train_test_split(titanic_input_features,\n",
    "                                                    titanic_target_output,\n",
    "                                                    test_size=0.2,\n",
    "                                                    random_state=0)"
   ]
  },
  {
   "cell_type": "code",
   "execution_count": 19,
   "metadata": {
    "ExecuteTime": {
     "end_time": "2019-04-19T05:20:59.272292Z",
     "start_time": "2019-04-19T05:20:59.225419Z"
    }
   },
   "outputs": [
    {
     "name": "stdout",
     "output_type": "stream",
     "text": [
      "(571, 6)\n",
      "(571, 1)\n",
      "(143, 6)\n",
      "(143, 1)\n"
     ]
    }
   ],
   "source": [
    "print(x_train.shape)\n",
    "print(y_train.shape)\n",
    "print(x_test.shape)\n",
    "print(y_test.shape)"
   ]
  },
  {
   "cell_type": "code",
   "execution_count": 94,
   "metadata": {
    "ExecuteTime": {
     "end_time": "2019-04-19T22:50:59.150445Z",
     "start_time": "2019-04-19T22:50:59.119171Z"
    }
   },
   "outputs": [
    {
     "data": {
      "text/plain": [
       "pandas.core.frame.DataFrame"
      ]
     },
     "execution_count": 94,
     "metadata": {},
     "output_type": "execute_result"
    }
   ],
   "source": [
    "type(y_test)"
   ]
  },
  {
   "cell_type": "markdown",
   "metadata": {},
   "source": [
    "# Converting dataset into tensor"
   ]
  },
  {
   "cell_type": "code",
   "execution_count": 21,
   "metadata": {
    "ExecuteTime": {
     "end_time": "2019-04-19T05:34:55.772729Z",
     "start_time": "2019-04-19T05:34:54.115679Z"
    },
    "collapsed": true
   },
   "outputs": [],
   "source": [
    "import torch\n",
    "import numpy as np"
   ]
  },
  {
   "cell_type": "code",
   "execution_count": 22,
   "metadata": {
    "ExecuteTime": {
     "end_time": "2019-04-19T05:34:55.813712Z",
     "start_time": "2019-04-19T05:34:55.783722Z"
    },
    "collapsed": true
   },
   "outputs": [],
   "source": [
    "X_train = torch.from_numpy(x_train.values).float()\n",
    "X_test = torch.from_numpy(x_test.values).float()"
   ]
  },
  {
   "cell_type": "markdown",
   "metadata": {},
   "source": [
    "Y parameters have shape 571 X 1 but we need those in shape 1 X 571\n",
    "Our loss function doesnt support multi-target, our target should be 1D Tensor i.e 1 row containing all the labels\n",
    "\n",
    "view: with view we reshape the tensor"
   ]
  },
  {
   "cell_type": "code",
   "execution_count": 23,
   "metadata": {
    "ExecuteTime": {
     "end_time": "2019-04-19T05:35:41.368006Z",
     "start_time": "2019-04-19T05:35:41.348046Z"
    },
    "collapsed": true
   },
   "outputs": [],
   "source": [
    "Y_train = torch.from_numpy(y_train.values).view(1,-1)[0]\n",
    "Y_test = torch.from_numpy(y_test.values).view(1,-1)[0]"
   ]
  },
  {
   "cell_type": "code",
   "execution_count": 25,
   "metadata": {
    "ExecuteTime": {
     "end_time": "2019-04-19T05:36:39.773249Z",
     "start_time": "2019-04-19T05:36:39.755261Z"
    }
   },
   "outputs": [
    {
     "name": "stdout",
     "output_type": "stream",
     "text": [
      "torch.Size([571, 6])\n",
      "torch.Size([571])\n",
      "torch.Size([143, 6])\n",
      "torch.Size([143])\n"
     ]
    }
   ],
   "source": [
    "print(X_train.shape)\n",
    "print(Y_train.shape)\n",
    "print(X_test.shape)\n",
    "print(Y_test.shape)"
   ]
  },
  {
   "cell_type": "code",
   "execution_count": 26,
   "metadata": {
    "ExecuteTime": {
     "end_time": "2019-04-19T05:37:05.290971Z",
     "start_time": "2019-04-19T05:37:05.231005Z"
    },
    "collapsed": true
   },
   "outputs": [
    {
     "data": {
      "text/plain": [
       "tensor([1, 0, 0, 0, 0, 0, 0, 0, 1, 0, 1, 1, 0, 0, 1, 0, 0, 0, 0, 0, 0, 0, 1, 0,\n",
       "        0, 0, 1, 1, 0, 1, 1, 0, 0, 1, 1, 0, 1, 0, 0, 0, 0, 0, 1, 0, 1, 1, 1, 0,\n",
       "        0, 1, 0, 0, 1, 0, 0, 0, 0, 1, 1, 1, 0, 0, 1, 1, 0, 1, 0, 0, 0, 0, 1, 0,\n",
       "        0, 0, 0, 0, 0, 0, 0, 1, 0, 1, 0, 0, 0, 0, 1, 0, 0, 0, 0, 1, 0, 1, 1, 0,\n",
       "        1, 0, 0, 1, 0, 1, 0, 1, 1, 0, 0, 0, 0, 1, 0, 1, 0, 1, 1, 0, 0, 1, 0, 0,\n",
       "        1, 0, 1, 0, 1, 1, 0, 1, 0, 1, 0, 0, 0, 0, 0, 0, 0, 0, 1, 0, 1, 0, 0, 1,\n",
       "        1, 0, 0, 0, 1, 0, 0, 0, 1, 0, 0, 0, 0, 1, 0, 0, 1, 0, 0, 1, 0, 1, 0, 0,\n",
       "        0, 0, 1, 0, 1, 1, 0, 0, 0, 1, 0, 1, 0, 0, 0, 1, 0, 1, 0, 1, 1, 1, 0, 1,\n",
       "        1, 0, 1, 1, 0, 1, 1, 0, 0, 0, 1, 1, 1, 0, 1, 1, 0, 1, 0, 1, 1, 0, 0, 1,\n",
       "        1, 0, 1, 1, 0, 0, 1, 0, 1, 1, 1, 1, 0, 1, 1, 0, 0, 0, 0, 1, 0, 1, 1, 1,\n",
       "        1, 0, 1, 0, 1, 1, 0, 1, 0, 1, 0, 1, 0, 1, 1, 0, 0, 0, 1, 0, 0, 0, 1, 1,\n",
       "        0, 0, 0, 0, 1, 0, 0, 1, 0, 0, 0, 1, 1, 0, 0, 0, 1, 0, 0, 0, 0, 1, 0, 1,\n",
       "        1, 1, 0, 0, 0, 0, 1, 0, 0, 0, 0, 1, 0, 0, 0, 0, 0, 0, 0, 0, 1, 1, 1, 1,\n",
       "        1, 1, 0, 1, 1, 0, 0, 0, 1, 1, 1, 0, 0, 0, 0, 1, 0, 0, 1, 0, 0, 0, 0, 1,\n",
       "        1, 1, 1, 0, 1, 0, 1, 0, 1, 0, 1, 0, 1, 0, 0, 0, 0, 0, 0, 0, 0, 1, 0, 0,\n",
       "        0, 1, 0, 0, 1, 1, 0, 0, 0, 0, 0, 0, 0, 0, 0, 1, 1, 0, 0, 1, 0, 0, 1, 0,\n",
       "        0, 0, 0, 0, 1, 0, 0, 1, 1, 1, 1, 0, 1, 1, 1, 1, 1, 0, 0, 1, 1, 0, 0, 1,\n",
       "        1, 0, 0, 1, 0, 1, 1, 0, 0, 0, 0, 1, 1, 0, 1, 0, 0, 0, 0, 0, 0, 0, 0, 1,\n",
       "        0, 1, 1, 1, 0, 1, 0, 0, 0, 0, 0, 0, 1, 1, 1, 1, 0, 0, 0, 1, 0, 0, 1, 0,\n",
       "        0, 1, 0, 1, 0, 0, 0, 1, 1, 1, 1, 1, 1, 0, 0, 0, 1, 0, 0, 1, 1, 0, 1, 0,\n",
       "        0, 1, 0, 0, 1, 0, 1, 1, 0, 0, 1, 1, 1, 1, 0, 0, 0, 0, 1, 0, 1, 0, 0, 0,\n",
       "        0, 1, 1, 1, 0, 0, 0, 0, 0, 0, 1, 1, 0, 0, 1, 0, 1, 0, 0, 1, 0, 0, 0, 0,\n",
       "        0, 0, 0, 1, 1, 0, 1, 1, 0, 0, 1, 1, 0, 0, 1, 1, 1, 1, 0, 1, 0, 0, 1, 0,\n",
       "        0, 0, 0, 0, 0, 0, 0, 0, 0, 0, 0, 0, 1, 1, 0, 0, 0, 0, 1])"
      ]
     },
     "execution_count": 26,
     "metadata": {},
     "output_type": "execute_result"
    }
   ],
   "source": [
    "Y_train"
   ]
  },
  {
   "cell_type": "markdown",
   "metadata": {},
   "source": [
    "# Creating Classification Model Now"
   ]
  },
  {
   "cell_type": "markdown",
   "metadata": {},
   "source": [
    "** nn Package **\n",
    "\n",
    "\n",
    "Use the nn package to define our model as a sequence of layers. nn.Sequential is a Module which contains other Modules, and applies them in sequence to\n",
    "produce its output.\n",
    "\n",
    "Each Linear Module computes output from input using a\n",
    "linear function, and holds internal Tensors for its weight and bias\n",
    "\n",
    "\n",
    "*** torch.nn.functional*** "
   ]
  },
  {
   "cell_type": "code",
   "execution_count": 27,
   "metadata": {
    "ExecuteTime": {
     "end_time": "2019-04-19T05:39:58.379453Z",
     "start_time": "2019-04-19T05:39:58.365463Z"
    },
    "collapsed": true
   },
   "outputs": [],
   "source": [
    "import torch\n",
    "import torch.nn as nn\n",
    "import torch.nn.functional as F"
   ]
  },
  {
   "cell_type": "code",
   "execution_count": 28,
   "metadata": {
    "ExecuteTime": {
     "end_time": "2019-04-19T05:41:43.581391Z",
     "start_time": "2019-04-19T05:41:43.565753Z"
    },
    "collapsed": true
   },
   "outputs": [],
   "source": [
    "input_size = 6  # we have 6 input features\n",
    "output_size = 2 # For 2 discrete outputs\n",
    "hidden_size = 10 # hyper parameter"
   ]
  },
  {
   "cell_type": "markdown",
   "metadata": {},
   "source": [
    "Define a neural network class from which to create our model\n",
    "\n",
    "We create a class named ***Network*** which inherits nn.Module(Base class for all neural network modules.)\n",
    "\n",
    "***super*** : This is calling the __init__() method of the parent class(nn.Module)\n",
    "\n",
    "***fc1 to fc3*** : Applies a linear transformation to the incoming data: y=Wx+b\n",
    "Parameters :\n",
    "in_features – size of each input sample\n",
    "out_features – size of each output sample\n",
    "bias – If set to False, the layer will not learn an additive bias. Default: True\n",
    ")\n",
    "\n",
    "\n",
    "**Relu**: Applies the rectified linear unit function element-wise \\text{ReLU}(x)= \\max(0, x)ReLU(x)=max(0,x)\n",
    "\n",
    "**Sigmoid** : Applies the element-wise function Sigmoid(x)= 1 / (1+exp(−x))\n",
    "\n",
    "\n",
    "\n",
    "*** Softmax***\n",
    "\n",
    "Applies the Softmax function to an n-dimensional input Tensor rescaling them so that the elements of the n-dimensional output Tensor lie in the range (0,1) and sum to 1\n",
    "\n",
    "Returns:\ta Tensor of the same dimension and shape as the input with values in the range [0, 1]\n",
    "dim (int) – A dimension along which Softmax will be computed (so every slice along dim will sum to 1).\n",
    "\n",
    "**log_softmax** : Softmax applies the Softmax() function to an n-dimensional input Tensor rescaling them so that the elements of the n-dimensional output Tensor lie in the range (0,1) and sum to 1\n",
    "While mathematically equivalent to log(softmax(x)), doing these two operations separately is slower, and numerically unstable. This function uses an alternative formulation to compute the output and gradient correctly.\n",
    "Parameters:\n",
    "dim(int) – A dimension along which Softmax will be computed (so every slice along dim will sum to 1).\n",
    "\n"
   ]
  },
  {
   "cell_type": "markdown",
   "metadata": {},
   "source": [
    "** Softmax**\n",
    "- Output layer of NN is Softmax\n",
    "- Slightly less stable\n",
    "- Use cross entropy as loss function\n",
    "\n",
    "\n",
    "** Log Softmax**\n",
    "- Output layer of NN is Log Softmax\n",
    "- Slighlty more stable\n",
    "- USe NNL (Negative log likelihood) as log"
   ]
  },
  {
   "cell_type": "code",
   "execution_count": 43,
   "metadata": {
    "ExecuteTime": {
     "end_time": "2019-04-19T06:39:20.275139Z",
     "start_time": "2019-04-19T06:39:20.197027Z"
    },
    "collapsed": true
   },
   "outputs": [],
   "source": [
    "class Network(nn.Module): # Building our own custom NN module by subclassing the nn.Module class\n",
    "    \n",
    "    def __init__(self):  # Initialize our neural network before we add more layers\n",
    "        super(Network, self).__init__() #super(type, obj): obj must be an instance or subtype of type\n",
    "        \n",
    "        # Here we are creating(Instantiating) three linear fully connected layer\n",
    "        self.fc1 = nn.Linear(input_size, hidden_size) # Fully connected layer1\n",
    "        self.fc2 = nn.Linear(hidden_size, hidden_size) # Fully connected layer2\n",
    "        self.fc3 = nn.Linear(hidden_size, output_size) # Fully connected layer3\n",
    "    \n",
    "    def forward(self, x): # Overriding the forward function in base nn.Module for forward pass implemetation on input x data\n",
    "        x = F.relu(self.fc1(x)) # Here the input x data is first fed into our Fully connected Linear layer1 and then apply rulu activation funtion to it\n",
    "        x = F.relu(self.fc2(x)) # Here the output of the first layer is passed as the input to the secod layer\n",
    "        x = self.fc3(x) # Last layer has no activation function\n",
    "        \n",
    "        return F.log_softmax(x, dim=-1) # The output of the third layer is passed to the log_softmax function\n",
    "                                        # dim:the dimension along which the softmax will be computed"
   ]
  },
  {
   "cell_type": "code",
   "execution_count": 44,
   "metadata": {
    "ExecuteTime": {
     "end_time": "2019-04-19T06:39:25.898645Z",
     "start_time": "2019-04-19T06:39:25.867423Z"
    },
    "collapsed": true
   },
   "outputs": [],
   "source": [
    "model = Network() # Instantiating the model by callingthe Network Class"
   ]
  },
  {
   "cell_type": "markdown",
   "metadata": {},
   "source": [
    "# Training the model"
   ]
  },
  {
   "cell_type": "markdown",
   "metadata": {},
   "source": [
    "*** Optim***\n",
    "\n",
    "The optim package in PyTorch abstracts the idea of an optimization algorithm and provides implementations of \n",
    "commonly used optimization algorithms.\n",
    "\n",
    "To use torch.optim you have to construct an optimizer object, that will hold the current state and will update the parameters based on the computed gradients.\n",
    "\n",
    "\n",
    "*** NLLLoss***\n",
    "\n",
    "\n",
    "The negative log likelihood loss. It is useful to train a classification problem with C classes.\n",
    "\n",
    "If provided, the optional argument weight should be a 1D Tensor assigning weight to each of the classes. This is particularly useful when you have an unbalanced training set."
   ]
  },
  {
   "cell_type": "code",
   "execution_count": 49,
   "metadata": {
    "ExecuteTime": {
     "end_time": "2019-04-19T07:21:50.045117Z",
     "start_time": "2019-04-19T07:21:50.013869Z"
    }
   },
   "outputs": [
    {
     "name": "stdout",
     "output_type": "stream",
     "text": [
      "<generator object Module.parameters at 0x000002A1014FBF68>\n"
     ]
    }
   ],
   "source": [
    "print(model.parameters())"
   ]
  },
  {
   "cell_type": "code",
   "execution_count": 45,
   "metadata": {
    "ExecuteTime": {
     "end_time": "2019-04-19T06:39:29.740157Z",
     "start_time": "2019-04-19T06:39:29.708915Z"
    },
    "collapsed": true
   },
   "outputs": [],
   "source": [
    "import torch.optim as optim\n",
    "\n",
    "optimizer = optim.Adam(model.parameters()) # adam is a adaptive learning rate optimizer. Here we give model.parameter as \n",
    "                                        # input argument as after every epoch the optimizer(adam) will update model's parameters\n",
    "                                                                               \n",
    "loss_fn = nn.NLLLoss()"
   ]
  },
  {
   "cell_type": "code",
   "execution_count": 47,
   "metadata": {
    "ExecuteTime": {
     "end_time": "2019-04-19T06:40:14.202004Z",
     "start_time": "2019-04-19T06:40:01.693217Z"
    },
    "collapsed": true
   },
   "outputs": [
    {
     "name": "stdout",
     "output_type": "stream",
     "text": [
      "epoch - 50 (3%) train loss - 0.42 test loss - 0.42 accuracy - 0.8252\n",
      "epoch - 100 (6%) train loss - 0.42 test loss - 0.42 accuracy - 0.8252\n",
      "epoch - 150 (10%) train loss - 0.41 test loss - 0.43 accuracy - 0.8392\n",
      "epoch - 200 (13%) train loss - 0.41 test loss - 0.43 accuracy - 0.8182\n",
      "epoch - 250 (16%) train loss - 0.41 test loss - 0.43 accuracy - 0.8042\n",
      "epoch - 300 (20%) train loss - 0.41 test loss - 0.43 accuracy - 0.8042\n",
      "epoch - 350 (23%) train loss - 0.40 test loss - 0.43 accuracy - 0.8042\n",
      "epoch - 400 (26%) train loss - 0.40 test loss - 0.44 accuracy - 0.8042\n",
      "epoch - 450 (30%) train loss - 0.40 test loss - 0.44 accuracy - 0.8042\n",
      "epoch - 500 (33%) train loss - 0.40 test loss - 0.44 accuracy - 0.8042\n",
      "epoch - 550 (36%) train loss - 0.40 test loss - 0.44 accuracy - 0.8042\n",
      "epoch - 600 (40%) train loss - 0.40 test loss - 0.44 accuracy - 0.7972\n",
      "epoch - 650 (43%) train loss - 0.40 test loss - 0.44 accuracy - 0.8042\n",
      "epoch - 700 (46%) train loss - 0.40 test loss - 0.44 accuracy - 0.8042\n",
      "epoch - 750 (50%) train loss - 0.40 test loss - 0.44 accuracy - 0.7972\n",
      "epoch - 800 (53%) train loss - 0.40 test loss - 0.44 accuracy - 0.7972\n",
      "epoch - 850 (56%) train loss - 0.40 test loss - 0.44 accuracy - 0.8042\n",
      "epoch - 900 (60%) train loss - 0.40 test loss - 0.44 accuracy - 0.7972\n",
      "epoch - 950 (63%) train loss - 0.40 test loss - 0.44 accuracy - 0.8042\n",
      "epoch - 1000 (66%) train loss - 0.40 test loss - 0.45 accuracy - 0.7972\n",
      "epoch - 1050 (70%) train loss - 0.40 test loss - 0.45 accuracy - 0.7972\n",
      "epoch - 1100 (73%) train loss - 0.40 test loss - 0.45 accuracy - 0.8112\n",
      "epoch - 1150 (76%) train loss - 0.40 test loss - 0.45 accuracy - 0.8112\n",
      "epoch - 1200 (80%) train loss - 0.40 test loss - 0.45 accuracy - 0.8112\n",
      "epoch - 1250 (83%) train loss - 0.40 test loss - 0.45 accuracy - 0.8112\n",
      "epoch - 1300 (86%) train loss - 0.39 test loss - 0.45 accuracy - 0.8112\n",
      "epoch - 1350 (90%) train loss - 0.39 test loss - 0.45 accuracy - 0.8042\n",
      "epoch - 1400 (93%) train loss - 0.39 test loss - 0.45 accuracy - 0.8112\n",
      "epoch - 1450 (96%) train loss - 0.39 test loss - 0.45 accuracy - 0.8112\n",
      "epoch - 1500 (100%) train loss - 0.39 test loss - 0.45 accuracy - 0.8182\n",
      "epoch - 1550 (103%) train loss - 0.39 test loss - 0.45 accuracy - 0.8182\n",
      "epoch - 1600 (106%) train loss - 0.39 test loss - 0.45 accuracy - 0.8112\n",
      "epoch - 1650 (110%) train loss - 0.39 test loss - 0.45 accuracy - 0.8182\n",
      "epoch - 1700 (113%) train loss - 0.39 test loss - 0.45 accuracy - 0.8252\n",
      "epoch - 1750 (116%) train loss - 0.39 test loss - 0.45 accuracy - 0.8182\n",
      "epoch - 1800 (120%) train loss - 0.39 test loss - 0.45 accuracy - 0.8182\n",
      "epoch - 1850 (123%) train loss - 0.39 test loss - 0.45 accuracy - 0.8252\n",
      "epoch - 1900 (126%) train loss - 0.39 test loss - 0.45 accuracy - 0.8252\n",
      "epoch - 1950 (130%) train loss - 0.39 test loss - 0.45 accuracy - 0.8182\n"
     ]
    }
   ],
   "source": [
    "epoch_data = []\n",
    "epochs = 2000\n",
    "\n",
    "for epoch in range(1, epochs):\n",
    "\n",
    "    optimizer.zero_grad() # Forward pass to calculate predictions \n",
    "    Y_pred = model(X_train) # with the current values of the model by passing in x_train\n",
    "\n",
    "    loss = loss_fn(Y_pred , Y_train) # Calculate the loss by passing y predicted values and the actual Y lables\n",
    "    loss.backward() # call loss.backward() to calulate gradients\n",
    "\n",
    "    optimizer.step() # update the parameters by applying gradients\n",
    "        \n",
    "    Y_pred_test = model(X_test)  # No backward() on test data as weights are not updated based on test data\n",
    "    loss_test = loss_fn(Y_pred_test, Y_test)\n",
    "    \n",
    "    _,pred = Y_pred_test.data.max(1) # Finding the predicted value with the highest probability\n",
    "    \n",
    "    accuracy = pred.eq(Y_test.data).sum().item() / y_test.values.size # accuracy is calculated by checking whether \n",
    "                                                           # the actual label matched( .eq) the predicted label \n",
    "    epoch_data.append([epoch, loss.data.item(), loss_test.data.item(), accuracy])\n",
    "    \n",
    "    if epoch % 50 == 0:\n",
    "        print ('epoch - %d (%d%%) train loss - %.2f test loss - %.2f accuracy - %.4f'\\\n",
    "               % (epoch, epoch/150 * 10 , loss.data.item(), loss_test.data.item(), accuracy))"
   ]
  },
  {
   "cell_type": "code",
   "execution_count": null,
   "metadata": {
    "collapsed": true
   },
   "outputs": [],
   "source": []
  },
  {
   "cell_type": "markdown",
   "metadata": {},
   "source": [
    "# Evaluating the model"
   ]
  },
  {
   "cell_type": "code",
   "execution_count": 54,
   "metadata": {
    "ExecuteTime": {
     "end_time": "2019-04-19T07:28:42.911238Z",
     "start_time": "2019-04-19T07:28:42.848749Z"
    },
    "collapsed": true
   },
   "outputs": [
    {
     "data": {
      "text/plain": [
       "tensor([[-5.8033e-01, -8.2033e-01],\n",
       "        [-4.2731e+00, -1.4036e-02],\n",
       "        [-1.0762e+00, -4.1686e-01],\n",
       "        [-5.1568e-02, -2.9905e+00],\n",
       "        [-7.9916e-01, -5.9731e-01],\n",
       "        [-7.3871e-02, -2.6421e+00],\n",
       "        [-2.8475e-02, -3.5729e+00],\n",
       "        [-1.1620e-01, -2.2100e+00],\n",
       "        [-3.7320e-01, -1.1664e+00],\n",
       "        [-2.7086e-01, -1.4385e+00],\n",
       "        [-1.8207e-01, -1.7930e+00],\n",
       "        [-7.0048e-01, -6.8586e-01],\n",
       "        [-7.3871e-01, -6.4957e-01],\n",
       "        [-6.6558e-02, -2.7428e+00],\n",
       "        [-6.9891e-02, -2.6956e+00],\n",
       "        [-2.1473e+00, -1.2421e-01],\n",
       "        [-5.5889e-02, -2.9122e+00],\n",
       "        [-4.6925e-01, -9.8209e-01],\n",
       "        [-6.1622e-01, -7.7648e-01],\n",
       "        [-4.8949e-02, -3.0413e+00],\n",
       "        [-1.9862e-01, -1.7140e+00],\n",
       "        [-2.6395e+00, -7.4071e-02],\n",
       "        [-5.1208e+00, -5.9896e-03],\n",
       "        [-1.4752e-01, -1.9866e+00],\n",
       "        [-1.3954e-01, -2.0384e+00],\n",
       "        [-4.6925e-01, -9.8209e-01],\n",
       "        [-3.9087e+00, -2.0270e-02],\n",
       "        [-1.0905e+00, -4.0955e-01],\n",
       "        [-5.2714e-01, -8.9230e-01],\n",
       "        [-4.7206e-01, -9.7741e-01],\n",
       "        [-1.3036e-01, -2.1019e+00],\n",
       "        [-8.2427e-02, -2.5368e+00],\n",
       "        [-1.8796e-01, -1.7640e+00],\n",
       "        [-3.2771e+00, -3.8468e-02],\n",
       "        [-1.1739e-01, -2.2004e+00],\n",
       "        [-9.1547e-02, -2.4363e+00],\n",
       "        [-3.6861e+00, -2.5388e-02],\n",
       "        [-7.0350e-01, -6.8290e-01],\n",
       "        [-1.9462e-01, -1.7325e+00],\n",
       "        [-8.1265e-01, -5.8641e-01],\n",
       "        [-1.7543e-01, -1.8270e+00],\n",
       "        [-1.8863e-01, -1.7608e+00],\n",
       "        [-5.0434e-01, -9.2610e-01],\n",
       "        [-6.3748e-01, -7.5210e-01],\n",
       "        [-1.4960e-01, -1.9737e+00],\n",
       "        [-8.0347e-01, -5.9380e-01],\n",
       "        [-1.8239e-01, -1.7914e+00],\n",
       "        [-1.0289e+00, -4.4224e-01],\n",
       "        [-1.2028e-01, -2.1775e+00],\n",
       "        [-1.2123e-01, -2.1700e+00],\n",
       "        [-2.4158e-02, -3.7352e+00],\n",
       "        [-3.0697e+00, -4.7549e-02],\n",
       "        [-6.0253e-02, -2.8392e+00],\n",
       "        [-3.8830e+00, -2.0804e-02],\n",
       "        [-1.7005e+00, -2.0162e-01],\n",
       "        [-7.1776e-01, -6.6913e-01],\n",
       "        [-3.7562e+00, -2.3649e-02],\n",
       "        [-1.6540e-01, -1.8809e+00],\n",
       "        [-2.4904e-02, -3.7052e+00],\n",
       "        [-4.4540e-01, -1.0232e+00],\n",
       "        [-4.9177e-01, -9.4557e-01],\n",
       "        [-6.9537e-02, -2.7005e+00],\n",
       "        [-2.5511e+00, -8.1207e-02],\n",
       "        [-1.8665e-01, -1.7704e+00],\n",
       "        [-4.4035e+00, -1.2310e-02],\n",
       "        [-6.1354e-01, -7.7965e-01],\n",
       "        [-3.8304e+00, -2.1941e-02],\n",
       "        [-6.0330e-02, -2.8379e+00],\n",
       "        [-4.8127e+00, -8.1596e-03],\n",
       "        [-5.9223e-01, -8.0540e-01],\n",
       "        [-1.8509e-01, -1.7780e+00],\n",
       "        [-4.8296e-01, -9.5961e-01],\n",
       "        [-3.2336e+00, -4.0214e-02],\n",
       "        [-3.6764e+00, -2.5640e-02],\n",
       "        [-3.2639e+00, -3.8990e-02],\n",
       "        [-5.5239e-01, -8.5702e-01],\n",
       "        [-8.2426e-01, -5.7725e-01],\n",
       "        [-1.9953e-01, -1.7099e+00],\n",
       "        [-1.4438e-01, -2.0066e+00],\n",
       "        [-6.2062e-02, -2.8105e+00],\n",
       "        [-8.2345e-01, -5.7789e-01],\n",
       "        [-2.2497e-01, -1.6022e+00],\n",
       "        [-4.2513e-01, -1.0604e+00],\n",
       "        [-2.3684e+00, -9.8309e-02],\n",
       "        [-4.1293e+00, -1.6224e-02],\n",
       "        [-1.6977e-01, -1.8570e+00],\n",
       "        [-1.0269e-01, -2.3269e+00],\n",
       "        [-3.0091e-01, -1.3476e+00],\n",
       "        [-4.1366e+00, -1.6106e-02],\n",
       "        [-3.8915e-02, -3.2658e+00],\n",
       "        [-4.1673e+00, -1.5616e-02],\n",
       "        [-1.7627e-01, -1.8226e+00],\n",
       "        [-7.6082e-01, -6.2977e-01],\n",
       "        [-3.2480e-01, -1.2826e+00],\n",
       "        [-2.9809e+00, -5.2083e-02],\n",
       "        [-1.9964e-01, -1.7094e+00],\n",
       "        [-3.8866e+00, -2.0729e-02],\n",
       "        [-7.5404e-01, -6.3575e-01],\n",
       "        [-1.5954e-01, -1.9142e+00],\n",
       "        [-5.0717e-01, -9.2180e-01],\n",
       "        [-6.2721e-01, -7.6375e-01],\n",
       "        [-8.1599e-01, -5.8376e-01],\n",
       "        [-2.4902e+00, -8.6528e-02],\n",
       "        [-4.9696e-01, -9.3746e-01],\n",
       "        [-4.3220e+00, -1.3362e-02],\n",
       "        [-3.0244e+00, -4.9805e-02],\n",
       "        [-4.1471e+00, -1.5936e-02],\n",
       "        [-3.2655e-01, -1.2780e+00],\n",
       "        [-3.8832e+00, -2.0800e-02],\n",
       "        [-2.6145e-01, -1.4694e+00],\n",
       "        [-1.8861e-01, -1.7609e+00],\n",
       "        [-1.3008e-01, -2.1040e+00],\n",
       "        [-2.6276e-01, -1.4650e+00],\n",
       "        [-2.3270e-02, -3.7722e+00],\n",
       "        [-3.1586e-01, -1.3062e+00],\n",
       "        [-1.2887e-01, -2.1127e+00],\n",
       "        [-5.2727e-02, -2.9689e+00],\n",
       "        [-8.1356e-02, -2.5493e+00],\n",
       "        [-2.4464e+00, -9.0587e-02],\n",
       "        [-3.3528e+00, -3.5615e-02],\n",
       "        [-2.0211e-01, -1.6983e+00],\n",
       "        [-2.5687e+00, -7.9731e-02],\n",
       "        [-1.5638e-01, -1.9327e+00],\n",
       "        [-1.4313e-01, -2.0147e+00],\n",
       "        [-4.0494e-01, -1.0997e+00],\n",
       "        [-2.2911e+00, -1.0664e-01],\n",
       "        [-5.4562e+00, -4.2787e-03],\n",
       "        [-7.5523e-02, -2.6208e+00],\n",
       "        [-9.3184e-02, -2.4194e+00],\n",
       "        [-2.7460e+00, -6.6339e-02],\n",
       "        [-3.0290e+00, -4.9571e-02],\n",
       "        [-8.3343e-02, -2.5262e+00],\n",
       "        [-7.1366e-01, -6.7305e-01],\n",
       "        [-7.1781e-01, -6.6908e-01],\n",
       "        [-7.7199e-01, -6.2007e-01],\n",
       "        [-1.8893e-01, -1.7594e+00],\n",
       "        [-4.0067e+00, -1.8361e-02],\n",
       "        [-5.5303e-01, -8.5615e-01],\n",
       "        [-3.1558e-02, -3.4717e+00],\n",
       "        [-2.0148e-01, -1.7011e+00],\n",
       "        [-2.8397e+00, -6.0218e-02],\n",
       "        [-1.0428e-01, -2.3123e+00],\n",
       "        [-4.8974e+00, -7.4935e-03]], grad_fn=<LogSoftmaxBackward>)"
      ]
     },
     "execution_count": 54,
     "metadata": {},
     "output_type": "execute_result"
    }
   ],
   "source": [
    "Y_pred_test"
   ]
  },
  {
   "cell_type": "code",
   "execution_count": 52,
   "metadata": {
    "ExecuteTime": {
     "end_time": "2019-04-19T07:28:23.291439Z",
     "start_time": "2019-04-19T07:28:23.260186Z"
    },
    "collapsed": true
   },
   "outputs": [],
   "source": [
    "Y_pred_test = model(X_test)  # Giving the model X_model as input to make predictions\n",
    "loss_test = loss_fn(Y_pred_test, Y_test)  # Calculating loss"
   ]
  },
  {
   "cell_type": "code",
   "execution_count": 72,
   "metadata": {
    "ExecuteTime": {
     "end_time": "2019-04-19T19:04:42.305103Z",
     "start_time": "2019-04-19T19:04:42.211380Z"
    },
    "collapsed": true
   },
   "outputs": [
    {
     "name": "stdout",
     "output_type": "stream",
     "text": [
      "tensor([[-5.8033e-01, -8.2033e-01],\n",
      "        [-4.2731e+00, -1.4036e-02],\n",
      "        [-1.0762e+00, -4.1686e-01],\n",
      "        [-5.1568e-02, -2.9905e+00],\n",
      "        [-7.9916e-01, -5.9731e-01],\n",
      "        [-7.3871e-02, -2.6421e+00],\n",
      "        [-2.8475e-02, -3.5729e+00],\n",
      "        [-1.1620e-01, -2.2100e+00],\n",
      "        [-3.7320e-01, -1.1664e+00],\n",
      "        [-2.7086e-01, -1.4385e+00],\n",
      "        [-1.8207e-01, -1.7930e+00],\n",
      "        [-7.0048e-01, -6.8586e-01],\n",
      "        [-7.3871e-01, -6.4957e-01],\n",
      "        [-6.6558e-02, -2.7428e+00],\n",
      "        [-6.9891e-02, -2.6956e+00],\n",
      "        [-2.1473e+00, -1.2421e-01],\n",
      "        [-5.5889e-02, -2.9122e+00],\n",
      "        [-4.6925e-01, -9.8209e-01],\n",
      "        [-6.1622e-01, -7.7648e-01],\n",
      "        [-4.8949e-02, -3.0413e+00],\n",
      "        [-1.9862e-01, -1.7140e+00],\n",
      "        [-2.6395e+00, -7.4071e-02],\n",
      "        [-5.1208e+00, -5.9896e-03],\n",
      "        [-1.4752e-01, -1.9866e+00],\n",
      "        [-1.3954e-01, -2.0384e+00],\n",
      "        [-4.6925e-01, -9.8209e-01],\n",
      "        [-3.9087e+00, -2.0270e-02],\n",
      "        [-1.0905e+00, -4.0955e-01],\n",
      "        [-5.2714e-01, -8.9230e-01],\n",
      "        [-4.7206e-01, -9.7741e-01],\n",
      "        [-1.3036e-01, -2.1019e+00],\n",
      "        [-8.2427e-02, -2.5368e+00],\n",
      "        [-1.8796e-01, -1.7640e+00],\n",
      "        [-3.2771e+00, -3.8468e-02],\n",
      "        [-1.1739e-01, -2.2004e+00],\n",
      "        [-9.1547e-02, -2.4363e+00],\n",
      "        [-3.6861e+00, -2.5388e-02],\n",
      "        [-7.0350e-01, -6.8290e-01],\n",
      "        [-1.9462e-01, -1.7325e+00],\n",
      "        [-8.1265e-01, -5.8641e-01],\n",
      "        [-1.7543e-01, -1.8270e+00],\n",
      "        [-1.8863e-01, -1.7608e+00],\n",
      "        [-5.0434e-01, -9.2610e-01],\n",
      "        [-6.3748e-01, -7.5210e-01],\n",
      "        [-1.4960e-01, -1.9737e+00],\n",
      "        [-8.0347e-01, -5.9380e-01],\n",
      "        [-1.8239e-01, -1.7914e+00],\n",
      "        [-1.0289e+00, -4.4224e-01],\n",
      "        [-1.2028e-01, -2.1775e+00],\n",
      "        [-1.2123e-01, -2.1700e+00],\n",
      "        [-2.4158e-02, -3.7352e+00],\n",
      "        [-3.0697e+00, -4.7549e-02],\n",
      "        [-6.0253e-02, -2.8392e+00],\n",
      "        [-3.8830e+00, -2.0804e-02],\n",
      "        [-1.7005e+00, -2.0162e-01],\n",
      "        [-7.1776e-01, -6.6913e-01],\n",
      "        [-3.7562e+00, -2.3649e-02],\n",
      "        [-1.6540e-01, -1.8809e+00],\n",
      "        [-2.4904e-02, -3.7052e+00],\n",
      "        [-4.4540e-01, -1.0232e+00],\n",
      "        [-4.9177e-01, -9.4557e-01],\n",
      "        [-6.9537e-02, -2.7005e+00],\n",
      "        [-2.5511e+00, -8.1207e-02],\n",
      "        [-1.8665e-01, -1.7704e+00],\n",
      "        [-4.4035e+00, -1.2310e-02],\n",
      "        [-6.1354e-01, -7.7965e-01],\n",
      "        [-3.8304e+00, -2.1941e-02],\n",
      "        [-6.0330e-02, -2.8379e+00],\n",
      "        [-4.8127e+00, -8.1596e-03],\n",
      "        [-5.9223e-01, -8.0540e-01],\n",
      "        [-1.8509e-01, -1.7780e+00],\n",
      "        [-4.8296e-01, -9.5961e-01],\n",
      "        [-3.2336e+00, -4.0214e-02],\n",
      "        [-3.6764e+00, -2.5640e-02],\n",
      "        [-3.2639e+00, -3.8990e-02],\n",
      "        [-5.5239e-01, -8.5702e-01],\n",
      "        [-8.2426e-01, -5.7725e-01],\n",
      "        [-1.9953e-01, -1.7099e+00],\n",
      "        [-1.4438e-01, -2.0066e+00],\n",
      "        [-6.2062e-02, -2.8105e+00],\n",
      "        [-8.2345e-01, -5.7789e-01],\n",
      "        [-2.2497e-01, -1.6022e+00],\n",
      "        [-4.2513e-01, -1.0604e+00],\n",
      "        [-2.3684e+00, -9.8309e-02],\n",
      "        [-4.1293e+00, -1.6224e-02],\n",
      "        [-1.6977e-01, -1.8570e+00],\n",
      "        [-1.0269e-01, -2.3269e+00],\n",
      "        [-3.0091e-01, -1.3476e+00],\n",
      "        [-4.1366e+00, -1.6106e-02],\n",
      "        [-3.8915e-02, -3.2658e+00],\n",
      "        [-4.1673e+00, -1.5616e-02],\n",
      "        [-1.7627e-01, -1.8226e+00],\n",
      "        [-7.6082e-01, -6.2977e-01],\n",
      "        [-3.2480e-01, -1.2826e+00],\n",
      "        [-2.9809e+00, -5.2083e-02],\n",
      "        [-1.9964e-01, -1.7094e+00],\n",
      "        [-3.8866e+00, -2.0729e-02],\n",
      "        [-7.5404e-01, -6.3575e-01],\n",
      "        [-1.5954e-01, -1.9142e+00],\n",
      "        [-5.0717e-01, -9.2180e-01],\n",
      "        [-6.2721e-01, -7.6375e-01],\n",
      "        [-8.1599e-01, -5.8376e-01],\n",
      "        [-2.4902e+00, -8.6528e-02],\n",
      "        [-4.9696e-01, -9.3746e-01],\n",
      "        [-4.3220e+00, -1.3362e-02],\n",
      "        [-3.0244e+00, -4.9805e-02],\n",
      "        [-4.1471e+00, -1.5936e-02],\n",
      "        [-3.2655e-01, -1.2780e+00],\n",
      "        [-3.8832e+00, -2.0800e-02],\n",
      "        [-2.6145e-01, -1.4694e+00],\n",
      "        [-1.8861e-01, -1.7609e+00],\n",
      "        [-1.3008e-01, -2.1040e+00],\n",
      "        [-2.6276e-01, -1.4650e+00],\n",
      "        [-2.3270e-02, -3.7722e+00],\n",
      "        [-3.1586e-01, -1.3062e+00],\n",
      "        [-1.2887e-01, -2.1127e+00],\n",
      "        [-5.2727e-02, -2.9689e+00],\n",
      "        [-8.1356e-02, -2.5493e+00],\n",
      "        [-2.4464e+00, -9.0587e-02],\n",
      "        [-3.3528e+00, -3.5615e-02],\n",
      "        [-2.0211e-01, -1.6983e+00],\n",
      "        [-2.5687e+00, -7.9731e-02],\n",
      "        [-1.5638e-01, -1.9327e+00],\n",
      "        [-1.4313e-01, -2.0147e+00],\n",
      "        [-4.0494e-01, -1.0997e+00],\n",
      "        [-2.2911e+00, -1.0664e-01],\n",
      "        [-5.4562e+00, -4.2787e-03],\n",
      "        [-7.5523e-02, -2.6208e+00],\n",
      "        [-9.3184e-02, -2.4194e+00],\n",
      "        [-2.7460e+00, -6.6339e-02],\n",
      "        [-3.0290e+00, -4.9571e-02],\n",
      "        [-8.3343e-02, -2.5262e+00],\n",
      "        [-7.1366e-01, -6.7305e-01],\n",
      "        [-7.1781e-01, -6.6908e-01],\n",
      "        [-7.7199e-01, -6.2007e-01],\n",
      "        [-1.8893e-01, -1.7594e+00],\n",
      "        [-4.0067e+00, -1.8361e-02],\n",
      "        [-5.5303e-01, -8.5615e-01],\n",
      "        [-3.1558e-02, -3.4717e+00],\n",
      "        [-2.0148e-01, -1.7011e+00],\n",
      "        [-2.8397e+00, -6.0218e-02],\n",
      "        [-1.0428e-01, -2.3123e+00],\n",
      "        [-4.8974e+00, -7.4935e-03]], grad_fn=<LogSoftmaxBackward>)\n",
      "tensor([[-5.8033e-01, -8.2033e-01],\n",
      "        [-4.2731e+00, -1.4036e-02],\n",
      "        [-1.0762e+00, -4.1686e-01],\n",
      "        [-5.1568e-02, -2.9905e+00],\n",
      "        [-7.9916e-01, -5.9731e-01],\n",
      "        [-7.3871e-02, -2.6421e+00],\n",
      "        [-2.8475e-02, -3.5729e+00],\n",
      "        [-1.1620e-01, -2.2100e+00],\n",
      "        [-3.7320e-01, -1.1664e+00],\n",
      "        [-2.7086e-01, -1.4385e+00],\n",
      "        [-1.8207e-01, -1.7930e+00],\n",
      "        [-7.0048e-01, -6.8586e-01],\n",
      "        [-7.3871e-01, -6.4957e-01],\n",
      "        [-6.6558e-02, -2.7428e+00],\n",
      "        [-6.9891e-02, -2.6956e+00],\n",
      "        [-2.1473e+00, -1.2421e-01],\n",
      "        [-5.5889e-02, -2.9122e+00],\n",
      "        [-4.6925e-01, -9.8209e-01],\n",
      "        [-6.1622e-01, -7.7648e-01],\n",
      "        [-4.8949e-02, -3.0413e+00],\n",
      "        [-1.9862e-01, -1.7140e+00],\n",
      "        [-2.6395e+00, -7.4071e-02],\n",
      "        [-5.1208e+00, -5.9896e-03],\n",
      "        [-1.4752e-01, -1.9866e+00],\n",
      "        [-1.3954e-01, -2.0384e+00],\n",
      "        [-4.6925e-01, -9.8209e-01],\n",
      "        [-3.9087e+00, -2.0270e-02],\n",
      "        [-1.0905e+00, -4.0955e-01],\n",
      "        [-5.2714e-01, -8.9230e-01],\n",
      "        [-4.7206e-01, -9.7741e-01],\n",
      "        [-1.3036e-01, -2.1019e+00],\n",
      "        [-8.2427e-02, -2.5368e+00],\n",
      "        [-1.8796e-01, -1.7640e+00],\n",
      "        [-3.2771e+00, -3.8468e-02],\n",
      "        [-1.1739e-01, -2.2004e+00],\n",
      "        [-9.1547e-02, -2.4363e+00],\n",
      "        [-3.6861e+00, -2.5388e-02],\n",
      "        [-7.0350e-01, -6.8290e-01],\n",
      "        [-1.9462e-01, -1.7325e+00],\n",
      "        [-8.1265e-01, -5.8641e-01],\n",
      "        [-1.7543e-01, -1.8270e+00],\n",
      "        [-1.8863e-01, -1.7608e+00],\n",
      "        [-5.0434e-01, -9.2610e-01],\n",
      "        [-6.3748e-01, -7.5210e-01],\n",
      "        [-1.4960e-01, -1.9737e+00],\n",
      "        [-8.0347e-01, -5.9380e-01],\n",
      "        [-1.8239e-01, -1.7914e+00],\n",
      "        [-1.0289e+00, -4.4224e-01],\n",
      "        [-1.2028e-01, -2.1775e+00],\n",
      "        [-1.2123e-01, -2.1700e+00],\n",
      "        [-2.4158e-02, -3.7352e+00],\n",
      "        [-3.0697e+00, -4.7549e-02],\n",
      "        [-6.0253e-02, -2.8392e+00],\n",
      "        [-3.8830e+00, -2.0804e-02],\n",
      "        [-1.7005e+00, -2.0162e-01],\n",
      "        [-7.1776e-01, -6.6913e-01],\n",
      "        [-3.7562e+00, -2.3649e-02],\n",
      "        [-1.6540e-01, -1.8809e+00],\n",
      "        [-2.4904e-02, -3.7052e+00],\n",
      "        [-4.4540e-01, -1.0232e+00],\n",
      "        [-4.9177e-01, -9.4557e-01],\n",
      "        [-6.9537e-02, -2.7005e+00],\n",
      "        [-2.5511e+00, -8.1207e-02],\n",
      "        [-1.8665e-01, -1.7704e+00],\n",
      "        [-4.4035e+00, -1.2310e-02],\n",
      "        [-6.1354e-01, -7.7965e-01],\n",
      "        [-3.8304e+00, -2.1941e-02],\n",
      "        [-6.0330e-02, -2.8379e+00],\n",
      "        [-4.8127e+00, -8.1596e-03],\n",
      "        [-5.9223e-01, -8.0540e-01],\n",
      "        [-1.8509e-01, -1.7780e+00],\n",
      "        [-4.8296e-01, -9.5961e-01],\n",
      "        [-3.2336e+00, -4.0214e-02],\n",
      "        [-3.6764e+00, -2.5640e-02],\n",
      "        [-3.2639e+00, -3.8990e-02],\n",
      "        [-5.5239e-01, -8.5702e-01],\n",
      "        [-8.2426e-01, -5.7725e-01],\n",
      "        [-1.9953e-01, -1.7099e+00],\n",
      "        [-1.4438e-01, -2.0066e+00],\n",
      "        [-6.2062e-02, -2.8105e+00],\n",
      "        [-8.2345e-01, -5.7789e-01],\n",
      "        [-2.2497e-01, -1.6022e+00],\n",
      "        [-4.2513e-01, -1.0604e+00],\n",
      "        [-2.3684e+00, -9.8309e-02],\n",
      "        [-4.1293e+00, -1.6224e-02],\n",
      "        [-1.6977e-01, -1.8570e+00],\n",
      "        [-1.0269e-01, -2.3269e+00],\n",
      "        [-3.0091e-01, -1.3476e+00],\n",
      "        [-4.1366e+00, -1.6106e-02],\n",
      "        [-3.8915e-02, -3.2658e+00],\n",
      "        [-4.1673e+00, -1.5616e-02],\n",
      "        [-1.7627e-01, -1.8226e+00],\n",
      "        [-7.6082e-01, -6.2977e-01],\n",
      "        [-3.2480e-01, -1.2826e+00],\n",
      "        [-2.9809e+00, -5.2083e-02],\n",
      "        [-1.9964e-01, -1.7094e+00],\n",
      "        [-3.8866e+00, -2.0729e-02],\n",
      "        [-7.5404e-01, -6.3575e-01],\n",
      "        [-1.5954e-01, -1.9142e+00],\n",
      "        [-5.0717e-01, -9.2180e-01],\n",
      "        [-6.2721e-01, -7.6375e-01],\n",
      "        [-8.1599e-01, -5.8376e-01],\n",
      "        [-2.4902e+00, -8.6528e-02],\n",
      "        [-4.9696e-01, -9.3746e-01],\n",
      "        [-4.3220e+00, -1.3362e-02],\n",
      "        [-3.0244e+00, -4.9805e-02],\n",
      "        [-4.1471e+00, -1.5936e-02],\n",
      "        [-3.2655e-01, -1.2780e+00],\n",
      "        [-3.8832e+00, -2.0800e-02],\n",
      "        [-2.6145e-01, -1.4694e+00],\n",
      "        [-1.8861e-01, -1.7609e+00],\n",
      "        [-1.3008e-01, -2.1040e+00],\n",
      "        [-2.6276e-01, -1.4650e+00],\n",
      "        [-2.3270e-02, -3.7722e+00],\n",
      "        [-3.1586e-01, -1.3062e+00],\n",
      "        [-1.2887e-01, -2.1127e+00],\n",
      "        [-5.2727e-02, -2.9689e+00],\n",
      "        [-8.1356e-02, -2.5493e+00],\n",
      "        [-2.4464e+00, -9.0587e-02],\n",
      "        [-3.3528e+00, -3.5615e-02],\n",
      "        [-2.0211e-01, -1.6983e+00],\n",
      "        [-2.5687e+00, -7.9731e-02],\n",
      "        [-1.5638e-01, -1.9327e+00],\n",
      "        [-1.4313e-01, -2.0147e+00],\n",
      "        [-4.0494e-01, -1.0997e+00],\n",
      "        [-2.2911e+00, -1.0664e-01],\n",
      "        [-5.4562e+00, -4.2787e-03],\n",
      "        [-7.5523e-02, -2.6208e+00],\n",
      "        [-9.3184e-02, -2.4194e+00],\n",
      "        [-2.7460e+00, -6.6339e-02],\n",
      "        [-3.0290e+00, -4.9571e-02],\n",
      "        [-8.3343e-02, -2.5262e+00],\n",
      "        [-7.1366e-01, -6.7305e-01],\n",
      "        [-7.1781e-01, -6.6908e-01],\n",
      "        [-7.7199e-01, -6.2007e-01],\n",
      "        [-1.8893e-01, -1.7594e+00],\n",
      "        [-4.0067e+00, -1.8361e-02],\n",
      "        [-5.5303e-01, -8.5615e-01],\n",
      "        [-3.1558e-02, -3.4717e+00],\n",
      "        [-2.0148e-01, -1.7011e+00],\n",
      "        [-2.8397e+00, -6.0218e-02],\n",
      "        [-1.0428e-01, -2.3123e+00],\n",
      "        [-4.8974e+00, -7.4935e-03]])\n"
     ]
    }
   ],
   "source": [
    "print(Y_pred_test)\n",
    "print(Y_pred_test.data)"
   ]
  },
  {
   "cell_type": "code",
   "execution_count": 67,
   "metadata": {
    "ExecuteTime": {
     "end_time": "2019-04-19T07:47:52.748284Z",
     "start_time": "2019-04-19T07:47:52.701384Z"
    },
    "collapsed": true
   },
   "outputs": [
    {
     "data": {
      "text/plain": [
       "tensor([0, 0, 1, 0, 1, 0, 0, 0, 0, 0, 0, 1, 1, 0, 0, 1, 0, 1, 1, 0, 0, 1, 1, 0,\n",
       "        0, 1, 1, 0, 1, 0, 0, 0, 0, 1, 0, 0, 1, 1, 0, 1, 0, 1, 1, 0, 0, 1, 1, 0,\n",
       "        0, 0, 0, 1, 0, 1, 0, 0, 1, 0, 1, 0, 0, 0, 0, 0, 1, 0, 1, 0, 0, 1, 0, 1,\n",
       "        1, 1, 1, 1, 1, 0, 0, 0, 1, 1, 0, 1, 1, 0, 0, 0, 1, 0, 1, 0, 1, 0, 1, 0,\n",
       "        1, 0, 0, 0, 1, 1, 1, 0, 1, 1, 1, 0, 1, 0, 0, 0, 0, 0, 0, 0, 1, 0, 1, 1,\n",
       "        0, 1, 0, 0, 0, 1, 1, 0, 0, 1, 1, 1, 0, 1, 1, 0, 1, 1, 0, 0, 1, 0, 1])"
      ]
     },
     "execution_count": 67,
     "metadata": {},
     "output_type": "execute_result"
    }
   ],
   "source": [
    "Y_test"
   ]
  },
  {
   "cell_type": "code",
   "execution_count": 80,
   "metadata": {
    "ExecuteTime": {
     "end_time": "2019-04-19T19:17:05.706839Z",
     "start_time": "2019-04-19T19:17:05.659967Z"
    },
    "collapsed": true
   },
   "outputs": [],
   "source": [
    "#pred = np.argmax(Y_pred_test,axis=1)  LIke we did in tensor flow\n",
    "_, pred = torch.max(Y_pred_test.data, -1)#  Picking target with the highest probability"
   ]
  },
  {
   "cell_type": "code",
   "execution_count": 81,
   "metadata": {
    "ExecuteTime": {
     "end_time": "2019-04-19T19:17:19.274633Z",
     "start_time": "2019-04-19T19:17:19.243386Z"
    }
   },
   "outputs": [
    {
     "data": {
      "text/plain": [
       "tensor([0, 1, 1, 0, 1, 0, 0, 0, 0, 0, 0, 1, 1, 0, 0, 1, 0, 0, 0, 0, 0, 1, 1, 0,\n",
       "        0, 0, 1, 1, 0, 0, 0, 0, 0, 1, 0, 0, 1, 1, 0, 1, 0, 0, 0, 0, 0, 1, 0, 1,\n",
       "        0, 0, 0, 1, 0, 1, 1, 1, 1, 0, 0, 0, 0, 0, 1, 0, 1, 0, 1, 0, 1, 0, 0, 0,\n",
       "        1, 1, 1, 0, 1, 0, 0, 0, 1, 0, 0, 1, 1, 0, 0, 0, 1, 0, 1, 0, 1, 0, 1, 0,\n",
       "        1, 1, 0, 0, 0, 1, 1, 0, 1, 1, 1, 0, 1, 0, 0, 0, 0, 0, 0, 0, 0, 0, 1, 1,\n",
       "        0, 1, 0, 0, 0, 1, 1, 0, 0, 1, 1, 0, 1, 1, 1, 0, 1, 0, 0, 0, 1, 0, 1])"
      ]
     },
     "execution_count": 81,
     "metadata": {},
     "output_type": "execute_result"
    }
   ],
   "source": [
    "pred"
   ]
  },
  {
   "cell_type": "code",
   "execution_count": 83,
   "metadata": {
    "ExecuteTime": {
     "end_time": "2019-04-19T19:18:19.611519Z",
     "start_time": "2019-04-19T19:18:19.580271Z"
    },
    "scrolled": true
   },
   "outputs": [
    {
     "name": "stdout",
     "output_type": "stream",
     "text": [
      "Accuracy score: 0.8251748251748252\n"
     ]
    }
   ],
   "source": [
    "from sklearn import metrics\n",
    "score_acc = metrics.accuracy_score(Y_test, pred)\n",
    "print(\"Accuracy score: {}\".format(score_acc))"
   ]
  },
  {
   "cell_type": "code",
   "execution_count": 75,
   "metadata": {
    "ExecuteTime": {
     "end_time": "2019-04-19T19:09:24.213221Z",
     "start_time": "2019-04-19T19:09:24.181970Z"
    }
   },
   "outputs": [
    {
     "data": {
      "text/plain": [
       "1"
      ]
     },
     "execution_count": 75,
     "metadata": {},
     "output_type": "execute_result"
    }
   ],
   "source": [
    "pred[1].item()"
   ]
  },
  {
   "cell_type": "code",
   "execution_count": 96,
   "metadata": {
    "ExecuteTime": {
     "end_time": "2019-04-19T23:35:25.834337Z",
     "start_time": "2019-04-19T23:35:25.724969Z"
    },
    "collapsed": true
   },
   "outputs": [
    {
     "ename": "AttributeError",
     "evalue": "'DataFrame' object has no attribute 'dtype'",
     "output_type": "error",
     "traceback": [
      "\u001b[1;31m---------------------------------------------------------------------------\u001b[0m",
      "\u001b[1;31mAttributeError\u001b[0m                            Traceback (most recent call last)",
      "\u001b[1;32m<ipython-input-96-3cc7a87a2cb8>\u001b[0m in \u001b[0;36m<module>\u001b[1;34m()\u001b[0m\n\u001b[1;32m----> 1\u001b[1;33m \u001b[0my_test\u001b[0m\u001b[1;33m.\u001b[0m\u001b[0mdtype\u001b[0m\u001b[1;33m\u001b[0m\u001b[0m\n\u001b[0m",
      "\u001b[1;32m~\\Anaconda3\\lib\\site-packages\\pandas\\core\\generic.py\u001b[0m in \u001b[0;36m__getattr__\u001b[1;34m(self, name)\u001b[0m\n\u001b[0;32m   3079\u001b[0m             \u001b[1;32mif\u001b[0m \u001b[0mname\u001b[0m \u001b[1;32min\u001b[0m \u001b[0mself\u001b[0m\u001b[1;33m.\u001b[0m\u001b[0m_info_axis\u001b[0m\u001b[1;33m:\u001b[0m\u001b[1;33m\u001b[0m\u001b[0m\n\u001b[0;32m   3080\u001b[0m                 \u001b[1;32mreturn\u001b[0m \u001b[0mself\u001b[0m\u001b[1;33m[\u001b[0m\u001b[0mname\u001b[0m\u001b[1;33m]\u001b[0m\u001b[1;33m\u001b[0m\u001b[0m\n\u001b[1;32m-> 3081\u001b[1;33m             \u001b[1;32mreturn\u001b[0m \u001b[0mobject\u001b[0m\u001b[1;33m.\u001b[0m\u001b[0m__getattribute__\u001b[0m\u001b[1;33m(\u001b[0m\u001b[0mself\u001b[0m\u001b[1;33m,\u001b[0m \u001b[0mname\u001b[0m\u001b[1;33m)\u001b[0m\u001b[1;33m\u001b[0m\u001b[0m\n\u001b[0m\u001b[0;32m   3082\u001b[0m \u001b[1;33m\u001b[0m\u001b[0m\n\u001b[0;32m   3083\u001b[0m     \u001b[1;32mdef\u001b[0m \u001b[0m__setattr__\u001b[0m\u001b[1;33m(\u001b[0m\u001b[0mself\u001b[0m\u001b[1;33m,\u001b[0m \u001b[0mname\u001b[0m\u001b[1;33m,\u001b[0m \u001b[0mvalue\u001b[0m\u001b[1;33m)\u001b[0m\u001b[1;33m:\u001b[0m\u001b[1;33m\u001b[0m\u001b[0m\n",
      "\u001b[1;31mAttributeError\u001b[0m: 'DataFrame' object has no attribute 'dtype'"
     ]
    }
   ],
   "source": [
    "y_test.dtype"
   ]
  },
  {
   "cell_type": "code",
   "execution_count": 84,
   "metadata": {
    "ExecuteTime": {
     "end_time": "2019-04-19T19:18:31.014235Z",
     "start_time": "2019-04-19T19:18:30.967356Z"
    }
   },
   "outputs": [
    {
     "name": "stdout",
     "output_type": "stream",
     "text": [
      " Predicted Label - 0    Actual Label -  tensor(0)\n",
      " Predicted Label - 1    Actual Label -  tensor(0)\n",
      " Predicted Label - 1    Actual Label -  tensor(1)\n",
      " Predicted Label - 0    Actual Label -  tensor(0)\n",
      " Predicted Label - 1    Actual Label -  tensor(1)\n",
      " Predicted Label - 0    Actual Label -  tensor(0)\n",
      " Predicted Label - 0    Actual Label -  tensor(0)\n",
      " Predicted Label - 0    Actual Label -  tensor(0)\n",
      " Predicted Label - 0    Actual Label -  tensor(0)\n",
      " Predicted Label - 0    Actual Label -  tensor(0)\n"
     ]
    }
   ],
   "source": [
    "#printing the first 10 actual values and predicted values\n",
    "for i in range(10):\n",
    "    indx = y_test.index[i]\n",
    "    print(\" Predicted Label - %s    Actual Label -  %s\" \n",
    "          %(pred[i].item(), (Y_test[i])))\n"
   ]
  },
  {
   "cell_type": "markdown",
   "metadata": {},
   "source": [
    "# Visualizing"
   ]
  },
  {
   "cell_type": "code",
   "execution_count": 85,
   "metadata": {
    "ExecuteTime": {
     "end_time": "2019-04-19T19:20:52.131378Z",
     "start_time": "2019-04-19T19:20:51.068275Z"
    },
    "collapsed": true
   },
   "outputs": [],
   "source": [
    "import matplotlib.pyplot as plt\n",
    "import pandas as pd"
   ]
  },
  {
   "cell_type": "code",
   "execution_count": 86,
   "metadata": {
    "ExecuteTime": {
     "end_time": "2019-04-19T19:20:52.178260Z",
     "start_time": "2019-04-19T19:20:52.131378Z"
    },
    "collapsed": true
   },
   "outputs": [],
   "source": [
    "df_epochs_data = pd.DataFrame(epoch_data, \n",
    "                              columns=[\"epoch\", \"train_loss\", \"test_loss\", \"accuracy\"])"
   ]
  },
  {
   "cell_type": "code",
   "execution_count": 87,
   "metadata": {
    "ExecuteTime": {
     "end_time": "2019-04-19T19:20:52.838904Z",
     "start_time": "2019-04-19T19:20:52.729535Z"
    },
    "scrolled": true
   },
   "outputs": [
    {
     "data": {
      "text/html": [
       "<div>\n",
       "<style>\n",
       "    .dataframe thead tr:only-child th {\n",
       "        text-align: right;\n",
       "    }\n",
       "\n",
       "    .dataframe thead th {\n",
       "        text-align: left;\n",
       "    }\n",
       "\n",
       "    .dataframe tbody tr th {\n",
       "        vertical-align: top;\n",
       "    }\n",
       "</style>\n",
       "<table border=\"1\" class=\"dataframe\">\n",
       "  <thead>\n",
       "    <tr style=\"text-align: right;\">\n",
       "      <th></th>\n",
       "      <th>epoch</th>\n",
       "      <th>train_loss</th>\n",
       "      <th>test_loss</th>\n",
       "      <th>accuracy</th>\n",
       "    </tr>\n",
       "  </thead>\n",
       "  <tbody>\n",
       "    <tr>\n",
       "      <th>0</th>\n",
       "      <td>1</td>\n",
       "      <td>0.422678</td>\n",
       "      <td>0.421971</td>\n",
       "      <td>0.818182</td>\n",
       "    </tr>\n",
       "    <tr>\n",
       "      <th>1</th>\n",
       "      <td>2</td>\n",
       "      <td>0.422592</td>\n",
       "      <td>0.422097</td>\n",
       "      <td>0.818182</td>\n",
       "    </tr>\n",
       "    <tr>\n",
       "      <th>2</th>\n",
       "      <td>3</td>\n",
       "      <td>0.422538</td>\n",
       "      <td>0.421897</td>\n",
       "      <td>0.825175</td>\n",
       "    </tr>\n",
       "    <tr>\n",
       "      <th>3</th>\n",
       "      <td>4</td>\n",
       "      <td>0.422463</td>\n",
       "      <td>0.421973</td>\n",
       "      <td>0.825175</td>\n",
       "    </tr>\n",
       "    <tr>\n",
       "      <th>4</th>\n",
       "      <td>5</td>\n",
       "      <td>0.422402</td>\n",
       "      <td>0.422468</td>\n",
       "      <td>0.818182</td>\n",
       "    </tr>\n",
       "    <tr>\n",
       "      <th>5</th>\n",
       "      <td>6</td>\n",
       "      <td>0.422333</td>\n",
       "      <td>0.422724</td>\n",
       "      <td>0.818182</td>\n",
       "    </tr>\n",
       "    <tr>\n",
       "      <th>6</th>\n",
       "      <td>7</td>\n",
       "      <td>0.422285</td>\n",
       "      <td>0.422597</td>\n",
       "      <td>0.818182</td>\n",
       "    </tr>\n",
       "    <tr>\n",
       "      <th>7</th>\n",
       "      <td>8</td>\n",
       "      <td>0.422241</td>\n",
       "      <td>0.421639</td>\n",
       "      <td>0.825175</td>\n",
       "    </tr>\n",
       "    <tr>\n",
       "      <th>8</th>\n",
       "      <td>9</td>\n",
       "      <td>0.422171</td>\n",
       "      <td>0.421346</td>\n",
       "      <td>0.825175</td>\n",
       "    </tr>\n",
       "    <tr>\n",
       "      <th>9</th>\n",
       "      <td>10</td>\n",
       "      <td>0.422132</td>\n",
       "      <td>0.422109</td>\n",
       "      <td>0.825175</td>\n",
       "    </tr>\n",
       "    <tr>\n",
       "      <th>10</th>\n",
       "      <td>11</td>\n",
       "      <td>0.422033</td>\n",
       "      <td>0.422855</td>\n",
       "      <td>0.818182</td>\n",
       "    </tr>\n",
       "    <tr>\n",
       "      <th>11</th>\n",
       "      <td>12</td>\n",
       "      <td>0.421979</td>\n",
       "      <td>0.422687</td>\n",
       "      <td>0.825175</td>\n",
       "    </tr>\n",
       "    <tr>\n",
       "      <th>12</th>\n",
       "      <td>13</td>\n",
       "      <td>0.421912</td>\n",
       "      <td>0.422396</td>\n",
       "      <td>0.825175</td>\n",
       "    </tr>\n",
       "    <tr>\n",
       "      <th>13</th>\n",
       "      <td>14</td>\n",
       "      <td>0.421842</td>\n",
       "      <td>0.421689</td>\n",
       "      <td>0.825175</td>\n",
       "    </tr>\n",
       "    <tr>\n",
       "      <th>14</th>\n",
       "      <td>15</td>\n",
       "      <td>0.421797</td>\n",
       "      <td>0.421520</td>\n",
       "      <td>0.825175</td>\n",
       "    </tr>\n",
       "    <tr>\n",
       "      <th>15</th>\n",
       "      <td>16</td>\n",
       "      <td>0.421742</td>\n",
       "      <td>0.421991</td>\n",
       "      <td>0.825175</td>\n",
       "    </tr>\n",
       "    <tr>\n",
       "      <th>16</th>\n",
       "      <td>17</td>\n",
       "      <td>0.421666</td>\n",
       "      <td>0.422462</td>\n",
       "      <td>0.825175</td>\n",
       "    </tr>\n",
       "    <tr>\n",
       "      <th>17</th>\n",
       "      <td>18</td>\n",
       "      <td>0.421607</td>\n",
       "      <td>0.422471</td>\n",
       "      <td>0.825175</td>\n",
       "    </tr>\n",
       "    <tr>\n",
       "      <th>18</th>\n",
       "      <td>19</td>\n",
       "      <td>0.421557</td>\n",
       "      <td>0.422457</td>\n",
       "      <td>0.825175</td>\n",
       "    </tr>\n",
       "    <tr>\n",
       "      <th>19</th>\n",
       "      <td>20</td>\n",
       "      <td>0.421503</td>\n",
       "      <td>0.421719</td>\n",
       "      <td>0.825175</td>\n",
       "    </tr>\n",
       "    <tr>\n",
       "      <th>20</th>\n",
       "      <td>21</td>\n",
       "      <td>0.421446</td>\n",
       "      <td>0.421186</td>\n",
       "      <td>0.825175</td>\n",
       "    </tr>\n",
       "    <tr>\n",
       "      <th>21</th>\n",
       "      <td>22</td>\n",
       "      <td>0.421407</td>\n",
       "      <td>0.421650</td>\n",
       "      <td>0.825175</td>\n",
       "    </tr>\n",
       "    <tr>\n",
       "      <th>22</th>\n",
       "      <td>23</td>\n",
       "      <td>0.421321</td>\n",
       "      <td>0.422556</td>\n",
       "      <td>0.825175</td>\n",
       "    </tr>\n",
       "    <tr>\n",
       "      <th>23</th>\n",
       "      <td>24</td>\n",
       "      <td>0.421264</td>\n",
       "      <td>0.422668</td>\n",
       "      <td>0.825175</td>\n",
       "    </tr>\n",
       "    <tr>\n",
       "      <th>24</th>\n",
       "      <td>25</td>\n",
       "      <td>0.421198</td>\n",
       "      <td>0.422369</td>\n",
       "      <td>0.825175</td>\n",
       "    </tr>\n",
       "    <tr>\n",
       "      <th>25</th>\n",
       "      <td>26</td>\n",
       "      <td>0.421147</td>\n",
       "      <td>0.422492</td>\n",
       "      <td>0.825175</td>\n",
       "    </tr>\n",
       "    <tr>\n",
       "      <th>26</th>\n",
       "      <td>27</td>\n",
       "      <td>0.421070</td>\n",
       "      <td>0.422881</td>\n",
       "      <td>0.825175</td>\n",
       "    </tr>\n",
       "    <tr>\n",
       "      <th>27</th>\n",
       "      <td>28</td>\n",
       "      <td>0.421116</td>\n",
       "      <td>0.421694</td>\n",
       "      <td>0.832168</td>\n",
       "    </tr>\n",
       "    <tr>\n",
       "      <th>28</th>\n",
       "      <td>29</td>\n",
       "      <td>0.421016</td>\n",
       "      <td>0.420978</td>\n",
       "      <td>0.839161</td>\n",
       "    </tr>\n",
       "    <tr>\n",
       "      <th>29</th>\n",
       "      <td>30</td>\n",
       "      <td>0.420997</td>\n",
       "      <td>0.422165</td>\n",
       "      <td>0.825175</td>\n",
       "    </tr>\n",
       "    <tr>\n",
       "      <th>...</th>\n",
       "      <td>...</td>\n",
       "      <td>...</td>\n",
       "      <td>...</td>\n",
       "      <td>...</td>\n",
       "    </tr>\n",
       "    <tr>\n",
       "      <th>1969</th>\n",
       "      <td>1970</td>\n",
       "      <td>0.391117</td>\n",
       "      <td>0.447406</td>\n",
       "      <td>0.825175</td>\n",
       "    </tr>\n",
       "    <tr>\n",
       "      <th>1970</th>\n",
       "      <td>1971</td>\n",
       "      <td>0.391120</td>\n",
       "      <td>0.447682</td>\n",
       "      <td>0.825175</td>\n",
       "    </tr>\n",
       "    <tr>\n",
       "      <th>1971</th>\n",
       "      <td>1972</td>\n",
       "      <td>0.391074</td>\n",
       "      <td>0.449625</td>\n",
       "      <td>0.825175</td>\n",
       "    </tr>\n",
       "    <tr>\n",
       "      <th>1972</th>\n",
       "      <td>1973</td>\n",
       "      <td>0.391197</td>\n",
       "      <td>0.446952</td>\n",
       "      <td>0.825175</td>\n",
       "    </tr>\n",
       "    <tr>\n",
       "      <th>1973</th>\n",
       "      <td>1974</td>\n",
       "      <td>0.391107</td>\n",
       "      <td>0.447367</td>\n",
       "      <td>0.818182</td>\n",
       "    </tr>\n",
       "    <tr>\n",
       "      <th>1974</th>\n",
       "      <td>1975</td>\n",
       "      <td>0.391073</td>\n",
       "      <td>0.449401</td>\n",
       "      <td>0.825175</td>\n",
       "    </tr>\n",
       "    <tr>\n",
       "      <th>1975</th>\n",
       "      <td>1976</td>\n",
       "      <td>0.391168</td>\n",
       "      <td>0.447323</td>\n",
       "      <td>0.825175</td>\n",
       "    </tr>\n",
       "    <tr>\n",
       "      <th>1976</th>\n",
       "      <td>1977</td>\n",
       "      <td>0.391055</td>\n",
       "      <td>0.446858</td>\n",
       "      <td>0.825175</td>\n",
       "    </tr>\n",
       "    <tr>\n",
       "      <th>1977</th>\n",
       "      <td>1978</td>\n",
       "      <td>0.391114</td>\n",
       "      <td>0.449985</td>\n",
       "      <td>0.825175</td>\n",
       "    </tr>\n",
       "    <tr>\n",
       "      <th>1978</th>\n",
       "      <td>1979</td>\n",
       "      <td>0.391251</td>\n",
       "      <td>0.447791</td>\n",
       "      <td>0.825175</td>\n",
       "    </tr>\n",
       "    <tr>\n",
       "      <th>1979</th>\n",
       "      <td>1980</td>\n",
       "      <td>0.391040</td>\n",
       "      <td>0.446046</td>\n",
       "      <td>0.818182</td>\n",
       "    </tr>\n",
       "    <tr>\n",
       "      <th>1980</th>\n",
       "      <td>1981</td>\n",
       "      <td>0.391354</td>\n",
       "      <td>0.450696</td>\n",
       "      <td>0.825175</td>\n",
       "    </tr>\n",
       "    <tr>\n",
       "      <th>1981</th>\n",
       "      <td>1982</td>\n",
       "      <td>0.391309</td>\n",
       "      <td>0.448800</td>\n",
       "      <td>0.825175</td>\n",
       "    </tr>\n",
       "    <tr>\n",
       "      <th>1982</th>\n",
       "      <td>1983</td>\n",
       "      <td>0.391069</td>\n",
       "      <td>0.445354</td>\n",
       "      <td>0.825175</td>\n",
       "    </tr>\n",
       "    <tr>\n",
       "      <th>1983</th>\n",
       "      <td>1984</td>\n",
       "      <td>0.391450</td>\n",
       "      <td>0.449970</td>\n",
       "      <td>0.825175</td>\n",
       "    </tr>\n",
       "    <tr>\n",
       "      <th>1984</th>\n",
       "      <td>1985</td>\n",
       "      <td>0.391248</td>\n",
       "      <td>0.449591</td>\n",
       "      <td>0.825175</td>\n",
       "    </tr>\n",
       "    <tr>\n",
       "      <th>1985</th>\n",
       "      <td>1986</td>\n",
       "      <td>0.391147</td>\n",
       "      <td>0.445611</td>\n",
       "      <td>0.818182</td>\n",
       "    </tr>\n",
       "    <tr>\n",
       "      <th>1986</th>\n",
       "      <td>1987</td>\n",
       "      <td>0.391402</td>\n",
       "      <td>0.448912</td>\n",
       "      <td>0.825175</td>\n",
       "    </tr>\n",
       "    <tr>\n",
       "      <th>1987</th>\n",
       "      <td>1988</td>\n",
       "      <td>0.391074</td>\n",
       "      <td>0.449598</td>\n",
       "      <td>0.825175</td>\n",
       "    </tr>\n",
       "    <tr>\n",
       "      <th>1988</th>\n",
       "      <td>1989</td>\n",
       "      <td>0.391171</td>\n",
       "      <td>0.446012</td>\n",
       "      <td>0.832168</td>\n",
       "    </tr>\n",
       "    <tr>\n",
       "      <th>1989</th>\n",
       "      <td>1990</td>\n",
       "      <td>0.391158</td>\n",
       "      <td>0.447193</td>\n",
       "      <td>0.818182</td>\n",
       "    </tr>\n",
       "    <tr>\n",
       "      <th>1990</th>\n",
       "      <td>1991</td>\n",
       "      <td>0.391016</td>\n",
       "      <td>0.450195</td>\n",
       "      <td>0.825175</td>\n",
       "    </tr>\n",
       "    <tr>\n",
       "      <th>1991</th>\n",
       "      <td>1992</td>\n",
       "      <td>0.391152</td>\n",
       "      <td>0.448294</td>\n",
       "      <td>0.825175</td>\n",
       "    </tr>\n",
       "    <tr>\n",
       "      <th>1992</th>\n",
       "      <td>1993</td>\n",
       "      <td>0.391000</td>\n",
       "      <td>0.446701</td>\n",
       "      <td>0.832168</td>\n",
       "    </tr>\n",
       "    <tr>\n",
       "      <th>1993</th>\n",
       "      <td>1994</td>\n",
       "      <td>0.391085</td>\n",
       "      <td>0.448920</td>\n",
       "      <td>0.825175</td>\n",
       "    </tr>\n",
       "    <tr>\n",
       "      <th>1994</th>\n",
       "      <td>1995</td>\n",
       "      <td>0.391039</td>\n",
       "      <td>0.448789</td>\n",
       "      <td>0.825175</td>\n",
       "    </tr>\n",
       "    <tr>\n",
       "      <th>1995</th>\n",
       "      <td>1996</td>\n",
       "      <td>0.391001</td>\n",
       "      <td>0.447426</td>\n",
       "      <td>0.825175</td>\n",
       "    </tr>\n",
       "    <tr>\n",
       "      <th>1996</th>\n",
       "      <td>1997</td>\n",
       "      <td>0.390994</td>\n",
       "      <td>0.447844</td>\n",
       "      <td>0.825175</td>\n",
       "    </tr>\n",
       "    <tr>\n",
       "      <th>1997</th>\n",
       "      <td>1998</td>\n",
       "      <td>0.391016</td>\n",
       "      <td>0.447691</td>\n",
       "      <td>0.825175</td>\n",
       "    </tr>\n",
       "    <tr>\n",
       "      <th>1998</th>\n",
       "      <td>1999</td>\n",
       "      <td>0.391041</td>\n",
       "      <td>0.447037</td>\n",
       "      <td>0.825175</td>\n",
       "    </tr>\n",
       "  </tbody>\n",
       "</table>\n",
       "<p>1999 rows × 4 columns</p>\n",
       "</div>"
      ],
      "text/plain": [
       "      epoch  train_loss  test_loss  accuracy\n",
       "0         1    0.422678   0.421971  0.818182\n",
       "1         2    0.422592   0.422097  0.818182\n",
       "2         3    0.422538   0.421897  0.825175\n",
       "3         4    0.422463   0.421973  0.825175\n",
       "4         5    0.422402   0.422468  0.818182\n",
       "5         6    0.422333   0.422724  0.818182\n",
       "6         7    0.422285   0.422597  0.818182\n",
       "7         8    0.422241   0.421639  0.825175\n",
       "8         9    0.422171   0.421346  0.825175\n",
       "9        10    0.422132   0.422109  0.825175\n",
       "10       11    0.422033   0.422855  0.818182\n",
       "11       12    0.421979   0.422687  0.825175\n",
       "12       13    0.421912   0.422396  0.825175\n",
       "13       14    0.421842   0.421689  0.825175\n",
       "14       15    0.421797   0.421520  0.825175\n",
       "15       16    0.421742   0.421991  0.825175\n",
       "16       17    0.421666   0.422462  0.825175\n",
       "17       18    0.421607   0.422471  0.825175\n",
       "18       19    0.421557   0.422457  0.825175\n",
       "19       20    0.421503   0.421719  0.825175\n",
       "20       21    0.421446   0.421186  0.825175\n",
       "21       22    0.421407   0.421650  0.825175\n",
       "22       23    0.421321   0.422556  0.825175\n",
       "23       24    0.421264   0.422668  0.825175\n",
       "24       25    0.421198   0.422369  0.825175\n",
       "25       26    0.421147   0.422492  0.825175\n",
       "26       27    0.421070   0.422881  0.825175\n",
       "27       28    0.421116   0.421694  0.832168\n",
       "28       29    0.421016   0.420978  0.839161\n",
       "29       30    0.420997   0.422165  0.825175\n",
       "...     ...         ...        ...       ...\n",
       "1969   1970    0.391117   0.447406  0.825175\n",
       "1970   1971    0.391120   0.447682  0.825175\n",
       "1971   1972    0.391074   0.449625  0.825175\n",
       "1972   1973    0.391197   0.446952  0.825175\n",
       "1973   1974    0.391107   0.447367  0.818182\n",
       "1974   1975    0.391073   0.449401  0.825175\n",
       "1975   1976    0.391168   0.447323  0.825175\n",
       "1976   1977    0.391055   0.446858  0.825175\n",
       "1977   1978    0.391114   0.449985  0.825175\n",
       "1978   1979    0.391251   0.447791  0.825175\n",
       "1979   1980    0.391040   0.446046  0.818182\n",
       "1980   1981    0.391354   0.450696  0.825175\n",
       "1981   1982    0.391309   0.448800  0.825175\n",
       "1982   1983    0.391069   0.445354  0.825175\n",
       "1983   1984    0.391450   0.449970  0.825175\n",
       "1984   1985    0.391248   0.449591  0.825175\n",
       "1985   1986    0.391147   0.445611  0.818182\n",
       "1986   1987    0.391402   0.448912  0.825175\n",
       "1987   1988    0.391074   0.449598  0.825175\n",
       "1988   1989    0.391171   0.446012  0.832168\n",
       "1989   1990    0.391158   0.447193  0.818182\n",
       "1990   1991    0.391016   0.450195  0.825175\n",
       "1991   1992    0.391152   0.448294  0.825175\n",
       "1992   1993    0.391000   0.446701  0.832168\n",
       "1993   1994    0.391085   0.448920  0.825175\n",
       "1994   1995    0.391039   0.448789  0.825175\n",
       "1995   1996    0.391001   0.447426  0.825175\n",
       "1996   1997    0.390994   0.447844  0.825175\n",
       "1997   1998    0.391016   0.447691  0.825175\n",
       "1998   1999    0.391041   0.447037  0.825175\n",
       "\n",
       "[1999 rows x 4 columns]"
      ]
     },
     "execution_count": 87,
     "metadata": {},
     "output_type": "execute_result"
    }
   ],
   "source": [
    "df_epochs_data"
   ]
  },
  {
   "cell_type": "code",
   "execution_count": 88,
   "metadata": {
    "ExecuteTime": {
     "end_time": "2019-04-19T19:21:03.104295Z",
     "start_time": "2019-04-19T19:21:01.541464Z"
    }
   },
   "outputs": [
    {
     "data": {
      "image/png": "[encoded data removed]",
      "text/plain": [
       "<matplotlib.figure.Figure at 0x2a101d857f0>"
      ]
     },
     "metadata": {
      "needs_background": "light"
     },
     "output_type": "display_data"
    }
   ],
   "source": [
    "f, (ax1, ax2) = plt.subplots(1, 2, figsize=(12, 4))\n",
    "\n",
    "df_epochs_data[[\"train_loss\", \"test_loss\"]].plot(ax=ax1)\n",
    "df_epochs_data[[\"accuracy\"]].plot(ax=ax2)\n",
    "plt.ylim(ymin=0.5)\n",
    "\n",
    "plt.show()"
   ]
  },
  {
   "cell_type": "code",
   "execution_count": null,
   "metadata": {
    "collapsed": true
   },
   "outputs": [],
   "source": []
  },
  {
   "cell_type": "markdown",
   "metadata": {},
   "source": [
    "# CNN (Classifier) model using PyTorch"
   ]
  },
  {
   "cell_type": "code",
   "execution_count": 146,
   "metadata": {
    "ExecuteTime": {
     "end_time": "2019-04-21T22:27:21.423638Z",
     "start_time": "2019-04-21T22:27:21.366807Z"
    },
    "collapsed": true
   },
   "outputs": [],
   "source": [
    "import torch\n",
    "import torchvision\n",
    "import torchvision.transforms as transforms"
   ]
  },
  {
   "cell_type": "code",
   "execution_count": 147,
   "metadata": {
    "ExecuteTime": {
     "end_time": "2019-04-21T22:27:27.974369Z",
     "start_time": "2019-04-21T22:27:22.162581Z"
    }
   },
   "outputs": [
    {
     "name": "stdout",
     "output_type": "stream",
     "text": [
      "Files already downloaded and verified\n"
     ]
    }
   ],
   "source": [
    "# Downloading the train dataset\n",
    "train_dataset = torchvision.datasets.CIFAR10(root='./datasets',\n",
    "                                        train=True,\n",
    "                                        download=True,\n",
    "                                        transform=transforms.ToTensor())"
   ]
  },
  {
   "cell_type": "code",
   "execution_count": 148,
   "metadata": {
    "ExecuteTime": {
     "end_time": "2019-04-21T22:27:28.022126Z",
     "start_time": "2019-04-21T22:27:27.974369Z"
    }
   },
   "outputs": [
    {
     "data": {
      "text/plain": [
       "Dataset CIFAR10\n",
       "    Number of datapoints: 50000\n",
       "    Split: train\n",
       "    Root Location: ./datasets\n",
       "    Transforms (if any): ToTensor()\n",
       "    Target Transforms (if any): None"
      ]
     },
     "execution_count": 148,
     "metadata": {},
     "output_type": "execute_result"
    }
   ],
   "source": [
    "train_dataset # total images 50,000"
   ]
  },
  {
   "cell_type": "markdown",
   "metadata": {},
   "source": [
    "In Real word it is a common practice to feed in the data in neural network in batches. PyTorch Makes it simple by providing iterators over the datasets. using the torch.utils.Dataloader class"
   ]
  },
  {
   "cell_type": "code",
   "execution_count": 153,
   "metadata": {
    "ExecuteTime": {
     "end_time": "2019-04-21T22:30:08.115601Z",
     "start_time": "2019-04-21T22:30:08.084359Z"
    },
    "collapsed": true
   },
   "outputs": [],
   "source": [
    "trainloader = torch.utils.data.DataLoader(dataset, # specily the dataset we want iterat eover\n",
    "                                         batch_size=8, # Batch size is set to 8 here. defalut is 1\n",
    "                                         shuffle=True,\n",
    "                                         num_workers=2) # Use 2 subprocesses for data loading"
   ]
  },
  {
   "cell_type": "code",
   "execution_count": 154,
   "metadata": {
    "ExecuteTime": {
     "end_time": "2019-04-21T22:30:13.693325Z",
     "start_time": "2019-04-21T22:30:09.279747Z"
    }
   },
   "outputs": [
    {
     "name": "stdout",
     "output_type": "stream",
     "text": [
      "Files already downloaded and verified\n"
     ]
    }
   ],
   "source": [
    "# Downloading the test dataset\n",
    "testset = torchvision.datasets.CIFAR10(root='./datasets',\n",
    "                                       train=False,\n",
    "                                       download=True,\n",
    "                                       transform=transforms.ToTensor())"
   ]
  },
  {
   "cell_type": "code",
   "execution_count": 155,
   "metadata": {
    "ExecuteTime": {
     "end_time": "2019-04-21T22:30:13.743296Z",
     "start_time": "2019-04-21T22:30:13.696424Z"
    }
   },
   "outputs": [
    {
     "data": {
      "text/plain": [
       "Dataset CIFAR10\n",
       "    Number of datapoints: 10000\n",
       "    Split: test\n",
       "    Root Location: ./datasets\n",
       "    Transforms (if any): ToTensor()\n",
       "    Target Transforms (if any): None"
      ]
     },
     "execution_count": 155,
     "metadata": {},
     "output_type": "execute_result"
    }
   ],
   "source": [
    "testset # total images - 10,000"
   ]
  },
  {
   "cell_type": "code",
   "execution_count": 156,
   "metadata": {
    "ExecuteTime": {
     "end_time": "2019-04-21T22:30:39.912773Z",
     "start_time": "2019-04-21T22:30:39.897151Z"
    },
    "collapsed": true
   },
   "outputs": [],
   "source": [
    "# we need dataloader for our test dataset as well\n",
    "testloader = torch.utils.data.DataLoader(testset,\n",
    "                                         batch_size=8,\n",
    "                                         shuffle=False,\n",
    "                                         num_workers=2)"
   ]
  },
  {
   "cell_type": "code",
   "execution_count": 157,
   "metadata": {
    "ExecuteTime": {
     "end_time": "2019-04-21T22:31:06.672799Z",
     "start_time": "2019-04-21T22:31:06.656806Z"
    },
    "collapsed": true
   },
   "outputs": [],
   "source": [
    "import matplotlib.pyplot as plt\n",
    "import numpy as np"
   ]
  },
  {
   "cell_type": "code",
   "execution_count": 158,
   "metadata": {
    "ExecuteTime": {
     "end_time": "2019-04-21T22:33:25.834280Z",
     "start_time": "2019-04-21T22:32:44.708290Z"
    },
    "collapsed": true
   },
   "outputs": [],
   "source": [
    "images_batch, labels_batch = iter(trainloader).next() # loading a batch of images by calling .next() on ouu tranloader \n",
    "                                                 # we will feed images batch into our neural network"
   ]
  },
  {
   "cell_type": "code",
   "execution_count": 160,
   "metadata": {
    "ExecuteTime": {
     "end_time": "2019-04-21T22:34:02.391119Z",
     "start_time": "2019-04-21T22:34:02.344218Z"
    }
   },
   "outputs": [
    {
     "data": {
      "text/plain": [
       "torch.Size([8, 3, 32, 32])"
      ]
     },
     "execution_count": 160,
     "metadata": {},
     "output_type": "execute_result"
    }
   ],
   "source": [
    "images_batch.shape # batch sizw =8 , channels = 3 (colored images) , image pixels = 32 X 32"
   ]
  },
  {
   "cell_type": "code",
   "execution_count": 161,
   "metadata": {
    "ExecuteTime": {
     "end_time": "2019-04-21T22:34:56.136420Z",
     "start_time": "2019-04-21T22:34:56.025459Z"
    }
   },
   "outputs": [
    {
     "data": {
      "text/plain": [
       "tensor([[[[0.4588, 0.4627, 0.4627,  ..., 0.3294, 0.3255, 0.3216],\n",
       "          [0.4510, 0.4392, 0.4314,  ..., 0.3255, 0.3137, 0.3137],\n",
       "          [0.4196, 0.4039, 0.4039,  ..., 0.3216, 0.3098, 0.3098],\n",
       "          ...,\n",
       "          [0.7137, 0.6588, 0.5725,  ..., 0.5451, 0.5137, 0.5137],\n",
       "          [0.6824, 0.6431, 0.5686,  ..., 0.5255, 0.5294, 0.4902],\n",
       "          [0.5961, 0.5882, 0.5765,  ..., 0.4863, 0.4863, 0.4824]],\n",
       "\n",
       "         [[0.4471, 0.4510, 0.4510,  ..., 0.3176, 0.3137, 0.3098],\n",
       "          [0.4392, 0.4275, 0.4196,  ..., 0.3137, 0.3020, 0.3020],\n",
       "          [0.4078, 0.3922, 0.3922,  ..., 0.3098, 0.2980, 0.2980],\n",
       "          ...,\n",
       "          [0.5725, 0.5373, 0.4667,  ..., 0.4549, 0.4235, 0.4353],\n",
       "          [0.5451, 0.5176, 0.4549,  ..., 0.4000, 0.4000, 0.3765],\n",
       "          [0.4863, 0.4824, 0.4745,  ..., 0.4000, 0.4039, 0.4118]],\n",
       "\n",
       "         [[0.5098, 0.5176, 0.5176,  ..., 0.4039, 0.3961, 0.3922],\n",
       "          [0.5137, 0.5020, 0.4941,  ..., 0.3961, 0.3843, 0.3843],\n",
       "          [0.4941, 0.4745, 0.4745,  ..., 0.3922, 0.3804, 0.3804],\n",
       "          ...,\n",
       "          [0.4588, 0.4392, 0.3804,  ..., 0.3765, 0.3451, 0.3490],\n",
       "          [0.4353, 0.4157, 0.3647,  ..., 0.2941, 0.2863, 0.2588],\n",
       "          [0.4000, 0.3961, 0.3922,  ..., 0.3373, 0.3412, 0.3412]]],\n",
       "\n",
       "\n",
       "        [[[0.2627, 0.3647, 0.3529,  ..., 0.2392, 0.2275, 0.2353],\n",
       "          [0.2275, 0.3020, 0.3412,  ..., 0.2667, 0.2549, 0.2353],\n",
       "          [0.2235, 0.2549, 0.3255,  ..., 0.2784, 0.2588, 0.2235],\n",
       "          ...,\n",
       "          [0.4745, 0.4510, 0.4588,  ..., 0.4510, 0.4510, 0.4471],\n",
       "          [0.4824, 0.4588, 0.4627,  ..., 0.4706, 0.4667, 0.4627],\n",
       "          [0.4745, 0.4627, 0.4706,  ..., 0.4627, 0.4627, 0.4706]],\n",
       "\n",
       "         [[0.3333, 0.4353, 0.4196,  ..., 0.3098, 0.2941, 0.2980],\n",
       "          [0.2863, 0.3569, 0.3961,  ..., 0.3255, 0.3098, 0.3059],\n",
       "          [0.2745, 0.3020, 0.3725,  ..., 0.3216, 0.3059, 0.2980],\n",
       "          ...,\n",
       "          [0.4039, 0.4118, 0.4235,  ..., 0.4314, 0.4353, 0.4431],\n",
       "          [0.4039, 0.4078, 0.4157,  ..., 0.4353, 0.4392, 0.4392],\n",
       "          [0.3843, 0.4000, 0.4078,  ..., 0.4235, 0.4275, 0.4314]],\n",
       "\n",
       "         [[0.2784, 0.3882, 0.3804,  ..., 0.3020, 0.2902, 0.2941],\n",
       "          [0.2275, 0.3137, 0.3569,  ..., 0.3176, 0.3098, 0.2863],\n",
       "          [0.2157, 0.2510, 0.3294,  ..., 0.3059, 0.2824, 0.2549],\n",
       "          ...,\n",
       "          [0.1098, 0.1098, 0.1098,  ..., 0.0784, 0.0863, 0.0863],\n",
       "          [0.1176, 0.1098, 0.1098,  ..., 0.0902, 0.0941, 0.0980],\n",
       "          [0.1059, 0.1098, 0.1098,  ..., 0.0863, 0.0863, 0.1020]]],\n",
       "\n",
       "\n",
       "        [[[0.4235, 0.3529, 0.3373,  ..., 0.4157, 0.3059, 0.5137],\n",
       "          [0.6314, 0.5098, 0.4157,  ..., 0.4667, 0.4235, 0.4196],\n",
       "          [0.8314, 0.4863, 0.4471,  ..., 0.4627, 0.4078, 0.2275],\n",
       "          ...,\n",
       "          [0.6118, 0.6235, 0.6471,  ..., 0.4745, 0.4863, 0.5098],\n",
       "          [0.6118, 0.6196, 0.6392,  ..., 0.5059, 0.5059, 0.5176],\n",
       "          [0.6157, 0.6314, 0.6627,  ..., 0.5216, 0.5216, 0.5451]],\n",
       "\n",
       "         [[0.4078, 0.3412, 0.3373,  ..., 0.4000, 0.2980, 0.5451],\n",
       "          [0.5961, 0.4824, 0.4157,  ..., 0.4314, 0.4118, 0.4510],\n",
       "          [0.8078, 0.4706, 0.4549,  ..., 0.4314, 0.4000, 0.2706],\n",
       "          ...,\n",
       "          [0.6510, 0.6627, 0.6824,  ..., 0.5216, 0.5333, 0.5569],\n",
       "          [0.6510, 0.6588, 0.6784,  ..., 0.5529, 0.5529, 0.5647],\n",
       "          [0.6510, 0.6706, 0.7020,  ..., 0.5686, 0.5725, 0.5922]],\n",
       "\n",
       "         [[0.2784, 0.2471, 0.2706,  ..., 0.3490, 0.1961, 0.4863],\n",
       "          [0.4706, 0.3765, 0.3255,  ..., 0.3843, 0.3373, 0.5059],\n",
       "          [0.7176, 0.3529, 0.3333,  ..., 0.3569, 0.4118, 0.5137],\n",
       "          ...,\n",
       "          [0.6157, 0.6275, 0.6471,  ..., 0.5216, 0.5255, 0.5412],\n",
       "          [0.6196, 0.6275, 0.6471,  ..., 0.5529, 0.5451, 0.5490],\n",
       "          [0.6275, 0.6471, 0.6745,  ..., 0.5686, 0.5647, 0.5804]]],\n",
       "\n",
       "\n",
       "        ...,\n",
       "\n",
       "\n",
       "        [[[0.4706, 0.6235, 0.4627,  ..., 0.7686, 0.7059, 0.7333],\n",
       "          [0.5412, 0.6549, 0.6471,  ..., 0.5686, 0.5137, 0.6392],\n",
       "          [0.4667, 0.6235, 0.5529,  ..., 0.4549, 0.4510, 0.5373],\n",
       "          ...,\n",
       "          [0.9020, 0.5373, 0.2627,  ..., 0.9608, 0.9843, 0.9725],\n",
       "          [0.3961, 0.2118, 0.0980,  ..., 0.9647, 0.9569, 0.9882],\n",
       "          [0.0471, 0.0745, 0.1176,  ..., 0.8980, 0.8667, 0.9608]],\n",
       "\n",
       "         [[0.3137, 0.4471, 0.3137,  ..., 0.5882, 0.5373, 0.5765],\n",
       "          [0.3529, 0.4392, 0.4471,  ..., 0.3922, 0.3529, 0.5059],\n",
       "          [0.2941, 0.4353, 0.3765,  ..., 0.3059, 0.3098, 0.3882],\n",
       "          ...,\n",
       "          [0.7490, 0.4157, 0.1647,  ..., 0.8510, 0.8745, 0.8275],\n",
       "          [0.2941, 0.1333, 0.0471,  ..., 0.8549, 0.8392, 0.8471],\n",
       "          [0.0157, 0.0314, 0.0745,  ..., 0.7843, 0.7373, 0.8235]],\n",
       "\n",
       "         [[0.0980, 0.2000, 0.1451,  ..., 0.4196, 0.3686, 0.4039],\n",
       "          [0.1294, 0.2275, 0.2235,  ..., 0.2196, 0.1725, 0.3216],\n",
       "          [0.0980, 0.2510, 0.1843,  ..., 0.0980, 0.0980, 0.1804],\n",
       "          ...,\n",
       "          [0.5686, 0.2941, 0.0941,  ..., 0.6588, 0.6902, 0.6824],\n",
       "          [0.2078, 0.0824, 0.0275,  ..., 0.6706, 0.6588, 0.6784],\n",
       "          [0.0078, 0.0118, 0.0275,  ..., 0.6000, 0.5529, 0.6392]]],\n",
       "\n",
       "\n",
       "        [[[0.2588, 0.2706, 0.3569,  ..., 0.0941, 0.0863, 0.0706],\n",
       "          [0.2667, 0.2745, 0.3569,  ..., 0.0667, 0.0588, 0.0510],\n",
       "          [0.2392, 0.2745, 0.3647,  ..., 0.0863, 0.0784, 0.0706],\n",
       "          ...,\n",
       "          [0.3176, 0.2667, 0.2275,  ..., 0.6588, 0.6667, 0.6706],\n",
       "          [0.4078, 0.2784, 0.2275,  ..., 0.6902, 0.7137, 0.6549],\n",
       "          [0.5333, 0.3804, 0.3490,  ..., 0.6549, 0.6941, 0.6980]],\n",
       "\n",
       "         [[0.2824, 0.2980, 0.3882,  ..., 0.0980, 0.0902, 0.0706],\n",
       "          [0.2980, 0.2980, 0.3725,  ..., 0.0824, 0.0745, 0.0627],\n",
       "          [0.2784, 0.2902, 0.3686,  ..., 0.0902, 0.0824, 0.0706],\n",
       "          ...,\n",
       "          [0.3529, 0.2510, 0.1725,  ..., 0.6039, 0.6196, 0.6314],\n",
       "          [0.4196, 0.2784, 0.2157,  ..., 0.6431, 0.6706, 0.6275],\n",
       "          [0.5451, 0.4157, 0.3961,  ..., 0.6157, 0.6627, 0.6784]],\n",
       "\n",
       "         [[0.2039, 0.2235, 0.3098,  ..., 0.0510, 0.0510, 0.0471],\n",
       "          [0.2314, 0.2353, 0.3137,  ..., 0.0549, 0.0510, 0.0588],\n",
       "          [0.2157, 0.2314, 0.3137,  ..., 0.0627, 0.0627, 0.0706],\n",
       "          ...,\n",
       "          [0.3373, 0.1961, 0.0588,  ..., 0.5451, 0.5725, 0.6078],\n",
       "          [0.4118, 0.2235, 0.1255,  ..., 0.6196, 0.6510, 0.6118],\n",
       "          [0.5451, 0.3569, 0.3216,  ..., 0.5961, 0.6392, 0.6510]]],\n",
       "\n",
       "\n",
       "        [[[0.7373, 0.7255, 0.7294,  ..., 0.8157, 0.8157, 0.8314],\n",
       "          [0.7333, 0.7137, 0.7333,  ..., 0.8314, 0.8392, 0.8510],\n",
       "          [0.7294, 0.7176, 0.6235,  ..., 0.8314, 0.8431, 0.8627],\n",
       "          ...,\n",
       "          [1.0000, 0.9961, 1.0000,  ..., 0.9765, 0.9922, 1.0000],\n",
       "          [1.0000, 1.0000, 1.0000,  ..., 0.9961, 1.0000, 1.0000],\n",
       "          [1.0000, 0.9882, 0.9882,  ..., 0.9882, 0.9882, 1.0000]],\n",
       "\n",
       "         [[0.8275, 0.8039, 0.8039,  ..., 0.8706, 0.8745, 0.8941],\n",
       "          [0.8431, 0.8353, 0.7686,  ..., 0.8784, 0.8824, 0.8980],\n",
       "          [0.8392, 0.8275, 0.6000,  ..., 0.8745, 0.8745, 0.8941],\n",
       "          ...,\n",
       "          [1.0000, 0.9961, 0.9961,  ..., 1.0000, 0.9961, 1.0000],\n",
       "          [1.0000, 1.0000, 1.0000,  ..., 1.0000, 1.0000, 1.0000],\n",
       "          [1.0000, 0.9882, 0.9882,  ..., 0.9843, 0.9882, 1.0000]],\n",
       "\n",
       "         [[0.9294, 0.9059, 0.9098,  ..., 0.9569, 0.9647, 0.9804],\n",
       "          [0.9529, 0.9294, 0.8706,  ..., 0.9765, 0.9765, 0.9882],\n",
       "          [0.9451, 0.8980, 0.6510,  ..., 0.9647, 0.9569, 0.9725],\n",
       "          ...,\n",
       "          [1.0000, 0.9961, 0.9961,  ..., 1.0000, 0.9961, 1.0000],\n",
       "          [1.0000, 1.0000, 1.0000,  ..., 1.0000, 0.9961, 1.0000],\n",
       "          [1.0000, 0.9882, 0.9922,  ..., 0.9765, 0.9804, 1.0000]]]])"
      ]
     },
     "execution_count": 161,
     "metadata": {},
     "output_type": "execute_result"
    }
   ],
   "source": [
    "images_batch"
   ]
  },
  {
   "cell_type": "code",
   "execution_count": 162,
   "metadata": {
    "ExecuteTime": {
     "end_time": "2019-04-21T22:36:11.810694Z",
     "start_time": "2019-04-21T22:36:11.791712Z"
    }
   },
   "outputs": [
    {
     "data": {
      "text/plain": [
       "tensor([9, 0, 1, 8, 1, 6, 6, 0])"
      ]
     },
     "execution_count": 162,
     "metadata": {},
     "output_type": "execute_result"
    }
   ],
   "source": [
    "labels_batch # labels for each image in the batch of 8"
   ]
  },
  {
   "cell_type": "code",
   "execution_count": 163,
   "metadata": {
    "ExecuteTime": {
     "end_time": "2019-04-21T22:40:23.662984Z",
     "start_time": "2019-04-21T22:40:23.636998Z"
    },
    "collapsed": true
   },
   "outputs": [],
   "source": [
    "img = torchvision.utils.make_grid(images_batch) # To view the images on matplot lib we have to reshape it little bit.\n",
    "                                                 #we use torchvision utility to make a grid of images in this batch\n",
    "# The make_grid function places the 8 images side by side and 2 pixel padding between the images and the edges of the grid"
   ]
  },
  {
   "cell_type": "code",
   "execution_count": 164,
   "metadata": {
    "ExecuteTime": {
     "end_time": "2019-04-21T22:40:24.748897Z",
     "start_time": "2019-04-21T22:40:24.729914Z"
    }
   },
   "outputs": [
    {
     "data": {
      "text/plain": [
       "torch.Size([3, 36, 274])"
      ]
     },
     "execution_count": 164,
     "metadata": {},
     "output_type": "execute_result"
    }
   ],
   "source": [
    "img.shape  # Channel,height, width"
   ]
  },
  {
   "cell_type": "code",
   "execution_count": 165,
   "metadata": {
    "ExecuteTime": {
     "end_time": "2019-04-21T22:41:21.353622Z",
     "start_time": "2019-04-21T22:41:21.328636Z"
    }
   },
   "outputs": [
    {
     "data": {
      "text/plain": [
       "torch.Size([36, 274, 3])"
      ]
     },
     "execution_count": 165,
     "metadata": {},
     "output_type": "execute_result"
    }
   ],
   "source": [
    "np.transpose(img, (1,2,0)).shape"
   ]
  },
  {
   "cell_type": "code",
   "execution_count": 166,
   "metadata": {
    "ExecuteTime": {
     "end_time": "2019-04-21T22:41:50.193378Z",
     "start_time": "2019-04-21T22:41:48.641365Z"
    }
   },
   "outputs": [
    {
     "data": {
      "image/png": "[encoded data removed]",
      "text/plain": [
       "<matplotlib.figure.Figure at 0x2a103811080>"
      ]
     },
     "metadata": {
      "needs_background": "light"
     },
     "output_type": "display_data"
    }
   ],
   "source": [
    "plt.imshow(np.transpose(img, (1,2,0)))\n",
    "plt.axis('off')\n",
    "plt.show()"
   ]
  },
  {
   "cell_type": "code",
   "execution_count": 167,
   "metadata": {
    "ExecuteTime": {
     "end_time": "2019-04-21T22:42:02.772674Z",
     "start_time": "2019-04-21T22:42:02.761680Z"
    },
    "collapsed": true
   },
   "outputs": [],
   "source": [
    "import torch.nn as nn"
   ]
  },
  {
   "cell_type": "markdown",
   "metadata": {},
   "source": [
    "## Creating and Defining the Convolutional Neural Network"
   ]
  },
  {
   "cell_type": "code",
   "execution_count": 168,
   "metadata": {
    "ExecuteTime": {
     "end_time": "2019-04-21T22:42:07.107795Z",
     "start_time": "2019-04-21T22:42:07.091809Z"
    },
    "collapsed": true
   },
   "outputs": [],
   "source": [
    "labels = ('plane', 'car', 'bird', 'cat','deer', \n",
    "          'dog', 'frog', 'horse', 'ship', 'truck') # Create a tuple containing the unique labels in our dataset"
   ]
  },
  {
   "cell_type": "code",
   "execution_count": 169,
   "metadata": {
    "ExecuteTime": {
     "end_time": "2019-04-21T22:42:10.062875Z",
     "start_time": "2019-04-21T22:42:10.041878Z"
    }
   },
   "outputs": [
    {
     "data": {
      "text/plain": [
       "10"
      ]
     },
     "execution_count": 169,
     "metadata": {},
     "output_type": "execute_result"
    }
   ],
   "source": [
    "len(labels)"
   ]
  },
  {
   "cell_type": "code",
   "execution_count": 170,
   "metadata": {
    "ExecuteTime": {
     "end_time": "2019-04-21T22:42:11.337171Z",
     "start_time": "2019-04-21T22:42:11.317182Z"
    },
    "collapsed": true
   },
   "outputs": [],
   "source": [
    "in_size = 3 # number of channels\n",
    "hid1_size = 16 # number of channels output by the first convolutional layer = 16\n",
    "hid2_size = 32\n",
    "out_size = len(labels) # Number of lablesin our dataset\n",
    "k_conv_size = 5 # here we are using 5 X 5 convolutional kernel"
   ]
  },
  {
   "cell_type": "code",
   "execution_count": 171,
   "metadata": {
    "ExecuteTime": {
     "end_time": "2019-04-21T22:44:31.161122Z",
     "start_time": "2019-04-21T22:44:30.970713Z"
    },
    "collapsed": true
   },
   "outputs": [],
   "source": [
    "class ConvNetwork(nn.Module):\n",
    "    \n",
    "    def __init__(self):\n",
    "        super(ConvNetwork, self).__init__()\n",
    "        \n",
    "        self.layer1 = nn.Sequential(\n",
    "            nn.Conv2d(in_size, hid1_size, k_conv_size ),\n",
    "            nn.BatchNorm2d(hid1_size),\n",
    "            nn.ReLU(),\n",
    "            nn.MaxPool2d(kernel_size=2))\n",
    "        \n",
    "        self.layer2 = nn.Sequential(\n",
    "            nn.Conv2d(hid1_size, hid2_size, k_conv_size),\n",
    "            nn.BatchNorm2d(hid2_size),\n",
    "            nn.ReLU(),\n",
    "            nn.MaxPool2d(kernel_size=2))\n",
    "        \n",
    "        self.fc = nn.Linear(hid2_size *  k_conv_size * k_conv_size, out_size)\n",
    "        \n",
    "    def forward(self, x):\n",
    "        out = self.layer1(x)\n",
    "        out = self.layer2(out)\n",
    "        out = out.reshape(out.size(0), -1)\n",
    "        out = self.fc(out)\n",
    "        \n",
    "        return out"
   ]
  },
  {
   "cell_type": "code",
   "execution_count": 121,
   "metadata": {
    "ExecuteTime": {
     "end_time": "2019-04-20T00:51:15.570408Z",
     "start_time": "2019-04-20T00:51:15.539171Z"
    },
    "collapsed": true
   },
   "outputs": [],
   "source": [
    "conv_model = ConvNetwork()"
   ]
  },
  {
   "cell_type": "code",
   "execution_count": 139,
   "metadata": {
    "ExecuteTime": {
     "end_time": "2019-04-20T01:37:21.752949Z",
     "start_time": "2019-04-20T01:37:21.706077Z"
    },
    "collapsed": true
   },
   "outputs": [],
   "source": [
    "learning_rate = 0.001\n",
    "\n",
    "criterion = nn.CrossEntropyLoss()\n",
    "\n",
    "optimizer = torch.optim.Adam(conv_model.parameters(), \n",
    "                             lr=learning_rate)"
   ]
  },
  {
   "cell_type": "code",
   "execution_count": 140,
   "metadata": {
    "ExecuteTime": {
     "end_time": "2019-04-20T01:49:59.741059Z",
     "start_time": "2019-04-20T01:37:34.030997Z"
    }
   },
   "outputs": [
    {
     "name": "stdout",
     "output_type": "stream",
     "text": [
      "Epoch [1/5], Step [2000/6250], Loss: 1.5918\n",
      "Epoch [1/5], Step [4000/6250], Loss: 0.9874\n",
      "Epoch [1/5], Step [6000/6250], Loss: 1.3807\n",
      "Epoch [2/5], Step [2000/6250], Loss: 1.1876\n",
      "Epoch [2/5], Step [4000/6250], Loss: 0.8660\n",
      "Epoch [2/5], Step [6000/6250], Loss: 1.2735\n",
      "Epoch [3/5], Step [2000/6250], Loss: 1.1196\n",
      "Epoch [3/5], Step [4000/6250], Loss: 0.6710\n",
      "Epoch [3/5], Step [6000/6250], Loss: 1.2140\n",
      "Epoch [4/5], Step [2000/6250], Loss: 1.0940\n",
      "Epoch [4/5], Step [4000/6250], Loss: 0.6045\n",
      "Epoch [4/5], Step [6000/6250], Loss: 1.0129\n",
      "Epoch [5/5], Step [2000/6250], Loss: 1.0695\n",
      "Epoch [5/5], Step [4000/6250], Loss: 0.5280\n",
      "Epoch [5/5], Step [6000/6250], Loss: 0.8984\n"
     ]
    }
   ],
   "source": [
    "total_step = len(dataloader)\n",
    "num_epochs = 5\n",
    "\n",
    "\n",
    "for epoch in range(num_epochs):\n",
    "    for i, (images, labels) in enumerate(dataloader):\n",
    "        \n",
    "        outputs = conv_model(images)\n",
    "        loss = criterion(outputs, labels)\n",
    "        \n",
    "        optimizer.zero_grad()\n",
    "        loss.backward()\n",
    "        optimizer.step()\n",
    "        \n",
    "        if (i+1) % 2000 == 0:\n",
    "            print ('Epoch [{}/{}], Step [{}/{}], Loss: {:.4f}' \n",
    "                   .format(epoch+1, num_epochs, i+1, total_step, loss.item()))\n"
   ]
  },
  {
   "cell_type": "code",
   "execution_count": 141,
   "metadata": {
    "ExecuteTime": {
     "end_time": "2019-04-20T01:52:17.930556Z",
     "start_time": "2019-04-20T01:51:13.313234Z"
    }
   },
   "outputs": [
    {
     "name": "stdout",
     "output_type": "stream",
     "text": [
      "Accuracy of the model on the 10000 test images: 64.564%\n"
     ]
    }
   ],
   "source": [
    "conv_model.eval()  \n",
    "with torch.no_grad():\n",
    "    correct = 0\n",
    "    total = 0\n",
    "    for images, labels in dataloader:\n",
    "\n",
    "        outputs = conv_model(images)\n",
    "        _, predicted = torch.max(outputs.data, 1)\n",
    "        total += labels.size(0)\n",
    "        correct += (predicted == labels).sum().item()\n",
    "\n",
    "    print('Accuracy of the model on the 10000 test images: {}%'\\\n",
    "          .format(100 * correct / total))\n"
   ]
  },
  {
   "cell_type": "code",
   "execution_count": 142,
   "metadata": {
    "ExecuteTime": {
     "end_time": "2019-04-20T01:52:17.946164Z",
     "start_time": "2019-04-20T01:52:17.930556Z"
    }
   },
   "outputs": [
    {
     "data": {
      "text/plain": [
       "32282"
      ]
     },
     "execution_count": 142,
     "metadata": {},
     "output_type": "execute_result"
    }
   ],
   "source": [
    "correct"
   ]
  },
  {
   "cell_type": "code",
   "execution_count": 143,
   "metadata": {
    "ExecuteTime": {
     "end_time": "2019-04-20T01:52:17.961787Z",
     "start_time": "2019-04-20T01:52:17.946164Z"
    }
   },
   "outputs": [
    {
     "data": {
      "text/plain": [
       "50000"
      ]
     },
     "execution_count": 143,
     "metadata": {},
     "output_type": "execute_result"
    }
   ],
   "source": [
    "total"
   ]
  },
  {
   "cell_type": "code",
   "execution_count": 144,
   "metadata": {
    "ExecuteTime": {
     "end_time": "2019-04-20T01:52:17.977414Z",
     "start_time": "2019-04-20T01:52:17.961787Z"
    }
   },
   "outputs": [
    {
     "data": {
      "text/plain": [
       "tensor([0, 1, 8, 8, 5, 9, 1, 9])"
      ]
     },
     "execution_count": 144,
     "metadata": {},
     "output_type": "execute_result"
    }
   ],
   "source": [
    "predicted"
   ]
  },
  {
   "cell_type": "code",
   "execution_count": 145,
   "metadata": {
    "ExecuteTime": {
     "end_time": "2019-04-20T01:52:17.993039Z",
     "start_time": "2019-04-20T01:52:17.977414Z"
    }
   },
   "outputs": [
    {
     "data": {
      "text/plain": [
       "tensor([0, 1, 0, 2, 6, 9, 1, 1])"
      ]
     },
     "execution_count": 145,
     "metadata": {},
     "output_type": "execute_result"
    }
   ],
   "source": [
    "labels"
   ]
  },
  {
   "cell_type": "code",
   "execution_count": null,
   "metadata": {
    "collapsed": true
   },
   "outputs": [],
   "source": []
  },
  {
   "cell_type": "code",
   "execution_count": null,
   "metadata": {
    "collapsed": true
   },
   "outputs": [],
   "source": []
  },
  {
   "cell_type": "code",
   "execution_count": null,
   "metadata": {
    "collapsed": true
   },
   "outputs": [],
   "source": []
  },
  {
   "cell_type": "code",
   "execution_count": null,
   "metadata": {
    "collapsed": true
   },
   "outputs": [],
   "source": []
  },
  {
   "cell_type": "code",
   "execution_count": null,
   "metadata": {
    "collapsed": true
   },
   "outputs": [],
   "source": []
  },
  {
   "cell_type": "code",
   "execution_count": null,
   "metadata": {
    "collapsed": true
   },
   "outputs": [],
   "source": []
  }
 ],
 "metadata": {
  "kernelspec": {
   "display_name": "Python 3",
   "language": "python",
   "name": "python3"
  },
  "language_info": {
   "codemirror_mode": {
    "name": "ipython",
    "version": 3
   },
   "file_extension": ".py",
   "mimetype": "text/x-python",
   "name": "python",
   "nbconvert_exporter": "python",
   "pygments_lexer": "ipython3",
   "version": "3.6.4"
  },
  "toc": {
   "base_numbering": 1,
   "nav_menu": {},
   "number_sections": true,
   "sideBar": true,
   "skip_h1_title": false,
   "title_cell": "Table of Contents",
   "title_sidebar": "Contents",
   "toc_cell": false,
   "toc_position": {
    "height": "calc(100% - 180px)",
    "left": "10px",
    "top": "150px",
    "width": "277px"
   },
   "toc_section_display": true,
   "toc_window_display": true
  }
 },
 "nbformat": 4,
 "nbformat_minor": 2
}
