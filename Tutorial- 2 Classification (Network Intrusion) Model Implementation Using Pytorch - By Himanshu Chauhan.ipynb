{
 "cells": [
  {
   "cell_type": "code",
   "execution_count": 1,
   "metadata": {
    "ExecuteTime": {
     "end_time": "2019-04-19T19:23:33.149112Z",
     "start_time": "2019-04-19T19:22:54.870046Z"
    }
   },
   "outputs": [
    {
     "name": "stderr",
     "output_type": "stream",
     "text": [
      "C:\\Users\\Administrator\\Anaconda3\\lib\\site-packages\\h5py\\__init__.py:34: FutureWarning: Conversion of the second argument of issubdtype from `float` to `np.floating` is deprecated. In future, it will be treated as `np.float64 == np.dtype(float).type`.\n",
      "  from ._conv import register_converters as _register_converters\n",
      "Using TensorFlow backend.\n"
     ]
    }
   ],
   "source": [
    "import json\n",
    "import csv\n",
    "import pandas as pd\n",
    "import numpy as np\n",
    "import scipy as sci\n",
    "import keras\n",
    "\n",
    "from sklearn.model_selection import train_test_split\n",
    "import sklearn.feature_extraction.text as sk_text\n",
    "from sklearn.linear_model import LinearRegression\n",
    "from sklearn.linear_model import LogisticRegression\n",
    "from sklearn.naive_bayes import MultinomialNB\n",
    "from sklearn.svm import SVC\n",
    "from sklearn.neighbors import KNeighborsClassifier\n",
    "from sklearn import preprocessing\n",
    "from sklearn.metrics import mean_squared_error, r2_score\n",
    "from sklearn.metrics import accuracy_score, precision_score, f1_score\n",
    "from sklearn.metrics import roc_curve, auc\n",
    "from sklearn.metrics import confusion_matrix, classification_report\n",
    "import collections\n",
    "from sklearn import preprocessing\n",
    "import matplotlib.pyplot as plt\n",
    "import shutil\n",
    "import os\n",
    "from sklearn import metrics\n",
    "\n",
    "from keras.models import Sequential\n",
    "from keras import regularizers\n",
    "from keras.layers.core import Dense, Activation\n",
    "from keras.layers import Dropout, Flatten\n",
    "from keras.layers import Conv2D, MaxPooling2D\n",
    "from keras.callbacks import EarlyStopping, ModelCheckpoint\n",
    "import io\n",
    "import requests\n",
    "import tensorflow as tf\n",
    "from scipy import sparse\n"
   ]
  },
  {
   "cell_type": "code",
   "execution_count": 2,
   "metadata": {
    "ExecuteTime": {
     "end_time": "2019-04-19T19:28:34.449783Z",
     "start_time": "2019-04-19T19:28:33.746705Z"
    },
    "collapsed": true
   },
   "outputs": [],
   "source": [
    "# Convert a Pandas dataframe to the x,y inputs that TensorFlow needs\n",
    "import collections\n",
    "def to_xy(df, target):\n",
    "    result = []\n",
    "    for x in df.columns:\n",
    "        if x != target:\n",
    "            result.append(x)\n",
    "    # find out the type of the target column. \n",
    "    target_type = df[target].dtypes\n",
    "    target_type = target_type[0] if isinstance(target_type, collections.Sequence) else target_type\n",
    "    # Encode to int for classification, float otherwise. TensorFlow likes 32 bits.\n",
    "    if target_type in (np.int64, np.int32):\n",
    "        # Classification\n",
    "        dummies = pd.get_dummies(df[target])\n",
    "        return df[result].values.astype(np.float32), dummies.values.astype(np.float32)\n",
    "    else:\n",
    "        # Regression\n",
    "        return df[result].values.astype(np.float32), df[target].values.astype(np.float32)\n",
    "    \n",
    "# Plot a confusion matrix.\n",
    "# cm is the confusion matrix, names are the names of the classes.\n",
    "def plot_confusion_matrix(cm, names, title='Confusion matrix', cmap=plt.cm.Blues):\n",
    "    plt.imshow(cm, interpolation='nearest', cmap=cmap)\n",
    "    plt.title(title)\n",
    "    plt.colorbar()\n",
    "    tick_marks = np.arange(len(names))\n",
    "    plt.xticks(tick_marks, names, rotation=45)\n",
    "    plt.yticks(tick_marks, names)\n",
    "    plt.tight_layout()\n",
    "    plt.ylabel('True label')\n",
    "    plt.xlabel('Predicted label')\n",
    "# Plot an ROC. pred - the predictions, y - the expected output.\n",
    "def plot_roc(pred,y):\n",
    "    fpr, tpr, thresholds = roc_curve(y, pred)\n",
    "    roc_auc = auc(fpr, tpr)\n",
    "\n",
    "    plt.figure()\n",
    "    plt.plot(fpr, tpr, label='ROC curve (area = %0.2f)' % roc_auc)\n",
    "    plt.plot([0, 1], [0, 1], 'k--')\n",
    "    plt.xlim([0.0, 1.0])\n",
    "    plt.ylim([0.0, 1.05])\n",
    "    plt.xlabel('False Positive Rate')\n",
    "    plt.ylabel('True Positive Rate')\n",
    "    plt.title('Receiver Operating Characteristic (ROC)')\n",
    "    plt.legend(loc=\"lower right\")\n",
    "    plt.show()\n",
    "    "
   ]
  },
  {
   "cell_type": "code",
   "execution_count": 20,
   "metadata": {
    "ExecuteTime": {
     "end_time": "2019-04-19T22:46:04.112006Z",
     "start_time": "2019-04-19T22:46:04.002638Z"
    },
    "collapsed": true
   },
   "outputs": [],
   "source": [
    "# one-hot cooding of categorical columns\n",
    "\n",
    "def encode_text_dummy(df, name):\n",
    "    dummies = pd.get_dummies(df[name]).astype(np.float32)\n",
    "    for x in dummies.columns:\n",
    "        dummy_name = \"{}-{}\".format(name, x)\n",
    "        df[dummy_name] = dummies[x]\n",
    "    df.drop(name, axis=1, inplace=True)\n",
    "    \n",
    "\n",
    "#Function to normalize columns\n",
    "def normalize_numeric_minmax(df, name):\n",
    "    if(df[name].max() > 0):\n",
    "        df[name] = ((df[name] - df[name].min()) / (df[name].max() - df[name].min())).astype(np.float32)\n",
    "    else:\n",
    "        df[name] = df[name].astype(np.float32)"
   ]
  },
  {
   "cell_type": "markdown",
   "metadata": {},
   "source": [
    "# Loading and Preprocessing the dataset"
   ]
  },
  {
   "cell_type": "code",
   "execution_count": 5,
   "metadata": {
    "ExecuteTime": {
     "end_time": "2019-04-19T19:29:55.944091Z",
     "start_time": "2019-04-19T19:29:47.946124Z"
    },
    "collapsed": true
   },
   "outputs": [],
   "source": [
    "#Reading and Loading the data into network_df dataframe \n",
    "network_df= pd.read_csv('network_intrusion_data.csv')"
   ]
  },
  {
   "cell_type": "code",
   "execution_count": 6,
   "metadata": {
    "ExecuteTime": {
     "end_time": "2019-04-19T22:44:15.652434Z",
     "start_time": "2019-04-19T22:44:15.621189Z"
    }
   },
   "outputs": [
    {
     "data": {
      "text/plain": [
       "(494020, 42)"
      ]
     },
     "execution_count": 6,
     "metadata": {},
     "output_type": "execute_result"
    }
   ],
   "source": [
    "network_df.shape"
   ]
  },
  {
   "cell_type": "code",
   "execution_count": 7,
   "metadata": {
    "ExecuteTime": {
     "end_time": "2019-04-19T22:44:16.652364Z",
     "start_time": "2019-04-19T22:44:16.574246Z"
    },
    "collapsed": true
   },
   "outputs": [],
   "source": [
    "#Adding column headers to the data in the dataframe\n",
    "network_df.columns = [\n",
    "'duration',\n",
    "'protocol_type',\n",
    "'service',\n",
    "'flag',\n",
    "'src_bytes',\n",
    "'dst_bytes',\n",
    "'land',\n",
    "'wrong_fragment',\n",
    "'urgent',\n",
    "'hot',\n",
    "'num_failed_logins',\n",
    "'logged_in',\n",
    "'num_compromised',\n",
    "'root_shell',\n",
    "'su_attempted',\n",
    "'num_root',\n",
    "'num_file_creations',\n",
    "'num_shells',\n",
    "'num_access_files',\n",
    "'num_outbound_cmds',\n",
    "'is_host_login',\n",
    "'is_guest_login',\n",
    "'count',\n",
    "'srv_count',\n",
    "'serror_rate',\n",
    "'srv_serror_rate',\n",
    "'rerror_rate',\n",
    "'srv_rerror_rate',\n",
    "'same_srv_rate',\n",
    "'diff_srv_rate',\n",
    "'srv_diff_host_rate',\n",
    "'dst_host_count',\n",
    "'dst_host_srv_count',\n",
    "'dst_host_same_srv_rate',\n",
    "'dst_host_diff_srv_rate',\n",
    "'dst_host_same_src_port_rate',\n",
    "'dst_host_srv_diff_host_rate',\n",
    "'dst_host_serror_rate',\n",
    "'dst_host_srv_serror_rate',\n",
    "'dst_host_rerror_rate',\n",
    "'dst_host_srv_rerror_rate',\n",
    "'outcome'\n",
    "]"
   ]
  },
  {
   "cell_type": "code",
   "execution_count": 8,
   "metadata": {
    "ExecuteTime": {
     "end_time": "2019-04-19T22:44:19.075139Z",
     "start_time": "2019-04-19T22:44:18.559549Z"
    },
    "scrolled": true
   },
   "outputs": [
    {
     "data": {
      "text/html": [
       "<div>\n",
       "<style>\n",
       "    .dataframe thead tr:only-child th {\n",
       "        text-align: right;\n",
       "    }\n",
       "\n",
       "    .dataframe thead th {\n",
       "        text-align: left;\n",
       "    }\n",
       "\n",
       "    .dataframe tbody tr th {\n",
       "        vertical-align: top;\n",
       "    }\n",
       "</style>\n",
       "<table border=\"1\" class=\"dataframe\">\n",
       "  <thead>\n",
       "    <tr style=\"text-align: right;\">\n",
       "      <th></th>\n",
       "      <th>duration</th>\n",
       "      <th>protocol_type</th>\n",
       "      <th>service</th>\n",
       "      <th>flag</th>\n",
       "      <th>src_bytes</th>\n",
       "      <th>dst_bytes</th>\n",
       "      <th>land</th>\n",
       "      <th>wrong_fragment</th>\n",
       "      <th>urgent</th>\n",
       "      <th>hot</th>\n",
       "      <th>...</th>\n",
       "      <th>dst_host_srv_count</th>\n",
       "      <th>dst_host_same_srv_rate</th>\n",
       "      <th>dst_host_diff_srv_rate</th>\n",
       "      <th>dst_host_same_src_port_rate</th>\n",
       "      <th>dst_host_srv_diff_host_rate</th>\n",
       "      <th>dst_host_serror_rate</th>\n",
       "      <th>dst_host_srv_serror_rate</th>\n",
       "      <th>dst_host_rerror_rate</th>\n",
       "      <th>dst_host_srv_rerror_rate</th>\n",
       "      <th>outcome</th>\n",
       "    </tr>\n",
       "  </thead>\n",
       "  <tbody>\n",
       "    <tr>\n",
       "      <th>0</th>\n",
       "      <td>0</td>\n",
       "      <td>tcp</td>\n",
       "      <td>http</td>\n",
       "      <td>SF</td>\n",
       "      <td>239</td>\n",
       "      <td>486</td>\n",
       "      <td>0</td>\n",
       "      <td>0</td>\n",
       "      <td>0</td>\n",
       "      <td>0</td>\n",
       "      <td>...</td>\n",
       "      <td>19</td>\n",
       "      <td>1.0</td>\n",
       "      <td>0.0</td>\n",
       "      <td>0.05</td>\n",
       "      <td>0.00</td>\n",
       "      <td>0.00</td>\n",
       "      <td>0.00</td>\n",
       "      <td>0.00</td>\n",
       "      <td>0.0</td>\n",
       "      <td>normal.</td>\n",
       "    </tr>\n",
       "    <tr>\n",
       "      <th>1</th>\n",
       "      <td>0</td>\n",
       "      <td>tcp</td>\n",
       "      <td>http</td>\n",
       "      <td>SF</td>\n",
       "      <td>235</td>\n",
       "      <td>1337</td>\n",
       "      <td>0</td>\n",
       "      <td>0</td>\n",
       "      <td>0</td>\n",
       "      <td>0</td>\n",
       "      <td>...</td>\n",
       "      <td>29</td>\n",
       "      <td>1.0</td>\n",
       "      <td>0.0</td>\n",
       "      <td>0.03</td>\n",
       "      <td>0.00</td>\n",
       "      <td>0.00</td>\n",
       "      <td>0.00</td>\n",
       "      <td>0.00</td>\n",
       "      <td>0.0</td>\n",
       "      <td>normal.</td>\n",
       "    </tr>\n",
       "    <tr>\n",
       "      <th>2</th>\n",
       "      <td>0</td>\n",
       "      <td>tcp</td>\n",
       "      <td>http</td>\n",
       "      <td>SF</td>\n",
       "      <td>219</td>\n",
       "      <td>1337</td>\n",
       "      <td>0</td>\n",
       "      <td>0</td>\n",
       "      <td>0</td>\n",
       "      <td>0</td>\n",
       "      <td>...</td>\n",
       "      <td>39</td>\n",
       "      <td>1.0</td>\n",
       "      <td>0.0</td>\n",
       "      <td>0.03</td>\n",
       "      <td>0.00</td>\n",
       "      <td>0.00</td>\n",
       "      <td>0.00</td>\n",
       "      <td>0.00</td>\n",
       "      <td>0.0</td>\n",
       "      <td>normal.</td>\n",
       "    </tr>\n",
       "    <tr>\n",
       "      <th>3</th>\n",
       "      <td>0</td>\n",
       "      <td>tcp</td>\n",
       "      <td>http</td>\n",
       "      <td>SF</td>\n",
       "      <td>217</td>\n",
       "      <td>2032</td>\n",
       "      <td>0</td>\n",
       "      <td>0</td>\n",
       "      <td>0</td>\n",
       "      <td>0</td>\n",
       "      <td>...</td>\n",
       "      <td>49</td>\n",
       "      <td>1.0</td>\n",
       "      <td>0.0</td>\n",
       "      <td>0.02</td>\n",
       "      <td>0.00</td>\n",
       "      <td>0.00</td>\n",
       "      <td>0.00</td>\n",
       "      <td>0.00</td>\n",
       "      <td>0.0</td>\n",
       "      <td>normal.</td>\n",
       "    </tr>\n",
       "    <tr>\n",
       "      <th>4</th>\n",
       "      <td>0</td>\n",
       "      <td>tcp</td>\n",
       "      <td>http</td>\n",
       "      <td>SF</td>\n",
       "      <td>217</td>\n",
       "      <td>2032</td>\n",
       "      <td>0</td>\n",
       "      <td>0</td>\n",
       "      <td>0</td>\n",
       "      <td>0</td>\n",
       "      <td>...</td>\n",
       "      <td>59</td>\n",
       "      <td>1.0</td>\n",
       "      <td>0.0</td>\n",
       "      <td>0.02</td>\n",
       "      <td>0.00</td>\n",
       "      <td>0.00</td>\n",
       "      <td>0.00</td>\n",
       "      <td>0.00</td>\n",
       "      <td>0.0</td>\n",
       "      <td>normal.</td>\n",
       "    </tr>\n",
       "    <tr>\n",
       "      <th>5</th>\n",
       "      <td>0</td>\n",
       "      <td>tcp</td>\n",
       "      <td>http</td>\n",
       "      <td>SF</td>\n",
       "      <td>212</td>\n",
       "      <td>1940</td>\n",
       "      <td>0</td>\n",
       "      <td>0</td>\n",
       "      <td>0</td>\n",
       "      <td>0</td>\n",
       "      <td>...</td>\n",
       "      <td>69</td>\n",
       "      <td>1.0</td>\n",
       "      <td>0.0</td>\n",
       "      <td>1.00</td>\n",
       "      <td>0.04</td>\n",
       "      <td>0.00</td>\n",
       "      <td>0.00</td>\n",
       "      <td>0.00</td>\n",
       "      <td>0.0</td>\n",
       "      <td>normal.</td>\n",
       "    </tr>\n",
       "    <tr>\n",
       "      <th>6</th>\n",
       "      <td>0</td>\n",
       "      <td>tcp</td>\n",
       "      <td>http</td>\n",
       "      <td>SF</td>\n",
       "      <td>159</td>\n",
       "      <td>4087</td>\n",
       "      <td>0</td>\n",
       "      <td>0</td>\n",
       "      <td>0</td>\n",
       "      <td>0</td>\n",
       "      <td>...</td>\n",
       "      <td>79</td>\n",
       "      <td>1.0</td>\n",
       "      <td>0.0</td>\n",
       "      <td>0.09</td>\n",
       "      <td>0.04</td>\n",
       "      <td>0.00</td>\n",
       "      <td>0.00</td>\n",
       "      <td>0.00</td>\n",
       "      <td>0.0</td>\n",
       "      <td>normal.</td>\n",
       "    </tr>\n",
       "    <tr>\n",
       "      <th>7</th>\n",
       "      <td>0</td>\n",
       "      <td>tcp</td>\n",
       "      <td>http</td>\n",
       "      <td>SF</td>\n",
       "      <td>210</td>\n",
       "      <td>151</td>\n",
       "      <td>0</td>\n",
       "      <td>0</td>\n",
       "      <td>0</td>\n",
       "      <td>0</td>\n",
       "      <td>...</td>\n",
       "      <td>89</td>\n",
       "      <td>1.0</td>\n",
       "      <td>0.0</td>\n",
       "      <td>0.12</td>\n",
       "      <td>0.04</td>\n",
       "      <td>0.00</td>\n",
       "      <td>0.00</td>\n",
       "      <td>0.00</td>\n",
       "      <td>0.0</td>\n",
       "      <td>normal.</td>\n",
       "    </tr>\n",
       "    <tr>\n",
       "      <th>8</th>\n",
       "      <td>0</td>\n",
       "      <td>tcp</td>\n",
       "      <td>http</td>\n",
       "      <td>SF</td>\n",
       "      <td>212</td>\n",
       "      <td>786</td>\n",
       "      <td>0</td>\n",
       "      <td>0</td>\n",
       "      <td>0</td>\n",
       "      <td>1</td>\n",
       "      <td>...</td>\n",
       "      <td>99</td>\n",
       "      <td>1.0</td>\n",
       "      <td>0.0</td>\n",
       "      <td>0.12</td>\n",
       "      <td>0.05</td>\n",
       "      <td>0.00</td>\n",
       "      <td>0.00</td>\n",
       "      <td>0.00</td>\n",
       "      <td>0.0</td>\n",
       "      <td>normal.</td>\n",
       "    </tr>\n",
       "    <tr>\n",
       "      <th>9</th>\n",
       "      <td>0</td>\n",
       "      <td>tcp</td>\n",
       "      <td>http</td>\n",
       "      <td>SF</td>\n",
       "      <td>210</td>\n",
       "      <td>624</td>\n",
       "      <td>0</td>\n",
       "      <td>0</td>\n",
       "      <td>0</td>\n",
       "      <td>0</td>\n",
       "      <td>...</td>\n",
       "      <td>109</td>\n",
       "      <td>1.0</td>\n",
       "      <td>0.0</td>\n",
       "      <td>0.06</td>\n",
       "      <td>0.05</td>\n",
       "      <td>0.00</td>\n",
       "      <td>0.00</td>\n",
       "      <td>0.00</td>\n",
       "      <td>0.0</td>\n",
       "      <td>normal.</td>\n",
       "    </tr>\n",
       "    <tr>\n",
       "      <th>10</th>\n",
       "      <td>0</td>\n",
       "      <td>tcp</td>\n",
       "      <td>http</td>\n",
       "      <td>SF</td>\n",
       "      <td>177</td>\n",
       "      <td>1985</td>\n",
       "      <td>0</td>\n",
       "      <td>0</td>\n",
       "      <td>0</td>\n",
       "      <td>0</td>\n",
       "      <td>...</td>\n",
       "      <td>119</td>\n",
       "      <td>1.0</td>\n",
       "      <td>0.0</td>\n",
       "      <td>0.04</td>\n",
       "      <td>0.04</td>\n",
       "      <td>0.00</td>\n",
       "      <td>0.00</td>\n",
       "      <td>0.00</td>\n",
       "      <td>0.0</td>\n",
       "      <td>normal.</td>\n",
       "    </tr>\n",
       "    <tr>\n",
       "      <th>11</th>\n",
       "      <td>0</td>\n",
       "      <td>tcp</td>\n",
       "      <td>http</td>\n",
       "      <td>SF</td>\n",
       "      <td>222</td>\n",
       "      <td>773</td>\n",
       "      <td>0</td>\n",
       "      <td>0</td>\n",
       "      <td>0</td>\n",
       "      <td>0</td>\n",
       "      <td>...</td>\n",
       "      <td>129</td>\n",
       "      <td>1.0</td>\n",
       "      <td>0.0</td>\n",
       "      <td>0.03</td>\n",
       "      <td>0.04</td>\n",
       "      <td>0.00</td>\n",
       "      <td>0.00</td>\n",
       "      <td>0.00</td>\n",
       "      <td>0.0</td>\n",
       "      <td>normal.</td>\n",
       "    </tr>\n",
       "    <tr>\n",
       "      <th>12</th>\n",
       "      <td>0</td>\n",
       "      <td>tcp</td>\n",
       "      <td>http</td>\n",
       "      <td>SF</td>\n",
       "      <td>256</td>\n",
       "      <td>1169</td>\n",
       "      <td>0</td>\n",
       "      <td>0</td>\n",
       "      <td>0</td>\n",
       "      <td>0</td>\n",
       "      <td>...</td>\n",
       "      <td>139</td>\n",
       "      <td>1.0</td>\n",
       "      <td>0.0</td>\n",
       "      <td>0.25</td>\n",
       "      <td>0.04</td>\n",
       "      <td>0.00</td>\n",
       "      <td>0.00</td>\n",
       "      <td>0.00</td>\n",
       "      <td>0.0</td>\n",
       "      <td>normal.</td>\n",
       "    </tr>\n",
       "    <tr>\n",
       "      <th>13</th>\n",
       "      <td>0</td>\n",
       "      <td>tcp</td>\n",
       "      <td>http</td>\n",
       "      <td>SF</td>\n",
       "      <td>241</td>\n",
       "      <td>259</td>\n",
       "      <td>0</td>\n",
       "      <td>0</td>\n",
       "      <td>0</td>\n",
       "      <td>0</td>\n",
       "      <td>...</td>\n",
       "      <td>149</td>\n",
       "      <td>1.0</td>\n",
       "      <td>0.0</td>\n",
       "      <td>0.07</td>\n",
       "      <td>0.04</td>\n",
       "      <td>0.00</td>\n",
       "      <td>0.00</td>\n",
       "      <td>0.00</td>\n",
       "      <td>0.0</td>\n",
       "      <td>normal.</td>\n",
       "    </tr>\n",
       "    <tr>\n",
       "      <th>14</th>\n",
       "      <td>0</td>\n",
       "      <td>tcp</td>\n",
       "      <td>http</td>\n",
       "      <td>SF</td>\n",
       "      <td>260</td>\n",
       "      <td>1837</td>\n",
       "      <td>0</td>\n",
       "      <td>0</td>\n",
       "      <td>0</td>\n",
       "      <td>0</td>\n",
       "      <td>...</td>\n",
       "      <td>159</td>\n",
       "      <td>1.0</td>\n",
       "      <td>0.0</td>\n",
       "      <td>0.04</td>\n",
       "      <td>0.04</td>\n",
       "      <td>0.00</td>\n",
       "      <td>0.00</td>\n",
       "      <td>0.00</td>\n",
       "      <td>0.0</td>\n",
       "      <td>normal.</td>\n",
       "    </tr>\n",
       "    <tr>\n",
       "      <th>15</th>\n",
       "      <td>0</td>\n",
       "      <td>tcp</td>\n",
       "      <td>http</td>\n",
       "      <td>SF</td>\n",
       "      <td>241</td>\n",
       "      <td>261</td>\n",
       "      <td>0</td>\n",
       "      <td>0</td>\n",
       "      <td>0</td>\n",
       "      <td>0</td>\n",
       "      <td>...</td>\n",
       "      <td>169</td>\n",
       "      <td>1.0</td>\n",
       "      <td>0.0</td>\n",
       "      <td>0.03</td>\n",
       "      <td>0.04</td>\n",
       "      <td>0.00</td>\n",
       "      <td>0.00</td>\n",
       "      <td>0.00</td>\n",
       "      <td>0.0</td>\n",
       "      <td>normal.</td>\n",
       "    </tr>\n",
       "    <tr>\n",
       "      <th>16</th>\n",
       "      <td>0</td>\n",
       "      <td>tcp</td>\n",
       "      <td>http</td>\n",
       "      <td>SF</td>\n",
       "      <td>257</td>\n",
       "      <td>818</td>\n",
       "      <td>0</td>\n",
       "      <td>0</td>\n",
       "      <td>0</td>\n",
       "      <td>0</td>\n",
       "      <td>...</td>\n",
       "      <td>179</td>\n",
       "      <td>1.0</td>\n",
       "      <td>0.0</td>\n",
       "      <td>0.02</td>\n",
       "      <td>0.03</td>\n",
       "      <td>0.00</td>\n",
       "      <td>0.00</td>\n",
       "      <td>0.00</td>\n",
       "      <td>0.0</td>\n",
       "      <td>normal.</td>\n",
       "    </tr>\n",
       "    <tr>\n",
       "      <th>17</th>\n",
       "      <td>0</td>\n",
       "      <td>tcp</td>\n",
       "      <td>http</td>\n",
       "      <td>SF</td>\n",
       "      <td>233</td>\n",
       "      <td>255</td>\n",
       "      <td>0</td>\n",
       "      <td>0</td>\n",
       "      <td>0</td>\n",
       "      <td>0</td>\n",
       "      <td>...</td>\n",
       "      <td>189</td>\n",
       "      <td>1.0</td>\n",
       "      <td>0.0</td>\n",
       "      <td>0.02</td>\n",
       "      <td>0.03</td>\n",
       "      <td>0.00</td>\n",
       "      <td>0.00</td>\n",
       "      <td>0.00</td>\n",
       "      <td>0.0</td>\n",
       "      <td>normal.</td>\n",
       "    </tr>\n",
       "    <tr>\n",
       "      <th>18</th>\n",
       "      <td>0</td>\n",
       "      <td>tcp</td>\n",
       "      <td>http</td>\n",
       "      <td>SF</td>\n",
       "      <td>233</td>\n",
       "      <td>504</td>\n",
       "      <td>0</td>\n",
       "      <td>0</td>\n",
       "      <td>0</td>\n",
       "      <td>0</td>\n",
       "      <td>...</td>\n",
       "      <td>199</td>\n",
       "      <td>1.0</td>\n",
       "      <td>0.0</td>\n",
       "      <td>0.02</td>\n",
       "      <td>0.03</td>\n",
       "      <td>0.00</td>\n",
       "      <td>0.00</td>\n",
       "      <td>0.00</td>\n",
       "      <td>0.0</td>\n",
       "      <td>normal.</td>\n",
       "    </tr>\n",
       "    <tr>\n",
       "      <th>19</th>\n",
       "      <td>0</td>\n",
       "      <td>tcp</td>\n",
       "      <td>http</td>\n",
       "      <td>SF</td>\n",
       "      <td>256</td>\n",
       "      <td>1273</td>\n",
       "      <td>0</td>\n",
       "      <td>0</td>\n",
       "      <td>0</td>\n",
       "      <td>0</td>\n",
       "      <td>...</td>\n",
       "      <td>209</td>\n",
       "      <td>1.0</td>\n",
       "      <td>0.0</td>\n",
       "      <td>0.01</td>\n",
       "      <td>0.03</td>\n",
       "      <td>0.00</td>\n",
       "      <td>0.00</td>\n",
       "      <td>0.00</td>\n",
       "      <td>0.0</td>\n",
       "      <td>normal.</td>\n",
       "    </tr>\n",
       "    <tr>\n",
       "      <th>20</th>\n",
       "      <td>0</td>\n",
       "      <td>tcp</td>\n",
       "      <td>http</td>\n",
       "      <td>SF</td>\n",
       "      <td>234</td>\n",
       "      <td>255</td>\n",
       "      <td>0</td>\n",
       "      <td>0</td>\n",
       "      <td>0</td>\n",
       "      <td>0</td>\n",
       "      <td>...</td>\n",
       "      <td>219</td>\n",
       "      <td>1.0</td>\n",
       "      <td>0.0</td>\n",
       "      <td>0.01</td>\n",
       "      <td>0.03</td>\n",
       "      <td>0.00</td>\n",
       "      <td>0.00</td>\n",
       "      <td>0.00</td>\n",
       "      <td>0.0</td>\n",
       "      <td>normal.</td>\n",
       "    </tr>\n",
       "    <tr>\n",
       "      <th>21</th>\n",
       "      <td>0</td>\n",
       "      <td>tcp</td>\n",
       "      <td>http</td>\n",
       "      <td>SF</td>\n",
       "      <td>241</td>\n",
       "      <td>259</td>\n",
       "      <td>0</td>\n",
       "      <td>0</td>\n",
       "      <td>0</td>\n",
       "      <td>0</td>\n",
       "      <td>...</td>\n",
       "      <td>229</td>\n",
       "      <td>1.0</td>\n",
       "      <td>0.0</td>\n",
       "      <td>0.01</td>\n",
       "      <td>0.03</td>\n",
       "      <td>0.00</td>\n",
       "      <td>0.00</td>\n",
       "      <td>0.00</td>\n",
       "      <td>0.0</td>\n",
       "      <td>normal.</td>\n",
       "    </tr>\n",
       "    <tr>\n",
       "      <th>22</th>\n",
       "      <td>0</td>\n",
       "      <td>tcp</td>\n",
       "      <td>http</td>\n",
       "      <td>SF</td>\n",
       "      <td>239</td>\n",
       "      <td>968</td>\n",
       "      <td>0</td>\n",
       "      <td>0</td>\n",
       "      <td>0</td>\n",
       "      <td>0</td>\n",
       "      <td>...</td>\n",
       "      <td>239</td>\n",
       "      <td>1.0</td>\n",
       "      <td>0.0</td>\n",
       "      <td>0.33</td>\n",
       "      <td>0.03</td>\n",
       "      <td>0.00</td>\n",
       "      <td>0.00</td>\n",
       "      <td>0.00</td>\n",
       "      <td>0.0</td>\n",
       "      <td>normal.</td>\n",
       "    </tr>\n",
       "    <tr>\n",
       "      <th>23</th>\n",
       "      <td>0</td>\n",
       "      <td>tcp</td>\n",
       "      <td>http</td>\n",
       "      <td>SF</td>\n",
       "      <td>245</td>\n",
       "      <td>1919</td>\n",
       "      <td>0</td>\n",
       "      <td>0</td>\n",
       "      <td>0</td>\n",
       "      <td>0</td>\n",
       "      <td>...</td>\n",
       "      <td>249</td>\n",
       "      <td>1.0</td>\n",
       "      <td>0.0</td>\n",
       "      <td>0.08</td>\n",
       "      <td>0.03</td>\n",
       "      <td>0.00</td>\n",
       "      <td>0.00</td>\n",
       "      <td>0.00</td>\n",
       "      <td>0.0</td>\n",
       "      <td>normal.</td>\n",
       "    </tr>\n",
       "    <tr>\n",
       "      <th>24</th>\n",
       "      <td>0</td>\n",
       "      <td>tcp</td>\n",
       "      <td>http</td>\n",
       "      <td>SF</td>\n",
       "      <td>248</td>\n",
       "      <td>2129</td>\n",
       "      <td>0</td>\n",
       "      <td>0</td>\n",
       "      <td>0</td>\n",
       "      <td>0</td>\n",
       "      <td>...</td>\n",
       "      <td>255</td>\n",
       "      <td>1.0</td>\n",
       "      <td>0.0</td>\n",
       "      <td>0.04</td>\n",
       "      <td>0.03</td>\n",
       "      <td>0.00</td>\n",
       "      <td>0.00</td>\n",
       "      <td>0.00</td>\n",
       "      <td>0.0</td>\n",
       "      <td>normal.</td>\n",
       "    </tr>\n",
       "    <tr>\n",
       "      <th>25</th>\n",
       "      <td>0</td>\n",
       "      <td>tcp</td>\n",
       "      <td>http</td>\n",
       "      <td>SF</td>\n",
       "      <td>354</td>\n",
       "      <td>1752</td>\n",
       "      <td>0</td>\n",
       "      <td>0</td>\n",
       "      <td>0</td>\n",
       "      <td>0</td>\n",
       "      <td>...</td>\n",
       "      <td>255</td>\n",
       "      <td>1.0</td>\n",
       "      <td>0.0</td>\n",
       "      <td>0.20</td>\n",
       "      <td>0.04</td>\n",
       "      <td>0.00</td>\n",
       "      <td>0.00</td>\n",
       "      <td>0.00</td>\n",
       "      <td>0.0</td>\n",
       "      <td>normal.</td>\n",
       "    </tr>\n",
       "    <tr>\n",
       "      <th>26</th>\n",
       "      <td>0</td>\n",
       "      <td>tcp</td>\n",
       "      <td>http</td>\n",
       "      <td>SF</td>\n",
       "      <td>193</td>\n",
       "      <td>3991</td>\n",
       "      <td>0</td>\n",
       "      <td>0</td>\n",
       "      <td>0</td>\n",
       "      <td>0</td>\n",
       "      <td>...</td>\n",
       "      <td>255</td>\n",
       "      <td>1.0</td>\n",
       "      <td>0.0</td>\n",
       "      <td>1.00</td>\n",
       "      <td>0.05</td>\n",
       "      <td>0.00</td>\n",
       "      <td>0.00</td>\n",
       "      <td>0.00</td>\n",
       "      <td>0.0</td>\n",
       "      <td>normal.</td>\n",
       "    </tr>\n",
       "    <tr>\n",
       "      <th>27</th>\n",
       "      <td>0</td>\n",
       "      <td>tcp</td>\n",
       "      <td>http</td>\n",
       "      <td>SF</td>\n",
       "      <td>214</td>\n",
       "      <td>14959</td>\n",
       "      <td>0</td>\n",
       "      <td>0</td>\n",
       "      <td>0</td>\n",
       "      <td>0</td>\n",
       "      <td>...</td>\n",
       "      <td>255</td>\n",
       "      <td>1.0</td>\n",
       "      <td>0.0</td>\n",
       "      <td>0.09</td>\n",
       "      <td>0.05</td>\n",
       "      <td>0.00</td>\n",
       "      <td>0.00</td>\n",
       "      <td>0.00</td>\n",
       "      <td>0.0</td>\n",
       "      <td>normal.</td>\n",
       "    </tr>\n",
       "    <tr>\n",
       "      <th>28</th>\n",
       "      <td>0</td>\n",
       "      <td>tcp</td>\n",
       "      <td>http</td>\n",
       "      <td>SF</td>\n",
       "      <td>212</td>\n",
       "      <td>1309</td>\n",
       "      <td>0</td>\n",
       "      <td>0</td>\n",
       "      <td>0</td>\n",
       "      <td>0</td>\n",
       "      <td>...</td>\n",
       "      <td>255</td>\n",
       "      <td>1.0</td>\n",
       "      <td>0.0</td>\n",
       "      <td>0.05</td>\n",
       "      <td>0.05</td>\n",
       "      <td>0.00</td>\n",
       "      <td>0.00</td>\n",
       "      <td>0.00</td>\n",
       "      <td>0.0</td>\n",
       "      <td>normal.</td>\n",
       "    </tr>\n",
       "    <tr>\n",
       "      <th>29</th>\n",
       "      <td>0</td>\n",
       "      <td>tcp</td>\n",
       "      <td>http</td>\n",
       "      <td>SF</td>\n",
       "      <td>215</td>\n",
       "      <td>3670</td>\n",
       "      <td>0</td>\n",
       "      <td>0</td>\n",
       "      <td>0</td>\n",
       "      <td>0</td>\n",
       "      <td>...</td>\n",
       "      <td>255</td>\n",
       "      <td>1.0</td>\n",
       "      <td>0.0</td>\n",
       "      <td>0.03</td>\n",
       "      <td>0.05</td>\n",
       "      <td>0.00</td>\n",
       "      <td>0.00</td>\n",
       "      <td>0.00</td>\n",
       "      <td>0.0</td>\n",
       "      <td>normal.</td>\n",
       "    </tr>\n",
       "    <tr>\n",
       "      <th>...</th>\n",
       "      <td>...</td>\n",
       "      <td>...</td>\n",
       "      <td>...</td>\n",
       "      <td>...</td>\n",
       "      <td>...</td>\n",
       "      <td>...</td>\n",
       "      <td>...</td>\n",
       "      <td>...</td>\n",
       "      <td>...</td>\n",
       "      <td>...</td>\n",
       "      <td>...</td>\n",
       "      <td>...</td>\n",
       "      <td>...</td>\n",
       "      <td>...</td>\n",
       "      <td>...</td>\n",
       "      <td>...</td>\n",
       "      <td>...</td>\n",
       "      <td>...</td>\n",
       "      <td>...</td>\n",
       "      <td>...</td>\n",
       "      <td>...</td>\n",
       "    </tr>\n",
       "    <tr>\n",
       "      <th>493990</th>\n",
       "      <td>0</td>\n",
       "      <td>tcp</td>\n",
       "      <td>http</td>\n",
       "      <td>SF</td>\n",
       "      <td>296</td>\n",
       "      <td>617</td>\n",
       "      <td>0</td>\n",
       "      <td>0</td>\n",
       "      <td>0</td>\n",
       "      <td>0</td>\n",
       "      <td>...</td>\n",
       "      <td>255</td>\n",
       "      <td>1.0</td>\n",
       "      <td>0.0</td>\n",
       "      <td>0.04</td>\n",
       "      <td>0.10</td>\n",
       "      <td>0.00</td>\n",
       "      <td>0.00</td>\n",
       "      <td>0.00</td>\n",
       "      <td>0.0</td>\n",
       "      <td>normal.</td>\n",
       "    </tr>\n",
       "    <tr>\n",
       "      <th>493991</th>\n",
       "      <td>0</td>\n",
       "      <td>tcp</td>\n",
       "      <td>http</td>\n",
       "      <td>SF</td>\n",
       "      <td>294</td>\n",
       "      <td>29288</td>\n",
       "      <td>0</td>\n",
       "      <td>0</td>\n",
       "      <td>0</td>\n",
       "      <td>0</td>\n",
       "      <td>...</td>\n",
       "      <td>255</td>\n",
       "      <td>1.0</td>\n",
       "      <td>0.0</td>\n",
       "      <td>0.03</td>\n",
       "      <td>0.10</td>\n",
       "      <td>0.00</td>\n",
       "      <td>0.00</td>\n",
       "      <td>0.00</td>\n",
       "      <td>0.0</td>\n",
       "      <td>normal.</td>\n",
       "    </tr>\n",
       "    <tr>\n",
       "      <th>493992</th>\n",
       "      <td>0</td>\n",
       "      <td>tcp</td>\n",
       "      <td>http</td>\n",
       "      <td>SF</td>\n",
       "      <td>285</td>\n",
       "      <td>34557</td>\n",
       "      <td>0</td>\n",
       "      <td>0</td>\n",
       "      <td>0</td>\n",
       "      <td>0</td>\n",
       "      <td>...</td>\n",
       "      <td>255</td>\n",
       "      <td>1.0</td>\n",
       "      <td>0.0</td>\n",
       "      <td>0.14</td>\n",
       "      <td>0.10</td>\n",
       "      <td>0.00</td>\n",
       "      <td>0.00</td>\n",
       "      <td>0.00</td>\n",
       "      <td>0.0</td>\n",
       "      <td>normal.</td>\n",
       "    </tr>\n",
       "    <tr>\n",
       "      <th>493993</th>\n",
       "      <td>0</td>\n",
       "      <td>tcp</td>\n",
       "      <td>http</td>\n",
       "      <td>SF</td>\n",
       "      <td>316</td>\n",
       "      <td>3665</td>\n",
       "      <td>0</td>\n",
       "      <td>0</td>\n",
       "      <td>0</td>\n",
       "      <td>0</td>\n",
       "      <td>...</td>\n",
       "      <td>255</td>\n",
       "      <td>1.0</td>\n",
       "      <td>0.0</td>\n",
       "      <td>0.06</td>\n",
       "      <td>0.09</td>\n",
       "      <td>0.00</td>\n",
       "      <td>0.00</td>\n",
       "      <td>0.00</td>\n",
       "      <td>0.0</td>\n",
       "      <td>normal.</td>\n",
       "    </tr>\n",
       "    <tr>\n",
       "      <th>493994</th>\n",
       "      <td>0</td>\n",
       "      <td>tcp</td>\n",
       "      <td>http</td>\n",
       "      <td>SF</td>\n",
       "      <td>335</td>\n",
       "      <td>10440</td>\n",
       "      <td>0</td>\n",
       "      <td>0</td>\n",
       "      <td>0</td>\n",
       "      <td>0</td>\n",
       "      <td>...</td>\n",
       "      <td>255</td>\n",
       "      <td>1.0</td>\n",
       "      <td>0.0</td>\n",
       "      <td>0.04</td>\n",
       "      <td>0.08</td>\n",
       "      <td>0.00</td>\n",
       "      <td>0.00</td>\n",
       "      <td>0.00</td>\n",
       "      <td>0.0</td>\n",
       "      <td>normal.</td>\n",
       "    </tr>\n",
       "    <tr>\n",
       "      <th>493995</th>\n",
       "      <td>0</td>\n",
       "      <td>tcp</td>\n",
       "      <td>http</td>\n",
       "      <td>SF</td>\n",
       "      <td>284</td>\n",
       "      <td>10592</td>\n",
       "      <td>0</td>\n",
       "      <td>0</td>\n",
       "      <td>0</td>\n",
       "      <td>0</td>\n",
       "      <td>...</td>\n",
       "      <td>255</td>\n",
       "      <td>1.0</td>\n",
       "      <td>0.0</td>\n",
       "      <td>0.03</td>\n",
       "      <td>0.07</td>\n",
       "      <td>0.00</td>\n",
       "      <td>0.00</td>\n",
       "      <td>0.00</td>\n",
       "      <td>0.0</td>\n",
       "      <td>normal.</td>\n",
       "    </tr>\n",
       "    <tr>\n",
       "      <th>493996</th>\n",
       "      <td>0</td>\n",
       "      <td>tcp</td>\n",
       "      <td>http</td>\n",
       "      <td>SF</td>\n",
       "      <td>242</td>\n",
       "      <td>7066</td>\n",
       "      <td>0</td>\n",
       "      <td>0</td>\n",
       "      <td>0</td>\n",
       "      <td>0</td>\n",
       "      <td>...</td>\n",
       "      <td>255</td>\n",
       "      <td>1.0</td>\n",
       "      <td>0.0</td>\n",
       "      <td>0.02</td>\n",
       "      <td>0.05</td>\n",
       "      <td>0.00</td>\n",
       "      <td>0.00</td>\n",
       "      <td>0.00</td>\n",
       "      <td>0.0</td>\n",
       "      <td>normal.</td>\n",
       "    </tr>\n",
       "    <tr>\n",
       "      <th>493997</th>\n",
       "      <td>0</td>\n",
       "      <td>tcp</td>\n",
       "      <td>http</td>\n",
       "      <td>SF</td>\n",
       "      <td>223</td>\n",
       "      <td>3707</td>\n",
       "      <td>0</td>\n",
       "      <td>0</td>\n",
       "      <td>0</td>\n",
       "      <td>0</td>\n",
       "      <td>...</td>\n",
       "      <td>255</td>\n",
       "      <td>1.0</td>\n",
       "      <td>0.0</td>\n",
       "      <td>0.11</td>\n",
       "      <td>0.05</td>\n",
       "      <td>0.00</td>\n",
       "      <td>0.00</td>\n",
       "      <td>0.00</td>\n",
       "      <td>0.0</td>\n",
       "      <td>normal.</td>\n",
       "    </tr>\n",
       "    <tr>\n",
       "      <th>493998</th>\n",
       "      <td>0</td>\n",
       "      <td>tcp</td>\n",
       "      <td>http</td>\n",
       "      <td>SF</td>\n",
       "      <td>204</td>\n",
       "      <td>1731</td>\n",
       "      <td>0</td>\n",
       "      <td>0</td>\n",
       "      <td>0</td>\n",
       "      <td>0</td>\n",
       "      <td>...</td>\n",
       "      <td>255</td>\n",
       "      <td>1.0</td>\n",
       "      <td>0.0</td>\n",
       "      <td>0.05</td>\n",
       "      <td>0.04</td>\n",
       "      <td>0.00</td>\n",
       "      <td>0.00</td>\n",
       "      <td>0.00</td>\n",
       "      <td>0.0</td>\n",
       "      <td>normal.</td>\n",
       "    </tr>\n",
       "    <tr>\n",
       "      <th>493999</th>\n",
       "      <td>0</td>\n",
       "      <td>tcp</td>\n",
       "      <td>http</td>\n",
       "      <td>SF</td>\n",
       "      <td>148</td>\n",
       "      <td>1122</td>\n",
       "      <td>0</td>\n",
       "      <td>0</td>\n",
       "      <td>0</td>\n",
       "      <td>0</td>\n",
       "      <td>...</td>\n",
       "      <td>255</td>\n",
       "      <td>1.0</td>\n",
       "      <td>0.0</td>\n",
       "      <td>0.33</td>\n",
       "      <td>0.04</td>\n",
       "      <td>0.00</td>\n",
       "      <td>0.00</td>\n",
       "      <td>0.00</td>\n",
       "      <td>0.0</td>\n",
       "      <td>normal.</td>\n",
       "    </tr>\n",
       "    <tr>\n",
       "      <th>494000</th>\n",
       "      <td>0</td>\n",
       "      <td>tcp</td>\n",
       "      <td>http</td>\n",
       "      <td>S0</td>\n",
       "      <td>0</td>\n",
       "      <td>0</td>\n",
       "      <td>0</td>\n",
       "      <td>0</td>\n",
       "      <td>0</td>\n",
       "      <td>0</td>\n",
       "      <td>...</td>\n",
       "      <td>255</td>\n",
       "      <td>1.0</td>\n",
       "      <td>0.0</td>\n",
       "      <td>0.15</td>\n",
       "      <td>0.04</td>\n",
       "      <td>0.08</td>\n",
       "      <td>0.00</td>\n",
       "      <td>0.08</td>\n",
       "      <td>0.0</td>\n",
       "      <td>normal.</td>\n",
       "    </tr>\n",
       "    <tr>\n",
       "      <th>494001</th>\n",
       "      <td>0</td>\n",
       "      <td>tcp</td>\n",
       "      <td>http</td>\n",
       "      <td>SF</td>\n",
       "      <td>215</td>\n",
       "      <td>2649</td>\n",
       "      <td>0</td>\n",
       "      <td>0</td>\n",
       "      <td>0</td>\n",
       "      <td>0</td>\n",
       "      <td>...</td>\n",
       "      <td>255</td>\n",
       "      <td>1.0</td>\n",
       "      <td>0.0</td>\n",
       "      <td>0.04</td>\n",
       "      <td>0.04</td>\n",
       "      <td>0.04</td>\n",
       "      <td>0.00</td>\n",
       "      <td>0.04</td>\n",
       "      <td>0.0</td>\n",
       "      <td>normal.</td>\n",
       "    </tr>\n",
       "    <tr>\n",
       "      <th>494002</th>\n",
       "      <td>0</td>\n",
       "      <td>tcp</td>\n",
       "      <td>http</td>\n",
       "      <td>SF</td>\n",
       "      <td>341</td>\n",
       "      <td>326</td>\n",
       "      <td>0</td>\n",
       "      <td>0</td>\n",
       "      <td>0</td>\n",
       "      <td>0</td>\n",
       "      <td>...</td>\n",
       "      <td>255</td>\n",
       "      <td>1.0</td>\n",
       "      <td>0.0</td>\n",
       "      <td>1.00</td>\n",
       "      <td>0.05</td>\n",
       "      <td>0.00</td>\n",
       "      <td>0.01</td>\n",
       "      <td>0.00</td>\n",
       "      <td>0.0</td>\n",
       "      <td>normal.</td>\n",
       "    </tr>\n",
       "    <tr>\n",
       "      <th>494003</th>\n",
       "      <td>0</td>\n",
       "      <td>tcp</td>\n",
       "      <td>http</td>\n",
       "      <td>SF</td>\n",
       "      <td>341</td>\n",
       "      <td>1943</td>\n",
       "      <td>0</td>\n",
       "      <td>0</td>\n",
       "      <td>0</td>\n",
       "      <td>0</td>\n",
       "      <td>...</td>\n",
       "      <td>255</td>\n",
       "      <td>1.0</td>\n",
       "      <td>0.0</td>\n",
       "      <td>0.09</td>\n",
       "      <td>0.05</td>\n",
       "      <td>0.00</td>\n",
       "      <td>0.01</td>\n",
       "      <td>0.00</td>\n",
       "      <td>0.0</td>\n",
       "      <td>normal.</td>\n",
       "    </tr>\n",
       "    <tr>\n",
       "      <th>494004</th>\n",
       "      <td>0</td>\n",
       "      <td>tcp</td>\n",
       "      <td>http</td>\n",
       "      <td>SF</td>\n",
       "      <td>341</td>\n",
       "      <td>1663</td>\n",
       "      <td>0</td>\n",
       "      <td>0</td>\n",
       "      <td>0</td>\n",
       "      <td>0</td>\n",
       "      <td>...</td>\n",
       "      <td>255</td>\n",
       "      <td>1.0</td>\n",
       "      <td>0.0</td>\n",
       "      <td>0.05</td>\n",
       "      <td>0.05</td>\n",
       "      <td>0.00</td>\n",
       "      <td>0.01</td>\n",
       "      <td>0.00</td>\n",
       "      <td>0.0</td>\n",
       "      <td>normal.</td>\n",
       "    </tr>\n",
       "    <tr>\n",
       "      <th>494005</th>\n",
       "      <td>0</td>\n",
       "      <td>tcp</td>\n",
       "      <td>http</td>\n",
       "      <td>SF</td>\n",
       "      <td>235</td>\n",
       "      <td>501</td>\n",
       "      <td>0</td>\n",
       "      <td>0</td>\n",
       "      <td>0</td>\n",
       "      <td>0</td>\n",
       "      <td>...</td>\n",
       "      <td>255</td>\n",
       "      <td>1.0</td>\n",
       "      <td>0.0</td>\n",
       "      <td>0.50</td>\n",
       "      <td>0.05</td>\n",
       "      <td>0.00</td>\n",
       "      <td>0.01</td>\n",
       "      <td>0.00</td>\n",
       "      <td>0.0</td>\n",
       "      <td>normal.</td>\n",
       "    </tr>\n",
       "    <tr>\n",
       "      <th>494006</th>\n",
       "      <td>0</td>\n",
       "      <td>tcp</td>\n",
       "      <td>http</td>\n",
       "      <td>SF</td>\n",
       "      <td>320</td>\n",
       "      <td>13828</td>\n",
       "      <td>0</td>\n",
       "      <td>0</td>\n",
       "      <td>0</td>\n",
       "      <td>0</td>\n",
       "      <td>...</td>\n",
       "      <td>255</td>\n",
       "      <td>1.0</td>\n",
       "      <td>0.0</td>\n",
       "      <td>0.10</td>\n",
       "      <td>0.05</td>\n",
       "      <td>0.00</td>\n",
       "      <td>0.01</td>\n",
       "      <td>0.00</td>\n",
       "      <td>0.0</td>\n",
       "      <td>normal.</td>\n",
       "    </tr>\n",
       "    <tr>\n",
       "      <th>494007</th>\n",
       "      <td>0</td>\n",
       "      <td>tcp</td>\n",
       "      <td>http</td>\n",
       "      <td>SF</td>\n",
       "      <td>319</td>\n",
       "      <td>1435</td>\n",
       "      <td>0</td>\n",
       "      <td>0</td>\n",
       "      <td>0</td>\n",
       "      <td>0</td>\n",
       "      <td>...</td>\n",
       "      <td>255</td>\n",
       "      <td>1.0</td>\n",
       "      <td>0.0</td>\n",
       "      <td>0.17</td>\n",
       "      <td>0.07</td>\n",
       "      <td>0.00</td>\n",
       "      <td>0.01</td>\n",
       "      <td>0.00</td>\n",
       "      <td>0.0</td>\n",
       "      <td>normal.</td>\n",
       "    </tr>\n",
       "    <tr>\n",
       "      <th>494008</th>\n",
       "      <td>0</td>\n",
       "      <td>tcp</td>\n",
       "      <td>http</td>\n",
       "      <td>SF</td>\n",
       "      <td>335</td>\n",
       "      <td>3435</td>\n",
       "      <td>0</td>\n",
       "      <td>0</td>\n",
       "      <td>0</td>\n",
       "      <td>0</td>\n",
       "      <td>...</td>\n",
       "      <td>255</td>\n",
       "      <td>1.0</td>\n",
       "      <td>0.0</td>\n",
       "      <td>0.06</td>\n",
       "      <td>0.07</td>\n",
       "      <td>0.00</td>\n",
       "      <td>0.01</td>\n",
       "      <td>0.00</td>\n",
       "      <td>0.0</td>\n",
       "      <td>normal.</td>\n",
       "    </tr>\n",
       "    <tr>\n",
       "      <th>494009</th>\n",
       "      <td>0</td>\n",
       "      <td>tcp</td>\n",
       "      <td>http</td>\n",
       "      <td>SF</td>\n",
       "      <td>291</td>\n",
       "      <td>236</td>\n",
       "      <td>0</td>\n",
       "      <td>0</td>\n",
       "      <td>0</td>\n",
       "      <td>0</td>\n",
       "      <td>...</td>\n",
       "      <td>255</td>\n",
       "      <td>1.0</td>\n",
       "      <td>0.0</td>\n",
       "      <td>0.04</td>\n",
       "      <td>0.06</td>\n",
       "      <td>0.00</td>\n",
       "      <td>0.01</td>\n",
       "      <td>0.00</td>\n",
       "      <td>0.0</td>\n",
       "      <td>normal.</td>\n",
       "    </tr>\n",
       "    <tr>\n",
       "      <th>494010</th>\n",
       "      <td>0</td>\n",
       "      <td>tcp</td>\n",
       "      <td>http</td>\n",
       "      <td>SF</td>\n",
       "      <td>308</td>\n",
       "      <td>662</td>\n",
       "      <td>0</td>\n",
       "      <td>0</td>\n",
       "      <td>0</td>\n",
       "      <td>0</td>\n",
       "      <td>...</td>\n",
       "      <td>255</td>\n",
       "      <td>1.0</td>\n",
       "      <td>0.0</td>\n",
       "      <td>0.03</td>\n",
       "      <td>0.06</td>\n",
       "      <td>0.00</td>\n",
       "      <td>0.01</td>\n",
       "      <td>0.00</td>\n",
       "      <td>0.0</td>\n",
       "      <td>normal.</td>\n",
       "    </tr>\n",
       "    <tr>\n",
       "      <th>494011</th>\n",
       "      <td>0</td>\n",
       "      <td>tcp</td>\n",
       "      <td>http</td>\n",
       "      <td>SF</td>\n",
       "      <td>291</td>\n",
       "      <td>1862</td>\n",
       "      <td>0</td>\n",
       "      <td>0</td>\n",
       "      <td>0</td>\n",
       "      <td>0</td>\n",
       "      <td>...</td>\n",
       "      <td>255</td>\n",
       "      <td>1.0</td>\n",
       "      <td>0.0</td>\n",
       "      <td>0.02</td>\n",
       "      <td>0.05</td>\n",
       "      <td>0.00</td>\n",
       "      <td>0.01</td>\n",
       "      <td>0.00</td>\n",
       "      <td>0.0</td>\n",
       "      <td>normal.</td>\n",
       "    </tr>\n",
       "    <tr>\n",
       "      <th>494012</th>\n",
       "      <td>0</td>\n",
       "      <td>tcp</td>\n",
       "      <td>http</td>\n",
       "      <td>SF</td>\n",
       "      <td>289</td>\n",
       "      <td>244</td>\n",
       "      <td>0</td>\n",
       "      <td>0</td>\n",
       "      <td>0</td>\n",
       "      <td>0</td>\n",
       "      <td>...</td>\n",
       "      <td>255</td>\n",
       "      <td>1.0</td>\n",
       "      <td>0.0</td>\n",
       "      <td>0.02</td>\n",
       "      <td>0.05</td>\n",
       "      <td>0.00</td>\n",
       "      <td>0.01</td>\n",
       "      <td>0.00</td>\n",
       "      <td>0.0</td>\n",
       "      <td>normal.</td>\n",
       "    </tr>\n",
       "    <tr>\n",
       "      <th>494013</th>\n",
       "      <td>0</td>\n",
       "      <td>tcp</td>\n",
       "      <td>http</td>\n",
       "      <td>SF</td>\n",
       "      <td>306</td>\n",
       "      <td>662</td>\n",
       "      <td>0</td>\n",
       "      <td>0</td>\n",
       "      <td>0</td>\n",
       "      <td>0</td>\n",
       "      <td>...</td>\n",
       "      <td>255</td>\n",
       "      <td>1.0</td>\n",
       "      <td>0.0</td>\n",
       "      <td>0.02</td>\n",
       "      <td>0.05</td>\n",
       "      <td>0.00</td>\n",
       "      <td>0.01</td>\n",
       "      <td>0.00</td>\n",
       "      <td>0.0</td>\n",
       "      <td>normal.</td>\n",
       "    </tr>\n",
       "    <tr>\n",
       "      <th>494014</th>\n",
       "      <td>0</td>\n",
       "      <td>tcp</td>\n",
       "      <td>http</td>\n",
       "      <td>SF</td>\n",
       "      <td>289</td>\n",
       "      <td>1862</td>\n",
       "      <td>0</td>\n",
       "      <td>0</td>\n",
       "      <td>0</td>\n",
       "      <td>0</td>\n",
       "      <td>...</td>\n",
       "      <td>255</td>\n",
       "      <td>1.0</td>\n",
       "      <td>0.0</td>\n",
       "      <td>0.01</td>\n",
       "      <td>0.05</td>\n",
       "      <td>0.00</td>\n",
       "      <td>0.01</td>\n",
       "      <td>0.00</td>\n",
       "      <td>0.0</td>\n",
       "      <td>normal.</td>\n",
       "    </tr>\n",
       "    <tr>\n",
       "      <th>494015</th>\n",
       "      <td>0</td>\n",
       "      <td>tcp</td>\n",
       "      <td>http</td>\n",
       "      <td>SF</td>\n",
       "      <td>310</td>\n",
       "      <td>1881</td>\n",
       "      <td>0</td>\n",
       "      <td>0</td>\n",
       "      <td>0</td>\n",
       "      <td>0</td>\n",
       "      <td>...</td>\n",
       "      <td>255</td>\n",
       "      <td>1.0</td>\n",
       "      <td>0.0</td>\n",
       "      <td>0.01</td>\n",
       "      <td>0.05</td>\n",
       "      <td>0.00</td>\n",
       "      <td>0.01</td>\n",
       "      <td>0.00</td>\n",
       "      <td>0.0</td>\n",
       "      <td>normal.</td>\n",
       "    </tr>\n",
       "    <tr>\n",
       "      <th>494016</th>\n",
       "      <td>0</td>\n",
       "      <td>tcp</td>\n",
       "      <td>http</td>\n",
       "      <td>SF</td>\n",
       "      <td>282</td>\n",
       "      <td>2286</td>\n",
       "      <td>0</td>\n",
       "      <td>0</td>\n",
       "      <td>0</td>\n",
       "      <td>0</td>\n",
       "      <td>...</td>\n",
       "      <td>255</td>\n",
       "      <td>1.0</td>\n",
       "      <td>0.0</td>\n",
       "      <td>0.17</td>\n",
       "      <td>0.05</td>\n",
       "      <td>0.00</td>\n",
       "      <td>0.01</td>\n",
       "      <td>0.00</td>\n",
       "      <td>0.0</td>\n",
       "      <td>normal.</td>\n",
       "    </tr>\n",
       "    <tr>\n",
       "      <th>494017</th>\n",
       "      <td>0</td>\n",
       "      <td>tcp</td>\n",
       "      <td>http</td>\n",
       "      <td>SF</td>\n",
       "      <td>203</td>\n",
       "      <td>1200</td>\n",
       "      <td>0</td>\n",
       "      <td>0</td>\n",
       "      <td>0</td>\n",
       "      <td>0</td>\n",
       "      <td>...</td>\n",
       "      <td>255</td>\n",
       "      <td>1.0</td>\n",
       "      <td>0.0</td>\n",
       "      <td>0.06</td>\n",
       "      <td>0.05</td>\n",
       "      <td>0.06</td>\n",
       "      <td>0.01</td>\n",
       "      <td>0.00</td>\n",
       "      <td>0.0</td>\n",
       "      <td>normal.</td>\n",
       "    </tr>\n",
       "    <tr>\n",
       "      <th>494018</th>\n",
       "      <td>0</td>\n",
       "      <td>tcp</td>\n",
       "      <td>http</td>\n",
       "      <td>SF</td>\n",
       "      <td>291</td>\n",
       "      <td>1200</td>\n",
       "      <td>0</td>\n",
       "      <td>0</td>\n",
       "      <td>0</td>\n",
       "      <td>0</td>\n",
       "      <td>...</td>\n",
       "      <td>255</td>\n",
       "      <td>1.0</td>\n",
       "      <td>0.0</td>\n",
       "      <td>0.04</td>\n",
       "      <td>0.05</td>\n",
       "      <td>0.04</td>\n",
       "      <td>0.01</td>\n",
       "      <td>0.00</td>\n",
       "      <td>0.0</td>\n",
       "      <td>normal.</td>\n",
       "    </tr>\n",
       "    <tr>\n",
       "      <th>494019</th>\n",
       "      <td>0</td>\n",
       "      <td>tcp</td>\n",
       "      <td>http</td>\n",
       "      <td>SF</td>\n",
       "      <td>219</td>\n",
       "      <td>1234</td>\n",
       "      <td>0</td>\n",
       "      <td>0</td>\n",
       "      <td>0</td>\n",
       "      <td>0</td>\n",
       "      <td>...</td>\n",
       "      <td>255</td>\n",
       "      <td>1.0</td>\n",
       "      <td>0.0</td>\n",
       "      <td>0.17</td>\n",
       "      <td>0.05</td>\n",
       "      <td>0.00</td>\n",
       "      <td>0.01</td>\n",
       "      <td>0.00</td>\n",
       "      <td>0.0</td>\n",
       "      <td>normal.</td>\n",
       "    </tr>\n",
       "  </tbody>\n",
       "</table>\n",
       "<p>494020 rows × 42 columns</p>\n",
       "</div>"
      ],
      "text/plain": [
       "        duration protocol_type service flag  src_bytes  dst_bytes  land  \\\n",
       "0              0           tcp    http   SF        239        486     0   \n",
       "1              0           tcp    http   SF        235       1337     0   \n",
       "2              0           tcp    http   SF        219       1337     0   \n",
       "3              0           tcp    http   SF        217       2032     0   \n",
       "4              0           tcp    http   SF        217       2032     0   \n",
       "5              0           tcp    http   SF        212       1940     0   \n",
       "6              0           tcp    http   SF        159       4087     0   \n",
       "7              0           tcp    http   SF        210        151     0   \n",
       "8              0           tcp    http   SF        212        786     0   \n",
       "9              0           tcp    http   SF        210        624     0   \n",
       "10             0           tcp    http   SF        177       1985     0   \n",
       "11             0           tcp    http   SF        222        773     0   \n",
       "12             0           tcp    http   SF        256       1169     0   \n",
       "13             0           tcp    http   SF        241        259     0   \n",
       "14             0           tcp    http   SF        260       1837     0   \n",
       "15             0           tcp    http   SF        241        261     0   \n",
       "16             0           tcp    http   SF        257        818     0   \n",
       "17             0           tcp    http   SF        233        255     0   \n",
       "18             0           tcp    http   SF        233        504     0   \n",
       "19             0           tcp    http   SF        256       1273     0   \n",
       "20             0           tcp    http   SF        234        255     0   \n",
       "21             0           tcp    http   SF        241        259     0   \n",
       "22             0           tcp    http   SF        239        968     0   \n",
       "23             0           tcp    http   SF        245       1919     0   \n",
       "24             0           tcp    http   SF        248       2129     0   \n",
       "25             0           tcp    http   SF        354       1752     0   \n",
       "26             0           tcp    http   SF        193       3991     0   \n",
       "27             0           tcp    http   SF        214      14959     0   \n",
       "28             0           tcp    http   SF        212       1309     0   \n",
       "29             0           tcp    http   SF        215       3670     0   \n",
       "...          ...           ...     ...  ...        ...        ...   ...   \n",
       "493990         0           tcp    http   SF        296        617     0   \n",
       "493991         0           tcp    http   SF        294      29288     0   \n",
       "493992         0           tcp    http   SF        285      34557     0   \n",
       "493993         0           tcp    http   SF        316       3665     0   \n",
       "493994         0           tcp    http   SF        335      10440     0   \n",
       "493995         0           tcp    http   SF        284      10592     0   \n",
       "493996         0           tcp    http   SF        242       7066     0   \n",
       "493997         0           tcp    http   SF        223       3707     0   \n",
       "493998         0           tcp    http   SF        204       1731     0   \n",
       "493999         0           tcp    http   SF        148       1122     0   \n",
       "494000         0           tcp    http   S0          0          0     0   \n",
       "494001         0           tcp    http   SF        215       2649     0   \n",
       "494002         0           tcp    http   SF        341        326     0   \n",
       "494003         0           tcp    http   SF        341       1943     0   \n",
       "494004         0           tcp    http   SF        341       1663     0   \n",
       "494005         0           tcp    http   SF        235        501     0   \n",
       "494006         0           tcp    http   SF        320      13828     0   \n",
       "494007         0           tcp    http   SF        319       1435     0   \n",
       "494008         0           tcp    http   SF        335       3435     0   \n",
       "494009         0           tcp    http   SF        291        236     0   \n",
       "494010         0           tcp    http   SF        308        662     0   \n",
       "494011         0           tcp    http   SF        291       1862     0   \n",
       "494012         0           tcp    http   SF        289        244     0   \n",
       "494013         0           tcp    http   SF        306        662     0   \n",
       "494014         0           tcp    http   SF        289       1862     0   \n",
       "494015         0           tcp    http   SF        310       1881     0   \n",
       "494016         0           tcp    http   SF        282       2286     0   \n",
       "494017         0           tcp    http   SF        203       1200     0   \n",
       "494018         0           tcp    http   SF        291       1200     0   \n",
       "494019         0           tcp    http   SF        219       1234     0   \n",
       "\n",
       "        wrong_fragment  urgent  hot   ...     dst_host_srv_count  \\\n",
       "0                    0       0    0   ...                     19   \n",
       "1                    0       0    0   ...                     29   \n",
       "2                    0       0    0   ...                     39   \n",
       "3                    0       0    0   ...                     49   \n",
       "4                    0       0    0   ...                     59   \n",
       "5                    0       0    0   ...                     69   \n",
       "6                    0       0    0   ...                     79   \n",
       "7                    0       0    0   ...                     89   \n",
       "8                    0       0    1   ...                     99   \n",
       "9                    0       0    0   ...                    109   \n",
       "10                   0       0    0   ...                    119   \n",
       "11                   0       0    0   ...                    129   \n",
       "12                   0       0    0   ...                    139   \n",
       "13                   0       0    0   ...                    149   \n",
       "14                   0       0    0   ...                    159   \n",
       "15                   0       0    0   ...                    169   \n",
       "16                   0       0    0   ...                    179   \n",
       "17                   0       0    0   ...                    189   \n",
       "18                   0       0    0   ...                    199   \n",
       "19                   0       0    0   ...                    209   \n",
       "20                   0       0    0   ...                    219   \n",
       "21                   0       0    0   ...                    229   \n",
       "22                   0       0    0   ...                    239   \n",
       "23                   0       0    0   ...                    249   \n",
       "24                   0       0    0   ...                    255   \n",
       "25                   0       0    0   ...                    255   \n",
       "26                   0       0    0   ...                    255   \n",
       "27                   0       0    0   ...                    255   \n",
       "28                   0       0    0   ...                    255   \n",
       "29                   0       0    0   ...                    255   \n",
       "...                ...     ...  ...   ...                    ...   \n",
       "493990               0       0    0   ...                    255   \n",
       "493991               0       0    0   ...                    255   \n",
       "493992               0       0    0   ...                    255   \n",
       "493993               0       0    0   ...                    255   \n",
       "493994               0       0    0   ...                    255   \n",
       "493995               0       0    0   ...                    255   \n",
       "493996               0       0    0   ...                    255   \n",
       "493997               0       0    0   ...                    255   \n",
       "493998               0       0    0   ...                    255   \n",
       "493999               0       0    0   ...                    255   \n",
       "494000               0       0    0   ...                    255   \n",
       "494001               0       0    0   ...                    255   \n",
       "494002               0       0    0   ...                    255   \n",
       "494003               0       0    0   ...                    255   \n",
       "494004               0       0    0   ...                    255   \n",
       "494005               0       0    0   ...                    255   \n",
       "494006               0       0    0   ...                    255   \n",
       "494007               0       0    0   ...                    255   \n",
       "494008               0       0    0   ...                    255   \n",
       "494009               0       0    0   ...                    255   \n",
       "494010               0       0    0   ...                    255   \n",
       "494011               0       0    0   ...                    255   \n",
       "494012               0       0    0   ...                    255   \n",
       "494013               0       0    0   ...                    255   \n",
       "494014               0       0    0   ...                    255   \n",
       "494015               0       0    0   ...                    255   \n",
       "494016               0       0    0   ...                    255   \n",
       "494017               0       0    0   ...                    255   \n",
       "494018               0       0    0   ...                    255   \n",
       "494019               0       0    0   ...                    255   \n",
       "\n",
       "        dst_host_same_srv_rate  dst_host_diff_srv_rate  \\\n",
       "0                          1.0                     0.0   \n",
       "1                          1.0                     0.0   \n",
       "2                          1.0                     0.0   \n",
       "3                          1.0                     0.0   \n",
       "4                          1.0                     0.0   \n",
       "5                          1.0                     0.0   \n",
       "6                          1.0                     0.0   \n",
       "7                          1.0                     0.0   \n",
       "8                          1.0                     0.0   \n",
       "9                          1.0                     0.0   \n",
       "10                         1.0                     0.0   \n",
       "11                         1.0                     0.0   \n",
       "12                         1.0                     0.0   \n",
       "13                         1.0                     0.0   \n",
       "14                         1.0                     0.0   \n",
       "15                         1.0                     0.0   \n",
       "16                         1.0                     0.0   \n",
       "17                         1.0                     0.0   \n",
       "18                         1.0                     0.0   \n",
       "19                         1.0                     0.0   \n",
       "20                         1.0                     0.0   \n",
       "21                         1.0                     0.0   \n",
       "22                         1.0                     0.0   \n",
       "23                         1.0                     0.0   \n",
       "24                         1.0                     0.0   \n",
       "25                         1.0                     0.0   \n",
       "26                         1.0                     0.0   \n",
       "27                         1.0                     0.0   \n",
       "28                         1.0                     0.0   \n",
       "29                         1.0                     0.0   \n",
       "...                        ...                     ...   \n",
       "493990                     1.0                     0.0   \n",
       "493991                     1.0                     0.0   \n",
       "493992                     1.0                     0.0   \n",
       "493993                     1.0                     0.0   \n",
       "493994                     1.0                     0.0   \n",
       "493995                     1.0                     0.0   \n",
       "493996                     1.0                     0.0   \n",
       "493997                     1.0                     0.0   \n",
       "493998                     1.0                     0.0   \n",
       "493999                     1.0                     0.0   \n",
       "494000                     1.0                     0.0   \n",
       "494001                     1.0                     0.0   \n",
       "494002                     1.0                     0.0   \n",
       "494003                     1.0                     0.0   \n",
       "494004                     1.0                     0.0   \n",
       "494005                     1.0                     0.0   \n",
       "494006                     1.0                     0.0   \n",
       "494007                     1.0                     0.0   \n",
       "494008                     1.0                     0.0   \n",
       "494009                     1.0                     0.0   \n",
       "494010                     1.0                     0.0   \n",
       "494011                     1.0                     0.0   \n",
       "494012                     1.0                     0.0   \n",
       "494013                     1.0                     0.0   \n",
       "494014                     1.0                     0.0   \n",
       "494015                     1.0                     0.0   \n",
       "494016                     1.0                     0.0   \n",
       "494017                     1.0                     0.0   \n",
       "494018                     1.0                     0.0   \n",
       "494019                     1.0                     0.0   \n",
       "\n",
       "        dst_host_same_src_port_rate  dst_host_srv_diff_host_rate  \\\n",
       "0                              0.05                         0.00   \n",
       "1                              0.03                         0.00   \n",
       "2                              0.03                         0.00   \n",
       "3                              0.02                         0.00   \n",
       "4                              0.02                         0.00   \n",
       "5                              1.00                         0.04   \n",
       "6                              0.09                         0.04   \n",
       "7                              0.12                         0.04   \n",
       "8                              0.12                         0.05   \n",
       "9                              0.06                         0.05   \n",
       "10                             0.04                         0.04   \n",
       "11                             0.03                         0.04   \n",
       "12                             0.25                         0.04   \n",
       "13                             0.07                         0.04   \n",
       "14                             0.04                         0.04   \n",
       "15                             0.03                         0.04   \n",
       "16                             0.02                         0.03   \n",
       "17                             0.02                         0.03   \n",
       "18                             0.02                         0.03   \n",
       "19                             0.01                         0.03   \n",
       "20                             0.01                         0.03   \n",
       "21                             0.01                         0.03   \n",
       "22                             0.33                         0.03   \n",
       "23                             0.08                         0.03   \n",
       "24                             0.04                         0.03   \n",
       "25                             0.20                         0.04   \n",
       "26                             1.00                         0.05   \n",
       "27                             0.09                         0.05   \n",
       "28                             0.05                         0.05   \n",
       "29                             0.03                         0.05   \n",
       "...                             ...                          ...   \n",
       "493990                         0.04                         0.10   \n",
       "493991                         0.03                         0.10   \n",
       "493992                         0.14                         0.10   \n",
       "493993                         0.06                         0.09   \n",
       "493994                         0.04                         0.08   \n",
       "493995                         0.03                         0.07   \n",
       "493996                         0.02                         0.05   \n",
       "493997                         0.11                         0.05   \n",
       "493998                         0.05                         0.04   \n",
       "493999                         0.33                         0.04   \n",
       "494000                         0.15                         0.04   \n",
       "494001                         0.04                         0.04   \n",
       "494002                         1.00                         0.05   \n",
       "494003                         0.09                         0.05   \n",
       "494004                         0.05                         0.05   \n",
       "494005                         0.50                         0.05   \n",
       "494006                         0.10                         0.05   \n",
       "494007                         0.17                         0.07   \n",
       "494008                         0.06                         0.07   \n",
       "494009                         0.04                         0.06   \n",
       "494010                         0.03                         0.06   \n",
       "494011                         0.02                         0.05   \n",
       "494012                         0.02                         0.05   \n",
       "494013                         0.02                         0.05   \n",
       "494014                         0.01                         0.05   \n",
       "494015                         0.01                         0.05   \n",
       "494016                         0.17                         0.05   \n",
       "494017                         0.06                         0.05   \n",
       "494018                         0.04                         0.05   \n",
       "494019                         0.17                         0.05   \n",
       "\n",
       "        dst_host_serror_rate  dst_host_srv_serror_rate  dst_host_rerror_rate  \\\n",
       "0                       0.00                      0.00                  0.00   \n",
       "1                       0.00                      0.00                  0.00   \n",
       "2                       0.00                      0.00                  0.00   \n",
       "3                       0.00                      0.00                  0.00   \n",
       "4                       0.00                      0.00                  0.00   \n",
       "5                       0.00                      0.00                  0.00   \n",
       "6                       0.00                      0.00                  0.00   \n",
       "7                       0.00                      0.00                  0.00   \n",
       "8                       0.00                      0.00                  0.00   \n",
       "9                       0.00                      0.00                  0.00   \n",
       "10                      0.00                      0.00                  0.00   \n",
       "11                      0.00                      0.00                  0.00   \n",
       "12                      0.00                      0.00                  0.00   \n",
       "13                      0.00                      0.00                  0.00   \n",
       "14                      0.00                      0.00                  0.00   \n",
       "15                      0.00                      0.00                  0.00   \n",
       "16                      0.00                      0.00                  0.00   \n",
       "17                      0.00                      0.00                  0.00   \n",
       "18                      0.00                      0.00                  0.00   \n",
       "19                      0.00                      0.00                  0.00   \n",
       "20                      0.00                      0.00                  0.00   \n",
       "21                      0.00                      0.00                  0.00   \n",
       "22                      0.00                      0.00                  0.00   \n",
       "23                      0.00                      0.00                  0.00   \n",
       "24                      0.00                      0.00                  0.00   \n",
       "25                      0.00                      0.00                  0.00   \n",
       "26                      0.00                      0.00                  0.00   \n",
       "27                      0.00                      0.00                  0.00   \n",
       "28                      0.00                      0.00                  0.00   \n",
       "29                      0.00                      0.00                  0.00   \n",
       "...                      ...                       ...                   ...   \n",
       "493990                  0.00                      0.00                  0.00   \n",
       "493991                  0.00                      0.00                  0.00   \n",
       "493992                  0.00                      0.00                  0.00   \n",
       "493993                  0.00                      0.00                  0.00   \n",
       "493994                  0.00                      0.00                  0.00   \n",
       "493995                  0.00                      0.00                  0.00   \n",
       "493996                  0.00                      0.00                  0.00   \n",
       "493997                  0.00                      0.00                  0.00   \n",
       "493998                  0.00                      0.00                  0.00   \n",
       "493999                  0.00                      0.00                  0.00   \n",
       "494000                  0.08                      0.00                  0.08   \n",
       "494001                  0.04                      0.00                  0.04   \n",
       "494002                  0.00                      0.01                  0.00   \n",
       "494003                  0.00                      0.01                  0.00   \n",
       "494004                  0.00                      0.01                  0.00   \n",
       "494005                  0.00                      0.01                  0.00   \n",
       "494006                  0.00                      0.01                  0.00   \n",
       "494007                  0.00                      0.01                  0.00   \n",
       "494008                  0.00                      0.01                  0.00   \n",
       "494009                  0.00                      0.01                  0.00   \n",
       "494010                  0.00                      0.01                  0.00   \n",
       "494011                  0.00                      0.01                  0.00   \n",
       "494012                  0.00                      0.01                  0.00   \n",
       "494013                  0.00                      0.01                  0.00   \n",
       "494014                  0.00                      0.01                  0.00   \n",
       "494015                  0.00                      0.01                  0.00   \n",
       "494016                  0.00                      0.01                  0.00   \n",
       "494017                  0.06                      0.01                  0.00   \n",
       "494018                  0.04                      0.01                  0.00   \n",
       "494019                  0.00                      0.01                  0.00   \n",
       "\n",
       "        dst_host_srv_rerror_rate  outcome  \n",
       "0                            0.0  normal.  \n",
       "1                            0.0  normal.  \n",
       "2                            0.0  normal.  \n",
       "3                            0.0  normal.  \n",
       "4                            0.0  normal.  \n",
       "5                            0.0  normal.  \n",
       "6                            0.0  normal.  \n",
       "7                            0.0  normal.  \n",
       "8                            0.0  normal.  \n",
       "9                            0.0  normal.  \n",
       "10                           0.0  normal.  \n",
       "11                           0.0  normal.  \n",
       "12                           0.0  normal.  \n",
       "13                           0.0  normal.  \n",
       "14                           0.0  normal.  \n",
       "15                           0.0  normal.  \n",
       "16                           0.0  normal.  \n",
       "17                           0.0  normal.  \n",
       "18                           0.0  normal.  \n",
       "19                           0.0  normal.  \n",
       "20                           0.0  normal.  \n",
       "21                           0.0  normal.  \n",
       "22                           0.0  normal.  \n",
       "23                           0.0  normal.  \n",
       "24                           0.0  normal.  \n",
       "25                           0.0  normal.  \n",
       "26                           0.0  normal.  \n",
       "27                           0.0  normal.  \n",
       "28                           0.0  normal.  \n",
       "29                           0.0  normal.  \n",
       "...                          ...      ...  \n",
       "493990                       0.0  normal.  \n",
       "493991                       0.0  normal.  \n",
       "493992                       0.0  normal.  \n",
       "493993                       0.0  normal.  \n",
       "493994                       0.0  normal.  \n",
       "493995                       0.0  normal.  \n",
       "493996                       0.0  normal.  \n",
       "493997                       0.0  normal.  \n",
       "493998                       0.0  normal.  \n",
       "493999                       0.0  normal.  \n",
       "494000                       0.0  normal.  \n",
       "494001                       0.0  normal.  \n",
       "494002                       0.0  normal.  \n",
       "494003                       0.0  normal.  \n",
       "494004                       0.0  normal.  \n",
       "494005                       0.0  normal.  \n",
       "494006                       0.0  normal.  \n",
       "494007                       0.0  normal.  \n",
       "494008                       0.0  normal.  \n",
       "494009                       0.0  normal.  \n",
       "494010                       0.0  normal.  \n",
       "494011                       0.0  normal.  \n",
       "494012                       0.0  normal.  \n",
       "494013                       0.0  normal.  \n",
       "494014                       0.0  normal.  \n",
       "494015                       0.0  normal.  \n",
       "494016                       0.0  normal.  \n",
       "494017                       0.0  normal.  \n",
       "494018                       0.0  normal.  \n",
       "494019                       0.0  normal.  \n",
       "\n",
       "[494020 rows x 42 columns]"
      ]
     },
     "execution_count": 8,
     "metadata": {},
     "output_type": "execute_result"
    }
   ],
   "source": [
    "network_df"
   ]
  },
  {
   "cell_type": "code",
   "execution_count": 9,
   "metadata": {
    "ExecuteTime": {
     "end_time": "2019-04-19T22:44:19.387756Z",
     "start_time": "2019-04-19T22:44:19.372133Z"
    }
   },
   "outputs": [
    {
     "data": {
      "text/plain": [
       "Index(['duration', 'protocol_type', 'service', 'flag', 'src_bytes',\n",
       "       'dst_bytes', 'land', 'wrong_fragment', 'urgent', 'hot',\n",
       "       'num_failed_logins', 'logged_in', 'num_compromised', 'root_shell',\n",
       "       'su_attempted', 'num_root', 'num_file_creations', 'num_shells',\n",
       "       'num_access_files', 'num_outbound_cmds', 'is_host_login',\n",
       "       'is_guest_login', 'count', 'srv_count', 'serror_rate',\n",
       "       'srv_serror_rate', 'rerror_rate', 'srv_rerror_rate', 'same_srv_rate',\n",
       "       'diff_srv_rate', 'srv_diff_host_rate', 'dst_host_count',\n",
       "       'dst_host_srv_count', 'dst_host_same_srv_rate',\n",
       "       'dst_host_diff_srv_rate', 'dst_host_same_src_port_rate',\n",
       "       'dst_host_srv_diff_host_rate', 'dst_host_serror_rate',\n",
       "       'dst_host_srv_serror_rate', 'dst_host_rerror_rate',\n",
       "       'dst_host_srv_rerror_rate', 'outcome'],\n",
       "      dtype='object')"
      ]
     },
     "execution_count": 9,
     "metadata": {},
     "output_type": "execute_result"
    }
   ],
   "source": [
    "network_df.columns"
   ]
  },
  {
   "cell_type": "code",
   "execution_count": 10,
   "metadata": {
    "ExecuteTime": {
     "end_time": "2019-04-19T22:44:20.628064Z",
     "start_time": "2019-04-19T22:44:20.596815Z"
    }
   },
   "outputs": [
    {
     "data": {
      "text/plain": [
       "0"
      ]
     },
     "execution_count": 10,
     "metadata": {},
     "output_type": "execute_result"
    }
   ],
   "source": [
    "network_df.columns.isnull().sum()"
   ]
  },
  {
   "cell_type": "code",
   "execution_count": 11,
   "metadata": {
    "ExecuteTime": {
     "end_time": "2019-04-19T22:44:22.300115Z",
     "start_time": "2019-04-19T22:44:21.565791Z"
    }
   },
   "outputs": [
    {
     "name": "stdout",
     "output_type": "stream",
     "text": [
      "smurf.              280790\n",
      "neptune.            107201\n",
      "normal.              97277\n",
      "back.                 2203\n",
      "satan.                1589\n",
      "ipsweep.              1247\n",
      "portsweep.            1040\n",
      "warezclient.          1020\n",
      "teardrop.              979\n",
      "pod.                   264\n",
      "nmap.                  231\n",
      "guess_passwd.           53\n",
      "buffer_overflow.        30\n",
      "land.                   21\n",
      "warezmaster.            20\n",
      "imap.                   12\n",
      "rootkit.                10\n",
      "loadmodule.              9\n",
      "ftp_write.               8\n",
      "multihop.                7\n",
      "phf.                     4\n",
      "perl.                    3\n",
      "spy.                     2\n",
      "Name: outcome, dtype: int64\n"
     ]
    }
   ],
   "source": [
    "# Before removing redundant values\n",
    "\n",
    "print(network_df.outcome.value_counts())"
   ]
  },
  {
   "cell_type": "code",
   "execution_count": 12,
   "metadata": {
    "ExecuteTime": {
     "end_time": "2019-04-19T22:44:26.333788Z",
     "start_time": "2019-04-19T22:44:22.300115Z"
    }
   },
   "outputs": [
    {
     "name": "stdout",
     "output_type": "stream",
     "text": [
      "(494020, 42)\n",
      "(494020, 42)\n",
      "Dataframe shape after removing redundant values(145585, 42) \n"
     ]
    }
   ],
   "source": [
    "print (network_df.shape)\n",
    "\n",
    "#Drop any row with missing values\n",
    "network_df = network_df.dropna()\n",
    "\n",
    "print (network_df.shape)\n",
    "\n",
    "#Drop redundant rows\n",
    "network_df.drop_duplicates(keep='first', inplace=True)\n",
    "\n",
    "print (\"Dataframe shape after removing redundant values{} \".format(network_df.shape))\n",
    "\n",
    "# Total Number of coumuns are 42"
   ]
  },
  {
   "cell_type": "code",
   "execution_count": 13,
   "metadata": {
    "ExecuteTime": {
     "end_time": "2019-04-19T22:44:26.724714Z",
     "start_time": "2019-04-19T22:44:26.662219Z"
    },
    "scrolled": false
   },
   "outputs": [
    {
     "data": {
      "text/plain": [
       "normal.             87831\n",
       "neptune.            51820\n",
       "back.                 968\n",
       "teardrop.             918\n",
       "satan.                906\n",
       "warezclient.          893\n",
       "ipsweep.              651\n",
       "smurf.                641\n",
       "portsweep.            416\n",
       "pod.                  206\n",
       "nmap.                 158\n",
       "guess_passwd.          53\n",
       "buffer_overflow.       30\n",
       "warezmaster.           20\n",
       "land.                  19\n",
       "imap.                  12\n",
       "rootkit.               10\n",
       "loadmodule.             9\n",
       "ftp_write.              8\n",
       "multihop.               7\n",
       "phf.                    4\n",
       "perl.                   3\n",
       "spy.                    2\n",
       "Name: outcome, dtype: int64"
      ]
     },
     "execution_count": 13,
     "metadata": {},
     "output_type": "execute_result"
    }
   ],
   "source": [
    "network_df.outcome.value_counts()"
   ]
  },
  {
   "cell_type": "code",
   "execution_count": 14,
   "metadata": {
    "ExecuteTime": {
     "end_time": "2019-04-19T22:44:32.726424Z",
     "start_time": "2019-04-19T22:44:30.507107Z"
    }
   },
   "outputs": [
    {
     "data": {
      "text/plain": [
       "<matplotlib.axes._subplots.AxesSubplot at 0x267efe68f28>"
      ]
     },
     "execution_count": 14,
     "metadata": {},
     "output_type": "execute_result"
    },
    {
     "data": {
      "image/png": "[encoded data removed]",
      "text/plain": [
       "<matplotlib.figure.Figure at 0x267efe68b70>"
      ]
     },
     "metadata": {
      "needs_background": "light"
     },
     "output_type": "display_data"
    }
   ],
   "source": [
    "from IPython.display import display\n",
    "import matplotlib.pyplot as plt\n",
    "import random\n",
    "import os\n",
    "%matplotlib inline\n",
    "network_df.outcome.groupby(network_df.outcome).count().sort_values()[::-1].plot(kind=\"bar\",figsize=(18, 15),color=[plt.cm.Paired(np.arange(len(network_df['outcome'])))])"
   ]
  },
  {
   "cell_type": "code",
   "execution_count": 15,
   "metadata": {
    "ExecuteTime": {
     "end_time": "2019-04-19T22:44:36.725151Z",
     "start_time": "2019-04-19T22:44:36.553289Z"
    },
    "collapsed": true
   },
   "outputs": [],
   "source": [
    "network_df_raw = network_df.copy()"
   ]
  },
  {
   "cell_type": "code",
   "execution_count": 16,
   "metadata": {
    "ExecuteTime": {
     "end_time": "2019-04-19T22:44:41.449412Z",
     "start_time": "2019-04-19T22:44:38.186203Z"
    },
    "scrolled": true
   },
   "outputs": [
    {
     "data": {
      "text/plain": [
       "duration                        2495\n",
       "protocol_type                      3\n",
       "service                           66\n",
       "flag                              11\n",
       "src_bytes                       3300\n",
       "dst_bytes                      10725\n",
       "land                               2\n",
       "wrong_fragment                     3\n",
       "urgent                             4\n",
       "hot                               22\n",
       "num_failed_logins                  6\n",
       "logged_in                          2\n",
       "num_compromised                   23\n",
       "root_shell                         2\n",
       "su_attempted                       3\n",
       "num_root                          20\n",
       "num_file_creations                18\n",
       "num_shells                         3\n",
       "num_access_files                   7\n",
       "num_outbound_cmds                  1\n",
       "is_host_login                      1\n",
       "is_guest_login                     2\n",
       "count                            490\n",
       "srv_count                        470\n",
       "serror_rate                       92\n",
       "srv_serror_rate                   51\n",
       "rerror_rate                       77\n",
       "srv_rerror_rate                   51\n",
       "same_srv_rate                     99\n",
       "diff_srv_rate                     78\n",
       "srv_diff_host_rate                64\n",
       "dst_host_count                   256\n",
       "dst_host_srv_count               256\n",
       "dst_host_same_srv_rate           101\n",
       "dst_host_diff_srv_rate           101\n",
       "dst_host_same_src_port_rate      101\n",
       "dst_host_srv_diff_host_rate       65\n",
       "dst_host_serror_rate             100\n",
       "dst_host_srv_serror_rate          72\n",
       "dst_host_rerror_rate             101\n",
       "dst_host_srv_rerror_rate         101\n",
       "outcome                           23\n",
       "dtype: int64"
      ]
     },
     "execution_count": 16,
     "metadata": {},
     "output_type": "execute_result"
    }
   ],
   "source": [
    "network_df.nunique()"
   ]
  },
  {
   "cell_type": "code",
   "execution_count": 17,
   "metadata": {
    "ExecuteTime": {
     "end_time": "2019-04-19T22:44:42.607198Z",
     "start_time": "2019-04-19T22:44:42.560326Z"
    }
   },
   "outputs": [
    {
     "data": {
      "text/plain": [
       "duration                         int64\n",
       "protocol_type                   object\n",
       "service                         object\n",
       "flag                            object\n",
       "src_bytes                        int64\n",
       "dst_bytes                        int64\n",
       "land                             int64\n",
       "wrong_fragment                   int64\n",
       "urgent                           int64\n",
       "hot                              int64\n",
       "num_failed_logins                int64\n",
       "logged_in                        int64\n",
       "num_compromised                  int64\n",
       "root_shell                       int64\n",
       "su_attempted                     int64\n",
       "num_root                         int64\n",
       "num_file_creations               int64\n",
       "num_shells                       int64\n",
       "num_access_files                 int64\n",
       "num_outbound_cmds                int64\n",
       "is_host_login                    int64\n",
       "is_guest_login                   int64\n",
       "count                            int64\n",
       "srv_count                        int64\n",
       "serror_rate                    float64\n",
       "srv_serror_rate                float64\n",
       "rerror_rate                    float64\n",
       "srv_rerror_rate                float64\n",
       "same_srv_rate                  float64\n",
       "diff_srv_rate                  float64\n",
       "srv_diff_host_rate             float64\n",
       "dst_host_count                   int64\n",
       "dst_host_srv_count               int64\n",
       "dst_host_same_srv_rate         float64\n",
       "dst_host_diff_srv_rate         float64\n",
       "dst_host_same_src_port_rate    float64\n",
       "dst_host_srv_diff_host_rate    float64\n",
       "dst_host_serror_rate           float64\n",
       "dst_host_srv_serror_rate       float64\n",
       "dst_host_rerror_rate           float64\n",
       "dst_host_srv_rerror_rate       float64\n",
       "outcome                         object\n",
       "dtype: object"
      ]
     },
     "execution_count": 17,
     "metadata": {},
     "output_type": "execute_result"
    }
   ],
   "source": [
    "network_df_raw.dtypes"
   ]
  },
  {
   "cell_type": "code",
   "execution_count": 18,
   "metadata": {
    "ExecuteTime": {
     "end_time": "2019-04-19T22:44:47.742333Z",
     "start_time": "2019-04-19T22:44:47.445474Z"
    },
    "scrolled": true
   },
   "outputs": [
    {
     "name": "stdout",
     "output_type": "stream",
     "text": [
      "0    145565\n",
      "1        20\n",
      "Name: land, dtype: int64\n",
      "0    74032\n",
      "1    71553\n",
      "Name: logged_in, dtype: int64\n",
      "0    144464\n",
      "3       910\n",
      "1       211\n",
      "Name: wrong_fragment, dtype: int64\n",
      "0    145581\n",
      "1         2\n",
      "3         1\n",
      "2         1\n",
      "Name: urgent, dtype: int64\n",
      "0     143628\n",
      "2        958\n",
      "28       274\n",
      "1        255\n",
      "4        112\n",
      "6        104\n",
      "5         51\n",
      "3         38\n",
      "14        37\n",
      "30        28\n",
      "22        28\n",
      "19        23\n",
      "18        13\n",
      "24        13\n",
      "20        10\n",
      "7          5\n",
      "17         2\n",
      "12         2\n",
      "15         1\n",
      "16         1\n",
      "10         1\n",
      "9          1\n",
      "Name: hot, dtype: int64\n",
      "0    145522\n",
      "1        57\n",
      "2         3\n",
      "5         1\n",
      "4         1\n",
      "3         1\n",
      "Name: num_failed_logins, dtype: int64\n",
      "0      144595\n",
      "1         917\n",
      "2          24\n",
      "4          16\n",
      "3          11\n",
      "6           3\n",
      "5           2\n",
      "7           2\n",
      "12          1\n",
      "9           1\n",
      "11          1\n",
      "767         1\n",
      "884         1\n",
      "16          1\n",
      "18          1\n",
      "275         1\n",
      "21          1\n",
      "22          1\n",
      "281         1\n",
      "38          1\n",
      "102         1\n",
      "238         1\n",
      "13          1\n",
      "Name: num_compromised, dtype: int64\n",
      "0    145530\n",
      "1        55\n",
      "Name: root_shell, dtype: int64\n",
      "0    145573\n",
      "2         6\n",
      "1         6\n",
      "Name: su_attempted, dtype: int64\n",
      "0    145534\n",
      "1        48\n",
      "2         3\n",
      "Name: num_shells, dtype: int64\n"
     ]
    }
   ],
   "source": [
    "# Checking and understanding each column in the dataframe\n",
    "print(network_df.land.value_counts()) # leave -2\n",
    "print(network_df.logged_in.value_counts()) # leave -2\n",
    "print(network_df.wrong_fragment.value_counts()) # one hot\n",
    "print(network_df.urgent.value_counts()) # one hot -4\n",
    "print(network_df.hot.value_counts()) # normalize\n",
    "print(network_df.num_failed_logins.value_counts()) #normalize\n",
    "print(network_df.num_compromised.value_counts()) # normalize \n",
    "print(network_df.root_shell.value_counts()) # leave -2\n",
    "print(network_df.su_attempted.value_counts()) # one hot -3\n",
    "print(network_df.num_shells.value_counts()) # one hot-3\n"
   ]
  },
  {
   "cell_type": "code",
   "execution_count": 21,
   "metadata": {
    "ExecuteTime": {
     "end_time": "2019-04-19T22:46:17.997658Z",
     "start_time": "2019-04-19T22:46:15.366681Z"
    },
    "collapsed": true
   },
   "outputs": [],
   "source": [
    "#Normalize feature input   (27)\n",
    "\n",
    "normalize_numeric_minmax(network_df,\"duration\") \n",
    "normalize_numeric_minmax(network_df,\"src_bytes\") \n",
    "normalize_numeric_minmax(network_df,\"dst_bytes\")  \n",
    "normalize_numeric_minmax(network_df,\"hot\") \n",
    "normalize_numeric_minmax(network_df,\"num_failed_logins\") \n",
    "normalize_numeric_minmax(network_df,\"num_compromised\") \n",
    "normalize_numeric_minmax(network_df,\"num_root\") \n",
    "normalize_numeric_minmax(network_df,\"num_file_creations\") \n",
    "normalize_numeric_minmax(network_df,\"num_access_files\") \n",
    "\n",
    "normalize_numeric_minmax(network_df,\"count\") \n",
    "normalize_numeric_minmax(network_df,\"srv_count\") \n",
    "normalize_numeric_minmax(network_df,\"serror_rate\") \n",
    "normalize_numeric_minmax(network_df,\"rerror_rate\") \n",
    "normalize_numeric_minmax(network_df,\"srv_rerror_rate\")  \n",
    "normalize_numeric_minmax(network_df,\"same_srv_rate\") \n",
    "normalize_numeric_minmax(network_df,\"diff_srv_rate\") \n",
    "normalize_numeric_minmax(network_df,\"srv_diff_host_rate\") \n",
    "normalize_numeric_minmax(network_df,\"dst_host_count\") \n",
    "normalize_numeric_minmax(network_df,\"dst_host_srv_count\") \n",
    "normalize_numeric_minmax(network_df,\"dst_host_same_srv_rate\") \n",
    "normalize_numeric_minmax(network_df,\"dst_host_diff_srv_rate\") \n",
    "normalize_numeric_minmax(network_df,\"dst_host_same_src_port_rate\") \n",
    "normalize_numeric_minmax(network_df,\"dst_host_srv_diff_host_rate\") \n",
    "normalize_numeric_minmax(network_df,\"dst_host_serror_rate\") \n",
    "normalize_numeric_minmax(network_df,\"dst_host_srv_serror_rate\") \n",
    "normalize_numeric_minmax(network_df,\"dst_host_rerror_rate\") \n",
    "normalize_numeric_minmax(network_df,\"dst_host_srv_rerror_rate\") "
   ]
  },
  {
   "cell_type": "code",
   "execution_count": 22,
   "metadata": {
    "ExecuteTime": {
     "end_time": "2019-04-19T22:46:27.738248Z",
     "start_time": "2019-04-19T22:46:22.631849Z"
    },
    "collapsed": true
   },
   "outputs": [],
   "source": [
    "#One hot coding discrete values (7)\n",
    "encode_text_dummy(network_df,\"protocol_type\") \n",
    "encode_text_dummy(network_df,\"service\") \n",
    "encode_text_dummy(network_df,\"flag\")\n",
    "encode_text_dummy(network_df,\"wrong_fragment\") \n",
    "encode_text_dummy(network_df,\"urgent\") \n",
    "encode_text_dummy(network_df,\"su_attempted\") \n",
    "encode_text_dummy(network_df,\"num_shells\")  "
   ]
  },
  {
   "cell_type": "markdown",
   "metadata": {},
   "source": [
    "*** Label concoding the output feature as normal = 0 and threat = 1 *** "
   ]
  },
  {
   "cell_type": "code",
   "execution_count": 23,
   "metadata": {
    "ExecuteTime": {
     "end_time": "2019-04-19T22:46:27.769498Z",
     "start_time": "2019-04-19T22:46:27.738248Z"
    },
    "collapsed": true
   },
   "outputs": [],
   "source": [
    "# create a function binary_encode_network to label encode the output feature\n",
    "binary_encode_network = lambda x: 0 if x == 'normal.' else 1"
   ]
  },
  {
   "cell_type": "code",
   "execution_count": 24,
   "metadata": {
    "ExecuteTime": {
     "end_time": "2019-04-19T22:46:30.097930Z",
     "start_time": "2019-04-19T22:46:29.754196Z"
    }
   },
   "outputs": [
    {
     "name": "stdout",
     "output_type": "stream",
     "text": [
      "(145585, 127)\n",
      "(145585, 1)\n"
     ]
    }
   ],
   "source": [
    "label_outcome_df = network_df[['outcome']]\n",
    "network_outcome_df = network_df[['outcome']]\n",
    "network_df.drop(['outcome'],inplace=True, axis=1)\n",
    "print(network_df.shape)\n",
    "print(label_outcome_df.shape)"
   ]
  },
  {
   "cell_type": "code",
   "execution_count": 25,
   "metadata": {
    "ExecuteTime": {
     "end_time": "2019-04-19T22:46:33.379971Z",
     "start_time": "2019-04-19T22:46:33.348756Z"
    },
    "collapsed": true
   },
   "outputs": [],
   "source": [
    "label_outcome_df = network_outcome_df.copy()"
   ]
  },
  {
   "cell_type": "code",
   "execution_count": 26,
   "metadata": {
    "ExecuteTime": {
     "end_time": "2019-04-19T22:46:35.117070Z",
     "start_time": "2019-04-19T22:46:34.629884Z"
    },
    "collapsed": true
   },
   "outputs": [],
   "source": [
    "#Label Encode the output column \n",
    "label_outcome_df['outcome'] = label_outcome_df['outcome'].apply(binary_encode_network)"
   ]
  },
  {
   "cell_type": "code",
   "execution_count": 27,
   "metadata": {
    "ExecuteTime": {
     "end_time": "2019-04-19T22:46:37.413760Z",
     "start_time": "2019-04-19T22:46:36.695055Z"
    },
    "collapsed": true
   },
   "outputs": [],
   "source": [
    "network_df = network_df.astype('float32')\n",
    "label_outcome_df = label_outcome_df.astype('float32')"
   ]
  },
  {
   "cell_type": "code",
   "execution_count": 28,
   "metadata": {
    "ExecuteTime": {
     "end_time": "2019-04-19T22:46:37.882474Z",
     "start_time": "2019-04-19T22:46:37.835613Z"
    }
   },
   "outputs": [
    {
     "name": "stdout",
     "output_type": "stream",
     "text": [
      "0.0    87831\n",
      "1.0    57754\n",
      "Name: outcome, dtype: int64\n"
     ]
    }
   ],
   "source": [
    "print(label_outcome_df.outcome.value_counts())"
   ]
  },
  {
   "cell_type": "code",
   "execution_count": 29,
   "metadata": {
    "ExecuteTime": {
     "end_time": "2019-04-19T22:46:43.193229Z",
     "start_time": "2019-04-19T22:46:42.459500Z"
    }
   },
   "outputs": [
    {
     "data": {
      "text/plain": [
       "<matplotlib.axes._subplots.AxesSubplot at 0x267896f5710>"
      ]
     },
     "execution_count": 29,
     "metadata": {},
     "output_type": "execute_result"
    },
    {
     "data": {
      "image/png": "[encoded data removed]",
      "text/plain": [
       "<matplotlib.figure.Figure at 0x2678110b908>"
      ]
     },
     "metadata": {
      "needs_background": "light"
     },
     "output_type": "display_data"
    }
   ],
   "source": [
    "label_outcome_df.outcome.groupby(label_outcome_df.outcome).count().sort_values()[::-1].plot(kind=\"bar\",figsize=(5, 5),color=[plt.cm.Paired(np.arange(len(label_outcome_df['outcome'])))])"
   ]
  },
  {
   "cell_type": "markdown",
   "metadata": {},
   "source": [
    "*** Splitting the data ***"
   ]
  },
  {
   "cell_type": "code",
   "execution_count": 30,
   "metadata": {
    "ExecuteTime": {
     "end_time": "2019-04-19T22:46:51.501299Z",
     "start_time": "2019-04-19T22:46:50.516990Z"
    },
    "collapsed": true
   },
   "outputs": [],
   "source": [
    "#Split for training and testing\n",
    "x_train, x_test, y_train, y_test = train_test_split(network_df.values, label_outcome_df['outcome'].values, test_size=0.2, random_state=42)"
   ]
  },
  {
   "cell_type": "code",
   "execution_count": 31,
   "metadata": {
    "ExecuteTime": {
     "end_time": "2019-04-19T22:46:52.392713Z",
     "start_time": "2019-04-19T22:46:52.361466Z"
    }
   },
   "outputs": [
    {
     "name": "stdout",
     "output_type": "stream",
     "text": [
      "(116468, 127)\n",
      "(116468,)\n",
      "(29117, 127)\n",
      "(29117,)\n"
     ]
    }
   ],
   "source": [
    "print(x_train.shape)\n",
    "print(y_train.shape)\n",
    "print(x_test.shape)\n",
    "print(y_test.shape)"
   ]
  },
  {
   "cell_type": "code",
   "execution_count": 95,
   "metadata": {
    "ExecuteTime": {
     "end_time": "2019-04-20T01:28:22.552612Z",
     "start_time": "2019-04-20T01:28:22.490114Z"
    },
    "scrolled": true
   },
   "outputs": [
    {
     "name": "stdout",
     "output_type": "stream",
     "text": [
      "        outcome\n",
      "0           0.0\n",
      "1           0.0\n",
      "2           0.0\n",
      "3           0.0\n",
      "4           0.0\n",
      "5           0.0\n",
      "6           0.0\n",
      "7           0.0\n",
      "8           0.0\n",
      "9           0.0\n",
      "10          0.0\n",
      "11          0.0\n",
      "12          0.0\n",
      "13          0.0\n",
      "14          0.0\n",
      "15          0.0\n",
      "16          0.0\n",
      "17          0.0\n",
      "18          0.0\n",
      "19          0.0\n",
      "20          0.0\n",
      "21          0.0\n",
      "22          0.0\n",
      "23          0.0\n",
      "24          0.0\n",
      "25          0.0\n",
      "26          0.0\n",
      "27          0.0\n",
      "28          0.0\n",
      "29          0.0\n",
      "...         ...\n",
      "493990      0.0\n",
      "493991      0.0\n",
      "493992      0.0\n",
      "493993      0.0\n",
      "493994      0.0\n",
      "493995      0.0\n",
      "493996      0.0\n",
      "493997      0.0\n",
      "493998      0.0\n",
      "493999      0.0\n",
      "494000      0.0\n",
      "494001      0.0\n",
      "494002      0.0\n",
      "494003      0.0\n",
      "494004      0.0\n",
      "494005      0.0\n",
      "494006      0.0\n",
      "494007      0.0\n",
      "494008      0.0\n",
      "494009      0.0\n",
      "494010      0.0\n",
      "494011      0.0\n",
      "494012      0.0\n",
      "494013      0.0\n",
      "494014      0.0\n",
      "494015      0.0\n",
      "494016      0.0\n",
      "494017      0.0\n",
      "494018      0.0\n",
      "494019      0.0\n",
      "\n",
      "[145585 rows x 1 columns]\n"
     ]
    }
   ],
   "source": [
    "outcome_one_hot_df = label_outcome_df.copy()\n",
    "print(outcome_one_hot_df)"
   ]
  },
  {
   "cell_type": "code",
   "execution_count": 96,
   "metadata": {
    "ExecuteTime": {
     "end_time": "2019-04-20T01:28:23.599869Z",
     "start_time": "2019-04-20T01:28:23.490502Z"
    },
    "collapsed": true
   },
   "outputs": [],
   "source": [
    "#One hot coding the output feature\n",
    "encode_text_dummy(outcome_one_hot_df,\"outcome\")"
   ]
  },
  {
   "cell_type": "code",
   "execution_count": 97,
   "metadata": {
    "ExecuteTime": {
     "end_time": "2019-04-20T01:28:25.135595Z",
     "start_time": "2019-04-20T01:28:25.104340Z"
    }
   },
   "outputs": [
    {
     "data": {
      "text/plain": [
       "(145585, 2)"
      ]
     },
     "execution_count": 97,
     "metadata": {},
     "output_type": "execute_result"
    }
   ],
   "source": [
    "outcome_one_hot_df.shape"
   ]
  },
  {
   "cell_type": "code",
   "execution_count": 98,
   "metadata": {
    "ExecuteTime": {
     "end_time": "2019-04-20T01:28:29.667523Z",
     "start_time": "2019-04-20T01:28:29.636277Z"
    }
   },
   "outputs": [
    {
     "name": "stdout",
     "output_type": "stream",
     "text": [
      "[[1. 0.]\n",
      " [1. 0.]\n",
      " [1. 0.]\n",
      " ...\n",
      " [1. 0.]\n",
      " [1. 0.]\n",
      " [1. 0.]]\n"
     ]
    }
   ],
   "source": [
    "print(outcome_one_hot_df.values)"
   ]
  },
  {
   "cell_type": "code",
   "execution_count": 199,
   "metadata": {
    "ExecuteTime": {
     "end_time": "2019-03-11T06:07:08.175420Z",
     "start_time": "2019-03-11T06:07:06.929015Z"
    },
    "collapsed": true
   },
   "outputs": [],
   "source": [
    "#Split for training and testing\n",
    "x_train_nn, x_test_nn, y_train_nn, y_test_nn = train_test_split(network_df.values,outcome_one_hot_df.values, test_size=0.2, random_state=42)"
   ]
  },
  {
   "cell_type": "code",
   "execution_count": 200,
   "metadata": {
    "ExecuteTime": {
     "end_time": "2019-03-11T06:07:10.819593Z",
     "start_time": "2019-03-11T06:07:10.796305Z"
    }
   },
   "outputs": [
    {
     "name": "stdout",
     "output_type": "stream",
     "text": [
      "(116468, 127)\n",
      "(116468, 2)\n",
      "(29117, 127)\n",
      "(29117, 2)\n"
     ]
    }
   ],
   "source": [
    "print(x_train_nn.shape)\n",
    "print(y_train_nn.shape)\n",
    "print(x_test_nn.shape)\n",
    "print(y_test_nn.shape)"
   ]
  },
  {
   "cell_type": "markdown",
   "metadata": {},
   "source": [
    "# ** PyTorch Implemetation **"
   ]
  },
  {
   "cell_type": "code",
   "execution_count": 30,
   "metadata": {
    "ExecuteTime": {
     "end_time": "2019-04-19T22:46:51.501299Z",
     "start_time": "2019-04-19T22:46:50.516990Z"
    },
    "collapsed": true
   },
   "outputs": [],
   "source": [
    "#Split for training and testing\n",
    "x_train, x_test, y_train, y_test = train_test_split(network_df.values, label_outcome_df['outcome'].values, test_size=0.2, random_state=42)"
   ]
  },
  {
   "cell_type": "code",
   "execution_count": 31,
   "metadata": {
    "ExecuteTime": {
     "end_time": "2019-04-19T22:46:52.392713Z",
     "start_time": "2019-04-19T22:46:52.361466Z"
    }
   },
   "outputs": [
    {
     "name": "stdout",
     "output_type": "stream",
     "text": [
      "(116468, 127)\n",
      "(116468,)\n",
      "(29117, 127)\n",
      "(29117,)\n"
     ]
    }
   ],
   "source": [
    "print(x_train.shape)\n",
    "print(y_train.shape)\n",
    "print(x_test.shape)\n",
    "print(y_test.shape)"
   ]
  },
  {
   "cell_type": "code",
   "execution_count": 34,
   "metadata": {
    "ExecuteTime": {
     "end_time": "2019-04-19T22:51:30.085108Z",
     "start_time": "2019-04-19T22:51:30.053861Z"
    }
   },
   "outputs": [
    {
     "data": {
      "text/plain": [
       "numpy.ndarray"
      ]
     },
     "execution_count": 34,
     "metadata": {},
     "output_type": "execute_result"
    }
   ],
   "source": [
    "type(y_test)"
   ]
  },
  {
   "cell_type": "markdown",
   "metadata": {},
   "source": [
    "### Converting dataset into tensor"
   ]
  },
  {
   "cell_type": "code",
   "execution_count": 32,
   "metadata": {
    "ExecuteTime": {
     "end_time": "2019-04-19T22:48:46.795614Z",
     "start_time": "2019-04-19T22:48:44.674372Z"
    },
    "collapsed": true
   },
   "outputs": [],
   "source": [
    "import torch\n",
    "import numpy as np"
   ]
  },
  {
   "cell_type": "code",
   "execution_count": 35,
   "metadata": {
    "ExecuteTime": {
     "end_time": "2019-04-19T22:51:40.152736Z",
     "start_time": "2019-04-19T22:51:40.121488Z"
    },
    "collapsed": true
   },
   "outputs": [],
   "source": [
    "X_train_torch = torch.from_numpy(x_train).float()\n",
    "X_test_torch = torch.from_numpy(x_test).float()"
   ]
  },
  {
   "cell_type": "code",
   "execution_count": 59,
   "metadata": {
    "ExecuteTime": {
     "end_time": "2019-04-19T23:10:15.692127Z",
     "start_time": "2019-04-19T23:10:15.660851Z"
    },
    "collapsed": true
   },
   "outputs": [],
   "source": [
    "Y_train_torch = torch.from_numpy(y_train).long().view(1,-1)[0]\n",
    "Y_test_torch = torch.from_numpy(y_test).long().view(1,-1)[0]"
   ]
  },
  {
   "cell_type": "code",
   "execution_count": 60,
   "metadata": {
    "ExecuteTime": {
     "end_time": "2019-04-19T23:10:17.379880Z",
     "start_time": "2019-04-19T23:10:17.348632Z"
    }
   },
   "outputs": [
    {
     "name": "stdout",
     "output_type": "stream",
     "text": [
      "torch.Size([116468, 127])\n",
      "torch.Size([116468])\n",
      "torch.Size([29117, 127])\n",
      "torch.Size([29117])\n"
     ]
    }
   ],
   "source": [
    "print(X_train_torch.shape)\n",
    "print(Y_train_torch.shape)\n",
    "print(X_test_torch.shape)\n",
    "print(Y_test_torch.shape)"
   ]
  },
  {
   "cell_type": "code",
   "execution_count": 61,
   "metadata": {
    "ExecuteTime": {
     "end_time": "2019-04-19T23:10:18.489430Z",
     "start_time": "2019-04-19T23:10:18.458209Z"
    }
   },
   "outputs": [
    {
     "data": {
      "text/plain": [
       "tensor([0, 1, 0,  ..., 1, 1, 0])"
      ]
     },
     "execution_count": 61,
     "metadata": {},
     "output_type": "execute_result"
    }
   ],
   "source": [
    "Y_train_torch"
   ]
  },
  {
   "cell_type": "code",
   "execution_count": 53,
   "metadata": {
    "ExecuteTime": {
     "end_time": "2019-04-19T23:04:45.415924Z",
     "start_time": "2019-04-19T23:04:45.384685Z"
    }
   },
   "outputs": [
    {
     "data": {
      "text/plain": [
       "torch.float32"
      ]
     },
     "execution_count": 53,
     "metadata": {},
     "output_type": "execute_result"
    }
   ],
   "source": [
    "Y_train_torch.dtype"
   ]
  },
  {
   "cell_type": "markdown",
   "metadata": {},
   "source": [
    "###   Creating Classification Model using PyTorch"
   ]
  },
  {
   "cell_type": "code",
   "execution_count": 38,
   "metadata": {
    "ExecuteTime": {
     "end_time": "2019-04-19T22:54:36.986395Z",
     "start_time": "2019-04-19T22:54:36.968158Z"
    },
    "collapsed": true
   },
   "outputs": [],
   "source": [
    "import torch\n",
    "import torch.nn as nn\n",
    "import torch.nn.functional as F"
   ]
  },
  {
   "cell_type": "code",
   "execution_count": 62,
   "metadata": {
    "ExecuteTime": {
     "end_time": "2019-04-19T23:10:25.745467Z",
     "start_time": "2019-04-19T23:10:25.714190Z"
    },
    "collapsed": true
   },
   "outputs": [],
   "source": [
    "input_size = 127  # we have 6 input features\n",
    "output_size = 2 # For 2 discrete outputs\n",
    "hidden_size = 30"
   ]
  },
  {
   "cell_type": "code",
   "execution_count": 63,
   "metadata": {
    "ExecuteTime": {
     "end_time": "2019-04-19T23:10:26.636003Z",
     "start_time": "2019-04-19T23:10:26.573516Z"
    },
    "collapsed": true
   },
   "outputs": [],
   "source": [
    "class Network(nn.Module):\n",
    "    \n",
    "    def __init__(self):\n",
    "        super(Network, self).__init__() #super(type, obj): obj must be an instance or subtype of type\n",
    "        self.fc1 = nn.Linear(input_size, hidden_size) \n",
    "        self.fc2 = nn.Linear(hidden_size, hidden_size) \n",
    "        self.fc3 = nn.Linear(hidden_size, output_size) \n",
    "    \n",
    "    def forward(self, x):\n",
    "        x = F.relu(self.fc1(x))\n",
    "        x = F.relu(self.fc2(x))  \n",
    "        \n",
    "        return F.log_softmax(x, dim=-1)"
   ]
  },
  {
   "cell_type": "code",
   "execution_count": 64,
   "metadata": {
    "ExecuteTime": {
     "end_time": "2019-04-19T23:10:27.636833Z",
     "start_time": "2019-04-19T23:10:27.605583Z"
    },
    "collapsed": true
   },
   "outputs": [],
   "source": [
    "Classification_model_torch = Network()"
   ]
  },
  {
   "cell_type": "code",
   "execution_count": 65,
   "metadata": {
    "ExecuteTime": {
     "end_time": "2019-04-19T23:10:31.102702Z",
     "start_time": "2019-04-19T23:10:31.071461Z"
    }
   },
   "outputs": [
    {
     "data": {
      "text/plain": [
       "Network(\n",
       "  (fc1): Linear(in_features=127, out_features=30, bias=True)\n",
       "  (fc2): Linear(in_features=30, out_features=30, bias=True)\n",
       "  (fc3): Linear(in_features=30, out_features=2, bias=True)\n",
       ")"
      ]
     },
     "execution_count": 65,
     "metadata": {},
     "output_type": "execute_result"
    }
   ],
   "source": [
    "Classification_model_torch"
   ]
  },
  {
   "cell_type": "code",
   "execution_count": 66,
   "metadata": {
    "ExecuteTime": {
     "end_time": "2019-04-19T23:10:32.354267Z",
     "start_time": "2019-04-19T23:10:32.323012Z"
    },
    "collapsed": true
   },
   "outputs": [],
   "source": [
    "import torch.optim as optim\n",
    "\n",
    "optimizer = optim.Adam(Classification_model_torch.parameters())\n",
    "\n",
    "loss_fn = nn.NLLLoss()"
   ]
  },
  {
   "cell_type": "code",
   "execution_count": 70,
   "metadata": {
    "ExecuteTime": {
     "end_time": "2019-04-19T23:29:54.325247Z",
     "start_time": "2019-04-19T23:11:31.451367Z"
    }
   },
   "outputs": [
    {
     "name": "stdout",
     "output_type": "stream",
     "text": [
      "epoch - 100 (6%) train loss - 0.07 test loss - 0.07 accuracy - 0.9820\n",
      "epoch - 200 (13%) train loss - 0.05 test loss - 0.05 accuracy - 0.9850\n",
      "epoch - 300 (20%) train loss - 0.04 test loss - 0.04 accuracy - 0.9902\n",
      "epoch - 400 (26%) train loss - 0.03 test loss - 0.03 accuracy - 0.9914\n",
      "epoch - 500 (33%) train loss - 0.02 test loss - 0.02 accuracy - 0.9934\n",
      "epoch - 600 (40%) train loss - 0.02 test loss - 0.02 accuracy - 0.9955\n",
      "epoch - 700 (46%) train loss - 0.01 test loss - 0.01 accuracy - 0.9965\n",
      "epoch - 800 (53%) train loss - 0.01 test loss - 0.01 accuracy - 0.9972\n",
      "epoch - 900 (60%) train loss - 0.01 test loss - 0.01 accuracy - 0.9979\n",
      "epoch - 1000 (66%) train loss - 0.01 test loss - 0.01 accuracy - 0.9981\n",
      "epoch - 1100 (73%) train loss - 0.01 test loss - 0.01 accuracy - 0.9981\n",
      "epoch - 1200 (80%) train loss - 0.01 test loss - 0.01 accuracy - 0.9982\n",
      "epoch - 1300 (86%) train loss - 0.00 test loss - 0.01 accuracy - 0.9983\n",
      "epoch - 1400 (93%) train loss - 0.00 test loss - 0.01 accuracy - 0.9984\n",
      "epoch - 1500 (100%) train loss - 0.00 test loss - 0.01 accuracy - 0.9982\n",
      "epoch - 1600 (106%) train loss - 0.00 test loss - 0.01 accuracy - 0.9982\n",
      "epoch - 1700 (113%) train loss - 0.00 test loss - 0.01 accuracy - 0.9983\n",
      "epoch - 1800 (120%) train loss - 0.00 test loss - 0.01 accuracy - 0.9984\n",
      "epoch - 1900 (126%) train loss - 0.00 test loss - 0.01 accuracy - 0.9984\n",
      "epoch - 2000 (133%) train loss - 0.00 test loss - 0.01 accuracy - 0.9984\n",
      "epoch - 2100 (140%) train loss - 0.00 test loss - 0.01 accuracy - 0.9985\n",
      "epoch - 2200 (146%) train loss - 0.00 test loss - 0.01 accuracy - 0.9987\n",
      "epoch - 2300 (153%) train loss - 0.00 test loss - 0.01 accuracy - 0.9987\n",
      "epoch - 2400 (160%) train loss - 0.00 test loss - 0.01 accuracy - 0.9986\n",
      "epoch - 2500 (166%) train loss - 0.00 test loss - 0.01 accuracy - 0.9986\n",
      "epoch - 2600 (173%) train loss - 0.00 test loss - 0.01 accuracy - 0.9986\n",
      "epoch - 2700 (180%) train loss - 0.00 test loss - 0.01 accuracy - 0.9985\n",
      "epoch - 2800 (186%) train loss - 0.00 test loss - 0.01 accuracy - 0.9986\n",
      "epoch - 2900 (193%) train loss - 0.00 test loss - 0.01 accuracy - 0.9986\n"
     ]
    }
   ],
   "source": [
    "epoch_data = []\n",
    "epochs = 3000\n",
    "\n",
    "for epoch in range(1, epochs):\n",
    "\n",
    "    optimizer.zero_grad()\n",
    "    Y_pred = Classification_model_torch(X_train_torch)\n",
    "\n",
    "    loss = loss_fn(Y_pred , Y_train_torch) # instead of fit we use loss.backwards()\n",
    "    loss.backward()  \n",
    "\n",
    "    optimizer.step()\n",
    "        \n",
    "    Y_pred_test = Classification_model_torch(X_test_torch)\n",
    "    loss_test = loss_fn(Y_pred_test, Y_test_torch)\n",
    "    \n",
    "    _,predicted = Y_pred_test.data.max(1)\n",
    "    \n",
    "    accuracy = predicted.eq(Y_test_torch.data).sum().item() / y_test.size\n",
    "    epoch_data.append([epoch, loss.data.item(), loss_test.data.item(), accuracy])\n",
    "    \n",
    "    if epoch % 100 == 0:\n",
    "        print ('epoch - %d (%d%%) train loss - %.2f test loss - %.2f accuracy - %.4f'\\\n",
    "               % (epoch, epoch/150 * 10 , loss.data.item(), loss_test.data.item(), accuracy))"
   ]
  },
  {
   "cell_type": "code",
   "execution_count": 73,
   "metadata": {
    "ExecuteTime": {
     "end_time": "2019-04-19T23:31:24.759305Z",
     "start_time": "2019-04-19T23:31:24.728054Z"
    }
   },
   "outputs": [
    {
     "data": {
      "text/plain": [
       "tensor([[ 0.0000e+00, -1.8635e+01],\n",
       "        [-2.1484e+01,  0.0000e+00],\n",
       "        [-2.7180e-05, -1.0513e+01],\n",
       "        ...,\n",
       "        [-7.3378e+00, -6.5064e-04],\n",
       "        [-6.6926e+01,  0.0000e+00],\n",
       "        [-6.6320e+01,  0.0000e+00]], grad_fn=<LogSoftmaxBackward>)"
      ]
     },
     "execution_count": 73,
     "metadata": {},
     "output_type": "execute_result"
    }
   ],
   "source": [
    "Y_pred_test"
   ]
  },
  {
   "cell_type": "code",
   "execution_count": 75,
   "metadata": {
    "ExecuteTime": {
     "end_time": "2019-04-19T23:31:45.648026Z",
     "start_time": "2019-04-19T23:31:45.507411Z"
    },
    "collapsed": true
   },
   "outputs": [],
   "source": [
    "Y_pred_test1 = Classification_model_torch(X_test_torch)  # Giving the model X_model as input to make predictions"
   ]
  },
  {
   "cell_type": "code",
   "execution_count": 76,
   "metadata": {
    "ExecuteTime": {
     "end_time": "2019-04-19T23:31:51.683362Z",
     "start_time": "2019-04-19T23:31:51.652126Z"
    },
    "collapsed": true
   },
   "outputs": [
    {
     "data": {
      "text/plain": [
       "tensor([[ 0.0000e+00, -1.8635e+01],\n",
       "        [-2.1484e+01,  0.0000e+00],\n",
       "        [-2.7180e-05, -1.0513e+01],\n",
       "        ...,\n",
       "        [-7.3378e+00, -6.5064e-04],\n",
       "        [-6.6926e+01,  0.0000e+00],\n",
       "        [-6.6320e+01,  0.0000e+00]], grad_fn=<LogSoftmaxBackward>)"
      ]
     },
     "execution_count": 76,
     "metadata": {},
     "output_type": "execute_result"
    }
   ],
   "source": [
    "Y_pred_test1"
   ]
  },
  {
   "cell_type": "code",
   "execution_count": 77,
   "metadata": {
    "ExecuteTime": {
     "end_time": "2019-04-19T23:33:22.855624Z",
     "start_time": "2019-04-19T23:33:22.808752Z"
    }
   },
   "outputs": [
    {
     "name": "stdout",
     "output_type": "stream",
     "text": [
      "Accuracy score: 0.998626232098087\n"
     ]
    }
   ],
   "source": [
    "from sklearn import metrics\n",
    "score_acc = metrics.accuracy_score(Y_test_torch, predicted)\n",
    "print(\"Accuracy score: {}\".format(score_acc))\n",
    "\n",
    "#Accuracy score: 0.9986605762956349"
   ]
  },
  {
   "cell_type": "code",
   "execution_count": 79,
   "metadata": {
    "ExecuteTime": {
     "end_time": "2019-04-19T23:36:15.327885Z",
     "start_time": "2019-04-19T23:36:15.289104Z"
    }
   },
   "outputs": [
    {
     "name": "stdout",
     "output_type": "stream",
     "text": [
      " Predicted Label - 0    Actual Label -  tensor(0)\n",
      " Predicted Label - 1    Actual Label -  tensor(1)\n",
      " Predicted Label - 0    Actual Label -  tensor(0)\n",
      " Predicted Label - 1    Actual Label -  tensor(1)\n",
      " Predicted Label - 0    Actual Label -  tensor(0)\n",
      " Predicted Label - 0    Actual Label -  tensor(0)\n",
      " Predicted Label - 0    Actual Label -  tensor(0)\n",
      " Predicted Label - 0    Actual Label -  tensor(0)\n",
      " Predicted Label - 1    Actual Label -  tensor(1)\n",
      " Predicted Label - 1    Actual Label -  tensor(1)\n"
     ]
    }
   ],
   "source": [
    "#printing the first 10 actual values and predicted values\n",
    "for i in range(10):\n",
    "   # indx = y_test.index[i]\n",
    "    print(\" Predicted Label - %s    Actual Label -  %s\" \n",
    "          %(predicted[i].item(), (Y_test_torch[i])))"
   ]
  },
  {
   "cell_type": "code",
   "execution_count": 80,
   "metadata": {
    "ExecuteTime": {
     "end_time": "2019-04-19T23:36:42.054833Z",
     "start_time": "2019-04-19T23:36:42.039209Z"
    },
    "collapsed": true
   },
   "outputs": [],
   "source": [
    "import matplotlib.pyplot as plt\n",
    "import pandas as pd"
   ]
  },
  {
   "cell_type": "code",
   "execution_count": 81,
   "metadata": {
    "ExecuteTime": {
     "end_time": "2019-04-19T23:36:51.637323Z",
     "start_time": "2019-04-19T23:36:51.606084Z"
    },
    "collapsed": true
   },
   "outputs": [],
   "source": [
    "df_epochs_data = pd.DataFrame(epoch_data, \n",
    "                              columns=[\"epoch\", \"train_loss\", \"test_loss\", \"accuracy\"])"
   ]
  },
  {
   "cell_type": "code",
   "execution_count": 82,
   "metadata": {
    "ExecuteTime": {
     "end_time": "2019-04-19T23:37:01.418410Z",
     "start_time": "2019-04-19T23:36:59.939040Z"
    },
    "scrolled": true
   },
   "outputs": [
    {
     "data": {
      "image/png": "[encoded data removed]",
      "text/plain": [
       "<matplotlib.figure.Figure at 0x267802a7208>"
      ]
     },
     "metadata": {
      "needs_background": "light"
     },
     "output_type": "display_data"
    }
   ],
   "source": [
    "f, (ax1, ax2) = plt.subplots(1, 2, figsize=(12, 4))\n",
    "\n",
    "df_epochs_data[[\"train_loss\", \"test_loss\"]].plot(ax=ax1)\n",
    "df_epochs_data[[\"accuracy\"]].plot(ax=ax2)\n",
    "plt.ylim(ymin=0.5)\n",
    "\n",
    "plt.show()"
   ]
  },
  {
   "cell_type": "code",
   "execution_count": 83,
   "metadata": {
    "ExecuteTime": {
     "end_time": "2019-04-19T23:40:35.320784Z",
     "start_time": "2019-04-19T23:40:35.136154Z"
    }
   },
   "outputs": [
    {
     "name": "stdout",
     "output_type": "stream",
     "text": [
      "Accuracy score: 0.998626232098087\n",
      "Precision score: 0.998626232098087\n",
      "Recall score: 0.998626232098087\n",
      "F1 score: 0.998626232098087\n"
     ]
    }
   ],
   "source": [
    "# Metrics\n",
    "\n",
    "#score_log_loss = metrics.log_loss(y_test_nn, model_nn_relu.predict(x_test_nn))\n",
    "#print(\"Log Loss: {}\".format(score_log_loss))\n",
    "\n",
    "score_nn_acc_relu = metrics.accuracy_score(Y_test_torch, predicted)\n",
    "print(\"Accuracy score: {}\".format(score_nn_acc_relu))\n",
    "\n",
    "score_nn_precision_relu = metrics.precision_score(Y_test_torch, predicted, average= \"weighted\")\n",
    "print(\"Precision score: {}\".format(score_nn_precision_relu))\n",
    "\n",
    "score_nn_recall_relu = metrics.recall_score(Y_test_torch, predicted, average= \"weighted\")\n",
    "print(\"Recall score: {}\".format(score_nn_recall_relu))\n",
    "\n",
    "score_nn_f1_relu = metrics.f1_score(Y_test_torch, predicted, average= \"weighted\")\n",
    "print(\"F1 score: {}\".format(score_nn_f1_relu))"
   ]
  },
  {
   "cell_type": "code",
   "execution_count": null,
   "metadata": {
    "collapsed": true
   },
   "outputs": [],
   "source": []
  },
  {
   "cell_type": "code",
   "execution_count": 84,
   "metadata": {
    "ExecuteTime": {
     "end_time": "2019-04-19T23:44:43.538967Z",
     "start_time": "2019-04-19T23:44:43.335856Z"
    }
   },
   "outputs": [
    {
     "name": "stdout",
     "output_type": "stream",
     "text": [
      "[[17569    20]\n",
      " [   20 11508]]\n"
     ]
    }
   ],
   "source": [
    "cm_nn_torch = confusion_matrix(Y_test_torch, predicted)\n",
    "print(cm_nn_torch)"
   ]
  },
  {
   "cell_type": "code",
   "execution_count": 86,
   "metadata": {
    "ExecuteTime": {
     "end_time": "2019-04-19T23:45:25.194604Z",
     "start_time": "2019-04-19T23:45:24.386193Z"
    }
   },
   "outputs": [
    {
     "name": "stdout",
     "output_type": "stream",
     "text": [
      "Plotting confusion matrix\n"
     ]
    },
    {
     "data": {
      "image/png": "[encoded data removed]",
      "text/plain": [
       "<matplotlib.figure.Figure at 0x267804ff0f0>"
      ]
     },
     "metadata": {
      "needs_background": "light"
     },
     "output_type": "display_data"
    },
    {
     "name": "stdout",
     "output_type": "stream",
     "text": [
      "             precision    recall  f1-score   support\n",
      "\n",
      "          0       1.00      1.00      1.00     17589\n",
      "          1       1.00      1.00      1.00     11528\n",
      "\n",
      "avg / total       1.00      1.00      1.00     29117\n",
      "\n"
     ]
    }
   ],
   "source": [
    "print('Plotting confusion matrix')\n",
    "plt.figure()\n",
    "plot_confusion_matrix(cm_nn_torch,label_outcome_df['outcome'].unique())\n",
    "plt.show()\n",
    "print(classification_report(Y_test_torch, predicted))"
   ]
  },
  {
   "cell_type": "code",
   "execution_count": 91,
   "metadata": {
    "ExecuteTime": {
     "end_time": "2019-04-19T23:50:41.954867Z",
     "start_time": "2019-04-19T23:50:41.314280Z"
    }
   },
   "outputs": [
    {
     "data": {
      "image/png": "[encoded data removed]",
      "text/plain": [
       "<matplotlib.figure.Figure at 0x2678062ee10>"
      ]
     },
     "metadata": {
      "needs_background": "light"
     },
     "output_type": "display_data"
    }
   ],
   "source": [
    "plot_roc(predicted,Y_test_torch)"
   ]
  },
  {
   "cell_type": "code",
   "execution_count": 92,
   "metadata": {
    "ExecuteTime": {
     "end_time": "2019-04-20T01:08:14.441569Z",
     "start_time": "2019-04-20T01:08:14.425945Z"
    }
   },
   "outputs": [
    {
     "data": {
      "text/plain": [
       "Network(\n",
       "  (fc1): Linear(in_features=127, out_features=30, bias=True)\n",
       "  (fc2): Linear(in_features=30, out_features=30, bias=True)\n",
       "  (fc3): Linear(in_features=30, out_features=2, bias=True)\n",
       ")"
      ]
     },
     "execution_count": 92,
     "metadata": {},
     "output_type": "execute_result"
    }
   ],
   "source": [
    "Classification_model_torch.eval()  "
   ]
  },
  {
   "cell_type": "code",
   "execution_count": 93,
   "metadata": {
    "ExecuteTime": {
     "end_time": "2019-04-20T01:08:30.242680Z",
     "start_time": "2019-04-20T01:08:30.227055Z"
    }
   },
   "outputs": [
    {
     "data": {
      "text/plain": [
       "Network(\n",
       "  (fc1): Linear(in_features=127, out_features=30, bias=True)\n",
       "  (fc2): Linear(in_features=30, out_features=30, bias=True)\n",
       "  (fc3): Linear(in_features=30, out_features=2, bias=True)\n",
       ")"
      ]
     },
     "execution_count": 93,
     "metadata": {},
     "output_type": "execute_result"
    }
   ],
   "source": [
    "Classification_model_torch"
   ]
  },
  {
   "cell_type": "markdown",
   "metadata": {},
   "source": [
    "# multi-class classification"
   ]
  },
  {
   "cell_type": "code",
   "execution_count": 129,
   "metadata": {
    "ExecuteTime": {
     "end_time": "2019-04-20T02:18:47.638960Z",
     "start_time": "2019-04-20T02:18:47.513971Z"
    }
   },
   "outputs": [
    {
     "name": "stdout",
     "output_type": "stream",
     "text": [
      "(145585, 127)\n",
      "(145585, 1)\n"
     ]
    }
   ],
   "source": [
    "print(network_df.shape)\n",
    "print(network_outcome_df.shape)"
   ]
  },
  {
   "cell_type": "code",
   "execution_count": 130,
   "metadata": {
    "ExecuteTime": {
     "end_time": "2019-04-20T02:18:49.076358Z",
     "start_time": "2019-04-20T02:18:48.966993Z"
    },
    "collapsed": true
   },
   "outputs": [],
   "source": [
    "df = network_outcome_df.copy()"
   ]
  },
  {
   "cell_type": "code",
   "execution_count": 131,
   "metadata": {
    "ExecuteTime": {
     "end_time": "2019-04-20T02:18:50.610831Z",
     "start_time": "2019-04-20T02:18:50.329594Z"
    }
   },
   "outputs": [
    {
     "data": {
      "text/plain": [
       "normal.             87831\n",
       "neptune.            51820\n",
       "back.                 968\n",
       "teardrop.             918\n",
       "satan.                906\n",
       "warezclient.          893\n",
       "ipsweep.              651\n",
       "smurf.                641\n",
       "portsweep.            416\n",
       "pod.                  206\n",
       "nmap.                 158\n",
       "guess_passwd.          53\n",
       "buffer_overflow.       30\n",
       "warezmaster.           20\n",
       "land.                  19\n",
       "imap.                  12\n",
       "rootkit.               10\n",
       "loadmodule.             9\n",
       "ftp_write.              8\n",
       "multihop.               7\n",
       "phf.                    4\n",
       "perl.                   3\n",
       "spy.                    2\n",
       "Name: outcome, dtype: int64"
      ]
     },
     "execution_count": 131,
     "metadata": {},
     "output_type": "execute_result"
    }
   ],
   "source": [
    "network_outcome_df.outcome.value_counts()"
   ]
  },
  {
   "cell_type": "code",
   "execution_count": 132,
   "metadata": {
    "ExecuteTime": {
     "end_time": "2019-04-20T02:18:52.642530Z",
     "start_time": "2019-04-20T02:18:51.501387Z"
    },
    "collapsed": true
   },
   "outputs": [],
   "source": [
    "df.replace('back.', 'DOS',inplace =True) \n",
    "df.replace('buffer_overflow.', 'U2R',inplace =True) \n",
    "df.replace('ftp_write.', 'R2L',inplace =True) \n",
    "df.replace('guess_passwd.', 'R2L',inplace =True) \n",
    "df.replace('imap.', 'R2L',inplace =True) \n",
    "df.replace('ipsweep.', 'Probing',inplace =True) \n",
    "df.replace('land.', 'DOS',inplace =True) \n",
    "df.replace('loadmodule.', 'U2R',inplace =True) \n",
    "df.replace('multihop.', 'R2L',inplace =True) \n",
    "df.replace('neptune.', 'DOS',inplace =True) \n",
    "df.replace('nmap.', 'Probing',inplace =True) \n",
    "df.replace('perl.', 'U2R',inplace =True) \n",
    "df.replace('phf.', 'R2L',inplace =True) \n",
    "df.replace('pod.', 'DOS',inplace =True) \n",
    "df.replace('portsweep.', 'Probing',inplace =True) \n",
    "df.replace('rootkit.', 'U2R',inplace =True) \n",
    "df.replace('satan.', 'Probing',inplace =True) \n",
    "df.replace('smurf.', 'DOS',inplace =True) \n",
    "df.replace('spy.', 'R2L',inplace =True) \n",
    "df.replace('teardrop.', 'DOS',inplace =True) \n",
    "df.replace('warezclient.', 'R2L',inplace =True) \n",
    "df.replace('warezmaster.', 'R2L',inplace =True) \n",
    "df.replace('normal.', 'NONE',inplace =True) \n"
   ]
  },
  {
   "cell_type": "code",
   "execution_count": 133,
   "metadata": {
    "ExecuteTime": {
     "end_time": "2019-04-20T02:18:54.643671Z",
     "start_time": "2019-04-20T02:18:54.565554Z"
    },
    "collapsed": true
   },
   "outputs": [
    {
     "ename": "NameError",
     "evalue": "name 'encode_text_index' is not defined",
     "output_type": "error",
     "traceback": [
      "\u001b[1;31m---------------------------------------------------------------------------\u001b[0m",
      "\u001b[1;31mNameError\u001b[0m                                 Traceback (most recent call last)",
      "\u001b[1;32m<ipython-input-133-9d17667f0b19>\u001b[0m in \u001b[0;36m<module>\u001b[1;34m()\u001b[0m\n\u001b[0;32m      1\u001b[0m \u001b[1;31m# label Encoding the output feature for classification models\u001b[0m\u001b[1;33m\u001b[0m\u001b[1;33m\u001b[0m\u001b[0m\n\u001b[1;32m----> 2\u001b[1;33m \u001b[0moutcome_label\u001b[0m \u001b[1;33m=\u001b[0m \u001b[0mencode_text_index\u001b[0m\u001b[1;33m(\u001b[0m\u001b[0moutcome_label\u001b[0m\u001b[1;33m,\u001b[0m\u001b[1;34m'outcome'\u001b[0m\u001b[1;33m)\u001b[0m\u001b[1;33m\u001b[0m\u001b[0m\n\u001b[0m",
      "\u001b[1;31mNameError\u001b[0m: name 'encode_text_index' is not defined"
     ]
    }
   ],
   "source": [
    "# label Encoding the output feature for classification models\n",
    "outcome_label = encode_text_index(outcome_label,'outcome')"
   ]
  },
  {
   "cell_type": "code",
   "execution_count": 134,
   "metadata": {
    "ExecuteTime": {
     "end_time": "2019-04-20T02:20:59.752453Z",
     "start_time": "2019-04-20T02:20:59.283650Z"
    },
    "collapsed": true
   },
   "outputs": [],
   "source": [
    "le = preprocessing.LabelEncoder()\n",
    "df['label'] = le.fit_transform(df['outcome'])"
   ]
  },
  {
   "cell_type": "code",
   "execution_count": 135,
   "metadata": {
    "ExecuteTime": {
     "end_time": "2019-04-20T02:21:01.019132Z",
     "start_time": "2019-04-20T02:21:00.940983Z"
    }
   },
   "outputs": [
    {
     "data": {
      "text/plain": [
       "1    87831\n",
       "0    54572\n",
       "2     2131\n",
       "3      999\n",
       "4       52\n",
       "Name: label, dtype: int64"
      ]
     },
     "execution_count": 135,
     "metadata": {},
     "output_type": "execute_result"
    }
   ],
   "source": [
    "df.label.value_counts()"
   ]
  },
  {
   "cell_type": "code",
   "execution_count": 136,
   "metadata": {
    "ExecuteTime": {
     "end_time": "2019-04-20T02:21:07.154638Z",
     "start_time": "2019-04-20T02:21:07.107843Z"
    }
   },
   "outputs": [
    {
     "name": "stdout",
     "output_type": "stream",
     "text": [
      "{'DOS': 0, 'NONE': 1, 'Probing': 2, 'R2L': 3, 'U2R': 4}\n"
     ]
    }
   ],
   "source": [
    "#printing the labels to be predicted\n",
    "le_name_mapping1 = dict(zip(le.classes_, le.transform(le.classes_)))\n",
    "print(le_name_mapping1)"
   ]
  },
  {
   "cell_type": "code",
   "execution_count": 137,
   "metadata": {
    "ExecuteTime": {
     "end_time": "2019-04-20T02:21:16.668090Z",
     "start_time": "2019-04-20T02:21:11.874060Z"
    }
   },
   "outputs": [
    {
     "data": {
      "text/plain": [
       "<matplotlib.axes._subplots.AxesSubplot at 0x26786c372e8>"
      ]
     },
     "execution_count": 137,
     "metadata": {},
     "output_type": "execute_result"
    },
    {
     "data": {
      "image/png": "[encoded data removed]",
      "text/plain": [
       "<matplotlib.figure.Figure at 0x26786c370f0>"
      ]
     },
     "metadata": {
      "needs_background": "light"
     },
     "output_type": "display_data"
    }
   ],
   "source": [
    "df.outcome.groupby(df.outcome).count().sort_values()[::-1].plot(kind=\"bar\",figsize=(5, 5),color=[plt.cm.Paired(np.arange(len(df['outcome'])))])"
   ]
  },
  {
   "cell_type": "code",
   "execution_count": 138,
   "metadata": {
    "ExecuteTime": {
     "end_time": "2019-04-20T02:21:27.619037Z",
     "start_time": "2019-04-20T02:21:26.728030Z"
    },
    "collapsed": true
   },
   "outputs": [],
   "source": [
    "#Split for training and testing\n",
    "x_train_mc, x_test_mc, y_train_mc, y_test_mc = train_test_split(network_df, df['label'], test_size=0.2, random_state=42)\n"
   ]
  },
  {
   "cell_type": "code",
   "execution_count": 139,
   "metadata": {
    "ExecuteTime": {
     "end_time": "2019-04-20T02:21:28.541427Z",
     "start_time": "2019-04-20T02:21:28.494532Z"
    }
   },
   "outputs": [
    {
     "name": "stdout",
     "output_type": "stream",
     "text": [
      "(116468, 127)\n",
      "(116468,)\n",
      "(29117, 127)\n",
      "(29117,)\n"
     ]
    }
   ],
   "source": [
    "print(x_train_mc.shape)\n",
    "print(y_train_mc.shape)\n",
    "print(x_test_mc.shape)\n",
    "print(y_test_mc.shape)"
   ]
  },
  {
   "cell_type": "markdown",
   "metadata": {},
   "source": [
    "# ** PyTorch Multi- Classifier**"
   ]
  },
  {
   "cell_type": "code",
   "execution_count": 140,
   "metadata": {
    "ExecuteTime": {
     "end_time": "2019-04-20T02:24:48.568858Z",
     "start_time": "2019-04-20T02:24:48.537609Z"
    },
    "collapsed": true
   },
   "outputs": [],
   "source": [
    "import torch\n",
    "import numpy as np"
   ]
  },
  {
   "cell_type": "code",
   "execution_count": 142,
   "metadata": {
    "ExecuteTime": {
     "end_time": "2019-04-20T02:25:21.629744Z",
     "start_time": "2019-04-20T02:25:21.598518Z"
    },
    "collapsed": true
   },
   "outputs": [],
   "source": [
    "X_train_torch = torch.from_numpy(x_train_mc.values).float()\n",
    "X_test_torch = torch.from_numpy(x_test_mc.values).float()"
   ]
  },
  {
   "cell_type": "code",
   "execution_count": 144,
   "metadata": {
    "ExecuteTime": {
     "end_time": "2019-04-20T02:25:50.180862Z",
     "start_time": "2019-04-20T02:25:50.133964Z"
    },
    "collapsed": true
   },
   "outputs": [],
   "source": [
    "Y_train_torch = torch.from_numpy(y_train_mc.values).long().view(1,-1)[0]\n",
    "Y_test_torch = torch.from_numpy(y_test_mc.values).long().view(1,-1)[0]"
   ]
  },
  {
   "cell_type": "code",
   "execution_count": 145,
   "metadata": {
    "ExecuteTime": {
     "end_time": "2019-04-20T02:25:52.334200Z",
     "start_time": "2019-04-20T02:25:52.302952Z"
    }
   },
   "outputs": [
    {
     "name": "stdout",
     "output_type": "stream",
     "text": [
      "torch.Size([116468, 127])\n",
      "torch.Size([116468])\n",
      "torch.Size([29117, 127])\n",
      "torch.Size([29117])\n"
     ]
    }
   ],
   "source": [
    "print(X_train_torch.shape)\n",
    "print(Y_train_torch.shape)\n",
    "print(X_test_torch.shape)\n",
    "print(Y_test_torch.shape)"
   ]
  },
  {
   "cell_type": "code",
   "execution_count": 147,
   "metadata": {
    "ExecuteTime": {
     "end_time": "2019-04-20T02:26:11.275426Z",
     "start_time": "2019-04-20T02:26:11.166058Z"
    }
   },
   "outputs": [
    {
     "data": {
      "text/plain": [
       "tensor([1, 0, 3, 2, 4])"
      ]
     },
     "execution_count": 147,
     "metadata": {},
     "output_type": "execute_result"
    }
   ],
   "source": [
    "Y_train_torch.unique()"
   ]
  },
  {
   "cell_type": "code",
   "execution_count": 148,
   "metadata": {
    "ExecuteTime": {
     "end_time": "2019-04-20T02:26:16.303825Z",
     "start_time": "2019-04-20T02:26:16.272607Z"
    }
   },
   "outputs": [
    {
     "data": {
      "text/plain": [
       "torch.int64"
      ]
     },
     "execution_count": 148,
     "metadata": {},
     "output_type": "execute_result"
    }
   ],
   "source": [
    "Y_train_torch.dtype"
   ]
  },
  {
   "cell_type": "markdown",
   "metadata": {},
   "source": [
    "##  Creating Classification Model using PyTorch"
   ]
  },
  {
   "cell_type": "code",
   "execution_count": 149,
   "metadata": {
    "ExecuteTime": {
     "end_time": "2019-04-20T02:26:20.523461Z",
     "start_time": "2019-04-20T02:26:20.492214Z"
    },
    "collapsed": true
   },
   "outputs": [],
   "source": [
    "import torch\n",
    "import torch.nn as nn\n",
    "import torch.nn.functional as F"
   ]
  },
  {
   "cell_type": "code",
   "execution_count": 150,
   "metadata": {
    "ExecuteTime": {
     "end_time": "2019-04-20T02:26:29.415631Z",
     "start_time": "2019-04-20T02:26:29.400009Z"
    },
    "collapsed": true
   },
   "outputs": [],
   "source": [
    "input_size = 127  # we have 6 input features\n",
    "output_size = 5 # For 2 discrete outputs\n",
    "hidden_size = 30"
   ]
  },
  {
   "cell_type": "code",
   "execution_count": 151,
   "metadata": {
    "ExecuteTime": {
     "end_time": "2019-04-20T02:26:32.896437Z",
     "start_time": "2019-04-20T02:26:32.802698Z"
    },
    "collapsed": true
   },
   "outputs": [],
   "source": [
    "class Network(nn.Module):\n",
    "    \n",
    "    def __init__(self):\n",
    "        super(Network, self).__init__() #super(type, obj): obj must be an instance or subtype of type\n",
    "        self.fc1 = nn.Linear(input_size, hidden_size) \n",
    "        self.fc2 = nn.Linear(hidden_size, hidden_size) \n",
    "        self.fc3 = nn.Linear(hidden_size, output_size) \n",
    "    \n",
    "    def forward(self, x):\n",
    "        x = F.relu(self.fc1(x))\n",
    "        x = F.relu(self.fc2(x)) \n",
    "        x = self.fc3(x)\n",
    "        \n",
    "        return F.log_softmax(x, dim=-1)"
   ]
  },
  {
   "cell_type": "code",
   "execution_count": 152,
   "metadata": {
    "ExecuteTime": {
     "end_time": "2019-04-20T02:26:35.556708Z",
     "start_time": "2019-04-20T02:26:35.509837Z"
    },
    "collapsed": true
   },
   "outputs": [],
   "source": [
    "Classification_model_torch = Network()"
   ]
  },
  {
   "cell_type": "code",
   "execution_count": 153,
   "metadata": {
    "ExecuteTime": {
     "end_time": "2019-04-20T02:26:36.728797Z",
     "start_time": "2019-04-20T02:26:36.697552Z"
    }
   },
   "outputs": [
    {
     "data": {
      "text/plain": [
       "Network(\n",
       "  (fc1): Linear(in_features=127, out_features=30, bias=True)\n",
       "  (fc2): Linear(in_features=30, out_features=30, bias=True)\n",
       "  (fc3): Linear(in_features=30, out_features=5, bias=True)\n",
       ")"
      ]
     },
     "execution_count": 153,
     "metadata": {},
     "output_type": "execute_result"
    }
   ],
   "source": [
    "Classification_model_torch"
   ]
  },
  {
   "cell_type": "code",
   "execution_count": 154,
   "metadata": {
    "ExecuteTime": {
     "end_time": "2019-04-20T02:26:38.572915Z",
     "start_time": "2019-04-20T02:26:38.541668Z"
    },
    "collapsed": true
   },
   "outputs": [],
   "source": [
    "import torch.optim as optim\n",
    "\n",
    "optimizer = optim.Adam(Classification_model_torch.parameters())\n",
    "\n",
    "loss_fn = nn.NLLLoss()"
   ]
  },
  {
   "cell_type": "code",
   "execution_count": 155,
   "metadata": {
    "ExecuteTime": {
     "end_time": "2019-04-20T02:31:53.797646Z",
     "start_time": "2019-04-20T02:26:42.152693Z"
    },
    "collapsed": true
   },
   "outputs": [
    {
     "name": "stdout",
     "output_type": "stream",
     "text": [
      "epoch - 100 (6%) train loss - 0.20 test loss - 0.19 accuracy - 0.9612\n",
      "epoch - 200 (13%) train loss - 0.11 test loss - 0.10 accuracy - 0.9733\n",
      "epoch - 300 (20%) train loss - 0.06 test loss - 0.06 accuracy - 0.9834\n",
      "epoch - 400 (26%) train loss - 0.04 test loss - 0.04 accuracy - 0.9894\n",
      "epoch - 500 (33%) train loss - 0.03 test loss - 0.03 accuracy - 0.9922\n",
      "epoch - 600 (40%) train loss - 0.02 test loss - 0.02 accuracy - 0.9940\n",
      "epoch - 700 (46%) train loss - 0.02 test loss - 0.02 accuracy - 0.9956\n"
     ]
    },
    {
     "ename": "KeyboardInterrupt",
     "evalue": "",
     "output_type": "error",
     "traceback": [
      "\u001b[1;31m---------------------------------------------------------------------------\u001b[0m",
      "\u001b[1;31mKeyboardInterrupt\u001b[0m                         Traceback (most recent call last)",
      "\u001b[1;32m<ipython-input-155-92468745113a>\u001b[0m in \u001b[0;36m<module>\u001b[1;34m()\u001b[0m\n\u001b[0;32m      8\u001b[0m \u001b[1;33m\u001b[0m\u001b[0m\n\u001b[0;32m      9\u001b[0m     \u001b[0mloss\u001b[0m \u001b[1;33m=\u001b[0m \u001b[0mloss_fn\u001b[0m\u001b[1;33m(\u001b[0m\u001b[0mY_pred\u001b[0m \u001b[1;33m,\u001b[0m \u001b[0mY_train_torch\u001b[0m\u001b[1;33m)\u001b[0m \u001b[1;31m# instead of fit we use loss.backwards()\u001b[0m\u001b[1;33m\u001b[0m\u001b[0m\n\u001b[1;32m---> 10\u001b[1;33m     \u001b[0mloss\u001b[0m\u001b[1;33m.\u001b[0m\u001b[0mbackward\u001b[0m\u001b[1;33m(\u001b[0m\u001b[1;33m)\u001b[0m\u001b[1;33m\u001b[0m\u001b[0m\n\u001b[0m\u001b[0;32m     11\u001b[0m \u001b[1;33m\u001b[0m\u001b[0m\n\u001b[0;32m     12\u001b[0m     \u001b[0moptimizer\u001b[0m\u001b[1;33m.\u001b[0m\u001b[0mstep\u001b[0m\u001b[1;33m(\u001b[0m\u001b[1;33m)\u001b[0m\u001b[1;33m\u001b[0m\u001b[0m\n",
      "\u001b[1;32m~\\Anaconda3\\lib\\site-packages\\torch\\tensor.py\u001b[0m in \u001b[0;36mbackward\u001b[1;34m(self, gradient, retain_graph, create_graph)\u001b[0m\n\u001b[0;32m    100\u001b[0m                 \u001b[0mproducts\u001b[0m\u001b[1;33m.\u001b[0m \u001b[0mDefaults\u001b[0m \u001b[0mto\u001b[0m\u001b[0;31m \u001b[0m\u001b[0;31m`\u001b[0m\u001b[0;31m`\u001b[0m\u001b[1;32mFalse\u001b[0m\u001b[0;31m`\u001b[0m\u001b[0;31m`\u001b[0m\u001b[1;33m.\u001b[0m\u001b[1;33m\u001b[0m\u001b[0m\n\u001b[0;32m    101\u001b[0m         \"\"\"\n\u001b[1;32m--> 102\u001b[1;33m         \u001b[0mtorch\u001b[0m\u001b[1;33m.\u001b[0m\u001b[0mautograd\u001b[0m\u001b[1;33m.\u001b[0m\u001b[0mbackward\u001b[0m\u001b[1;33m(\u001b[0m\u001b[0mself\u001b[0m\u001b[1;33m,\u001b[0m \u001b[0mgradient\u001b[0m\u001b[1;33m,\u001b[0m \u001b[0mretain_graph\u001b[0m\u001b[1;33m,\u001b[0m \u001b[0mcreate_graph\u001b[0m\u001b[1;33m)\u001b[0m\u001b[1;33m\u001b[0m\u001b[0m\n\u001b[0m\u001b[0;32m    103\u001b[0m \u001b[1;33m\u001b[0m\u001b[0m\n\u001b[0;32m    104\u001b[0m     \u001b[1;32mdef\u001b[0m \u001b[0mregister_hook\u001b[0m\u001b[1;33m(\u001b[0m\u001b[0mself\u001b[0m\u001b[1;33m,\u001b[0m \u001b[0mhook\u001b[0m\u001b[1;33m)\u001b[0m\u001b[1;33m:\u001b[0m\u001b[1;33m\u001b[0m\u001b[0m\n",
      "\u001b[1;32m~\\Anaconda3\\lib\\site-packages\\torch\\autograd\\__init__.py\u001b[0m in \u001b[0;36mbackward\u001b[1;34m(tensors, grad_tensors, retain_graph, create_graph, grad_variables)\u001b[0m\n\u001b[0;32m     88\u001b[0m     Variable._execution_engine.run_backward(\n\u001b[0;32m     89\u001b[0m         \u001b[0mtensors\u001b[0m\u001b[1;33m,\u001b[0m \u001b[0mgrad_tensors\u001b[0m\u001b[1;33m,\u001b[0m \u001b[0mretain_graph\u001b[0m\u001b[1;33m,\u001b[0m \u001b[0mcreate_graph\u001b[0m\u001b[1;33m,\u001b[0m\u001b[1;33m\u001b[0m\u001b[0m\n\u001b[1;32m---> 90\u001b[1;33m         allow_unreachable=True)  # allow_unreachable flag\n\u001b[0m\u001b[0;32m     91\u001b[0m \u001b[1;33m\u001b[0m\u001b[0m\n\u001b[0;32m     92\u001b[0m \u001b[1;33m\u001b[0m\u001b[0m\n",
      "\u001b[1;31mKeyboardInterrupt\u001b[0m: "
     ]
    }
   ],
   "source": [
    "epoch_data = []\n",
    "epochs = 1000\n",
    "\n",
    "for epoch in range(1, epochs):\n",
    "\n",
    "    optimizer.zero_grad()\n",
    "    Y_pred = Classification_model_torch(X_train_torch)\n",
    "\n",
    "    loss = loss_fn(Y_pred , Y_train_torch) # instead of fit we use loss.backwards()\n",
    "    loss.backward()  \n",
    "\n",
    "    optimizer.step()\n",
    "        \n",
    "    Y_pred_test = Classification_model_torch(X_test_torch)\n",
    "    loss_test = loss_fn(Y_pred_test, Y_test_torch)\n",
    "    \n",
    "    _,predicted = Y_pred_test.data.max(1)\n",
    "    \n",
    "    accuracy = predicted.eq(Y_test_torch.data).sum().item() / y_test.size\n",
    "    epoch_data.append([epoch, loss.data.item(), loss_test.data.item(), accuracy])\n",
    "    \n",
    "    if epoch % 100 == 0:\n",
    "        print ('epoch - %d (%d%%) train loss - %.2f test loss - %.2f accuracy - %.4f'\\\n",
    "               % (epoch, epoch/150 * 10 , loss.data.item(), loss_test.data.item(), accuracy))"
   ]
  },
  {
   "cell_type": "code",
   "execution_count": 156,
   "metadata": {
    "ExecuteTime": {
     "end_time": "2019-04-20T02:32:06.094530Z",
     "start_time": "2019-04-20T02:32:06.016439Z"
    }
   },
   "outputs": [
    {
     "data": {
      "text/plain": [
       "tensor([[-6.9026e+00, -1.0524e-03, -1.2171e+01, -1.0565e+01, -1.1060e+01],\n",
       "        [-8.5260e+00, -9.2244e+00, -3.1185e-04, -1.1653e+01, -1.1978e+01],\n",
       "        [-4.6688e+00, -9.5177e-03, -1.1445e+01, -9.7807e+00, -1.0723e+01],\n",
       "        ...,\n",
       "        [-9.6602e-03, -4.8734e+00, -6.2682e+00, -9.7286e+00, -1.1383e+01],\n",
       "        [-9.5367e-06, -2.1243e+01, -1.1530e+01, -1.8946e+01, -1.9021e+01],\n",
       "        [-1.0490e-05, -2.1108e+01, -1.1464e+01, -1.8834e+01, -1.8904e+01]],\n",
       "       grad_fn=<LogSoftmaxBackward>)"
      ]
     },
     "execution_count": 156,
     "metadata": {},
     "output_type": "execute_result"
    }
   ],
   "source": [
    "Y_pred_test"
   ]
  },
  {
   "cell_type": "code",
   "execution_count": 157,
   "metadata": {
    "ExecuteTime": {
     "end_time": "2019-04-20T02:32:09.536486Z",
     "start_time": "2019-04-20T02:32:09.380028Z"
    },
    "collapsed": true
   },
   "outputs": [],
   "source": [
    "Y_pred_test1 = Classification_model_torch(X_test_torch)  # Giving the model X_model as input to make predictions"
   ]
  },
  {
   "cell_type": "code",
   "execution_count": 158,
   "metadata": {
    "ExecuteTime": {
     "end_time": "2019-04-20T02:32:10.661411Z",
     "start_time": "2019-04-20T02:32:10.630162Z"
    },
    "collapsed": true
   },
   "outputs": [
    {
     "data": {
      "text/plain": [
       "tensor([[-6.9026e+00, -1.0524e-03, -1.2171e+01, -1.0565e+01, -1.1060e+01],\n",
       "        [-8.5260e+00, -9.2244e+00, -3.1185e-04, -1.1653e+01, -1.1978e+01],\n",
       "        [-4.6688e+00, -9.5177e-03, -1.1445e+01, -9.7807e+00, -1.0723e+01],\n",
       "        ...,\n",
       "        [-9.6602e-03, -4.8734e+00, -6.2682e+00, -9.7286e+00, -1.1383e+01],\n",
       "        [-9.5367e-06, -2.1243e+01, -1.1530e+01, -1.8946e+01, -1.9021e+01],\n",
       "        [-1.0490e-05, -2.1108e+01, -1.1464e+01, -1.8834e+01, -1.8904e+01]],\n",
       "       grad_fn=<LogSoftmaxBackward>)"
      ]
     },
     "execution_count": 158,
     "metadata": {},
     "output_type": "execute_result"
    }
   ],
   "source": [
    "Y_pred_test1"
   ]
  },
  {
   "cell_type": "code",
   "execution_count": 159,
   "metadata": {
    "ExecuteTime": {
     "end_time": "2019-04-20T02:33:22.076157Z",
     "start_time": "2019-04-20T02:33:22.029277Z"
    }
   },
   "outputs": [
    {
     "name": "stdout",
     "output_type": "stream",
     "text": [
      "Accuracy score: 0.9961191056770958\n"
     ]
    }
   ],
   "source": [
    "from sklearn import metrics\n",
    "score_acc = metrics.accuracy_score(Y_test_torch, predicted)\n",
    "print(\"Accuracy score: {}\".format(score_acc))\n",
    "\n",
    "#Accuracy score: 0.9986605762956349"
   ]
  },
  {
   "cell_type": "code",
   "execution_count": 163,
   "metadata": {
    "ExecuteTime": {
     "end_time": "2019-04-20T02:34:26.512840Z",
     "start_time": "2019-04-20T02:34:25.676423Z"
    },
    "collapsed": true
   },
   "outputs": [
    {
     "name": "stdout",
     "output_type": "stream",
     "text": [
      " Predicted Label - 0    Actual Label -  tensor(0)\n",
      " Predicted Label - 1    Actual Label -  tensor(1)\n",
      " Predicted Label - 1    Actual Label -  tensor(1)\n",
      " Predicted Label - 0    Actual Label -  tensor(0)\n",
      " Predicted Label - 1    Actual Label -  tensor(1)\n",
      " Predicted Label - 1    Actual Label -  tensor(1)\n",
      " Predicted Label - 3    Actual Label -  tensor(3)\n",
      " Predicted Label - 1    Actual Label -  tensor(1)\n",
      " Predicted Label - 0    Actual Label -  tensor(0)\n",
      " Predicted Label - 1    Actual Label -  tensor(1)\n",
      " Predicted Label - 1    Actual Label -  tensor(1)\n",
      " Predicted Label - 1    Actual Label -  tensor(1)\n",
      " Predicted Label - 1    Actual Label -  tensor(1)\n",
      " Predicted Label - 1    Actual Label -  tensor(1)\n",
      " Predicted Label - 1    Actual Label -  tensor(1)\n",
      " Predicted Label - 1    Actual Label -  tensor(1)\n",
      " Predicted Label - 1    Actual Label -  tensor(1)\n",
      " Predicted Label - 1    Actual Label -  tensor(1)\n",
      " Predicted Label - 0    Actual Label -  tensor(0)\n",
      " Predicted Label - 1    Actual Label -  tensor(1)\n",
      " Predicted Label - 1    Actual Label -  tensor(1)\n",
      " Predicted Label - 1    Actual Label -  tensor(1)\n",
      " Predicted Label - 0    Actual Label -  tensor(0)\n",
      " Predicted Label - 0    Actual Label -  tensor(0)\n",
      " Predicted Label - 0    Actual Label -  tensor(0)\n",
      " Predicted Label - 1    Actual Label -  tensor(1)\n",
      " Predicted Label - 1    Actual Label -  tensor(1)\n",
      " Predicted Label - 0    Actual Label -  tensor(0)\n",
      " Predicted Label - 1    Actual Label -  tensor(1)\n",
      " Predicted Label - 0    Actual Label -  tensor(0)\n",
      " Predicted Label - 2    Actual Label -  tensor(2)\n",
      " Predicted Label - 1    Actual Label -  tensor(1)\n",
      " Predicted Label - 1    Actual Label -  tensor(1)\n",
      " Predicted Label - 0    Actual Label -  tensor(0)\n",
      " Predicted Label - 1    Actual Label -  tensor(1)\n",
      " Predicted Label - 0    Actual Label -  tensor(0)\n",
      " Predicted Label - 1    Actual Label -  tensor(1)\n",
      " Predicted Label - 1    Actual Label -  tensor(1)\n",
      " Predicted Label - 0    Actual Label -  tensor(0)\n",
      " Predicted Label - 1    Actual Label -  tensor(1)\n",
      " Predicted Label - 1    Actual Label -  tensor(1)\n",
      " Predicted Label - 1    Actual Label -  tensor(1)\n",
      " Predicted Label - 0    Actual Label -  tensor(0)\n",
      " Predicted Label - 1    Actual Label -  tensor(1)\n",
      " Predicted Label - 1    Actual Label -  tensor(1)\n",
      " Predicted Label - 0    Actual Label -  tensor(0)\n",
      " Predicted Label - 1    Actual Label -  tensor(1)\n",
      " Predicted Label - 0    Actual Label -  tensor(0)\n",
      " Predicted Label - 0    Actual Label -  tensor(0)\n",
      " Predicted Label - 1    Actual Label -  tensor(1)\n",
      " Predicted Label - 0    Actual Label -  tensor(0)\n",
      " Predicted Label - 1    Actual Label -  tensor(1)\n",
      " Predicted Label - 1    Actual Label -  tensor(1)\n",
      " Predicted Label - 1    Actual Label -  tensor(1)\n",
      " Predicted Label - 0    Actual Label -  tensor(0)\n",
      " Predicted Label - 1    Actual Label -  tensor(1)\n",
      " Predicted Label - 1    Actual Label -  tensor(1)\n",
      " Predicted Label - 0    Actual Label -  tensor(0)\n",
      " Predicted Label - 0    Actual Label -  tensor(0)\n",
      " Predicted Label - 0    Actual Label -  tensor(0)\n",
      " Predicted Label - 1    Actual Label -  tensor(1)\n",
      " Predicted Label - 1    Actual Label -  tensor(1)\n",
      " Predicted Label - 1    Actual Label -  tensor(1)\n",
      " Predicted Label - 1    Actual Label -  tensor(1)\n",
      " Predicted Label - 1    Actual Label -  tensor(1)\n",
      " Predicted Label - 0    Actual Label -  tensor(0)\n",
      " Predicted Label - 0    Actual Label -  tensor(0)\n",
      " Predicted Label - 1    Actual Label -  tensor(1)\n",
      " Predicted Label - 1    Actual Label -  tensor(1)\n",
      " Predicted Label - 0    Actual Label -  tensor(0)\n",
      " Predicted Label - 0    Actual Label -  tensor(0)\n",
      " Predicted Label - 1    Actual Label -  tensor(1)\n",
      " Predicted Label - 1    Actual Label -  tensor(1)\n",
      " Predicted Label - 1    Actual Label -  tensor(1)\n",
      " Predicted Label - 0    Actual Label -  tensor(0)\n",
      " Predicted Label - 0    Actual Label -  tensor(0)\n",
      " Predicted Label - 0    Actual Label -  tensor(0)\n",
      " Predicted Label - 1    Actual Label -  tensor(1)\n",
      " Predicted Label - 0    Actual Label -  tensor(0)\n",
      " Predicted Label - 0    Actual Label -  tensor(0)\n",
      " Predicted Label - 1    Actual Label -  tensor(1)\n",
      " Predicted Label - 0    Actual Label -  tensor(0)\n",
      " Predicted Label - 1    Actual Label -  tensor(1)\n",
      " Predicted Label - 0    Actual Label -  tensor(0)\n",
      " Predicted Label - 1    Actual Label -  tensor(1)\n",
      " Predicted Label - 1    Actual Label -  tensor(1)\n",
      " Predicted Label - 0    Actual Label -  tensor(0)\n",
      " Predicted Label - 1    Actual Label -  tensor(1)\n",
      " Predicted Label - 1    Actual Label -  tensor(1)\n",
      " Predicted Label - 1    Actual Label -  tensor(1)\n",
      " Predicted Label - 1    Actual Label -  tensor(1)\n",
      " Predicted Label - 0    Actual Label -  tensor(0)\n",
      " Predicted Label - 1    Actual Label -  tensor(1)\n",
      " Predicted Label - 1    Actual Label -  tensor(1)\n",
      " Predicted Label - 0    Actual Label -  tensor(0)\n",
      " Predicted Label - 0    Actual Label -  tensor(0)\n",
      " Predicted Label - 1    Actual Label -  tensor(1)\n",
      " Predicted Label - 1    Actual Label -  tensor(1)\n",
      " Predicted Label - 0    Actual Label -  tensor(0)\n",
      " Predicted Label - 1    Actual Label -  tensor(1)\n",
      " Predicted Label - 0    Actual Label -  tensor(0)\n",
      " Predicted Label - 0    Actual Label -  tensor(0)\n",
      " Predicted Label - 0    Actual Label -  tensor(0)\n",
      " Predicted Label - 0    Actual Label -  tensor(0)\n",
      " Predicted Label - 0    Actual Label -  tensor(0)\n",
      " Predicted Label - 1    Actual Label -  tensor(1)\n",
      " Predicted Label - 1    Actual Label -  tensor(1)\n",
      " Predicted Label - 0    Actual Label -  tensor(0)\n",
      " Predicted Label - 0    Actual Label -  tensor(0)\n",
      " Predicted Label - 1    Actual Label -  tensor(1)\n",
      " Predicted Label - 1    Actual Label -  tensor(1)\n",
      " Predicted Label - 1    Actual Label -  tensor(1)\n",
      " Predicted Label - 0    Actual Label -  tensor(0)\n",
      " Predicted Label - 1    Actual Label -  tensor(1)\n",
      " Predicted Label - 1    Actual Label -  tensor(1)\n",
      " Predicted Label - 1    Actual Label -  tensor(1)\n",
      " Predicted Label - 1    Actual Label -  tensor(1)\n",
      " Predicted Label - 1    Actual Label -  tensor(3)\n",
      " Predicted Label - 0    Actual Label -  tensor(0)\n",
      " Predicted Label - 0    Actual Label -  tensor(0)\n",
      " Predicted Label - 0    Actual Label -  tensor(0)\n",
      " Predicted Label - 1    Actual Label -  tensor(1)\n",
      " Predicted Label - 1    Actual Label -  tensor(1)\n",
      " Predicted Label - 1    Actual Label -  tensor(1)\n",
      " Predicted Label - 1    Actual Label -  tensor(1)\n",
      " Predicted Label - 1    Actual Label -  tensor(1)\n",
      " Predicted Label - 1    Actual Label -  tensor(1)\n",
      " Predicted Label - 1    Actual Label -  tensor(1)\n",
      " Predicted Label - 1    Actual Label -  tensor(1)\n",
      " Predicted Label - 0    Actual Label -  tensor(0)\n",
      " Predicted Label - 1    Actual Label -  tensor(1)\n",
      " Predicted Label - 1    Actual Label -  tensor(1)\n",
      " Predicted Label - 0    Actual Label -  tensor(0)\n",
      " Predicted Label - 0    Actual Label -  tensor(0)\n",
      " Predicted Label - 1    Actual Label -  tensor(1)\n",
      " Predicted Label - 1    Actual Label -  tensor(1)\n",
      " Predicted Label - 1    Actual Label -  tensor(1)\n",
      " Predicted Label - 1    Actual Label -  tensor(1)\n",
      " Predicted Label - 0    Actual Label -  tensor(0)\n",
      " Predicted Label - 0    Actual Label -  tensor(0)\n",
      " Predicted Label - 1    Actual Label -  tensor(1)\n",
      " Predicted Label - 0    Actual Label -  tensor(0)\n",
      " Predicted Label - 0    Actual Label -  tensor(0)\n",
      " Predicted Label - 1    Actual Label -  tensor(1)\n",
      " Predicted Label - 0    Actual Label -  tensor(0)\n",
      " Predicted Label - 1    Actual Label -  tensor(1)\n",
      " Predicted Label - 1    Actual Label -  tensor(1)\n",
      " Predicted Label - 1    Actual Label -  tensor(1)\n",
      " Predicted Label - 1    Actual Label -  tensor(1)\n",
      " Predicted Label - 0    Actual Label -  tensor(0)\n",
      " Predicted Label - 1    Actual Label -  tensor(1)\n",
      " Predicted Label - 1    Actual Label -  tensor(1)\n",
      " Predicted Label - 0    Actual Label -  tensor(0)\n",
      " Predicted Label - 0    Actual Label -  tensor(0)\n",
      " Predicted Label - 0    Actual Label -  tensor(0)\n",
      " Predicted Label - 0    Actual Label -  tensor(0)\n",
      " Predicted Label - 1    Actual Label -  tensor(1)\n",
      " Predicted Label - 0    Actual Label -  tensor(0)\n",
      " Predicted Label - 1    Actual Label -  tensor(1)\n",
      " Predicted Label - 0    Actual Label -  tensor(0)\n",
      " Predicted Label - 1    Actual Label -  tensor(1)\n",
      " Predicted Label - 0    Actual Label -  tensor(0)\n",
      " Predicted Label - 1    Actual Label -  tensor(1)\n",
      " Predicted Label - 1    Actual Label -  tensor(1)\n",
      " Predicted Label - 1    Actual Label -  tensor(1)\n",
      " Predicted Label - 1    Actual Label -  tensor(1)\n",
      " Predicted Label - 3    Actual Label -  tensor(3)\n",
      " Predicted Label - 1    Actual Label -  tensor(1)\n",
      " Predicted Label - 1    Actual Label -  tensor(1)\n",
      " Predicted Label - 0    Actual Label -  tensor(0)\n",
      " Predicted Label - 0    Actual Label -  tensor(0)\n",
      " Predicted Label - 0    Actual Label -  tensor(0)\n",
      " Predicted Label - 1    Actual Label -  tensor(1)\n",
      " Predicted Label - 1    Actual Label -  tensor(1)\n",
      " Predicted Label - 0    Actual Label -  tensor(0)\n",
      " Predicted Label - 0    Actual Label -  tensor(0)\n",
      " Predicted Label - 1    Actual Label -  tensor(1)\n",
      " Predicted Label - 1    Actual Label -  tensor(1)\n",
      " Predicted Label - 1    Actual Label -  tensor(1)\n",
      " Predicted Label - 1    Actual Label -  tensor(1)\n",
      " Predicted Label - 0    Actual Label -  tensor(0)\n",
      " Predicted Label - 1    Actual Label -  tensor(1)\n",
      " Predicted Label - 0    Actual Label -  tensor(0)\n",
      " Predicted Label - 1    Actual Label -  tensor(1)\n",
      " Predicted Label - 1    Actual Label -  tensor(1)\n",
      " Predicted Label - 0    Actual Label -  tensor(0)\n",
      " Predicted Label - 1    Actual Label -  tensor(1)\n",
      " Predicted Label - 1    Actual Label -  tensor(1)\n",
      " Predicted Label - 0    Actual Label -  tensor(0)\n",
      " Predicted Label - 1    Actual Label -  tensor(1)\n",
      " Predicted Label - 1    Actual Label -  tensor(1)\n",
      " Predicted Label - 1    Actual Label -  tensor(1)\n",
      " Predicted Label - 0    Actual Label -  tensor(0)\n",
      " Predicted Label - 0    Actual Label -  tensor(0)\n",
      " Predicted Label - 1    Actual Label -  tensor(1)\n",
      " Predicted Label - 1    Actual Label -  tensor(1)\n",
      " Predicted Label - 1    Actual Label -  tensor(1)\n",
      " Predicted Label - 0    Actual Label -  tensor(0)\n",
      " Predicted Label - 0    Actual Label -  tensor(0)\n",
      " Predicted Label - 1    Actual Label -  tensor(1)\n",
      " Predicted Label - 0    Actual Label -  tensor(0)\n",
      " Predicted Label - 1    Actual Label -  tensor(1)\n",
      " Predicted Label - 1    Actual Label -  tensor(1)\n",
      " Predicted Label - 1    Actual Label -  tensor(1)\n",
      " Predicted Label - 0    Actual Label -  tensor(0)\n",
      " Predicted Label - 0    Actual Label -  tensor(0)\n",
      " Predicted Label - 0    Actual Label -  tensor(0)\n",
      " Predicted Label - 0    Actual Label -  tensor(0)\n",
      " Predicted Label - 1    Actual Label -  tensor(1)\n",
      " Predicted Label - 1    Actual Label -  tensor(1)\n",
      " Predicted Label - 0    Actual Label -  tensor(0)\n",
      " Predicted Label - 1    Actual Label -  tensor(1)\n",
      " Predicted Label - 0    Actual Label -  tensor(0)\n",
      " Predicted Label - 0    Actual Label -  tensor(0)\n",
      " Predicted Label - 0    Actual Label -  tensor(0)\n",
      " Predicted Label - 1    Actual Label -  tensor(1)\n",
      " Predicted Label - 1    Actual Label -  tensor(1)\n",
      " Predicted Label - 1    Actual Label -  tensor(1)\n",
      " Predicted Label - 1    Actual Label -  tensor(1)\n",
      " Predicted Label - 0    Actual Label -  tensor(0)\n",
      " Predicted Label - 1    Actual Label -  tensor(1)\n",
      " Predicted Label - 1    Actual Label -  tensor(1)\n",
      " Predicted Label - 1    Actual Label -  tensor(1)\n",
      " Predicted Label - 1    Actual Label -  tensor(1)\n",
      " Predicted Label - 1    Actual Label -  tensor(1)\n",
      " Predicted Label - 1    Actual Label -  tensor(1)\n",
      " Predicted Label - 0    Actual Label -  tensor(0)\n",
      " Predicted Label - 0    Actual Label -  tensor(0)\n",
      " Predicted Label - 1    Actual Label -  tensor(1)\n",
      " Predicted Label - 0    Actual Label -  tensor(0)\n",
      " Predicted Label - 0    Actual Label -  tensor(0)\n",
      " Predicted Label - 1    Actual Label -  tensor(1)\n",
      " Predicted Label - 0    Actual Label -  tensor(0)\n",
      " Predicted Label - 1    Actual Label -  tensor(1)\n",
      " Predicted Label - 1    Actual Label -  tensor(1)\n",
      " Predicted Label - 0    Actual Label -  tensor(0)\n",
      " Predicted Label - 1    Actual Label -  tensor(1)\n",
      " Predicted Label - 0    Actual Label -  tensor(0)\n",
      " Predicted Label - 0    Actual Label -  tensor(0)\n",
      " Predicted Label - 0    Actual Label -  tensor(0)\n",
      " Predicted Label - 1    Actual Label -  tensor(1)\n",
      " Predicted Label - 1    Actual Label -  tensor(1)\n",
      " Predicted Label - 1    Actual Label -  tensor(1)\n",
      " Predicted Label - 2    Actual Label -  tensor(2)\n",
      " Predicted Label - 1    Actual Label -  tensor(1)\n",
      " Predicted Label - 1    Actual Label -  tensor(1)\n",
      " Predicted Label - 0    Actual Label -  tensor(0)\n",
      " Predicted Label - 1    Actual Label -  tensor(1)\n",
      " Predicted Label - 2    Actual Label -  tensor(2)\n",
      " Predicted Label - 1    Actual Label -  tensor(1)\n",
      " Predicted Label - 0    Actual Label -  tensor(0)\n",
      " Predicted Label - 1    Actual Label -  tensor(1)\n",
      " Predicted Label - 1    Actual Label -  tensor(1)\n",
      " Predicted Label - 1    Actual Label -  tensor(1)\n",
      " Predicted Label - 0    Actual Label -  tensor(0)\n",
      " Predicted Label - 1    Actual Label -  tensor(1)\n",
      " Predicted Label - 1    Actual Label -  tensor(1)\n",
      " Predicted Label - 1    Actual Label -  tensor(1)\n",
      " Predicted Label - 1    Actual Label -  tensor(1)\n",
      " Predicted Label - 1    Actual Label -  tensor(1)\n",
      " Predicted Label - 1    Actual Label -  tensor(1)\n",
      " Predicted Label - 0    Actual Label -  tensor(0)\n",
      " Predicted Label - 1    Actual Label -  tensor(1)\n",
      " Predicted Label - 1    Actual Label -  tensor(1)\n",
      " Predicted Label - 0    Actual Label -  tensor(0)\n",
      " Predicted Label - 1    Actual Label -  tensor(1)\n",
      " Predicted Label - 0    Actual Label -  tensor(0)\n",
      " Predicted Label - 1    Actual Label -  tensor(1)\n",
      " Predicted Label - 0    Actual Label -  tensor(0)\n",
      " Predicted Label - 1    Actual Label -  tensor(1)\n",
      " Predicted Label - 0    Actual Label -  tensor(0)\n",
      " Predicted Label - 1    Actual Label -  tensor(1)\n",
      " Predicted Label - 1    Actual Label -  tensor(1)\n"
     ]
    },
    {
     "name": "stdout",
     "output_type": "stream",
     "text": [
      " Predicted Label - 1    Actual Label -  tensor(1)\n",
      " Predicted Label - 0    Actual Label -  tensor(0)\n",
      " Predicted Label - 1    Actual Label -  tensor(1)\n",
      " Predicted Label - 1    Actual Label -  tensor(1)\n",
      " Predicted Label - 0    Actual Label -  tensor(0)\n",
      " Predicted Label - 1    Actual Label -  tensor(1)\n",
      " Predicted Label - 1    Actual Label -  tensor(1)\n",
      " Predicted Label - 0    Actual Label -  tensor(0)\n",
      " Predicted Label - 0    Actual Label -  tensor(0)\n",
      " Predicted Label - 1    Actual Label -  tensor(1)\n",
      " Predicted Label - 1    Actual Label -  tensor(1)\n",
      " Predicted Label - 1    Actual Label -  tensor(1)\n",
      " Predicted Label - 0    Actual Label -  tensor(0)\n",
      " Predicted Label - 1    Actual Label -  tensor(1)\n",
      " Predicted Label - 1    Actual Label -  tensor(1)\n",
      " Predicted Label - 1    Actual Label -  tensor(1)\n",
      " Predicted Label - 1    Actual Label -  tensor(1)\n",
      " Predicted Label - 1    Actual Label -  tensor(1)\n",
      " Predicted Label - 1    Actual Label -  tensor(1)\n",
      " Predicted Label - 0    Actual Label -  tensor(0)\n",
      " Predicted Label - 0    Actual Label -  tensor(0)\n",
      " Predicted Label - 0    Actual Label -  tensor(0)\n",
      " Predicted Label - 0    Actual Label -  tensor(0)\n",
      " Predicted Label - 2    Actual Label -  tensor(2)\n",
      " Predicted Label - 0    Actual Label -  tensor(0)\n",
      " Predicted Label - 1    Actual Label -  tensor(1)\n",
      " Predicted Label - 0    Actual Label -  tensor(0)\n",
      " Predicted Label - 2    Actual Label -  tensor(2)\n",
      " Predicted Label - 1    Actual Label -  tensor(1)\n",
      " Predicted Label - 0    Actual Label -  tensor(0)\n",
      " Predicted Label - 0    Actual Label -  tensor(0)\n",
      " Predicted Label - 0    Actual Label -  tensor(0)\n",
      " Predicted Label - 1    Actual Label -  tensor(1)\n",
      " Predicted Label - 1    Actual Label -  tensor(1)\n",
      " Predicted Label - 0    Actual Label -  tensor(0)\n",
      " Predicted Label - 1    Actual Label -  tensor(1)\n",
      " Predicted Label - 0    Actual Label -  tensor(0)\n",
      " Predicted Label - 0    Actual Label -  tensor(0)\n",
      " Predicted Label - 1    Actual Label -  tensor(1)\n",
      " Predicted Label - 1    Actual Label -  tensor(1)\n",
      " Predicted Label - 1    Actual Label -  tensor(1)\n",
      " Predicted Label - 0    Actual Label -  tensor(0)\n",
      " Predicted Label - 0    Actual Label -  tensor(0)\n",
      " Predicted Label - 0    Actual Label -  tensor(0)\n",
      " Predicted Label - 1    Actual Label -  tensor(1)\n",
      " Predicted Label - 1    Actual Label -  tensor(1)\n",
      " Predicted Label - 1    Actual Label -  tensor(1)\n",
      " Predicted Label - 0    Actual Label -  tensor(0)\n",
      " Predicted Label - 1    Actual Label -  tensor(1)\n",
      " Predicted Label - 0    Actual Label -  tensor(0)\n",
      " Predicted Label - 1    Actual Label -  tensor(1)\n",
      " Predicted Label - 1    Actual Label -  tensor(1)\n",
      " Predicted Label - 1    Actual Label -  tensor(1)\n",
      " Predicted Label - 0    Actual Label -  tensor(0)\n",
      " Predicted Label - 0    Actual Label -  tensor(0)\n",
      " Predicted Label - 1    Actual Label -  tensor(1)\n",
      " Predicted Label - 1    Actual Label -  tensor(1)\n",
      " Predicted Label - 1    Actual Label -  tensor(1)\n",
      " Predicted Label - 0    Actual Label -  tensor(0)\n",
      " Predicted Label - 1    Actual Label -  tensor(1)\n",
      " Predicted Label - 0    Actual Label -  tensor(0)\n",
      " Predicted Label - 1    Actual Label -  tensor(1)\n",
      " Predicted Label - 0    Actual Label -  tensor(0)\n",
      " Predicted Label - 0    Actual Label -  tensor(0)\n",
      " Predicted Label - 0    Actual Label -  tensor(0)\n",
      " Predicted Label - 1    Actual Label -  tensor(1)\n",
      " Predicted Label - 0    Actual Label -  tensor(0)\n",
      " Predicted Label - 0    Actual Label -  tensor(0)\n",
      " Predicted Label - 1    Actual Label -  tensor(1)\n",
      " Predicted Label - 0    Actual Label -  tensor(0)\n",
      " Predicted Label - 1    Actual Label -  tensor(1)\n",
      " Predicted Label - 1    Actual Label -  tensor(1)\n",
      " Predicted Label - 1    Actual Label -  tensor(1)\n",
      " Predicted Label - 0    Actual Label -  tensor(0)\n",
      " Predicted Label - 1    Actual Label -  tensor(1)\n",
      " Predicted Label - 1    Actual Label -  tensor(1)\n",
      " Predicted Label - 0    Actual Label -  tensor(0)\n",
      " Predicted Label - 1    Actual Label -  tensor(1)\n",
      " Predicted Label - 1    Actual Label -  tensor(1)\n",
      " Predicted Label - 1    Actual Label -  tensor(1)\n",
      " Predicted Label - 1    Actual Label -  tensor(1)\n",
      " Predicted Label - 0    Actual Label -  tensor(0)\n",
      " Predicted Label - 0    Actual Label -  tensor(0)\n",
      " Predicted Label - 0    Actual Label -  tensor(0)\n",
      " Predicted Label - 1    Actual Label -  tensor(1)\n",
      " Predicted Label - 1    Actual Label -  tensor(1)\n",
      " Predicted Label - 0    Actual Label -  tensor(0)\n",
      " Predicted Label - 0    Actual Label -  tensor(0)\n",
      " Predicted Label - 0    Actual Label -  tensor(0)\n",
      " Predicted Label - 1    Actual Label -  tensor(1)\n",
      " Predicted Label - 0    Actual Label -  tensor(0)\n",
      " Predicted Label - 0    Actual Label -  tensor(0)\n",
      " Predicted Label - 0    Actual Label -  tensor(0)\n",
      " Predicted Label - 1    Actual Label -  tensor(1)\n",
      " Predicted Label - 1    Actual Label -  tensor(1)\n",
      " Predicted Label - 1    Actual Label -  tensor(1)\n",
      " Predicted Label - 0    Actual Label -  tensor(0)\n",
      " Predicted Label - 1    Actual Label -  tensor(1)\n",
      " Predicted Label - 3    Actual Label -  tensor(3)\n",
      " Predicted Label - 1    Actual Label -  tensor(1)\n",
      " Predicted Label - 1    Actual Label -  tensor(1)\n",
      " Predicted Label - 1    Actual Label -  tensor(1)\n",
      " Predicted Label - 0    Actual Label -  tensor(0)\n",
      " Predicted Label - 1    Actual Label -  tensor(1)\n",
      " Predicted Label - 0    Actual Label -  tensor(0)\n",
      " Predicted Label - 1    Actual Label -  tensor(1)\n",
      " Predicted Label - 0    Actual Label -  tensor(0)\n",
      " Predicted Label - 0    Actual Label -  tensor(0)\n",
      " Predicted Label - 1    Actual Label -  tensor(1)\n",
      " Predicted Label - 0    Actual Label -  tensor(0)\n",
      " Predicted Label - 0    Actual Label -  tensor(0)\n",
      " Predicted Label - 1    Actual Label -  tensor(1)\n",
      " Predicted Label - 0    Actual Label -  tensor(0)\n",
      " Predicted Label - 0    Actual Label -  tensor(0)\n",
      " Predicted Label - 0    Actual Label -  tensor(0)\n",
      " Predicted Label - 1    Actual Label -  tensor(1)\n",
      " Predicted Label - 0    Actual Label -  tensor(0)\n",
      " Predicted Label - 1    Actual Label -  tensor(1)\n",
      " Predicted Label - 0    Actual Label -  tensor(0)\n",
      " Predicted Label - 0    Actual Label -  tensor(0)\n",
      " Predicted Label - 1    Actual Label -  tensor(1)\n",
      " Predicted Label - 1    Actual Label -  tensor(1)\n",
      " Predicted Label - 1    Actual Label -  tensor(1)\n",
      " Predicted Label - 1    Actual Label -  tensor(1)\n",
      " Predicted Label - 0    Actual Label -  tensor(0)\n",
      " Predicted Label - 1    Actual Label -  tensor(1)\n",
      " Predicted Label - 1    Actual Label -  tensor(1)\n",
      " Predicted Label - 0    Actual Label -  tensor(0)\n",
      " Predicted Label - 2    Actual Label -  tensor(2)\n",
      " Predicted Label - 1    Actual Label -  tensor(1)\n",
      " Predicted Label - 1    Actual Label -  tensor(1)\n",
      " Predicted Label - 1    Actual Label -  tensor(1)\n",
      " Predicted Label - 0    Actual Label -  tensor(0)\n",
      " Predicted Label - 0    Actual Label -  tensor(0)\n",
      " Predicted Label - 0    Actual Label -  tensor(0)\n",
      " Predicted Label - 0    Actual Label -  tensor(0)\n",
      " Predicted Label - 1    Actual Label -  tensor(1)\n",
      " Predicted Label - 1    Actual Label -  tensor(1)\n",
      " Predicted Label - 1    Actual Label -  tensor(1)\n",
      " Predicted Label - 0    Actual Label -  tensor(0)\n",
      " Predicted Label - 1    Actual Label -  tensor(1)\n",
      " Predicted Label - 1    Actual Label -  tensor(1)\n",
      " Predicted Label - 1    Actual Label -  tensor(1)\n",
      " Predicted Label - 1    Actual Label -  tensor(1)\n",
      " Predicted Label - 1    Actual Label -  tensor(1)\n",
      " Predicted Label - 1    Actual Label -  tensor(1)\n",
      " Predicted Label - 1    Actual Label -  tensor(1)\n",
      " Predicted Label - 0    Actual Label -  tensor(0)\n",
      " Predicted Label - 1    Actual Label -  tensor(1)\n",
      " Predicted Label - 1    Actual Label -  tensor(1)\n",
      " Predicted Label - 0    Actual Label -  tensor(0)\n",
      " Predicted Label - 1    Actual Label -  tensor(1)\n",
      " Predicted Label - 1    Actual Label -  tensor(1)\n",
      " Predicted Label - 1    Actual Label -  tensor(1)\n",
      " Predicted Label - 0    Actual Label -  tensor(0)\n",
      " Predicted Label - 1    Actual Label -  tensor(1)\n",
      " Predicted Label - 1    Actual Label -  tensor(1)\n",
      " Predicted Label - 1    Actual Label -  tensor(1)\n",
      " Predicted Label - 1    Actual Label -  tensor(1)\n",
      " Predicted Label - 1    Actual Label -  tensor(1)\n",
      " Predicted Label - 1    Actual Label -  tensor(1)\n",
      " Predicted Label - 0    Actual Label -  tensor(0)\n",
      " Predicted Label - 1    Actual Label -  tensor(1)\n",
      " Predicted Label - 1    Actual Label -  tensor(1)\n",
      " Predicted Label - 0    Actual Label -  tensor(0)\n",
      " Predicted Label - 0    Actual Label -  tensor(0)\n",
      " Predicted Label - 1    Actual Label -  tensor(1)\n",
      " Predicted Label - 0    Actual Label -  tensor(0)\n",
      " Predicted Label - 1    Actual Label -  tensor(1)\n",
      " Predicted Label - 0    Actual Label -  tensor(0)\n",
      " Predicted Label - 1    Actual Label -  tensor(1)\n",
      " Predicted Label - 0    Actual Label -  tensor(0)\n",
      " Predicted Label - 0    Actual Label -  tensor(0)\n",
      " Predicted Label - 0    Actual Label -  tensor(0)\n",
      " Predicted Label - 1    Actual Label -  tensor(1)\n",
      " Predicted Label - 0    Actual Label -  tensor(0)\n",
      " Predicted Label - 1    Actual Label -  tensor(1)\n",
      " Predicted Label - 1    Actual Label -  tensor(1)\n",
      " Predicted Label - 0    Actual Label -  tensor(0)\n",
      " Predicted Label - 0    Actual Label -  tensor(0)\n",
      " Predicted Label - 0    Actual Label -  tensor(0)\n",
      " Predicted Label - 1    Actual Label -  tensor(1)\n",
      " Predicted Label - 1    Actual Label -  tensor(1)\n",
      " Predicted Label - 1    Actual Label -  tensor(1)\n",
      " Predicted Label - 1    Actual Label -  tensor(1)\n",
      " Predicted Label - 1    Actual Label -  tensor(1)\n",
      " Predicted Label - 1    Actual Label -  tensor(1)\n",
      " Predicted Label - 1    Actual Label -  tensor(1)\n",
      " Predicted Label - 0    Actual Label -  tensor(0)\n",
      " Predicted Label - 1    Actual Label -  tensor(1)\n",
      " Predicted Label - 1    Actual Label -  tensor(1)\n",
      " Predicted Label - 1    Actual Label -  tensor(1)\n",
      " Predicted Label - 1    Actual Label -  tensor(1)\n",
      " Predicted Label - 0    Actual Label -  tensor(0)\n",
      " Predicted Label - 1    Actual Label -  tensor(1)\n",
      " Predicted Label - 1    Actual Label -  tensor(1)\n",
      " Predicted Label - 2    Actual Label -  tensor(2)\n",
      " Predicted Label - 3    Actual Label -  tensor(3)\n",
      " Predicted Label - 1    Actual Label -  tensor(1)\n",
      " Predicted Label - 1    Actual Label -  tensor(1)\n",
      " Predicted Label - 0    Actual Label -  tensor(0)\n",
      " Predicted Label - 1    Actual Label -  tensor(1)\n",
      " Predicted Label - 1    Actual Label -  tensor(1)\n",
      " Predicted Label - 1    Actual Label -  tensor(1)\n",
      " Predicted Label - 1    Actual Label -  tensor(1)\n",
      " Predicted Label - 1    Actual Label -  tensor(1)\n",
      " Predicted Label - 0    Actual Label -  tensor(0)\n",
      " Predicted Label - 0    Actual Label -  tensor(0)\n",
      " Predicted Label - 1    Actual Label -  tensor(1)\n",
      " Predicted Label - 0    Actual Label -  tensor(0)\n",
      " Predicted Label - 1    Actual Label -  tensor(1)\n",
      " Predicted Label - 0    Actual Label -  tensor(0)\n",
      " Predicted Label - 0    Actual Label -  tensor(0)\n",
      " Predicted Label - 1    Actual Label -  tensor(1)\n",
      " Predicted Label - 1    Actual Label -  tensor(1)\n",
      " Predicted Label - 1    Actual Label -  tensor(1)\n",
      " Predicted Label - 0    Actual Label -  tensor(0)\n",
      " Predicted Label - 1    Actual Label -  tensor(1)\n",
      " Predicted Label - 1    Actual Label -  tensor(1)\n",
      " Predicted Label - 1    Actual Label -  tensor(1)\n",
      " Predicted Label - 1    Actual Label -  tensor(1)\n",
      " Predicted Label - 1    Actual Label -  tensor(1)\n",
      " Predicted Label - 1    Actual Label -  tensor(1)\n",
      " Predicted Label - 1    Actual Label -  tensor(1)\n",
      " Predicted Label - 1    Actual Label -  tensor(1)\n",
      " Predicted Label - 0    Actual Label -  tensor(0)\n",
      " Predicted Label - 0    Actual Label -  tensor(0)\n"
     ]
    }
   ],
   "source": [
    "#printing the first 10 actual values and predicted values\n",
    "for i in range(1000,1500):\n",
    "   # indx = y_test.index[i]\n",
    "    print(\" Predicted Label - %s    Actual Label -  %s\" \n",
    "          %(predicted[i].item(), (Y_test_torch[i])))"
   ]
  },
  {
   "cell_type": "code",
   "execution_count": 80,
   "metadata": {
    "ExecuteTime": {
     "end_time": "2019-04-19T23:36:42.054833Z",
     "start_time": "2019-04-19T23:36:42.039209Z"
    },
    "collapsed": true
   },
   "outputs": [],
   "source": [
    "import matplotlib.pyplot as plt\n",
    "import pandas as pd"
   ]
  },
  {
   "cell_type": "code",
   "execution_count": 164,
   "metadata": {
    "ExecuteTime": {
     "end_time": "2019-04-20T02:34:42.802125Z",
     "start_time": "2019-04-20T02:34:42.770876Z"
    },
    "collapsed": true
   },
   "outputs": [],
   "source": [
    "df_epochs_data = pd.DataFrame(epoch_data, \n",
    "                              columns=[\"epoch\", \"train_loss\", \"test_loss\", \"accuracy\"])"
   ]
  },
  {
   "cell_type": "code",
   "execution_count": 165,
   "metadata": {
    "ExecuteTime": {
     "end_time": "2019-04-20T02:34:45.632749Z",
     "start_time": "2019-04-20T02:34:44.307865Z"
    },
    "scrolled": true
   },
   "outputs": [
    {
     "data": {
      "image/png": "[encoded data removed]",
      "text/plain": [
       "<matplotlib.figure.Figure at 0x267896962b0>"
      ]
     },
     "metadata": {
      "needs_background": "light"
     },
     "output_type": "display_data"
    }
   ],
   "source": [
    "f, (ax1, ax2) = plt.subplots(1, 2, figsize=(12, 4))\n",
    "\n",
    "df_epochs_data[[\"train_loss\", \"test_loss\"]].plot(ax=ax1)\n",
    "df_epochs_data[[\"accuracy\"]].plot(ax=ax2)\n",
    "plt.ylim(ymin=0.5)\n",
    "\n",
    "plt.show()"
   ]
  },
  {
   "cell_type": "code",
   "execution_count": 166,
   "metadata": {
    "ExecuteTime": {
     "end_time": "2019-04-20T02:34:50.325176Z",
     "start_time": "2019-04-20T02:34:50.153311Z"
    }
   },
   "outputs": [
    {
     "name": "stdout",
     "output_type": "stream",
     "text": [
      "Accuracy score: 0.9961191056770958\n",
      "Precision score: 0.9961859948991131\n",
      "Recall score: 0.9961191056770958\n",
      "F1 score: 0.9960830855585417\n"
     ]
    }
   ],
   "source": [
    "# Metrics\n",
    "\n",
    "#score_log_loss = metrics.log_loss(y_test_nn, model_nn_relu.predict(x_test_nn))\n",
    "#print(\"Log Loss: {}\".format(score_log_loss))\n",
    "\n",
    "score_nn_acc_relu = metrics.accuracy_score(Y_test_torch, predicted)\n",
    "print(\"Accuracy score: {}\".format(score_nn_acc_relu))\n",
    "\n",
    "score_nn_precision_relu = metrics.precision_score(Y_test_torch, predicted, average= \"weighted\")\n",
    "print(\"Precision score: {}\".format(score_nn_precision_relu))\n",
    "\n",
    "score_nn_recall_relu = metrics.recall_score(Y_test_torch, predicted, average= \"weighted\")\n",
    "print(\"Recall score: {}\".format(score_nn_recall_relu))\n",
    "\n",
    "score_nn_f1_relu = metrics.f1_score(Y_test_torch, predicted, average= \"weighted\")\n",
    "print(\"F1 score: {}\".format(score_nn_f1_relu))"
   ]
  },
  {
   "cell_type": "code",
   "execution_count": null,
   "metadata": {
    "collapsed": true
   },
   "outputs": [],
   "source": []
  },
  {
   "cell_type": "code",
   "execution_count": 167,
   "metadata": {
    "ExecuteTime": {
     "end_time": "2019-04-20T02:34:57.238801Z",
     "start_time": "2019-04-20T02:34:57.051309Z"
    }
   },
   "outputs": [
    {
     "name": "stdout",
     "output_type": "stream",
     "text": [
      "[[10890    34     0     0     0]\n",
      " [    9 17556     3    21     0]\n",
      " [    7    19   397     2     0]\n",
      " [    0    13     0   159     0]\n",
      " [    0     1     0     4     2]]\n"
     ]
    }
   ],
   "source": [
    "cm_nn_torch = confusion_matrix(Y_test_torch, predicted)\n",
    "print(cm_nn_torch)"
   ]
  },
  {
   "cell_type": "code",
   "execution_count": 174,
   "metadata": {
    "ExecuteTime": {
     "end_time": "2019-04-20T04:57:04.283680Z",
     "start_time": "2019-04-20T04:57:02.815035Z"
    }
   },
   "outputs": [
    {
     "name": "stdout",
     "output_type": "stream",
     "text": [
      "Plotting confusion matrix\n"
     ]
    },
    {
     "data": {
      "text/plain": [
       "<matplotlib.figure.Figure at 0x2678e2ca278>"
      ]
     },
     "metadata": {},
     "output_type": "display_data"
    },
    {
     "data": {
      "image/png": "[encoded data removed]",
      "text/plain": [
       "<matplotlib.figure.Figure at 0x2678e2ca358>"
      ]
     },
     "metadata": {
      "needs_background": "light"
     },
     "output_type": "display_data"
    },
    {
     "name": "stdout",
     "output_type": "stream",
     "text": [
      "             precision    recall  f1-score   support\n",
      "\n",
      "          0       1.00      1.00      1.00     10924\n",
      "          1       1.00      1.00      1.00     17589\n",
      "          2       0.99      0.93      0.96       425\n",
      "          3       0.85      0.92      0.89       172\n",
      "          4       1.00      0.29      0.44         7\n",
      "\n",
      "avg / total       1.00      1.00      1.00     29117\n",
      "\n"
     ]
    }
   ],
   "source": [
    "print('Plotting confusion matrix')\n",
    "plt.figure()\n",
    "plot_confusion_matrix(cm_nn_torch,df['outcome'].unique())\n",
    "plt.show()\n",
    "print(classification_report(Y_test_torch, predicted))"
   ]
  },
  {
   "cell_type": "code",
   "execution_count": 177,
   "metadata": {
    "ExecuteTime": {
     "end_time": "2019-04-20T04:58:25.513432Z",
     "start_time": "2019-04-20T04:58:24.437694Z"
    }
   },
   "outputs": [
    {
     "name": "stdout",
     "output_type": "stream",
     "text": [
      "Plotting confusion matrix\n"
     ]
    },
    {
     "data": {
      "text/plain": [
       "<matplotlib.figure.Figure at 0x26790510978>"
      ]
     },
     "metadata": {},
     "output_type": "display_data"
    },
    {
     "data": {
      "image/png": "[encoded data removed]",
      "text/plain": [
       "<matplotlib.figure.Figure at 0x26790510048>"
      ]
     },
     "metadata": {
      "needs_background": "light"
     },
     "output_type": "display_data"
    },
    {
     "name": "stdout",
     "output_type": "stream",
     "text": [
      "             precision    recall  f1-score   support\n",
      "\n",
      "          0       1.00      1.00      1.00     10924\n",
      "          1       1.00      1.00      1.00     17589\n",
      "          2       0.99      0.93      0.96       425\n",
      "          3       0.85      0.92      0.89       172\n",
      "          4       1.00      0.29      0.44         7\n",
      "\n",
      "avg / total       1.00      1.00      1.00     29117\n",
      "\n"
     ]
    }
   ],
   "source": [
    "print('Plotting confusion matrix')\n",
    "plt.figure()\n",
    "plot_confusion_matrix(cm_nn_torch,df['label'].unique())\n",
    "plt.show()\n",
    "print(classification_report(Y_test_torch, predicted))"
   ]
  },
  {
   "cell_type": "code",
   "execution_count": 169,
   "metadata": {
    "ExecuteTime": {
     "end_time": "2019-04-20T02:35:10.119141Z",
     "start_time": "2019-04-20T02:35:09.977877Z"
    },
    "collapsed": true
   },
   "outputs": [
    {
     "ename": "ValueError",
     "evalue": "multiclass format is not supported",
     "output_type": "error",
     "traceback": [
      "\u001b[1;31m---------------------------------------------------------------------------\u001b[0m",
      "\u001b[1;31mValueError\u001b[0m                                Traceback (most recent call last)",
      "\u001b[1;32m<ipython-input-169-abf1b0b1b754>\u001b[0m in \u001b[0;36m<module>\u001b[1;34m()\u001b[0m\n\u001b[1;32m----> 1\u001b[1;33m \u001b[0mplot_roc\u001b[0m\u001b[1;33m(\u001b[0m\u001b[0mpredicted\u001b[0m\u001b[1;33m,\u001b[0m\u001b[0mY_test_torch\u001b[0m\u001b[1;33m)\u001b[0m\u001b[1;33m\u001b[0m\u001b[0m\n\u001b[0m",
      "\u001b[1;32m<ipython-input-2-5ced5c4ec20e>\u001b[0m in \u001b[0;36mplot_roc\u001b[1;34m(pred, y)\u001b[0m\n\u001b[0;32m     32\u001b[0m \u001b[1;31m# Plot an ROC. pred - the predictions, y - the expected output.\u001b[0m\u001b[1;33m\u001b[0m\u001b[1;33m\u001b[0m\u001b[0m\n\u001b[0;32m     33\u001b[0m \u001b[1;32mdef\u001b[0m \u001b[0mplot_roc\u001b[0m\u001b[1;33m(\u001b[0m\u001b[0mpred\u001b[0m\u001b[1;33m,\u001b[0m\u001b[0my\u001b[0m\u001b[1;33m)\u001b[0m\u001b[1;33m:\u001b[0m\u001b[1;33m\u001b[0m\u001b[0m\n\u001b[1;32m---> 34\u001b[1;33m     \u001b[0mfpr\u001b[0m\u001b[1;33m,\u001b[0m \u001b[0mtpr\u001b[0m\u001b[1;33m,\u001b[0m \u001b[0mthresholds\u001b[0m \u001b[1;33m=\u001b[0m \u001b[0mroc_curve\u001b[0m\u001b[1;33m(\u001b[0m\u001b[0my\u001b[0m\u001b[1;33m,\u001b[0m \u001b[0mpred\u001b[0m\u001b[1;33m)\u001b[0m\u001b[1;33m\u001b[0m\u001b[0m\n\u001b[0m\u001b[0;32m     35\u001b[0m     \u001b[0mroc_auc\u001b[0m \u001b[1;33m=\u001b[0m \u001b[0mauc\u001b[0m\u001b[1;33m(\u001b[0m\u001b[0mfpr\u001b[0m\u001b[1;33m,\u001b[0m \u001b[0mtpr\u001b[0m\u001b[1;33m)\u001b[0m\u001b[1;33m\u001b[0m\u001b[0m\n\u001b[0;32m     36\u001b[0m \u001b[1;33m\u001b[0m\u001b[0m\n",
      "\u001b[1;32m~\\Anaconda3\\lib\\site-packages\\sklearn\\metrics\\ranking.py\u001b[0m in \u001b[0;36mroc_curve\u001b[1;34m(y_true, y_score, pos_label, sample_weight, drop_intermediate)\u001b[0m\n\u001b[0;32m    532\u001b[0m     \"\"\"\n\u001b[0;32m    533\u001b[0m     fps, tps, thresholds = _binary_clf_curve(\n\u001b[1;32m--> 534\u001b[1;33m         y_true, y_score, pos_label=pos_label, sample_weight=sample_weight)\n\u001b[0m\u001b[0;32m    535\u001b[0m \u001b[1;33m\u001b[0m\u001b[0m\n\u001b[0;32m    536\u001b[0m     \u001b[1;31m# Attempt to drop thresholds corresponding to points in between and\u001b[0m\u001b[1;33m\u001b[0m\u001b[1;33m\u001b[0m\u001b[0m\n",
      "\u001b[1;32m~\\Anaconda3\\lib\\site-packages\\sklearn\\metrics\\ranking.py\u001b[0m in \u001b[0;36m_binary_clf_curve\u001b[1;34m(y_true, y_score, pos_label, sample_weight)\u001b[0m\n\u001b[0;32m    316\u001b[0m     if not (y_type == \"binary\" or\n\u001b[0;32m    317\u001b[0m             (y_type == \"multiclass\" and pos_label is not None)):\n\u001b[1;32m--> 318\u001b[1;33m         \u001b[1;32mraise\u001b[0m \u001b[0mValueError\u001b[0m\u001b[1;33m(\u001b[0m\u001b[1;34m\"{0} format is not supported\"\u001b[0m\u001b[1;33m.\u001b[0m\u001b[0mformat\u001b[0m\u001b[1;33m(\u001b[0m\u001b[0my_type\u001b[0m\u001b[1;33m)\u001b[0m\u001b[1;33m)\u001b[0m\u001b[1;33m\u001b[0m\u001b[0m\n\u001b[0m\u001b[0;32m    319\u001b[0m \u001b[1;33m\u001b[0m\u001b[0m\n\u001b[0;32m    320\u001b[0m     \u001b[0mcheck_consistent_length\u001b[0m\u001b[1;33m(\u001b[0m\u001b[0my_true\u001b[0m\u001b[1;33m,\u001b[0m \u001b[0my_score\u001b[0m\u001b[1;33m,\u001b[0m \u001b[0msample_weight\u001b[0m\u001b[1;33m)\u001b[0m\u001b[1;33m\u001b[0m\u001b[0m\n",
      "\u001b[1;31mValueError\u001b[0m: multiclass format is not supported"
     ]
    }
   ],
   "source": [
    "plot_roc(predicted,Y_test_torch)"
   ]
  },
  {
   "cell_type": "code",
   "execution_count": 170,
   "metadata": {
    "ExecuteTime": {
     "end_time": "2019-04-20T02:35:20.955488Z",
     "start_time": "2019-04-20T02:35:20.924244Z"
    }
   },
   "outputs": [
    {
     "data": {
      "text/plain": [
       "Network(\n",
       "  (fc1): Linear(in_features=127, out_features=30, bias=True)\n",
       "  (fc2): Linear(in_features=30, out_features=30, bias=True)\n",
       "  (fc3): Linear(in_features=30, out_features=5, bias=True)\n",
       ")"
      ]
     },
     "execution_count": 170,
     "metadata": {},
     "output_type": "execute_result"
    }
   ],
   "source": [
    "Classification_model_torch.eval()  "
   ]
  },
  {
   "cell_type": "code",
   "execution_count": 171,
   "metadata": {
    "ExecuteTime": {
     "end_time": "2019-04-20T02:35:23.299546Z",
     "start_time": "2019-04-20T02:35:23.283920Z"
    }
   },
   "outputs": [
    {
     "data": {
      "text/plain": [
       "Network(\n",
       "  (fc1): Linear(in_features=127, out_features=30, bias=True)\n",
       "  (fc2): Linear(in_features=30, out_features=30, bias=True)\n",
       "  (fc3): Linear(in_features=30, out_features=5, bias=True)\n",
       ")"
      ]
     },
     "execution_count": 171,
     "metadata": {},
     "output_type": "execute_result"
    }
   ],
   "source": [
    "Classification_model_torch"
   ]
  }
 ],
 "metadata": {
  "kernelspec": {
   "display_name": "Python 3",
   "language": "python",
   "name": "python3"
  },
  "language_info": {
   "codemirror_mode": {
    "name": "ipython",
    "version": 3
   },
   "file_extension": ".py",
   "mimetype": "text/x-python",
   "name": "python",
   "nbconvert_exporter": "python",
   "pygments_lexer": "ipython3",
   "version": "3.6.4"
  },
  "toc": {
   "base_numbering": 1,
   "nav_menu": {},
   "number_sections": true,
   "sideBar": true,
   "skip_h1_title": false,
   "title_cell": "Table of Contents",
   "title_sidebar": "Contents",
   "toc_cell": false,
   "toc_position": {
    "height": "calc(100% - 180px)",
    "left": "10px",
    "top": "150px",
    "width": "299px"
   },
   "toc_section_display": true,
   "toc_window_display": true
  }
 },
 "nbformat": 4,
 "nbformat_minor": 2
}
