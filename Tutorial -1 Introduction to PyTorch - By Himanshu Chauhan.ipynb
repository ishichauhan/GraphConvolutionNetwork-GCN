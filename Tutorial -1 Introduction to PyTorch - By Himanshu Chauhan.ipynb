{
 "cells": [
  {
   "cell_type": "markdown",
   "metadata": {},
   "source": [
    "# Download and import PyTorch"
   ]
  },
  {
   "cell_type": "markdown",
   "metadata": {},
   "source": [
    "Run following command to install pytorch\n",
    "\n",
    "Windows\n",
    "- conda install pytorch-cpu torchvision-cpu -c pytorch   \n",
    "\n",
    "Mac\n",
    "- conda install pytorch torchvision -c pytorch"
   ]
  },
  {
   "cell_type": "code",
   "execution_count": 2,
   "metadata": {
    "ExecuteTime": {
     "end_time": "2019-04-17T18:48:49.074630Z",
     "start_time": "2019-04-17T18:48:49.059644Z"
    }
   },
   "outputs": [
    {
     "name": "stdout",
     "output_type": "stream",
     "text": [
      "1.0.1\n"
     ]
    }
   ],
   "source": [
    "import torch\n",
    "\n",
    "print(torch.__version__)"
   ]
  },
  {
   "cell_type": "markdown",
   "metadata": {},
   "source": [
    "# Creating  Tensor \n",
    "\n",
    "Tensors are similar to NumPy’s ndarrays, with the addition being that Tensors can also be used on a GPU to accelerate computing"
   ]
  },
  {
   "cell_type": "code",
   "execution_count": 4,
   "metadata": {
    "ExecuteTime": {
     "end_time": "2019-04-17T18:50:28.150468Z",
     "start_time": "2019-04-17T18:50:28.070515Z"
    }
   },
   "outputs": [
    {
     "data": {
      "text/plain": [
       "tensor([[1., 2., 3.],\n",
       "        [4., 5., 6.]])"
      ]
     },
     "execution_count": 4,
     "metadata": {},
     "output_type": "execute_result"
    }
   ],
   "source": [
    "tensor_array = torch.Tensor([[1,2,3],[4,5,6]])\n",
    "tensor_array"
   ]
  },
  {
   "cell_type": "code",
   "execution_count": 5,
   "metadata": {
    "ExecuteTime": {
     "end_time": "2019-04-17T18:52:08.387329Z",
     "start_time": "2019-04-17T18:52:08.363342Z"
    }
   },
   "outputs": [
    {
     "data": {
      "text/plain": [
       "tensor([[0.4356, 0.0680, 0.6006],\n",
       "        [0.0200, 0.4921, 0.8530]])"
      ]
     },
     "execution_count": 5,
     "metadata": {},
     "output_type": "execute_result"
    }
   ],
   "source": [
    "# Creating Tensors with random Values\n",
    "tensor_rand = torch.rand(2, 3)    \n",
    "tensor_rand"
   ]
  },
  {
   "cell_type": "code",
   "execution_count": 8,
   "metadata": {
    "ExecuteTime": {
     "end_time": "2019-04-17T18:54:59.605166Z",
     "start_time": "2019-04-17T18:54:59.573911Z"
    }
   },
   "outputs": [
    {
     "name": "stdout",
     "output_type": "stream",
     "text": [
      "<class 'torch.Tensor'>\n",
      "torch.float32\n"
     ]
    }
   ],
   "source": [
    "print(type(tensor_rand))\n",
    "print(tensor_rand.dtype)"
   ]
  },
  {
   "cell_type": "code",
   "execution_count": 10,
   "metadata": {
    "ExecuteTime": {
     "end_time": "2019-04-17T18:56:12.993370Z",
     "start_time": "2019-04-17T18:56:12.946501Z"
    }
   },
   "outputs": [
    {
     "name": "stdout",
     "output_type": "stream",
     "text": [
      "tensor([1, 2, 3], dtype=torch.int32)\n",
      "<class 'torch.Tensor'>\n",
      "torch.int32\n"
     ]
    }
   ],
   "source": [
    "tensor_int = torch.IntTensor([1.0, 2.0, 3.0])   \n",
    "print(tensor_int)\n",
    "print(type(tensor_int))\n",
    "print(tensor_int.dtype)"
   ]
  },
  {
   "cell_type": "markdown",
   "metadata": {},
   "source": [
    "All ***ones*** and ***zeros***"
   ]
  },
  {
   "cell_type": "code",
   "execution_count": 11,
   "metadata": {
    "ExecuteTime": {
     "end_time": "2019-04-17T19:52:40.422362Z",
     "start_time": "2019-04-17T19:52:40.391114Z"
    }
   },
   "outputs": [
    {
     "data": {
      "text/plain": [
       "tensor([[1., 2., 3.],\n",
       "        [4., 5., 6.]])"
      ]
     },
     "execution_count": 11,
     "metadata": {},
     "output_type": "execute_result"
    }
   ],
   "source": [
    "tensor_array = torch.Tensor([[1,2,3],[4,5,6]])\n",
    "tensor_array"
   ]
  },
  {
   "cell_type": "code",
   "execution_count": 13,
   "metadata": {
    "ExecuteTime": {
     "end_time": "2019-04-17T19:53:24.931504Z",
     "start_time": "2019-04-17T19:53:24.900264Z"
    }
   },
   "outputs": [
    {
     "data": {
      "text/plain": [
       "tensor([[1., 1., 1.],\n",
       "        [1., 1., 1.],\n",
       "        [1., 1., 1.]])"
      ]
     },
     "execution_count": 13,
     "metadata": {},
     "output_type": "execute_result"
    }
   ],
   "source": [
    "tensor_array = torch.ones(3,3)\n",
    "tensor_array"
   ]
  },
  {
   "cell_type": "code",
   "execution_count": 14,
   "metadata": {
    "ExecuteTime": {
     "end_time": "2019-04-17T19:53:38.139437Z",
     "start_time": "2019-04-17T19:53:38.092567Z"
    }
   },
   "outputs": [
    {
     "data": {
      "text/plain": [
       "tensor([[0., 0., 0.],\n",
       "        [0., 0., 0.],\n",
       "        [0., 0., 0.]])"
      ]
     },
     "execution_count": 14,
     "metadata": {},
     "output_type": "execute_result"
    }
   ],
   "source": [
    "tensor_array = torch.zeros(3,3)\n",
    "tensor_array"
   ]
  },
  {
   "cell_type": "code",
   "execution_count": 15,
   "metadata": {
    "ExecuteTime": {
     "end_time": "2019-04-17T19:54:00.506592Z",
     "start_time": "2019-04-17T19:54:00.475372Z"
    }
   },
   "outputs": [
    {
     "data": {
      "text/plain": [
       "tensor([[1., 0., 0.],\n",
       "        [0., 1., 0.],\n",
       "        [0., 0., 1.]])"
      ]
     },
     "execution_count": 15,
     "metadata": {},
     "output_type": "execute_result"
    }
   ],
   "source": [
    "tensor_array = torch.eye(3)  \n",
    "tensor_array"
   ]
  },
  {
   "cell_type": "markdown",
   "metadata": {},
   "source": [
    " **ones_like()** create tensor with shape like any existing tensor with all \"ones\""
   ]
  },
  {
   "cell_type": "code",
   "execution_count": 17,
   "metadata": {
    "ExecuteTime": {
     "end_time": "2019-04-17T19:56:30.659596Z",
     "start_time": "2019-04-17T19:56:30.628350Z"
    }
   },
   "outputs": [
    {
     "data": {
      "text/plain": [
       "tensor([[1., 1., 1.],\n",
       "        [1., 1., 1.],\n",
       "        [1., 1., 1.]])"
      ]
     },
     "execution_count": 17,
     "metadata": {},
     "output_type": "execute_result"
    }
   ],
   "source": [
    "tensor_array1 = torch.ones_like(tensor_array)      \n",
    "tensor_array1"
   ]
  },
  {
   "cell_type": "markdown",
   "metadata": {},
   "source": [
    "### Converting from numpy to tensor and visa versa\n"
   ]
  },
  {
   "cell_type": "markdown",
   "metadata": {},
   "source": [
    "***Tensor to numpy***"
   ]
  },
  {
   "cell_type": "code",
   "execution_count": 60,
   "metadata": {
    "ExecuteTime": {
     "end_time": "2019-04-18T19:56:28.064673Z",
     "start_time": "2019-04-18T19:56:28.033433Z"
    }
   },
   "outputs": [
    {
     "name": "stdout",
     "output_type": "stream",
     "text": [
      "tensor([[0.9995, 0.6631, 0.9017],\n",
      "        [0.0208, 0.1995, 0.3753],\n",
      "        [0.0504, 0.4993, 0.3224],\n",
      "        [0.3294, 0.2495, 0.0219]])\n",
      "<class 'torch.Tensor'>\n"
     ]
    }
   ],
   "source": [
    "tensor1 = torch.rand(4, 3)\n",
    "print(tensor1)\n",
    "print(type(tensor1))"
   ]
  },
  {
   "cell_type": "code",
   "execution_count": 62,
   "metadata": {
    "ExecuteTime": {
     "end_time": "2019-04-18T19:57:27.366652Z",
     "start_time": "2019-04-18T19:57:27.319782Z"
    }
   },
   "outputs": [
    {
     "name": "stdout",
     "output_type": "stream",
     "text": [
      "[[0.999463   0.6630627  0.9016818 ]\n",
      " [0.02077484 0.19951141 0.37528777]\n",
      " [0.05044818 0.4992603  0.32235205]\n",
      " [0.32943916 0.24951065 0.02193338]]\n",
      "<class 'numpy.ndarray'>\n"
     ]
    }
   ],
   "source": [
    "tensor_to_numpy = tensor1.numpy()                   \n",
    "print(tensor_to_numpy)\n",
    "print(type(tensor_to_numpy))"
   ]
  },
  {
   "cell_type": "code",
   "execution_count": 64,
   "metadata": {
    "ExecuteTime": {
     "end_time": "2019-04-18T19:58:40.973817Z",
     "start_time": "2019-04-18T19:58:40.942539Z"
    }
   },
   "outputs": [
    {
     "name": "stdout",
     "output_type": "stream",
     "text": [
      "True\n",
      "False\n"
     ]
    }
   ],
   "source": [
    "print(torch.is_tensor(tensor1))\n",
    "print(torch.is_tensor(tensor_to_numpy))"
   ]
  },
  {
   "cell_type": "markdown",
   "metadata": {},
   "source": [
    "*** Numpy to tensor***"
   ]
  },
  {
   "cell_type": "code",
   "execution_count": 66,
   "metadata": {
    "ExecuteTime": {
     "end_time": "2019-04-18T20:02:26.504714Z",
     "start_time": "2019-04-18T20:02:26.473491Z"
    }
   },
   "outputs": [
    {
     "data": {
      "text/plain": [
       "array([[  6.,   7.,   3.],\n",
       "       [ 60.,  20.,  70.],\n",
       "       [ 10., 200.,  40.]])"
      ]
     },
     "execution_count": 66,
     "metadata": {},
     "output_type": "execute_result"
    }
   ],
   "source": [
    "numpy_array = np.array([[6.0, 7.0, 3.0], \n",
    "                      [60.0, 20.0, 70.0],\n",
    "                      [10.0, 200.0, 40.0]])\n",
    "\n",
    "numpy_array"
   ]
  },
  {
   "cell_type": "code",
   "execution_count": 67,
   "metadata": {
    "ExecuteTime": {
     "end_time": "2019-04-18T20:02:54.567716Z",
     "start_time": "2019-04-18T20:02:54.520855Z"
    }
   },
   "outputs": [
    {
     "data": {
      "text/plain": [
       "tensor([[  6.,   7.,   3.],\n",
       "        [ 60.,  20.,  70.],\n",
       "        [ 10., 200.,  40.]], dtype=torch.float64)"
      ]
     },
     "execution_count": 67,
     "metadata": {},
     "output_type": "execute_result"
    }
   ],
   "source": [
    "numpy_to_tensor = torch.from_numpy(numpy_array)\n",
    "numpy_to_tensor"
   ]
  },
  {
   "cell_type": "code",
   "execution_count": 69,
   "metadata": {
    "ExecuteTime": {
     "end_time": "2019-04-18T20:03:46.537811Z",
     "start_time": "2019-04-18T20:03:46.506573Z"
    }
   },
   "outputs": [
    {
     "name": "stdout",
     "output_type": "stream",
     "text": [
      "<class 'torch.Tensor'>\n",
      "True\n"
     ]
    },
    {
     "data": {
      "text/plain": [
       "False"
      ]
     },
     "execution_count": 69,
     "metadata": {},
     "output_type": "execute_result"
    }
   ],
   "source": [
    "print(type(numpy_to_tensor))\n",
    "print(torch.is_tensor(numpy_to_tensor))\n",
    "torch.is_tensor((numpy_array))"
   ]
  },
  {
   "cell_type": "markdown",
   "metadata": {},
   "source": [
    "# Computational Graph"
   ]
  },
  {
   "cell_type": "code",
   "execution_count": 18,
   "metadata": {
    "ExecuteTime": {
     "end_time": "2019-04-17T20:44:26.788271Z",
     "start_time": "2019-04-17T20:44:26.757019Z"
    },
    "collapsed": true
   },
   "outputs": [],
   "source": [
    "import numpy as np \n",
    "import torch\n",
    "import torch.nn as nn"
   ]
  },
  {
   "cell_type": "code",
   "execution_count": 19,
   "metadata": {
    "ExecuteTime": {
     "end_time": "2019-04-17T20:44:27.189410Z",
     "start_time": "2019-04-17T20:44:27.142518Z"
    }
   },
   "outputs": [
    {
     "name": "stdout",
     "output_type": "stream",
     "text": [
      "tensor([-0.7372, -1.2649,  0.2067, -0.3678, -1.1261,  2.2342])\n",
      "tensor([10., 10., 10., 10., 10., 10.])\n",
      "tensor(3)\n"
     ]
    }
   ],
   "source": [
    "a = torch.randn(6)\n",
    "\n",
    "b = torch.tensor([10.0, 10.0, 10.0, 10.0, 10.0, 10.0])\n",
    "\n",
    "c = torch.tensor(3)\n",
    "\n",
    "print(a)\n",
    "print(b)\n",
    "print(c)"
   ]
  },
  {
   "cell_type": "code",
   "execution_count": 20,
   "metadata": {
    "ExecuteTime": {
     "end_time": "2019-04-17T20:45:42.528037Z",
     "start_time": "2019-04-17T20:45:42.496796Z"
    },
    "collapsed": true
   },
   "outputs": [],
   "source": [
    "y = a*b + c"
   ]
  },
  {
   "cell_type": "code",
   "execution_count": 22,
   "metadata": {
    "ExecuteTime": {
     "end_time": "2019-04-17T20:46:14.104266Z",
     "start_time": "2019-04-17T20:46:14.073031Z"
    }
   },
   "outputs": [
    {
     "name": "stdout",
     "output_type": "stream",
     "text": [
      "tensor([ -7.3725, -12.6490,   2.0668,  -3.6778, -11.2614,  22.3416])\n",
      "tensor([-4.3725, -9.6490,  5.0668, -0.6778, -8.2614, 25.3416])\n"
     ]
    }
   ],
   "source": [
    "print(a*b)\n",
    "print(y)"
   ]
  },
  {
   "cell_type": "markdown",
   "metadata": {},
   "source": [
    "PyTorch is an optimized tensor library for deep learning using GPUs and CPUs.\n",
    "The torchvision package consists of popular datasets, model architectures, and common image transformations for computer visio"
   ]
  },
  {
   "cell_type": "code",
   "execution_count": 23,
   "metadata": {
    "ExecuteTime": {
     "end_time": "2019-04-17T20:48:55.176605Z",
     "start_time": "2019-04-17T20:48:40.357279Z"
    },
    "collapsed": true
   },
   "outputs": [],
   "source": [
    "import hiddenlayer as hl\n",
    "import torch\n",
    "import torchvision.models"
   ]
  },
  {
   "cell_type": "markdown",
   "metadata": {},
   "source": [
    "hiddenlayer was launched recently-Nov 2018. It is an open source package which we can use to quickly visualize \n",
    "Neural Network hidden layer.\n",
    "\n",
    "HiddenLayer is simple, easy to extend, and works great with Jupyter Notebook"
   ]
  },
  {
   "cell_type": "code",
   "execution_count": 24,
   "metadata": {
    "ExecuteTime": {
     "end_time": "2019-04-17T20:54:12.939928Z",
     "start_time": "2019-04-17T20:54:12.893059Z"
    },
    "collapsed": true
   },
   "outputs": [],
   "source": [
    "x_train = np.array ([[3.7], [2.9], [5.5], [7.9], [8.8],\n",
    "                     [2.4],[2.4], [8.09], [5], [4.4]],\n",
    "                    dtype = np.float32)\n",
    "\n",
    "y_train = np.array ([[1.8], [2.68], [4.22], [8.19], [9.69],\n",
    "                     [3.4],[2.6], [8.9], [5.6], [4.7]],\n",
    "                    dtype = np.float32)"
   ]
  },
  {
   "cell_type": "code",
   "execution_count": 25,
   "metadata": {
    "ExecuteTime": {
     "end_time": "2019-04-17T20:54:45.387904Z",
     "start_time": "2019-04-17T20:54:45.356655Z"
    }
   },
   "outputs": [
    {
     "name": "stdout",
     "output_type": "stream",
     "text": [
      "torch.Size([10, 1])\n",
      "(10, 1)\n"
     ]
    }
   ],
   "source": [
    "X_train = torch.tensor(x_train)\n",
    "Y_train = torch.tensor(y_train)\n",
    "\n",
    "print(X_train.shape)\n",
    "print(y_train.shape)"
   ]
  },
  {
   "cell_type": "code",
   "execution_count": 27,
   "metadata": {
    "ExecuteTime": {
     "end_time": "2019-04-17T20:56:12.014502Z",
     "start_time": "2019-04-17T20:56:11.976704Z"
    },
    "collapsed": true
   },
   "outputs": [],
   "source": [
    "# A simple neural network with 2 Linear Layers\n",
    "model1 = torch.nn.Sequential(torch.nn.Linear(1, 50),# 50 hidden neurons \n",
    "                             torch.nn.Linear(50, 1))"
   ]
  },
  {
   "cell_type": "code",
   "execution_count": 150,
   "metadata": {
    "ExecuteTime": {
     "end_time": "2019-04-21T19:49:43.326407Z",
     "start_time": "2019-04-21T19:49:43.227459Z"
    }
   },
   "outputs": [
    {
     "data": {
      "text/plain": [
       "Sequential(\n",
       "  (0): Linear(in_features=1, out_features=50, bias=True)\n",
       "  (1): Linear(in_features=50, out_features=1, bias=True)\n",
       ")"
      ]
     },
     "execution_count": 150,
     "metadata": {},
     "output_type": "execute_result"
    }
   ],
   "source": [
    "model1"
   ]
  },
  {
   "cell_type": "code",
   "execution_count": 34,
   "metadata": {
    "ExecuteTime": {
     "end_time": "2019-04-18T19:35:54.706979Z",
     "start_time": "2019-04-18T19:35:54.207265Z"
    }
   },
   "outputs": [
    {
     "name": "stdout",
     "output_type": "stream",
     "text": [
      "tensor([[0.],\n",
      "        [0.],\n",
      "        [0.],\n",
      "        [0.],\n",
      "        [0.],\n",
      "        [0.],\n",
      "        [0.],\n",
      "        [0.],\n",
      "        [0.],\n",
      "        [0.]])\n",
      " Here is what the Output looks like:\n",
      " x2 shows that there are two linear layers in this model\n"
     ]
    },
    {
     "data": {
      "image/svg+xml": [
       "<?xml version=\"1.0\" encoding=\"UTF-8\" standalone=\"no\"?>\r\n",
       "<!DOCTYPE svg PUBLIC \"-//W3C//DTD SVG 1.1//EN\"\r\n",
       " \"http://www.w3.org/Graphics/SVG/1.1/DTD/svg11.dtd\">\r\n",
       "<!-- Generated by graphviz version 2.38.0 (20140413.2041)\r\n",
       " -->\r\n",
       "<!-- Title: %3 Pages: 1 -->\r\n",
       "<svg width=\"198pt\" height=\"116pt\"\r\n",
       " viewBox=\"0.00 0.00 198.00 116.00\" xmlns=\"http://www.w3.org/2000/svg\" xmlns:xlink=\"http://www.w3.org/1999/xlink\">\r\n",
       "<g id=\"graph0\" class=\"graph\" transform=\"scale(1 1) rotate(0) translate(72 80)\">\r\n",
       "<title>%3</title>\r\n",
       "<polygon fill=\"#ffffff\" stroke=\"none\" points=\"-72,36 -72,-80 126,-80 126,36 -72,36\"/>\r\n",
       "<!-- 3353322028569944535 -->\r\n",
       "<g id=\"node1\" class=\"node\"><title>3353322028569944535</title>\r\n",
       "<polygon fill=\"#e8e8e8\" stroke=\"#000000\" points=\"54,-44 0,-44 0,-0 54,-0 54,-44\"/>\r\n",
       "<text text-anchor=\"start\" x=\"14\" y=\"-28\" font-family=\"Times\" font-size=\"10.00\" fill=\"#000000\">Linear</text>\r\n",
       "<text text-anchor=\"start\" x=\"35\" y=\"-7\" font-family=\"Times\" font-size=\"10.00\" fill=\"#000000\">x2</text>\r\n",
       "</g>\r\n",
       "</g>\r\n",
       "</svg>\r\n"
      ],
      "text/plain": [
       "<hiddenlayer.graph.Graph at 0x17ad8480d30>"
      ]
     },
     "execution_count": 34,
     "metadata": {},
     "output_type": "execute_result"
    }
   ],
   "source": [
    "print(torch.zeros([10, 1])) # we are passing 10 datapoints, each having one feature.\n",
    "print(\" Here is what the Output looks like:\")\n",
    "print(\" x2 shows that there are two linear layers in this model\")\n",
    "\n",
    "hl.build_graph(model1, torch.zeros([10, 1])) \n",
    "## Here we are passing all zeroes with the same dimention of the input as expected by the hidden layer1\n",
    "# In the first argument we give the model name while in the second argument we pass the input \n",
    "# with the same dimension as expected by the hidden layer.\n"
   ]
  },
  {
   "cell_type": "code",
   "execution_count": 43,
   "metadata": {
    "ExecuteTime": {
     "end_time": "2019-04-18T19:43:57.293004Z",
     "start_time": "2019-04-18T19:43:56.669356Z"
    }
   },
   "outputs": [
    {
     "name": "stdout",
     "output_type": "stream",
     "text": [
      "tensor([0.])\n",
      "We can see the first layer performing operations likke Traspose,matrix Multiplication and add.\n",
      "The number of output neurons for the first layer are 50 which are the input for the second hidden layer. \n"
     ]
    },
    {
     "data": {
      "image/svg+xml": [
       "<?xml version=\"1.0\" encoding=\"UTF-8\" standalone=\"no\"?>\r\n",
       "<!DOCTYPE svg PUBLIC \"-//W3C//DTD SVG 1.1//EN\"\r\n",
       " \"http://www.w3.org/Graphics/SVG/1.1/DTD/svg11.dtd\">\r\n",
       "<!-- Generated by graphviz version 2.38.0 (20140413.2041)\r\n",
       " -->\r\n",
       "<!-- Title: %3 Pages: 1 -->\r\n",
       "<svg width=\"282pt\" height=\"430pt\"\r\n",
       " viewBox=\"0.00 0.00 282.00 430.00\" xmlns=\"http://www.w3.org/2000/svg\" xmlns:xlink=\"http://www.w3.org/1999/xlink\">\r\n",
       "<g id=\"graph0\" class=\"graph\" transform=\"scale(1 1) rotate(0) translate(72 394)\">\r\n",
       "<title>%3</title>\r\n",
       "<polygon fill=\"#ffffff\" stroke=\"none\" points=\"-72,36 -72,-394 210,-394 210,36 -72,36\"/>\r\n",
       "<!-- Sequential/Linear[0]/outputs/5 -->\r\n",
       "<g id=\"node1\" class=\"node\"><title>Sequential/Linear[0]/outputs/5</title>\r\n",
       "<polygon fill=\"#e8e8e8\" stroke=\"#000000\" points=\"62,-358 0,-358 0,-322 62,-322 62,-358\"/>\r\n",
       "<text text-anchor=\"start\" x=\"8\" y=\"-337\" font-family=\"Times\" font-size=\"10.00\" fill=\"#000000\">Transpose</text>\r\n",
       "</g>\r\n",
       "<!-- Sequential/Linear[0]/outputs/6 -->\r\n",
       "<g id=\"node2\" class=\"node\"><title>Sequential/Linear[0]/outputs/6</title>\r\n",
       "<polygon fill=\"#e8e8e8\" stroke=\"#000000\" points=\"58,-285 4,-285 4,-249 58,-249 58,-285\"/>\r\n",
       "<text text-anchor=\"start\" x=\"16\" y=\"-264\" font-family=\"Times\" font-size=\"10.00\" fill=\"#000000\">MatMul</text>\r\n",
       "</g>\r\n",
       "<!-- Sequential/Linear[0]/outputs/5&#45;&gt;Sequential/Linear[0]/outputs/6 -->\r\n",
       "<g id=\"edge1\" class=\"edge\"><title>Sequential/Linear[0]/outputs/5&#45;&gt;Sequential/Linear[0]/outputs/6</title>\r\n",
       "<path fill=\"none\" stroke=\"#000000\" d=\"M31,-321.813C31,-313.789 31,-304.047 31,-295.069\"/>\r\n",
       "<polygon fill=\"#000000\" stroke=\"#000000\" points=\"34.5001,-295.029 31,-285.029 27.5001,-295.029 34.5001,-295.029\"/>\r\n",
       "</g>\r\n",
       "<!-- /outputs/7 -->\r\n",
       "<g id=\"node3\" class=\"node\"><title>/outputs/7</title>\r\n",
       "<polygon fill=\"#e8e8e8\" stroke=\"#000000\" points=\"58,-202 4,-202 4,-166 58,-166 58,-202\"/>\r\n",
       "<text text-anchor=\"start\" x=\"23\" y=\"-181\" font-family=\"Times\" font-size=\"10.00\" fill=\"#000000\">Add</text>\r\n",
       "</g>\r\n",
       "<!-- Sequential/Linear[0]/outputs/6&#45;&gt;/outputs/7 -->\r\n",
       "<g id=\"edge2\" class=\"edge\"><title>Sequential/Linear[0]/outputs/6&#45;&gt;/outputs/7</title>\r\n",
       "<path fill=\"none\" stroke=\"#000000\" d=\"M31,-248.822C31,-238.19 31,-224.306 31,-212.204\"/>\r\n",
       "<polygon fill=\"#000000\" stroke=\"#000000\" points=\"34.5001,-212.153 31,-202.153 27.5001,-212.153 34.5001,-212.153\"/>\r\n",
       "<text text-anchor=\"middle\" x=\"36.5\" y=\"-223\" font-family=\"Times\" font-size=\"10.00\" fill=\"#000000\">50</text>\r\n",
       "</g>\r\n",
       "<!-- Sequential/Linear[1]/outputs/9 -->\r\n",
       "<g id=\"node5\" class=\"node\"><title>Sequential/Linear[1]/outputs/9</title>\r\n",
       "<polygon fill=\"#e8e8e8\" stroke=\"#000000\" points=\"108,-119 54,-119 54,-83 108,-83 108,-119\"/>\r\n",
       "<text text-anchor=\"start\" x=\"66\" y=\"-98\" font-family=\"Times\" font-size=\"10.00\" fill=\"#000000\">MatMul</text>\r\n",
       "</g>\r\n",
       "<!-- /outputs/7&#45;&gt;Sequential/Linear[1]/outputs/9 -->\r\n",
       "<g id=\"edge3\" class=\"edge\"><title>/outputs/7&#45;&gt;Sequential/Linear[1]/outputs/9</title>\r\n",
       "<path fill=\"none\" stroke=\"#000000\" d=\"M41.6037,-165.822C48.4316,-154.761 57.4329,-140.179 65.1076,-127.746\"/>\r\n",
       "<polygon fill=\"#000000\" stroke=\"#000000\" points=\"68.1371,-129.501 70.4116,-119.153 62.1806,-125.824 68.1371,-129.501\"/>\r\n",
       "<text text-anchor=\"middle\" x=\"64.5\" y=\"-140\" font-family=\"Times\" font-size=\"10.00\" fill=\"#000000\">50</text>\r\n",
       "</g>\r\n",
       "<!-- Sequential/Linear[1]/outputs/8 -->\r\n",
       "<g id=\"node4\" class=\"node\"><title>Sequential/Linear[1]/outputs/8</title>\r\n",
       "<polygon fill=\"#e8e8e8\" stroke=\"#000000\" points=\"138,-202 76,-202 76,-166 138,-166 138,-202\"/>\r\n",
       "<text text-anchor=\"start\" x=\"84\" y=\"-181\" font-family=\"Times\" font-size=\"10.00\" fill=\"#000000\">Transpose</text>\r\n",
       "</g>\r\n",
       "<!-- Sequential/Linear[1]/outputs/8&#45;&gt;Sequential/Linear[1]/outputs/9 -->\r\n",
       "<g id=\"edge4\" class=\"edge\"><title>Sequential/Linear[1]/outputs/8&#45;&gt;Sequential/Linear[1]/outputs/9</title>\r\n",
       "<path fill=\"none\" stroke=\"#000000\" d=\"M101.486,-165.822C98.039,-155.083 93.5266,-141.025 89.6145,-128.837\"/>\r\n",
       "<polygon fill=\"#000000\" stroke=\"#000000\" points=\"92.8949,-127.605 86.506,-119.153 86.2298,-129.744 92.8949,-127.605\"/>\r\n",
       "</g>\r\n",
       "<!-- /outputs/10 -->\r\n",
       "<g id=\"node6\" class=\"node\"><title>/outputs/10</title>\r\n",
       "<polygon fill=\"#e8e8e8\" stroke=\"#000000\" points=\"108,-36 54,-36 54,-0 108,-0 108,-36\"/>\r\n",
       "<text text-anchor=\"start\" x=\"73\" y=\"-15\" font-family=\"Times\" font-size=\"10.00\" fill=\"#000000\">Add</text>\r\n",
       "</g>\r\n",
       "<!-- Sequential/Linear[1]/outputs/9&#45;&gt;/outputs/10 -->\r\n",
       "<g id=\"edge5\" class=\"edge\"><title>Sequential/Linear[1]/outputs/9&#45;&gt;/outputs/10</title>\r\n",
       "<path fill=\"none\" stroke=\"#000000\" d=\"M81,-82.822C81,-72.1903 81,-58.306 81,-46.2035\"/>\r\n",
       "<polygon fill=\"#000000\" stroke=\"#000000\" points=\"84.5001,-46.1532 81,-36.1533 77.5001,-46.1533 84.5001,-46.1532\"/>\r\n",
       "<text text-anchor=\"middle\" x=\"84\" y=\"-57\" font-family=\"Times\" font-size=\"10.00\" fill=\"#000000\">1</text>\r\n",
       "</g>\r\n",
       "</g>\r\n",
       "</svg>\r\n"
      ],
      "text/plain": [
       "<hiddenlayer.graph.Graph at 0x17ad84a0390>"
      ]
     },
     "execution_count": 43,
     "metadata": {},
     "output_type": "execute_result"
    }
   ],
   "source": [
    "# If we pass one data point the visualization will expand to show us what each layer contains\n",
    "print(torch.zeros([1]))\n",
    "print(\"We can see the first layer performing operations likke Traspose,matrix Multiplication and add.\" \n",
    "     \"\\nThe number of output neurons for the first layer are 50 which are the input for the second hidden layer. \")\n",
    "hl.build_graph(model1, torch.zeros([1]))"
   ]
  },
  {
   "cell_type": "markdown",
   "metadata": {},
   "source": [
    "** Another model **"
   ]
  },
  {
   "cell_type": "code",
   "execution_count": 47,
   "metadata": {
    "ExecuteTime": {
     "end_time": "2019-04-18T19:48:35.235821Z",
     "start_time": "2019-04-18T19:48:35.219822Z"
    },
    "collapsed": true
   },
   "outputs": [],
   "source": [
    "model2 = torch.nn.Sequential(torch.nn.Linear(2, 10),\n",
    "                             torch.nn.Linear(10, 20),\n",
    "                             torch.nn.Sigmoid(),\n",
    "                             torch.nn.Linear(20, 1))"
   ]
  },
  {
   "cell_type": "code",
   "execution_count": 48,
   "metadata": {
    "ExecuteTime": {
     "end_time": "2019-04-18T19:48:40.633435Z",
     "start_time": "2019-04-18T19:48:40.602220Z"
    }
   },
   "outputs": [
    {
     "data": {
      "text/plain": [
       "Sequential(\n",
       "  (0): Linear(in_features=2, out_features=10, bias=True)\n",
       "  (1): Linear(in_features=10, out_features=20, bias=True)\n",
       "  (2): Sigmoid()\n",
       "  (3): Linear(in_features=20, out_features=1, bias=True)\n",
       ")"
      ]
     },
     "execution_count": 48,
     "metadata": {},
     "output_type": "execute_result"
    }
   ],
   "source": [
    "model2"
   ]
  },
  {
   "cell_type": "code",
   "execution_count": 51,
   "metadata": {
    "ExecuteTime": {
     "end_time": "2019-04-18T19:49:59.579683Z",
     "start_time": "2019-04-18T19:49:58.985365Z"
    }
   },
   "outputs": [
    {
     "name": "stdout",
     "output_type": "stream",
     "text": [
      "tensor([[1., 1.],\n",
      "        [1., 1.],\n",
      "        [1., 1.],\n",
      "        [1., 1.],\n",
      "        [1., 1.],\n",
      "        [1., 1.],\n",
      "        [1., 1.],\n",
      "        [1., 1.],\n",
      "        [1., 1.],\n",
      "        [1., 1.]])\n"
     ]
    },
    {
     "data": {
      "image/svg+xml": [
       "<?xml version=\"1.0\" encoding=\"UTF-8\" standalone=\"no\"?>\r\n",
       "<!DOCTYPE svg PUBLIC \"-//W3C//DTD SVG 1.1//EN\"\r\n",
       " \"http://www.w3.org/Graphics/SVG/1.1/DTD/svg11.dtd\">\r\n",
       "<!-- Generated by graphviz version 2.38.0 (20140413.2041)\r\n",
       " -->\r\n",
       "<!-- Title: %3 Pages: 1 -->\r\n",
       "<svg width=\"198pt\" height=\"282pt\"\r\n",
       " viewBox=\"0.00 0.00 198.00 282.00\" xmlns=\"http://www.w3.org/2000/svg\" xmlns:xlink=\"http://www.w3.org/1999/xlink\">\r\n",
       "<g id=\"graph0\" class=\"graph\" transform=\"scale(1 1) rotate(0) translate(72 246)\">\r\n",
       "<title>%3</title>\r\n",
       "<polygon fill=\"#ffffff\" stroke=\"none\" points=\"-72,36 -72,-246 126,-246 126,36 -72,36\"/>\r\n",
       "<!-- Sequential/Sigmoid[2]/outputs/9 -->\r\n",
       "<g id=\"node1\" class=\"node\"><title>Sequential/Sigmoid[2]/outputs/9</title>\r\n",
       "<polygon fill=\"#e8e8e8\" stroke=\"#000000\" points=\"54,-119 0,-119 0,-83 54,-83 54,-119\"/>\r\n",
       "<text text-anchor=\"start\" x=\"10\" y=\"-98\" font-family=\"Times\" font-size=\"10.00\" fill=\"#000000\">Sigmoid</text>\r\n",
       "</g>\r\n",
       "<!-- Sequential/Sigmoid[2]/outputs/10 -->\r\n",
       "<g id=\"node2\" class=\"node\"><title>Sequential/Sigmoid[2]/outputs/10</title>\r\n",
       "<polygon fill=\"#e8e8e8\" stroke=\"#000000\" points=\"54,-36 0,-36 0,-0 54,-0 54,-36\"/>\r\n",
       "<text text-anchor=\"start\" x=\"14\" y=\"-15\" font-family=\"Times\" font-size=\"10.00\" fill=\"#000000\">Linear</text>\r\n",
       "</g>\r\n",
       "<!-- Sequential/Sigmoid[2]/outputs/9&#45;&gt;Sequential/Sigmoid[2]/outputs/10 -->\r\n",
       "<g id=\"edge1\" class=\"edge\"><title>Sequential/Sigmoid[2]/outputs/9&#45;&gt;Sequential/Sigmoid[2]/outputs/10</title>\r\n",
       "<path fill=\"none\" stroke=\"#000000\" d=\"M27,-82.822C27,-72.1903 27,-58.306 27,-46.2035\"/>\r\n",
       "<polygon fill=\"#000000\" stroke=\"#000000\" points=\"30.5001,-46.1532 27,-36.1533 23.5001,-46.1533 30.5001,-46.1532\"/>\r\n",
       "<text text-anchor=\"middle\" x=\"40\" y=\"-57\" font-family=\"Times\" font-size=\"10.00\" fill=\"#000000\">10x20</text>\r\n",
       "</g>\r\n",
       "<!-- 14362458983500631831 -->\r\n",
       "<g id=\"node3\" class=\"node\"><title>14362458983500631831</title>\r\n",
       "<polygon fill=\"#e8e8e8\" stroke=\"#000000\" points=\"54,-210 0,-210 0,-166 54,-166 54,-210\"/>\r\n",
       "<text text-anchor=\"start\" x=\"14\" y=\"-194\" font-family=\"Times\" font-size=\"10.00\" fill=\"#000000\">Linear</text>\r\n",
       "<text text-anchor=\"start\" x=\"35\" y=\"-173\" font-family=\"Times\" font-size=\"10.00\" fill=\"#000000\">x2</text>\r\n",
       "</g>\r\n",
       "<!-- 14362458983500631831&#45;&gt;Sequential/Sigmoid[2]/outputs/9 -->\r\n",
       "<g id=\"edge2\" class=\"edge\"><title>14362458983500631831&#45;&gt;Sequential/Sigmoid[2]/outputs/9</title>\r\n",
       "<path fill=\"none\" stroke=\"#000000\" d=\"M27,-165.989C27,-154.923 27,-141.219 27,-129.336\"/>\r\n",
       "<polygon fill=\"#000000\" stroke=\"#000000\" points=\"30.5001,-129.062 27,-119.062 23.5001,-129.062 30.5001,-129.062\"/>\r\n",
       "<text text-anchor=\"middle\" x=\"40\" y=\"-140\" font-family=\"Times\" font-size=\"10.00\" fill=\"#000000\">10x10</text>\r\n",
       "</g>\r\n",
       "</g>\r\n",
       "</svg>\r\n"
      ],
      "text/plain": [
       "<hiddenlayer.graph.Graph at 0x17ad8543c88>"
      ]
     },
     "execution_count": 51,
     "metadata": {},
     "output_type": "execute_result"
    }
   ],
   "source": [
    "print(torch.ones([10, 2]))\n",
    "hl.build_graph(model2, torch.ones([10, 2])) "
   ]
  },
  {
   "cell_type": "code",
   "execution_count": 55,
   "metadata": {
    "ExecuteTime": {
     "end_time": "2019-04-18T19:50:53.736704Z",
     "start_time": "2019-04-18T19:50:53.158308Z"
    }
   },
   "outputs": [
    {
     "name": "stdout",
     "output_type": "stream",
     "text": [
      "tensor([1., 1.])\n"
     ]
    },
    {
     "data": {
      "image/svg+xml": [
       "<?xml version=\"1.0\" encoding=\"UTF-8\" standalone=\"no\"?>\r\n",
       "<!DOCTYPE svg PUBLIC \"-//W3C//DTD SVG 1.1//EN\"\r\n",
       " \"http://www.w3.org/Graphics/SVG/1.1/DTD/svg11.dtd\">\r\n",
       "<!-- Generated by graphviz version 2.38.0 (20140413.2041)\r\n",
       " -->\r\n",
       "<!-- Title: %3 Pages: 1 -->\r\n",
       "<svg width=\"332pt\" height=\"679pt\"\r\n",
       " viewBox=\"0.00 0.00 332.00 679.00\" xmlns=\"http://www.w3.org/2000/svg\" xmlns:xlink=\"http://www.w3.org/1999/xlink\">\r\n",
       "<g id=\"graph0\" class=\"graph\" transform=\"scale(1 1) rotate(0) translate(72 643)\">\r\n",
       "<title>%3</title>\r\n",
       "<polygon fill=\"#ffffff\" stroke=\"none\" points=\"-72,36 -72,-643 260,-643 260,36 -72,36\"/>\r\n",
       "<!-- Sequential/Linear[0]/outputs/7 -->\r\n",
       "<g id=\"node1\" class=\"node\"><title>Sequential/Linear[0]/outputs/7</title>\r\n",
       "<polygon fill=\"#e8e8e8\" stroke=\"#000000\" points=\"62,-607 0,-607 0,-571 62,-571 62,-607\"/>\r\n",
       "<text text-anchor=\"start\" x=\"8\" y=\"-586\" font-family=\"Times\" font-size=\"10.00\" fill=\"#000000\">Transpose</text>\r\n",
       "</g>\r\n",
       "<!-- Sequential/Linear[0]/outputs/8 -->\r\n",
       "<g id=\"node2\" class=\"node\"><title>Sequential/Linear[0]/outputs/8</title>\r\n",
       "<polygon fill=\"#e8e8e8\" stroke=\"#000000\" points=\"58,-534 4,-534 4,-498 58,-498 58,-534\"/>\r\n",
       "<text text-anchor=\"start\" x=\"16\" y=\"-513\" font-family=\"Times\" font-size=\"10.00\" fill=\"#000000\">MatMul</text>\r\n",
       "</g>\r\n",
       "<!-- Sequential/Linear[0]/outputs/7&#45;&gt;Sequential/Linear[0]/outputs/8 -->\r\n",
       "<g id=\"edge1\" class=\"edge\"><title>Sequential/Linear[0]/outputs/7&#45;&gt;Sequential/Linear[0]/outputs/8</title>\r\n",
       "<path fill=\"none\" stroke=\"#000000\" d=\"M31,-570.813C31,-562.789 31,-553.047 31,-544.069\"/>\r\n",
       "<polygon fill=\"#000000\" stroke=\"#000000\" points=\"34.5001,-544.029 31,-534.029 27.5001,-544.029 34.5001,-544.029\"/>\r\n",
       "</g>\r\n",
       "<!-- /outputs/9 -->\r\n",
       "<g id=\"node3\" class=\"node\"><title>/outputs/9</title>\r\n",
       "<polygon fill=\"#e8e8e8\" stroke=\"#000000\" points=\"58,-451 4,-451 4,-415 58,-415 58,-451\"/>\r\n",
       "<text text-anchor=\"start\" x=\"23\" y=\"-430\" font-family=\"Times\" font-size=\"10.00\" fill=\"#000000\">Add</text>\r\n",
       "</g>\r\n",
       "<!-- Sequential/Linear[0]/outputs/8&#45;&gt;/outputs/9 -->\r\n",
       "<g id=\"edge2\" class=\"edge\"><title>Sequential/Linear[0]/outputs/8&#45;&gt;/outputs/9</title>\r\n",
       "<path fill=\"none\" stroke=\"#000000\" d=\"M31,-497.822C31,-487.19 31,-473.306 31,-461.204\"/>\r\n",
       "<polygon fill=\"#000000\" stroke=\"#000000\" points=\"34.5001,-461.153 31,-451.153 27.5001,-461.153 34.5001,-461.153\"/>\r\n",
       "<text text-anchor=\"middle\" x=\"36.5\" y=\"-472\" font-family=\"Times\" font-size=\"10.00\" fill=\"#000000\">10</text>\r\n",
       "</g>\r\n",
       "<!-- Sequential/Linear[1]/outputs/11 -->\r\n",
       "<g id=\"node5\" class=\"node\"><title>Sequential/Linear[1]/outputs/11</title>\r\n",
       "<polygon fill=\"#e8e8e8\" stroke=\"#000000\" points=\"108,-368 54,-368 54,-332 108,-332 108,-368\"/>\r\n",
       "<text text-anchor=\"start\" x=\"66\" y=\"-347\" font-family=\"Times\" font-size=\"10.00\" fill=\"#000000\">MatMul</text>\r\n",
       "</g>\r\n",
       "<!-- /outputs/9&#45;&gt;Sequential/Linear[1]/outputs/11 -->\r\n",
       "<g id=\"edge3\" class=\"edge\"><title>/outputs/9&#45;&gt;Sequential/Linear[1]/outputs/11</title>\r\n",
       "<path fill=\"none\" stroke=\"#000000\" d=\"M41.6037,-414.822C48.4316,-403.761 57.4329,-389.179 65.1076,-376.746\"/>\r\n",
       "<polygon fill=\"#000000\" stroke=\"#000000\" points=\"68.1371,-378.501 70.4116,-368.153 62.1806,-374.824 68.1371,-378.501\"/>\r\n",
       "<text text-anchor=\"middle\" x=\"64.5\" y=\"-389\" font-family=\"Times\" font-size=\"10.00\" fill=\"#000000\">10</text>\r\n",
       "</g>\r\n",
       "<!-- Sequential/Linear[1]/outputs/10 -->\r\n",
       "<g id=\"node4\" class=\"node\"><title>Sequential/Linear[1]/outputs/10</title>\r\n",
       "<polygon fill=\"#e8e8e8\" stroke=\"#000000\" points=\"138,-451 76,-451 76,-415 138,-415 138,-451\"/>\r\n",
       "<text text-anchor=\"start\" x=\"84\" y=\"-430\" font-family=\"Times\" font-size=\"10.00\" fill=\"#000000\">Transpose</text>\r\n",
       "</g>\r\n",
       "<!-- Sequential/Linear[1]/outputs/10&#45;&gt;Sequential/Linear[1]/outputs/11 -->\r\n",
       "<g id=\"edge4\" class=\"edge\"><title>Sequential/Linear[1]/outputs/10&#45;&gt;Sequential/Linear[1]/outputs/11</title>\r\n",
       "<path fill=\"none\" stroke=\"#000000\" d=\"M101.486,-414.822C98.039,-404.083 93.5266,-390.025 89.6145,-377.837\"/>\r\n",
       "<polygon fill=\"#000000\" stroke=\"#000000\" points=\"92.8949,-376.605 86.506,-368.153 86.2298,-378.744 92.8949,-376.605\"/>\r\n",
       "</g>\r\n",
       "<!-- /outputs/12 -->\r\n",
       "<g id=\"node6\" class=\"node\"><title>/outputs/12</title>\r\n",
       "<polygon fill=\"#e8e8e8\" stroke=\"#000000\" points=\"108,-285 54,-285 54,-249 108,-249 108,-285\"/>\r\n",
       "<text text-anchor=\"start\" x=\"73\" y=\"-264\" font-family=\"Times\" font-size=\"10.00\" fill=\"#000000\">Add</text>\r\n",
       "</g>\r\n",
       "<!-- Sequential/Linear[1]/outputs/11&#45;&gt;/outputs/12 -->\r\n",
       "<g id=\"edge5\" class=\"edge\"><title>Sequential/Linear[1]/outputs/11&#45;&gt;/outputs/12</title>\r\n",
       "<path fill=\"none\" stroke=\"#000000\" d=\"M81,-331.822C81,-321.19 81,-307.306 81,-295.204\"/>\r\n",
       "<polygon fill=\"#000000\" stroke=\"#000000\" points=\"84.5001,-295.153 81,-285.153 77.5001,-295.153 84.5001,-295.153\"/>\r\n",
       "<text text-anchor=\"middle\" x=\"86.5\" y=\"-306\" font-family=\"Times\" font-size=\"10.00\" fill=\"#000000\">20</text>\r\n",
       "</g>\r\n",
       "<!-- Sequential/Sigmoid[2]/outputs/13 -->\r\n",
       "<g id=\"node7\" class=\"node\"><title>Sequential/Sigmoid[2]/outputs/13</title>\r\n",
       "<polygon fill=\"#e8e8e8\" stroke=\"#000000\" points=\"108,-202 54,-202 54,-166 108,-166 108,-202\"/>\r\n",
       "<text text-anchor=\"start\" x=\"64\" y=\"-181\" font-family=\"Times\" font-size=\"10.00\" fill=\"#000000\">Sigmoid</text>\r\n",
       "</g>\r\n",
       "<!-- /outputs/12&#45;&gt;Sequential/Sigmoid[2]/outputs/13 -->\r\n",
       "<g id=\"edge6\" class=\"edge\"><title>/outputs/12&#45;&gt;Sequential/Sigmoid[2]/outputs/13</title>\r\n",
       "<path fill=\"none\" stroke=\"#000000\" d=\"M81,-248.822C81,-238.19 81,-224.306 81,-212.204\"/>\r\n",
       "<polygon fill=\"#000000\" stroke=\"#000000\" points=\"84.5001,-212.153 81,-202.153 77.5001,-212.153 84.5001,-212.153\"/>\r\n",
       "<text text-anchor=\"middle\" x=\"86.5\" y=\"-223\" font-family=\"Times\" font-size=\"10.00\" fill=\"#000000\">20</text>\r\n",
       "</g>\r\n",
       "<!-- Sequential/Linear[3]/outputs/15 -->\r\n",
       "<g id=\"node9\" class=\"node\"><title>Sequential/Linear[3]/outputs/15</title>\r\n",
       "<polygon fill=\"#e8e8e8\" stroke=\"#000000\" points=\"158,-119 104,-119 104,-83 158,-83 158,-119\"/>\r\n",
       "<text text-anchor=\"start\" x=\"116\" y=\"-98\" font-family=\"Times\" font-size=\"10.00\" fill=\"#000000\">MatMul</text>\r\n",
       "</g>\r\n",
       "<!-- Sequential/Sigmoid[2]/outputs/13&#45;&gt;Sequential/Linear[3]/outputs/15 -->\r\n",
       "<g id=\"edge7\" class=\"edge\"><title>Sequential/Sigmoid[2]/outputs/13&#45;&gt;Sequential/Linear[3]/outputs/15</title>\r\n",
       "<path fill=\"none\" stroke=\"#000000\" d=\"M91.6037,-165.822C98.4316,-154.761 107.433,-140.179 115.108,-127.746\"/>\r\n",
       "<polygon fill=\"#000000\" stroke=\"#000000\" points=\"118.137,-129.501 120.412,-119.153 112.181,-125.824 118.137,-129.501\"/>\r\n",
       "<text text-anchor=\"middle\" x=\"113.5\" y=\"-140\" font-family=\"Times\" font-size=\"10.00\" fill=\"#000000\">20</text>\r\n",
       "</g>\r\n",
       "<!-- Sequential/Linear[3]/outputs/14 -->\r\n",
       "<g id=\"node8\" class=\"node\"><title>Sequential/Linear[3]/outputs/14</title>\r\n",
       "<polygon fill=\"#e8e8e8\" stroke=\"#000000\" points=\"188,-202 126,-202 126,-166 188,-166 188,-202\"/>\r\n",
       "<text text-anchor=\"start\" x=\"134\" y=\"-181\" font-family=\"Times\" font-size=\"10.00\" fill=\"#000000\">Transpose</text>\r\n",
       "</g>\r\n",
       "<!-- Sequential/Linear[3]/outputs/14&#45;&gt;Sequential/Linear[3]/outputs/15 -->\r\n",
       "<g id=\"edge8\" class=\"edge\"><title>Sequential/Linear[3]/outputs/14&#45;&gt;Sequential/Linear[3]/outputs/15</title>\r\n",
       "<path fill=\"none\" stroke=\"#000000\" d=\"M151.486,-165.822C148.039,-155.083 143.527,-141.025 139.614,-128.837\"/>\r\n",
       "<polygon fill=\"#000000\" stroke=\"#000000\" points=\"142.895,-127.605 136.506,-119.153 136.23,-129.744 142.895,-127.605\"/>\r\n",
       "</g>\r\n",
       "<!-- /outputs/16 -->\r\n",
       "<g id=\"node10\" class=\"node\"><title>/outputs/16</title>\r\n",
       "<polygon fill=\"#e8e8e8\" stroke=\"#000000\" points=\"158,-36 104,-36 104,-0 158,-0 158,-36\"/>\r\n",
       "<text text-anchor=\"start\" x=\"123\" y=\"-15\" font-family=\"Times\" font-size=\"10.00\" fill=\"#000000\">Add</text>\r\n",
       "</g>\r\n",
       "<!-- Sequential/Linear[3]/outputs/15&#45;&gt;/outputs/16 -->\r\n",
       "<g id=\"edge9\" class=\"edge\"><title>Sequential/Linear[3]/outputs/15&#45;&gt;/outputs/16</title>\r\n",
       "<path fill=\"none\" stroke=\"#000000\" d=\"M131,-82.822C131,-72.1903 131,-58.306 131,-46.2035\"/>\r\n",
       "<polygon fill=\"#000000\" stroke=\"#000000\" points=\"134.5,-46.1532 131,-36.1533 127.5,-46.1533 134.5,-46.1532\"/>\r\n",
       "<text text-anchor=\"middle\" x=\"134\" y=\"-57\" font-family=\"Times\" font-size=\"10.00\" fill=\"#000000\">1</text>\r\n",
       "</g>\r\n",
       "</g>\r\n",
       "</svg>\r\n"
      ],
      "text/plain": [
       "<hiddenlayer.graph.Graph at 0x17ad854fcc0>"
      ]
     },
     "execution_count": 55,
     "metadata": {},
     "output_type": "execute_result"
    }
   ],
   "source": [
    "print(torch.ones([2]))\n",
    "hl.build_graph(model2, torch.ones([2])) "
   ]
  },
  {
   "cell_type": "markdown",
   "metadata": {},
   "source": [
    "# Autograd"
   ]
  },
  {
   "cell_type": "markdown",
   "metadata": {},
   "source": [
    "Automatic Differentiation is the technique used by pytorch, tenssorflow which is used to calculate gradients to train \n",
    "model's parametres.\n",
    "\n",
    "There ar two passes in each training step (Reverse Mode):\n",
    "- Forward Step: Calculate Loss\n",
    "- Backward Step: Update parameter Values\n",
    "\n",
    "\n",
    "When using autograd, the forward pass of your network will define a computational graph; nodes in the graph will be Tensors, and edges will be functions that produce output Tensors from input Tensors. Backpropagating through this graph then allows you to easily compute gradients"
   ]
  },
  {
   "cell_type": "code",
   "execution_count": 70,
   "metadata": {
    "ExecuteTime": {
     "end_time": "2019-04-18T21:06:05.691616Z",
     "start_time": "2019-04-18T21:06:05.664601Z"
    }
   },
   "outputs": [
    {
     "data": {
      "text/plain": [
       "tensor([[3., 4.],\n",
       "        [7., 5.]])"
      ]
     },
     "execution_count": 70,
     "metadata": {},
     "output_type": "execute_result"
    }
   ],
   "source": [
    "tensor1= torch.Tensor([[3, 4], \n",
    "                       [7, 5]])\n",
    "tensor1"
   ]
  },
  {
   "cell_type": "markdown",
   "metadata": {},
   "source": [
    "Every tensor created in pytorch will have the **required_grad** property.\n",
    "\n",
    "By Default it it **False**.\n",
    "\n",
    "When set to **True** - this will track the commputation for the tensors in the forward phase and will calculate gradients\n",
    "for this tensor in the backward phase. The gradients can  be calculated with the scalers like Loss."
   ]
  },
  {
   "cell_type": "code",
   "execution_count": 72,
   "metadata": {
    "ExecuteTime": {
     "end_time": "2019-04-18T21:07:50.885666Z",
     "start_time": "2019-04-18T21:07:50.865687Z"
    }
   },
   "outputs": [
    {
     "data": {
      "text/plain": [
       "False"
      ]
     },
     "execution_count": 72,
     "metadata": {},
     "output_type": "execute_result"
    }
   ],
   "source": [
    "tensor1.requires_grad"
   ]
  },
  {
   "cell_type": "code",
   "execution_count": 75,
   "metadata": {
    "ExecuteTime": {
     "end_time": "2019-04-18T21:12:03.020984Z",
     "start_time": "2019-04-18T21:12:02.988002Z"
    }
   },
   "outputs": [
    {
     "data": {
      "text/plain": [
       "tensor([[3., 4.],\n",
       "        [7., 5.]], requires_grad=True)"
      ]
     },
     "execution_count": 75,
     "metadata": {},
     "output_type": "execute_result"
    }
   ],
   "source": [
    "tensor1.requires_grad_()# enbles requires_grad flag"
   ]
  },
  {
   "cell_type": "code",
   "execution_count": 76,
   "metadata": {
    "ExecuteTime": {
     "end_time": "2019-04-18T21:12:03.934524Z",
     "start_time": "2019-04-18T21:12:03.918539Z"
    }
   },
   "outputs": [
    {
     "data": {
      "text/plain": [
       "True"
      ]
     },
     "execution_count": 76,
     "metadata": {},
     "output_type": "execute_result"
    }
   ],
   "source": [
    "tensor1.requires_grad"
   ]
  },
  {
   "cell_type": "code",
   "execution_count": 78,
   "metadata": {
    "ExecuteTime": {
     "end_time": "2019-04-18T21:14:12.784700Z",
     "start_time": "2019-04-18T21:14:12.767702Z"
    }
   },
   "outputs": [
    {
     "name": "stdout",
     "output_type": "stream",
     "text": [
      "None\n"
     ]
    }
   ],
   "source": [
    "print(tensor1.grad ) # Right now no gradients have been created \n",
    "# The gradients calculated using automatic differenction is present in\n",
    "# the grad matrix associated with that perticular tensor"
   ]
  },
  {
   "cell_type": "code",
   "execution_count": null,
   "metadata": {
    "collapsed": true
   },
   "outputs": [],
   "source": [
    "Every Tensor has a grad_fn associated with is as The computational graphs in the pytorch are made up of tensors and \n",
    "functions. (Directed acyclic graphs)"
   ]
  },
  {
   "cell_type": "code",
   "execution_count": 80,
   "metadata": {
    "ExecuteTime": {
     "end_time": "2019-04-18T21:17:47.540250Z",
     "start_time": "2019-04-18T21:17:47.527256Z"
    }
   },
   "outputs": [
    {
     "name": "stdout",
     "output_type": "stream",
     "text": [
      "None\n"
     ]
    }
   ],
   "source": [
    "print(tensor1.grad_fn)"
   ]
  },
  {
   "cell_type": "code",
   "execution_count": 82,
   "metadata": {
    "ExecuteTime": {
     "end_time": "2019-04-18T21:18:48.798256Z",
     "start_time": "2019-04-18T21:18:48.774267Z"
    }
   },
   "outputs": [
    {
     "data": {
      "text/plain": [
       "tensor([[1., 2.],\n",
       "        [3., 5.]])"
      ]
     },
     "execution_count": 82,
     "metadata": {},
     "output_type": "execute_result"
    }
   ],
   "source": [
    "tensor2 =torch.Tensor([[1, 2], \n",
    "                       [3, 5]])\n",
    "tensor2 "
   ]
  },
  {
   "cell_type": "code",
   "execution_count": 83,
   "metadata": {
    "ExecuteTime": {
     "end_time": "2019-04-18T21:19:09.291127Z",
     "start_time": "2019-04-18T21:19:09.280133Z"
    },
    "collapsed": true
   },
   "outputs": [],
   "source": [
    "tensor_out = tensor1*tensor2"
   ]
  },
  {
   "cell_type": "code",
   "execution_count": 87,
   "metadata": {
    "ExecuteTime": {
     "end_time": "2019-04-18T21:23:38.559654Z",
     "start_time": "2019-04-18T21:23:38.540665Z"
    }
   },
   "outputs": [
    {
     "data": {
      "text/plain": [
       "tensor([[ 3.,  8.],\n",
       "        [21., 25.]], grad_fn=<MulBackward0>)"
      ]
     },
     "execution_count": 87,
     "metadata": {},
     "output_type": "execute_result"
    }
   ],
   "source": [
    "tensor_out"
   ]
  },
  {
   "cell_type": "code",
   "execution_count": 85,
   "metadata": {
    "ExecuteTime": {
     "end_time": "2019-04-18T21:19:52.734680Z",
     "start_time": "2019-04-18T21:19:52.720686Z"
    }
   },
   "outputs": [
    {
     "name": "stdout",
     "output_type": "stream",
     "text": [
      "None\n",
      "<MulBackward0 object at 0x0000017AD8550F60>\n"
     ]
    }
   ],
   "source": [
    "print(tensor_out.grad) # No backwad pass, so there are no gradients yet\n",
    "print(tensor_out.grad_fn) # "
   ]
  },
  {
   "cell_type": "markdown",
   "metadata": {},
   "source": [
    "** To calculate the gradients, we need to explicitly perform a backward propagation**"
   ]
  },
  {
   "cell_type": "code",
   "execution_count": 86,
   "metadata": {
    "ExecuteTime": {
     "end_time": "2019-04-18T21:23:15.489256Z",
     "start_time": "2019-04-18T21:23:15.422299Z"
    },
    "collapsed": true
   },
   "outputs": [
    {
     "ename": "RuntimeError",
     "evalue": "grad can be implicitly created only for scalar outputs",
     "output_type": "error",
     "traceback": [
      "\u001b[1;31m---------------------------------------------------------------------------\u001b[0m",
      "\u001b[1;31mRuntimeError\u001b[0m                              Traceback (most recent call last)",
      "\u001b[1;32m<ipython-input-86-b66e5ddf4528>\u001b[0m in \u001b[0;36m<module>\u001b[1;34m()\u001b[0m\n\u001b[1;32m----> 1\u001b[1;33m \u001b[0mtensor_out\u001b[0m\u001b[1;33m.\u001b[0m\u001b[0mbackward\u001b[0m\u001b[1;33m(\u001b[0m\u001b[1;33m)\u001b[0m\u001b[1;33m\u001b[0m\u001b[0m\n\u001b[0m",
      "\u001b[1;32m~\\Anaconda3\\lib\\site-packages\\torch\\tensor.py\u001b[0m in \u001b[0;36mbackward\u001b[1;34m(self, gradient, retain_graph, create_graph)\u001b[0m\n\u001b[0;32m    100\u001b[0m                 \u001b[0mproducts\u001b[0m\u001b[1;33m.\u001b[0m \u001b[0mDefaults\u001b[0m \u001b[0mto\u001b[0m\u001b[0;31m \u001b[0m\u001b[0;31m`\u001b[0m\u001b[0;31m`\u001b[0m\u001b[1;32mFalse\u001b[0m\u001b[0;31m`\u001b[0m\u001b[0;31m`\u001b[0m\u001b[1;33m.\u001b[0m\u001b[1;33m\u001b[0m\u001b[0m\n\u001b[0;32m    101\u001b[0m         \"\"\"\n\u001b[1;32m--> 102\u001b[1;33m         \u001b[0mtorch\u001b[0m\u001b[1;33m.\u001b[0m\u001b[0mautograd\u001b[0m\u001b[1;33m.\u001b[0m\u001b[0mbackward\u001b[0m\u001b[1;33m(\u001b[0m\u001b[0mself\u001b[0m\u001b[1;33m,\u001b[0m \u001b[0mgradient\u001b[0m\u001b[1;33m,\u001b[0m \u001b[0mretain_graph\u001b[0m\u001b[1;33m,\u001b[0m \u001b[0mcreate_graph\u001b[0m\u001b[1;33m)\u001b[0m\u001b[1;33m\u001b[0m\u001b[0m\n\u001b[0m\u001b[0;32m    103\u001b[0m \u001b[1;33m\u001b[0m\u001b[0m\n\u001b[0;32m    104\u001b[0m     \u001b[1;32mdef\u001b[0m \u001b[0mregister_hook\u001b[0m\u001b[1;33m(\u001b[0m\u001b[0mself\u001b[0m\u001b[1;33m,\u001b[0m \u001b[0mhook\u001b[0m\u001b[1;33m)\u001b[0m\u001b[1;33m:\u001b[0m\u001b[1;33m\u001b[0m\u001b[0m\n",
      "\u001b[1;32m~\\Anaconda3\\lib\\site-packages\\torch\\autograd\\__init__.py\u001b[0m in \u001b[0;36mbackward\u001b[1;34m(tensors, grad_tensors, retain_graph, create_graph, grad_variables)\u001b[0m\n\u001b[0;32m     82\u001b[0m         \u001b[0mgrad_tensors\u001b[0m \u001b[1;33m=\u001b[0m \u001b[0mlist\u001b[0m\u001b[1;33m(\u001b[0m\u001b[0mgrad_tensors\u001b[0m\u001b[1;33m)\u001b[0m\u001b[1;33m\u001b[0m\u001b[0m\n\u001b[0;32m     83\u001b[0m \u001b[1;33m\u001b[0m\u001b[0m\n\u001b[1;32m---> 84\u001b[1;33m     \u001b[0mgrad_tensors\u001b[0m \u001b[1;33m=\u001b[0m \u001b[0m_make_grads\u001b[0m\u001b[1;33m(\u001b[0m\u001b[0mtensors\u001b[0m\u001b[1;33m,\u001b[0m \u001b[0mgrad_tensors\u001b[0m\u001b[1;33m)\u001b[0m\u001b[1;33m\u001b[0m\u001b[0m\n\u001b[0m\u001b[0;32m     85\u001b[0m     \u001b[1;32mif\u001b[0m \u001b[0mretain_graph\u001b[0m \u001b[1;32mis\u001b[0m \u001b[1;32mNone\u001b[0m\u001b[1;33m:\u001b[0m\u001b[1;33m\u001b[0m\u001b[0m\n\u001b[0;32m     86\u001b[0m         \u001b[0mretain_graph\u001b[0m \u001b[1;33m=\u001b[0m \u001b[0mcreate_graph\u001b[0m\u001b[1;33m\u001b[0m\u001b[0m\n",
      "\u001b[1;32m~\\Anaconda3\\lib\\site-packages\\torch\\autograd\\__init__.py\u001b[0m in \u001b[0;36m_make_grads\u001b[1;34m(outputs, grads)\u001b[0m\n\u001b[0;32m     26\u001b[0m             \u001b[1;32mif\u001b[0m \u001b[0mout\u001b[0m\u001b[1;33m.\u001b[0m\u001b[0mrequires_grad\u001b[0m\u001b[1;33m:\u001b[0m\u001b[1;33m\u001b[0m\u001b[0m\n\u001b[0;32m     27\u001b[0m                 \u001b[1;32mif\u001b[0m \u001b[0mout\u001b[0m\u001b[1;33m.\u001b[0m\u001b[0mnumel\u001b[0m\u001b[1;33m(\u001b[0m\u001b[1;33m)\u001b[0m \u001b[1;33m!=\u001b[0m \u001b[1;36m1\u001b[0m\u001b[1;33m:\u001b[0m\u001b[1;33m\u001b[0m\u001b[0m\n\u001b[1;32m---> 28\u001b[1;33m                     \u001b[1;32mraise\u001b[0m \u001b[0mRuntimeError\u001b[0m\u001b[1;33m(\u001b[0m\u001b[1;34m\"grad can be implicitly created only for scalar outputs\"\u001b[0m\u001b[1;33m)\u001b[0m\u001b[1;33m\u001b[0m\u001b[0m\n\u001b[0m\u001b[0;32m     29\u001b[0m                 \u001b[0mnew_grads\u001b[0m\u001b[1;33m.\u001b[0m\u001b[0mappend\u001b[0m\u001b[1;33m(\u001b[0m\u001b[0mtorch\u001b[0m\u001b[1;33m.\u001b[0m\u001b[0mones_like\u001b[0m\u001b[1;33m(\u001b[0m\u001b[0mout\u001b[0m\u001b[1;33m)\u001b[0m\u001b[1;33m)\u001b[0m\u001b[1;33m\u001b[0m\u001b[0m\n\u001b[0;32m     30\u001b[0m             \u001b[1;32melse\u001b[0m\u001b[1;33m:\u001b[0m\u001b[1;33m\u001b[0m\u001b[0m\n",
      "\u001b[1;31mRuntimeError\u001b[0m: grad can be implicitly created only for scalar outputs"
     ]
    }
   ],
   "source": [
    "# Error\n",
    "tensor_out.backward() #grad can be implicitly created only for scalar outputs"
   ]
  },
  {
   "cell_type": "code",
   "execution_count": 90,
   "metadata": {
    "ExecuteTime": {
     "end_time": "2019-04-18T21:31:18.965694Z",
     "start_time": "2019-04-18T21:31:18.940715Z"
    }
   },
   "outputs": [
    {
     "name": "stdout",
     "output_type": "stream",
     "text": [
      "tensor(14.2500, grad_fn=<MeanBackward1>)\n",
      "<MeanBackward1 object at 0x0000017AD8570978>\n"
     ]
    }
   ],
   "source": [
    "out1 = (tensor1 * tensor2).mean()\n",
    "print(out1)\n",
    "print(out1.grad_fn)"
   ]
  },
  {
   "cell_type": "code",
   "execution_count": 91,
   "metadata": {
    "ExecuteTime": {
     "end_time": "2019-04-18T21:32:04.651558Z",
     "start_time": "2019-04-18T21:32:04.618573Z"
    },
    "collapsed": true
   },
   "outputs": [],
   "source": [
    "out1.backward()"
   ]
  },
  {
   "cell_type": "markdown",
   "metadata": {},
   "source": [
    "**The gradients are now available for the input tensor**"
   ]
  },
  {
   "cell_type": "code",
   "execution_count": 96,
   "metadata": {
    "ExecuteTime": {
     "end_time": "2019-04-18T21:34:02.339772Z",
     "start_time": "2019-04-18T21:34:02.309794Z"
    }
   },
   "outputs": [
    {
     "name": "stdout",
     "output_type": "stream",
     "text": [
      "tensor([[3., 4.],\n",
      "        [7., 5.]], requires_grad=True)\n",
      "tensor([[0.2500, 0.5000],\n",
      "        [0.7500, 1.2500]])\n",
      "tensor([[1., 2.],\n",
      "        [3., 5.]])\n",
      "None\n"
     ]
    }
   ],
   "source": [
    "print(tensor1)\n",
    "print(tensor1.grad) # There are partial derivates claculated with respect to the output tensor\n",
    "print(tensor2)\n",
    "print(tensor2.grad) # no gradients are claculated as requires_grad was not set to true"
   ]
  },
  {
   "cell_type": "markdown",
   "metadata": {},
   "source": [
    "** Turning off gradient calculations for tensors**"
   ]
  },
  {
   "cell_type": "code",
   "execution_count": 97,
   "metadata": {
    "ExecuteTime": {
     "end_time": "2019-04-18T21:35:53.899502Z",
     "start_time": "2019-04-18T21:35:53.860523Z"
    }
   },
   "outputs": [
    {
     "name": "stdout",
     "output_type": "stream",
     "text": [
      "new_tensor =  tensor([[ 9., 16.],\n",
      "        [49., 25.]])\n",
      "requires_grad for tensor =  True\n",
      "requires_grad for new_tensor =  False\n"
     ]
    }
   ],
   "source": [
    "with torch.no_grad():\n",
    "    \n",
    "    new_tensor = tensor1 * tensor1\n",
    "    \n",
    "    print('new_tensor = ', new_tensor)\n",
    "    \n",
    "    print('requires_grad for tensor = ', tensor1.requires_grad)\n",
    "    \n",
    "    print('requires_grad for new_tensor = ', new_tensor.requires_grad)"
   ]
  },
  {
   "cell_type": "markdown",
   "metadata": {},
   "source": [
    "# Building Simple Neural Network using Autograd Package"
   ]
  },
  {
   "cell_type": "code",
   "execution_count": 98,
   "metadata": {
    "ExecuteTime": {
     "end_time": "2019-04-18T22:12:01.124738Z",
     "start_time": "2019-04-18T22:12:01.113745Z"
    },
    "collapsed": true
   },
   "outputs": [],
   "source": [
    "import matplotlib.pyplot as plt"
   ]
  },
  {
   "cell_type": "markdown",
   "metadata": {},
   "source": [
    "Creating a toy dataset"
   ]
  },
  {
   "cell_type": "code",
   "execution_count": 128,
   "metadata": {
    "ExecuteTime": {
     "end_time": "2019-04-19T04:31:11.845341Z",
     "start_time": "2019-04-19T04:31:11.782857Z"
    },
    "collapsed": true
   },
   "outputs": [],
   "source": [
    "x_train = np.array ([[3.3], [4.4], [5.5], [6.71], [6.93], [4.168], \n",
    "                    [9.779], [6.182], [7.59], [2.167], [7.042] , \n",
    "                    [10.791], [5.313], [7.997], [3.1]],\n",
    "                    dtype = np.float32)\n",
    "\n",
    "y_train = np.array ([[1.7], [2.76], [2.09], [3.19], [1.694], [1.573], \n",
    "                    [3.366], [2.596], [2.53], [1.221], [2.827] , \n",
    "                    [3.465], [1.65], [2.904], [1.3]], \n",
    "                    dtype = np.float32)"
   ]
  },
  {
   "cell_type": "code",
   "execution_count": 129,
   "metadata": {
    "ExecuteTime": {
     "end_time": "2019-04-19T04:31:12.826617Z",
     "start_time": "2019-04-19T04:31:12.357892Z"
    }
   },
   "outputs": [
    {
     "data": {
      "image/png": "[encoded data removed]",
      "text/plain": [
       "<matplotlib.figure.Figure at 0x17ad87c6128>"
      ]
     },
     "metadata": {
      "needs_background": "light"
     },
     "output_type": "display_data"
    }
   ],
   "source": [
    "plt.plot(x_train, y_train, 'ro', label = 'Original data')\n",
    "\n",
    "plt.show()"
   ]
  },
  {
   "cell_type": "markdown",
   "metadata": {
    "ExecuteTime": {
     "end_time": "2019-04-18T22:13:59.640357Z",
     "start_time": "2019-04-18T22:13:59.622366Z"
    }
   },
   "source": [
    "Converting data to pytorch tensors"
   ]
  },
  {
   "cell_type": "code",
   "execution_count": 130,
   "metadata": {
    "ExecuteTime": {
     "end_time": "2019-04-19T04:31:13.733445Z",
     "start_time": "2019-04-19T04:31:13.702199Z"
    }
   },
   "outputs": [
    {
     "name": "stdout",
     "output_type": "stream",
     "text": [
      "requires_grad for X_train:  False\n",
      "requires_grad for Y_train:  False\n"
     ]
    }
   ],
   "source": [
    "X_train = torch.from_numpy(x_train) \n",
    "Y_train = torch.from_numpy(y_train)\n",
    "\n",
    "print('requires_grad for X_train: ', X_train.requires_grad)\n",
    "print('requires_grad for Y_train: ', Y_train.requires_grad)"
   ]
  },
  {
   "cell_type": "code",
   "execution_count": 131,
   "metadata": {
    "ExecuteTime": {
     "end_time": "2019-04-19T04:31:14.264659Z",
     "start_time": "2019-04-19T04:31:14.249064Z"
    },
    "collapsed": true
   },
   "outputs": [],
   "source": [
    "input_size = 1 \n",
    "hidden_size = 100\n",
    "output_size = 1 \n",
    "learning_rate = 1e-6 # Its the size of the step that out model parameter takes towards optimum "
   ]
  },
  {
   "cell_type": "markdown",
   "metadata": {},
   "source": [
    "**Create random Tensors for weights.**\n",
    "\n",
    "Setting  **requires_grad=True**  indicates that we want to compute gradients with\n",
    "respect to these Tensors during the backward pass."
   ]
  },
  {
   "cell_type": "code",
   "execution_count": 137,
   "metadata": {
    "ExecuteTime": {
     "end_time": "2019-04-19T04:32:03.778672Z",
     "start_time": "2019-04-19T04:32:03.747427Z"
    }
   },
   "outputs": [
    {
     "data": {
      "text/plain": [
       "torch.Size([1, 100])"
      ]
     },
     "execution_count": 137,
     "metadata": {},
     "output_type": "execute_result"
    }
   ],
   "source": [
    "w1 = torch.rand(input_size, \n",
    "                hidden_size, \n",
    "                \n",
    "                requires_grad=True)\n",
    "w1.shape"
   ]
  },
  {
   "cell_type": "code",
   "execution_count": 138,
   "metadata": {
    "ExecuteTime": {
     "end_time": "2019-04-19T04:32:04.497373Z",
     "start_time": "2019-04-19T04:32:04.466127Z"
    }
   },
   "outputs": [
    {
     "data": {
      "text/plain": [
       "torch.Size([100, 1])"
      ]
     },
     "execution_count": 138,
     "metadata": {},
     "output_type": "execute_result"
    }
   ],
   "source": [
    "w2 = torch.rand(hidden_size, \n",
    "                output_size, \n",
    "                \n",
    "                requires_grad=True)\n",
    "w2.shape"
   ]
  },
  {
   "cell_type": "code",
   "execution_count": 139,
   "metadata": {
    "ExecuteTime": {
     "end_time": "2019-04-19T04:32:05.436072Z",
     "start_time": "2019-04-19T04:32:05.373546Z"
    }
   },
   "outputs": [
    {
     "name": "stdout",
     "output_type": "stream",
     "text": [
      "w1:  tensor([[0.0117, 0.1342, 0.5490, 0.8192, 0.7917, 0.3593, 0.7719, 0.7238, 0.5858,\n",
      "         0.0833, 0.7579, 0.5961, 0.3036, 0.5540, 0.5025, 0.0117, 0.3139, 0.6786,\n",
      "         0.2569, 0.9849, 0.1200, 0.8175, 0.9165, 0.3466, 0.9864, 0.4130, 0.3112,\n",
      "         0.7587, 0.6356, 0.8121, 0.2788, 0.8402, 0.3487, 0.6924, 0.0375, 0.3511,\n",
      "         0.2840, 0.2486, 0.1481, 0.1528, 0.0532, 0.6759, 0.0808, 0.8912, 0.8327,\n",
      "         0.7204, 0.2061, 0.2951, 0.5047, 0.6525, 0.3954, 0.6370, 0.2256, 0.1336,\n",
      "         0.6926, 0.7991, 0.0821, 0.3021, 0.2877, 0.5122, 0.5297, 0.7826, 0.4858,\n",
      "         0.8239, 0.6433, 0.8392, 0.0780, 0.9421, 0.4740, 0.7398, 0.5011, 0.8858,\n",
      "         0.5347, 0.6039, 0.8771, 0.4746, 0.3656, 0.5071, 0.5632, 0.6487, 0.2179,\n",
      "         0.5422, 0.5456, 0.1974, 0.0719, 0.7316, 0.3038, 0.3123, 0.2417, 0.0094,\n",
      "         0.8417, 0.0669, 0.9094, 0.9418, 0.4423, 0.5336, 0.1500, 0.1308, 0.6445,\n",
      "         0.8071]], requires_grad=True)\n",
      "w2:  tensor([[0.6901],\n",
      "        [0.8181],\n",
      "        [0.2182],\n",
      "        [0.7146],\n",
      "        [0.8917],\n",
      "        [0.4315],\n",
      "        [0.9111],\n",
      "        [0.7619],\n",
      "        [0.6206],\n",
      "        [0.9426],\n",
      "        [0.1469],\n",
      "        [0.2806],\n",
      "        [0.2940],\n",
      "        [0.4303],\n",
      "        [0.9315],\n",
      "        [0.3578],\n",
      "        [0.4924],\n",
      "        [0.3347],\n",
      "        [0.8235],\n",
      "        [0.4445],\n",
      "        [0.3825],\n",
      "        [0.2387],\n",
      "        [0.8470],\n",
      "        [0.4905],\n",
      "        [0.4173],\n",
      "        [0.3270],\n",
      "        [0.0142],\n",
      "        [0.5423],\n",
      "        [0.3722],\n",
      "        [0.2381],\n",
      "        [0.3489],\n",
      "        [0.3547],\n",
      "        [0.9006],\n",
      "        [0.0173],\n",
      "        [0.9533],\n",
      "        [0.9755],\n",
      "        [0.0438],\n",
      "        [0.7400],\n",
      "        [0.3178],\n",
      "        [0.9064],\n",
      "        [0.0783],\n",
      "        [0.2186],\n",
      "        [0.5980],\n",
      "        [0.4958],\n",
      "        [0.5003],\n",
      "        [0.5052],\n",
      "        [0.3280],\n",
      "        [0.1997],\n",
      "        [0.8097],\n",
      "        [0.0724],\n",
      "        [0.0419],\n",
      "        [0.7880],\n",
      "        [0.3102],\n",
      "        [0.1390],\n",
      "        [0.6513],\n",
      "        [0.0102],\n",
      "        [0.4648],\n",
      "        [0.5451],\n",
      "        [0.9853],\n",
      "        [0.0105],\n",
      "        [0.6805],\n",
      "        [0.7695],\n",
      "        [0.7084],\n",
      "        [0.6309],\n",
      "        [0.2340],\n",
      "        [0.6113],\n",
      "        [0.7457],\n",
      "        [0.9146],\n",
      "        [0.0899],\n",
      "        [0.0022],\n",
      "        [0.4089],\n",
      "        [0.1041],\n",
      "        [0.8185],\n",
      "        [0.9952],\n",
      "        [0.2732],\n",
      "        [0.0800],\n",
      "        [0.0293],\n",
      "        [0.8970],\n",
      "        [0.8071],\n",
      "        [0.7101],\n",
      "        [0.5076],\n",
      "        [0.2822],\n",
      "        [0.9528],\n",
      "        [0.2839],\n",
      "        [0.7408],\n",
      "        [0.9363],\n",
      "        [0.3611],\n",
      "        [0.0566],\n",
      "        [0.9473],\n",
      "        [0.4991],\n",
      "        [0.4462],\n",
      "        [0.7540],\n",
      "        [0.2756],\n",
      "        [0.5741],\n",
      "        [0.9063],\n",
      "        [0.4985],\n",
      "        [0.3969],\n",
      "        [0.3906],\n",
      "        [0.9074],\n",
      "        [0.3097]], requires_grad=True)\n"
     ]
    }
   ],
   "source": [
    "print ('w1: ', w1)\n",
    "print ('w2: ', w2)"
   ]
  },
  {
   "cell_type": "code",
   "execution_count": 140,
   "metadata": {
    "ExecuteTime": {
     "end_time": "2019-04-19T04:32:10.625584Z",
     "start_time": "2019-04-19T04:32:09.969372Z"
    }
   },
   "outputs": [
    {
     "name": "stdout",
     "output_type": "stream",
     "text": [
      "50 2861.1669921875\n",
      "100 61.943397521972656\n",
      "150 4.881319522857666\n",
      "200 3.659390449523926\n",
      "250 3.6331984996795654\n"
     ]
    }
   ],
   "source": [
    "for iter in range(1,300):\n",
    "    # print ('w1: ', w1)\n",
    "    # print ('w2: ', w2)\n",
    "    \n",
    "    # In forward passing we are doing the following things:-\n",
    "    # Predicting Y with input data X\n",
    "    # Finding product of X_train and w1 using .mm function (mm- matrix multipication)\n",
    "    # Clamping all negative elements to one using clamp(min=0), It is similar to Relu Function\n",
    "    # Again performing the matrix multiplication of clamped data with second weight w\n",
    "    y_pred = X_train.mm(w1).clamp(min=0).mm(w2) #forward Passing. we get predicted (y_pred) values now.\n",
    "    \n",
    "    \n",
    "    # Compute and print loss using operations on Tensors.\n",
    "    # Now loss is a Tensor of shape (1,)\n",
    "    # loss.item() gets the a scalar value held in the loss.\n",
    "    # Loss Function: Finding difference between Y_train and Y_pred by squaring \n",
    "    # the difference and then summing out, similar to nn.MSELoss\n",
    "    loss = (y_pred - Y_train).pow(2).sum() # We can now calculate the loss now by using predicted and \n",
    "                                            # actual values.\n",
    "    \n",
    "    \n",
    "\n",
    "    if iter % 50 ==0:\n",
    "        print(iter, loss.item()) # for every 50 iteration print out the value of the losss\n",
    "     \n",
    "    # Backward pass will compute the gradient of loss with respect to \n",
    "    # all Tensors with requires_grad=True.\n",
    "    # Use autograd to compute the backward pass. This call will compute the\n",
    "    # gradient of loss with respect to all Tensors with requires_grad=True.\n",
    "    # After this call w1.grad and w2.grad will be Tensors holding the gradient\n",
    "    # of the loss with respect to w1 and w2 respectively.\n",
    "    loss.backward() # calculate gradients for out model parameter using backward pass \n",
    "    \n",
    "    with torch.no_grad():\n",
    "        \n",
    "        # Manually update weights using gradient descent. Wrap in torch.no_grad()\n",
    "        # because weights have requires_grad=True, but we don't need to track this in autograd.\n",
    "        # Reducing weight with multiple of learning rate and gradient.\n",
    "        \n",
    "        # An alternative way is to operate on weight.data and weight.grad.data.\n",
    "        # You can also use torch.optim.SGD to achieve this.\n",
    "        w1 -= learning_rate * w1.grad\n",
    "        w2 -= learning_rate * w2.grad\n",
    "        \n",
    "        # print ('w1 ---: ', w1)\n",
    "        # print ('w2---: ', w2)\n",
    "        \n",
    "        # Manually zero the gradients after updating weights  \n",
    "        w1.grad.zero_()\n",
    "        w2.grad.zero_()"
   ]
  },
  {
   "cell_type": "code",
   "execution_count": 141,
   "metadata": {
    "ExecuteTime": {
     "end_time": "2019-04-19T04:32:17.565255Z",
     "start_time": "2019-04-19T04:32:17.502759Z"
    },
    "collapsed": true
   },
   "outputs": [
    {
     "name": "stdout",
     "output_type": "stream",
     "text": [
      "w1---:  tensor([[-9.3130e-03, -3.8180e-03,  5.0719e-01,  5.2551e-01,  3.8830e-01,\n",
      "          1.6028e-01,  3.5380e-01,  3.8672e-01,  3.1064e-01, -1.8127e-02,\n",
      "          7.9190e-01,  5.2474e-01,  1.7746e-01,  3.8685e-01,  2.9190e-02,\n",
      "         -9.1908e-03,  7.1403e-02,  5.8833e-01, -3.7229e-04,  8.7829e-01,\n",
      "         -3.0700e-03,  8.0650e-01,  5.5970e-01,  1.1048e-01,  8.9622e-01,\n",
      "          2.8467e-01,  3.5254e-01,  5.5775e-01,  5.1610e-01,  8.0057e-01,\n",
      "          1.1601e-01,  7.6382e-01, -2.2657e-03,  7.9293e-01, -1.8119e-02,\n",
      "         -6.5670e-03,  3.0339e-01, -1.5651e-03, -2.7843e-04, -3.4962e-05,\n",
      "          1.5169e-02,  6.5416e-01, -8.8520e-03,  7.3910e-01,  6.6860e-01,\n",
      "          5.3542e-01,  4.4037e-02,  2.2363e-01,  1.0411e-01,  7.1395e-01,\n",
      "          4.3376e-01,  2.7052e-01,  7.7349e-02,  7.2349e-02,  4.1630e-01,\n",
      "          9.2097e-01, -4.4951e-03,  2.6382e-02, -9.1790e-04,  5.8797e-01,\n",
      "          2.0996e-01,  4.5039e-01,  1.4244e-01,  5.8073e-01,  6.0720e-01,\n",
      "          6.1015e-01, -2.1971e-03,  5.4917e-01,  4.9643e-01,  8.5691e-01,\n",
      "          3.3817e-01,  9.6575e-01,  1.3365e-01,  1.0894e-01,  8.5516e-01,\n",
      "          5.0306e-01,  4.0671e-01,  5.4978e-02,  1.7353e-01,  3.3044e-01,\n",
      "         -1.4332e-03,  4.6120e-01,  6.6513e-02,  6.0170e-02, -7.7617e-03,\n",
      "          2.9208e-01,  1.3773e-01,  3.2865e-01, -3.6893e-03, -5.8197e-03,\n",
      "          7.1123e-01, -1.4283e-02,  8.9111e-01,  7.5134e-01, -2.2590e-04,\n",
      "          3.2269e-01, -2.5451e-04, -1.1973e-03,  2.0829e-01,  7.5226e-01]],\n",
      "       requires_grad=True)\n",
      "w2---:  tensor([[ 0.6897],\n",
      "        [ 0.8054],\n",
      "        [-0.0732],\n",
      "        [ 0.3420],\n",
      "        [ 0.5638],\n",
      "        [ 0.2870],\n",
      "        [ 0.5981],\n",
      "        [ 0.4536],\n",
      "        [ 0.3717],\n",
      "        [ 0.9377],\n",
      "        [-0.2801],\n",
      "        [-0.0288],\n",
      "        [ 0.1606],\n",
      "        [ 0.1698],\n",
      "        [ 0.7819],\n",
      "        [ 0.3574],\n",
      "        [ 0.3846],\n",
      "        [-0.0152],\n",
      "        [ 0.7799],\n",
      "        [-0.0698],\n",
      "        [ 0.3620],\n",
      "        [-0.2091],\n",
      "        [ 0.4377],\n",
      "        [ 0.3630],\n",
      "        [-0.1023],\n",
      "        [ 0.1338],\n",
      "        [-0.1685],\n",
      "        [ 0.1781],\n",
      "        [ 0.0539],\n",
      "        [-0.2066],\n",
      "        [ 0.2390],\n",
      "        [-0.0880],\n",
      "        [ 0.8274],\n",
      "        [-0.3916],\n",
      "        [ 0.9519],\n",
      "        [ 0.9069],\n",
      "        [-0.1180],\n",
      "        [ 0.6947],\n",
      "        [ 0.2801],\n",
      "        [ 0.8916],\n",
      "        [ 0.0592],\n",
      "        [-0.1483],\n",
      "        [ 0.5914],\n",
      "        [ 0.0454],\n",
      "        [ 0.0853],\n",
      "        [ 0.1578],\n",
      "        [ 0.2580],\n",
      "        [ 0.0563],\n",
      "        [ 0.6393],\n",
      "        [-0.3039],\n",
      "        [-0.1864],\n",
      "        [ 0.5354],\n",
      "        [ 0.2257],\n",
      "        [ 0.0818],\n",
      "        [ 0.3438],\n",
      "        [-0.4632],\n",
      "        [ 0.4565],\n",
      "        [ 0.4528],\n",
      "        [ 0.9395],\n",
      "        [-0.2924],\n",
      "        [ 0.4746],\n",
      "        [ 0.4275],\n",
      "        [ 0.5330],\n",
      "        [ 0.2421],\n",
      "        [-0.1110],\n",
      "        [ 0.2103],\n",
      "        [ 0.7406],\n",
      "        [ 0.5010],\n",
      "        [-0.1775],\n",
      "        [-0.4373],\n",
      "        [ 0.1765],\n",
      "        [-0.4059],\n",
      "        [ 0.6317],\n",
      "        [ 0.7955],\n",
      "        [-0.2046],\n",
      "        [-0.1894],\n",
      "        [-0.1834],\n",
      "        [ 0.7391],\n",
      "        [ 0.6015],\n",
      "        [ 0.4381],\n",
      "        [ 0.4568],\n",
      "        [ 0.0050],\n",
      "        [ 0.7810],\n",
      "        [ 0.2121],\n",
      "        [ 0.7363],\n",
      "        [ 0.6513],\n",
      "        [ 0.2383],\n",
      "        [-0.1200],\n",
      "        [ 0.9134],\n",
      "        [ 0.4988],\n",
      "        [ 0.0172],\n",
      "        [ 0.7500],\n",
      "        [-0.2209],\n",
      "        [ 0.1061],\n",
      "        [ 0.7880],\n",
      "        [ 0.2611],\n",
      "        [ 0.3662],\n",
      "        [ 0.3668],\n",
      "        [ 0.6695],\n",
      "        [-0.1206]], requires_grad=True)\n"
     ]
    }
   ],
   "source": [
    "print ('w1---: ', w1)\n",
    "print ('w2---: ', w2)"
   ]
  },
  {
   "cell_type": "code",
   "execution_count": 147,
   "metadata": {
    "ExecuteTime": {
     "end_time": "2019-04-19T04:39:53.407795Z",
     "start_time": "2019-04-19T04:39:53.378816Z"
    },
    "collapsed": true
   },
   "outputs": [
    {
     "data": {
      "text/plain": [
       "tensor([[1.2119],\n",
       "        [1.6159],\n",
       "        [2.0199],\n",
       "        [2.4643],\n",
       "        [2.5451],\n",
       "        [1.5307],\n",
       "        [3.5914],\n",
       "        [2.2704],\n",
       "        [2.7875],\n",
       "        [0.7958],\n",
       "        [2.5862],\n",
       "        [3.9631],\n",
       "        [1.9512],\n",
       "        [2.9369],\n",
       "        [1.1385]], grad_fn=<MmBackward>)"
      ]
     },
     "execution_count": 147,
     "metadata": {},
     "output_type": "execute_result"
    }
   ],
   "source": [
    "predicted_in_tensor = X_train.mm(w1).clamp(min=0).mm(w2)\n",
    "predicted_in_tensor"
   ]
  },
  {
   "cell_type": "code",
   "execution_count": 148,
   "metadata": {
    "ExecuteTime": {
     "end_time": "2019-04-19T04:40:00.101051Z",
     "start_time": "2019-04-19T04:40:00.080069Z"
    },
    "collapsed": true
   },
   "outputs": [
    {
     "data": {
      "text/plain": [
       "array([[1.2119446],\n",
       "       [1.6159256],\n",
       "       [2.0199082],\n",
       "       [2.4642863],\n",
       "       [2.545084 ],\n",
       "       [1.5307229],\n",
       "       [3.5913956],\n",
       "       [2.2703757],\n",
       "       [2.7874727],\n",
       "       [0.7958434],\n",
       "       [2.5862155],\n",
       "       [3.9630587],\n",
       "       [1.9512303],\n",
       "       [2.9369445],\n",
       "       [1.1384933]], dtype=float32)"
      ]
     },
     "execution_count": 148,
     "metadata": {},
     "output_type": "execute_result"
    }
   ],
   "source": [
    "predicted = predicted_in_tensor.detach().numpy()\n",
    "predicted"
   ]
  },
  {
   "cell_type": "code",
   "execution_count": 149,
   "metadata": {
    "ExecuteTime": {
     "end_time": "2019-04-19T04:40:01.885070Z",
     "start_time": "2019-04-19T04:40:01.228446Z"
    }
   },
   "outputs": [
    {
     "data": {
      "image/png": "[encoded data removed]",
      "text/plain": [
       "<matplotlib.figure.Figure at 0x17ad89cee10>"
      ]
     },
     "metadata": {
      "needs_background": "light"
     },
     "output_type": "display_data"
    }
   ],
   "source": [
    "plt.plot(x_train, y_train, 'ro', label = 'Original data') \n",
    "\n",
    "plt.plot(x_train, predicted, label = 'Fitted line ')\n",
    "\n",
    "plt.legend() \n",
    "\n",
    "plt.show()"
   ]
  },
  {
   "cell_type": "code",
   "execution_count": null,
   "metadata": {
    "collapsed": true
   },
   "outputs": [],
   "source": []
  },
  {
   "cell_type": "code",
   "execution_count": null,
   "metadata": {
    "collapsed": true
   },
   "outputs": [],
   "source": []
  },
  {
   "cell_type": "code",
   "execution_count": null,
   "metadata": {
    "collapsed": true
   },
   "outputs": [],
   "source": []
  },
  {
   "cell_type": "code",
   "execution_count": null,
   "metadata": {
    "collapsed": true
   },
   "outputs": [],
   "source": []
  }
 ],
 "metadata": {
  "kernelspec": {
   "display_name": "Python 3",
   "language": "python",
   "name": "python3"
  },
  "language_info": {
   "codemirror_mode": {
    "name": "ipython",
    "version": 3
   },
   "file_extension": ".py",
   "mimetype": "text/x-python",
   "name": "python",
   "nbconvert_exporter": "python",
   "pygments_lexer": "ipython3",
   "version": "3.6.4"
  },
  "toc": {
   "base_numbering": 1,
   "nav_menu": {},
   "number_sections": true,
   "sideBar": true,
   "skip_h1_title": false,
   "title_cell": "Table of Contents",
   "title_sidebar": "Contents",
   "toc_cell": false,
   "toc_position": {},
   "toc_section_display": true,
   "toc_window_display": true
  }
 },
 "nbformat": 4,
 "nbformat_minor": 2
}
